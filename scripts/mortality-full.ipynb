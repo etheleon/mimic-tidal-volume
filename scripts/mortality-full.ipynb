{
 "cells": [
  {
   "cell_type": "code",
   "execution_count": 2,
   "metadata": {},
   "outputs": [
    {
     "name": "stderr",
     "output_type": "stream",
     "text": [
      "Loading tidyverse: ggplot2\n",
      "Loading tidyverse: tibble\n",
      "Loading tidyverse: tidyr\n",
      "Loading tidyverse: readr\n",
      "Loading tidyverse: purrr\n",
      "Loading tidyverse: dplyr\n",
      "Conflicts with tidy packages ---------------------------------------------------\n",
      "filter(): dplyr, stats\n",
      "lag():    dplyr, stats\n",
      "Loading required package: DBI\n",
      "\n",
      "Attaching package: ‘lubridate’\n",
      "\n",
      "The following object is masked from ‘package:base’:\n",
      "\n",
      "    date\n",
      "\n"
     ]
    }
   ],
   "source": [
    "library(tidyverse)\n",
    "library(RPostgreSQL)\n",
    "library(lubridate)"
   ]
  },
  {
   "cell_type": "code",
   "execution_count": 3,
   "metadata": {
    "collapsed": true
   },
   "outputs": [],
   "source": [
    "drv <- dbDriver(\"PostgreSQL\")"
   ]
  },
  {
   "cell_type": "code",
   "execution_count": 4,
   "metadata": {
    "collapsed": true
   },
   "outputs": [],
   "source": [
    "user <- pw <- \"datathon\"\n",
    "dbname <- \"mimic\""
   ]
  },
  {
   "cell_type": "code",
   "execution_count": 5,
   "metadata": {
    "collapsed": true
   },
   "outputs": [],
   "source": [
    "con <- dbConnect(drv, dbname = dbname, user = user, password = pw)"
   ]
  },
  {
   "cell_type": "code",
   "execution_count": 6,
   "metadata": {},
   "outputs": [
    {
     "data": {
      "text/html": [
       "<table>\n",
       "<thead><tr><th scope=col>subject_id</th><th scope=col>hadm_id</th><th scope=col>icustay_id</th><th scope=col>intime</th><th scope=col>outtime</th><th scope=col>first</th></tr></thead>\n",
       "<tbody>\n",
       "\t<tr><td> 2                 </td><td>163353             </td><td>243653             </td><td>2138-07-17 21:20:07</td><td>2138-07-17 23:32:21</td><td>2138-07-17 21:20:07</td></tr>\n",
       "\t<tr><td> 3                 </td><td>145834             </td><td>211552             </td><td>2101-10-20 19:10:11</td><td>2101-10-26 20:43:09</td><td>2101-10-20 19:10:11</td></tr>\n",
       "\t<tr><td> 4                 </td><td>185777             </td><td>294638             </td><td>2191-03-16 00:29:31</td><td>2191-03-17 16:46:31</td><td>2191-03-16 00:29:31</td></tr>\n",
       "\t<tr><td> 5                 </td><td>178980             </td><td>214757             </td><td>2103-02-02 06:04:24</td><td>2103-02-02 08:06:00</td><td>2103-02-02 06:04:24</td></tr>\n",
       "\t<tr><td> 6                 </td><td>107064             </td><td>228232             </td><td>2175-05-30 21:30:54</td><td>2175-06-03 13:39:54</td><td>2175-05-30 21:30:54</td></tr>\n",
       "\t<tr><td> 7                 </td><td>118037             </td><td>278444             </td><td>2121-05-23 15:35:29</td><td>2121-05-23 22:01:00</td><td>2121-05-23 15:35:29</td></tr>\n",
       "\t<tr><td> 8                 </td><td>159514             </td><td>262299             </td><td>2117-11-20 12:36:10</td><td>2117-11-21 14:24:55</td><td>2117-11-20 12:36:10</td></tr>\n",
       "\t<tr><td> 9                 </td><td>150750             </td><td>220597             </td><td>2149-11-09 13:07:02</td><td>2149-11-14 20:52:14</td><td>2149-11-09 13:07:02</td></tr>\n",
       "\t<tr><td>10                 </td><td>184167             </td><td>288409             </td><td>2103-06-28 11:39:05</td><td>2103-07-06 13:51:43</td><td>2103-06-28 11:39:05</td></tr>\n",
       "\t<tr><td>11                 </td><td>194540             </td><td>229441             </td><td>2178-04-16 06:19:32</td><td>2178-04-17 20:21:05</td><td>2178-04-16 06:19:32</td></tr>\n",
       "</tbody>\n",
       "</table>\n"
      ],
      "text/latex": [
       "\\begin{tabular}{r|llllll}\n",
       " subject\\_id & hadm\\_id & icustay\\_id & intime & outtime & first\\\\\n",
       "\\hline\n",
       "\t  2                  & 163353              & 243653              & 2138-07-17 21:20:07 & 2138-07-17 23:32:21 & 2138-07-17 21:20:07\\\\\n",
       "\t  3                  & 145834              & 211552              & 2101-10-20 19:10:11 & 2101-10-26 20:43:09 & 2101-10-20 19:10:11\\\\\n",
       "\t  4                  & 185777              & 294638              & 2191-03-16 00:29:31 & 2191-03-17 16:46:31 & 2191-03-16 00:29:31\\\\\n",
       "\t  5                  & 178980              & 214757              & 2103-02-02 06:04:24 & 2103-02-02 08:06:00 & 2103-02-02 06:04:24\\\\\n",
       "\t  6                  & 107064              & 228232              & 2175-05-30 21:30:54 & 2175-06-03 13:39:54 & 2175-05-30 21:30:54\\\\\n",
       "\t  7                  & 118037              & 278444              & 2121-05-23 15:35:29 & 2121-05-23 22:01:00 & 2121-05-23 15:35:29\\\\\n",
       "\t  8                  & 159514              & 262299              & 2117-11-20 12:36:10 & 2117-11-21 14:24:55 & 2117-11-20 12:36:10\\\\\n",
       "\t  9                  & 150750              & 220597              & 2149-11-09 13:07:02 & 2149-11-14 20:52:14 & 2149-11-09 13:07:02\\\\\n",
       "\t 10                  & 184167              & 288409              & 2103-06-28 11:39:05 & 2103-07-06 13:51:43 & 2103-06-28 11:39:05\\\\\n",
       "\t 11                  & 194540              & 229441              & 2178-04-16 06:19:32 & 2178-04-17 20:21:05 & 2178-04-16 06:19:32\\\\\n",
       "\\end{tabular}\n"
      ],
      "text/markdown": [
       "\n",
       "subject_id | hadm_id | icustay_id | intime | outtime | first | \n",
       "|---|---|---|---|---|---|---|---|---|---|\n",
       "|  2                  | 163353              | 243653              | 2138-07-17 21:20:07 | 2138-07-17 23:32:21 | 2138-07-17 21:20:07 | \n",
       "|  3                  | 145834              | 211552              | 2101-10-20 19:10:11 | 2101-10-26 20:43:09 | 2101-10-20 19:10:11 | \n",
       "|  4                  | 185777              | 294638              | 2191-03-16 00:29:31 | 2191-03-17 16:46:31 | 2191-03-16 00:29:31 | \n",
       "|  5                  | 178980              | 214757              | 2103-02-02 06:04:24 | 2103-02-02 08:06:00 | 2103-02-02 06:04:24 | \n",
       "|  6                  | 107064              | 228232              | 2175-05-30 21:30:54 | 2175-06-03 13:39:54 | 2175-05-30 21:30:54 | \n",
       "|  7                  | 118037              | 278444              | 2121-05-23 15:35:29 | 2121-05-23 22:01:00 | 2121-05-23 15:35:29 | \n",
       "|  8                  | 159514              | 262299              | 2117-11-20 12:36:10 | 2117-11-21 14:24:55 | 2117-11-20 12:36:10 | \n",
       "|  9                  | 150750              | 220597              | 2149-11-09 13:07:02 | 2149-11-14 20:52:14 | 2149-11-09 13:07:02 | \n",
       "| 10                  | 184167              | 288409              | 2103-06-28 11:39:05 | 2103-07-06 13:51:43 | 2103-06-28 11:39:05 | \n",
       "| 11                  | 194540              | 229441              | 2178-04-16 06:19:32 | 2178-04-17 20:21:05 | 2178-04-16 06:19:32 | \n",
       "\n",
       "\n"
      ],
      "text/plain": [
       "   subject_id hadm_id icustay_id intime              outtime            \n",
       "1   2         163353  243653     2138-07-17 21:20:07 2138-07-17 23:32:21\n",
       "2   3         145834  211552     2101-10-20 19:10:11 2101-10-26 20:43:09\n",
       "3   4         185777  294638     2191-03-16 00:29:31 2191-03-17 16:46:31\n",
       "4   5         178980  214757     2103-02-02 06:04:24 2103-02-02 08:06:00\n",
       "5   6         107064  228232     2175-05-30 21:30:54 2175-06-03 13:39:54\n",
       "6   7         118037  278444     2121-05-23 15:35:29 2121-05-23 22:01:00\n",
       "7   8         159514  262299     2117-11-20 12:36:10 2117-11-21 14:24:55\n",
       "8   9         150750  220597     2149-11-09 13:07:02 2149-11-14 20:52:14\n",
       "9  10         184167  288409     2103-06-28 11:39:05 2103-07-06 13:51:43\n",
       "10 11         194540  229441     2178-04-16 06:19:32 2178-04-17 20:21:05\n",
       "   first              \n",
       "1  2138-07-17 21:20:07\n",
       "2  2101-10-20 19:10:11\n",
       "3  2191-03-16 00:29:31\n",
       "4  2103-02-02 06:04:24\n",
       "5  2175-05-30 21:30:54\n",
       "6  2121-05-23 15:35:29\n",
       "7  2117-11-20 12:36:10\n",
       "8  2149-11-09 13:07:02\n",
       "9  2103-06-28 11:39:05\n",
       "10 2178-04-16 06:19:32"
      ]
     },
     "metadata": {},
     "output_type": "display_data"
    }
   ],
   "source": [
    "que <- \"\n",
    "    SELECT * FROM (SELECT subject_id, hadm_id, icustay_id, intime, outtime,\n",
    "        MIN(intime) over (PARTITION BY subject_id) AS first\n",
    "        FROM icustays) AS icu\n",
    "    WHERE intime = first\n",
    "    LIMIT 10;\n",
    "\"\n",
    "quedf <- dbGetQuery(con, que)\n",
    "quedf"
   ]
  },
  {
   "cell_type": "code",
   "execution_count": 7,
   "metadata": {
    "collapsed": true
   },
   "outputs": [],
   "source": [
    "first_icu_que <- \"\n",
    "    SELECT icu.subject_id, icu.hadm_id, icu.icustay_id, icu.intime, icu.outtime,\n",
    "        adm.admittime, adm.dischtime, adm.deathtime\n",
    "    FROM icustays AS icu LEFT OUTER JOIN admissions AS adm\n",
    "    ON adm.subject_id = icu.subject_id AND adm.hadm_id = icu.hadm_id;\n",
    "\""
   ]
  },
  {
   "cell_type": "code",
   "execution_count": 8,
   "metadata": {},
   "outputs": [
    {
     "data": {
      "text/html": [
       "<table>\n",
       "<thead><tr><th scope=col>subject_id</th><th scope=col>hadm_id</th><th scope=col>icustay_id</th><th scope=col>intime</th><th scope=col>outtime</th><th scope=col>admittime</th><th scope=col>dischtime</th><th scope=col>deathtime</th></tr></thead>\n",
       "<tbody>\n",
       "\t<tr><td>268                </td><td>110404             </td><td>280836             </td><td>2198-02-14 23:27:38</td><td>2198-02-18 05:26:11</td><td>2198-02-11 13:40:00</td><td>2198-02-18 03:55:00</td><td>2198-02-18 03:55:00</td></tr>\n",
       "\t<tr><td>269                </td><td>106296             </td><td>206613             </td><td>2170-11-05 11:05:29</td><td>2170-11-08 17:46:57</td><td>2170-11-05 11:04:00</td><td>2170-11-27 18:00:00</td><td>NA                 </td></tr>\n",
       "\t<tr><td>270                </td><td>188028             </td><td>220345             </td><td>2128-06-24 15:05:20</td><td>2128-06-27 12:32:29</td><td>2128-06-23 18:26:00</td><td>2128-06-27 12:31:00</td><td>NA                 </td></tr>\n",
       "\t<tr><td>272                </td><td>164716             </td><td>210407             </td><td>2186-12-25 21:08:04</td><td>2186-12-27 12:01:13</td><td>2186-12-25 21:06:00</td><td>2187-01-02 14:57:00</td><td>NA                 </td></tr>\n",
       "\t<tr><td>273                </td><td>158689             </td><td>241507             </td><td>2141-04-19 06:12:05</td><td>2141-04-20 17:52:11</td><td>2141-04-19 06:11:00</td><td>2141-04-20 17:00:00</td><td>NA                 </td></tr>\n",
       "\t<tr><td>274                </td><td>130546             </td><td>254851             </td><td>2114-06-28 22:28:44</td><td>2114-07-07 18:01:16</td><td>2114-06-28 22:16:00</td><td>2114-07-12 15:30:00</td><td>NA                 </td></tr>\n",
       "</tbody>\n",
       "</table>\n"
      ],
      "text/latex": [
       "\\begin{tabular}{r|llllllll}\n",
       " subject\\_id & hadm\\_id & icustay\\_id & intime & outtime & admittime & dischtime & deathtime\\\\\n",
       "\\hline\n",
       "\t 268                 & 110404              & 280836              & 2198-02-14 23:27:38 & 2198-02-18 05:26:11 & 2198-02-11 13:40:00 & 2198-02-18 03:55:00 & 2198-02-18 03:55:00\\\\\n",
       "\t 269                 & 106296              & 206613              & 2170-11-05 11:05:29 & 2170-11-08 17:46:57 & 2170-11-05 11:04:00 & 2170-11-27 18:00:00 & NA                 \\\\\n",
       "\t 270                 & 188028              & 220345              & 2128-06-24 15:05:20 & 2128-06-27 12:32:29 & 2128-06-23 18:26:00 & 2128-06-27 12:31:00 & NA                 \\\\\n",
       "\t 272                 & 164716              & 210407              & 2186-12-25 21:08:04 & 2186-12-27 12:01:13 & 2186-12-25 21:06:00 & 2187-01-02 14:57:00 & NA                 \\\\\n",
       "\t 273                 & 158689              & 241507              & 2141-04-19 06:12:05 & 2141-04-20 17:52:11 & 2141-04-19 06:11:00 & 2141-04-20 17:00:00 & NA                 \\\\\n",
       "\t 274                 & 130546              & 254851              & 2114-06-28 22:28:44 & 2114-07-07 18:01:16 & 2114-06-28 22:16:00 & 2114-07-12 15:30:00 & NA                 \\\\\n",
       "\\end{tabular}\n"
      ],
      "text/markdown": [
       "\n",
       "subject_id | hadm_id | icustay_id | intime | outtime | admittime | dischtime | deathtime | \n",
       "|---|---|---|---|---|---|\n",
       "| 268                 | 110404              | 280836              | 2198-02-14 23:27:38 | 2198-02-18 05:26:11 | 2198-02-11 13:40:00 | 2198-02-18 03:55:00 | 2198-02-18 03:55:00 | \n",
       "| 269                 | 106296              | 206613              | 2170-11-05 11:05:29 | 2170-11-08 17:46:57 | 2170-11-05 11:04:00 | 2170-11-27 18:00:00 | NA                  | \n",
       "| 270                 | 188028              | 220345              | 2128-06-24 15:05:20 | 2128-06-27 12:32:29 | 2128-06-23 18:26:00 | 2128-06-27 12:31:00 | NA                  | \n",
       "| 272                 | 164716              | 210407              | 2186-12-25 21:08:04 | 2186-12-27 12:01:13 | 2186-12-25 21:06:00 | 2187-01-02 14:57:00 | NA                  | \n",
       "| 273                 | 158689              | 241507              | 2141-04-19 06:12:05 | 2141-04-20 17:52:11 | 2141-04-19 06:11:00 | 2141-04-20 17:00:00 | NA                  | \n",
       "| 274                 | 130546              | 254851              | 2114-06-28 22:28:44 | 2114-07-07 18:01:16 | 2114-06-28 22:16:00 | 2114-07-12 15:30:00 | NA                  | \n",
       "\n",
       "\n"
      ],
      "text/plain": [
       "  subject_id hadm_id icustay_id intime              outtime            \n",
       "1 268        110404  280836     2198-02-14 23:27:38 2198-02-18 05:26:11\n",
       "2 269        106296  206613     2170-11-05 11:05:29 2170-11-08 17:46:57\n",
       "3 270        188028  220345     2128-06-24 15:05:20 2128-06-27 12:32:29\n",
       "4 272        164716  210407     2186-12-25 21:08:04 2186-12-27 12:01:13\n",
       "5 273        158689  241507     2141-04-19 06:12:05 2141-04-20 17:52:11\n",
       "6 274        130546  254851     2114-06-28 22:28:44 2114-07-07 18:01:16\n",
       "  admittime           dischtime           deathtime          \n",
       "1 2198-02-11 13:40:00 2198-02-18 03:55:00 2198-02-18 03:55:00\n",
       "2 2170-11-05 11:04:00 2170-11-27 18:00:00 <NA>               \n",
       "3 2128-06-23 18:26:00 2128-06-27 12:31:00 <NA>               \n",
       "4 2186-12-25 21:06:00 2187-01-02 14:57:00 <NA>               \n",
       "5 2141-04-19 06:11:00 2141-04-20 17:00:00 <NA>               \n",
       "6 2114-06-28 22:16:00 2114-07-12 15:30:00 <NA>               "
      ]
     },
     "metadata": {},
     "output_type": "display_data"
    }
   ],
   "source": [
    "first_icu <- dbGetQuery(con, first_icu_que)\n",
    "head(first_icu)"
   ]
  },
  {
   "cell_type": "code",
   "execution_count": 9,
   "metadata": {
    "collapsed": true
   },
   "outputs": [],
   "source": [
    "# dbDisconnect(con)\n",
    "# dbUnloadDriver(drv)"
   ]
  },
  {
   "cell_type": "code",
   "execution_count": 10,
   "metadata": {},
   "outputs": [
    {
     "data": {
      "text/html": [
       "<table>\n",
       "<thead><tr><th scope=col>subject_id</th><th scope=col>hadm_id</th><th scope=col>icustay_id</th><th scope=col>intime</th><th scope=col>outtime</th><th scope=col>admittime</th><th scope=col>dischtime</th><th scope=col>deathtime</th></tr></thead>\n",
       "<tbody>\n",
       "\t<tr><td>268                </td><td>110404             </td><td>280836             </td><td>2198-02-14 23:27:38</td><td>2198-02-18 05:26:11</td><td>2198-02-11 13:40:00</td><td>2198-02-18 03:55:00</td><td>2198-02-18 03:55:00</td></tr>\n",
       "\t<tr><td>269                </td><td>106296             </td><td>206613             </td><td>2170-11-05 11:05:29</td><td>2170-11-08 17:46:57</td><td>2170-11-05 11:04:00</td><td>2170-11-27 18:00:00</td><td>NA                 </td></tr>\n",
       "\t<tr><td>270                </td><td>188028             </td><td>220345             </td><td>2128-06-24 15:05:20</td><td>2128-06-27 12:32:29</td><td>2128-06-23 18:26:00</td><td>2128-06-27 12:31:00</td><td>NA                 </td></tr>\n",
       "\t<tr><td>272                </td><td>164716             </td><td>210407             </td><td>2186-12-25 21:08:04</td><td>2186-12-27 12:01:13</td><td>2186-12-25 21:06:00</td><td>2187-01-02 14:57:00</td><td>NA                 </td></tr>\n",
       "\t<tr><td>273                </td><td>158689             </td><td>241507             </td><td>2141-04-19 06:12:05</td><td>2141-04-20 17:52:11</td><td>2141-04-19 06:11:00</td><td>2141-04-20 17:00:00</td><td>NA                 </td></tr>\n",
       "\t<tr><td>274                </td><td>130546             </td><td>254851             </td><td>2114-06-28 22:28:44</td><td>2114-07-07 18:01:16</td><td>2114-06-28 22:16:00</td><td>2114-07-12 15:30:00</td><td>NA                 </td></tr>\n",
       "</tbody>\n",
       "</table>\n"
      ],
      "text/latex": [
       "\\begin{tabular}{r|llllllll}\n",
       " subject\\_id & hadm\\_id & icustay\\_id & intime & outtime & admittime & dischtime & deathtime\\\\\n",
       "\\hline\n",
       "\t 268                 & 110404              & 280836              & 2198-02-14 23:27:38 & 2198-02-18 05:26:11 & 2198-02-11 13:40:00 & 2198-02-18 03:55:00 & 2198-02-18 03:55:00\\\\\n",
       "\t 269                 & 106296              & 206613              & 2170-11-05 11:05:29 & 2170-11-08 17:46:57 & 2170-11-05 11:04:00 & 2170-11-27 18:00:00 & NA                 \\\\\n",
       "\t 270                 & 188028              & 220345              & 2128-06-24 15:05:20 & 2128-06-27 12:32:29 & 2128-06-23 18:26:00 & 2128-06-27 12:31:00 & NA                 \\\\\n",
       "\t 272                 & 164716              & 210407              & 2186-12-25 21:08:04 & 2186-12-27 12:01:13 & 2186-12-25 21:06:00 & 2187-01-02 14:57:00 & NA                 \\\\\n",
       "\t 273                 & 158689              & 241507              & 2141-04-19 06:12:05 & 2141-04-20 17:52:11 & 2141-04-19 06:11:00 & 2141-04-20 17:00:00 & NA                 \\\\\n",
       "\t 274                 & 130546              & 254851              & 2114-06-28 22:28:44 & 2114-07-07 18:01:16 & 2114-06-28 22:16:00 & 2114-07-12 15:30:00 & NA                 \\\\\n",
       "\\end{tabular}\n"
      ],
      "text/markdown": [
       "\n",
       "subject_id | hadm_id | icustay_id | intime | outtime | admittime | dischtime | deathtime | \n",
       "|---|---|---|---|---|---|\n",
       "| 268                 | 110404              | 280836              | 2198-02-14 23:27:38 | 2198-02-18 05:26:11 | 2198-02-11 13:40:00 | 2198-02-18 03:55:00 | 2198-02-18 03:55:00 | \n",
       "| 269                 | 106296              | 206613              | 2170-11-05 11:05:29 | 2170-11-08 17:46:57 | 2170-11-05 11:04:00 | 2170-11-27 18:00:00 | NA                  | \n",
       "| 270                 | 188028              | 220345              | 2128-06-24 15:05:20 | 2128-06-27 12:32:29 | 2128-06-23 18:26:00 | 2128-06-27 12:31:00 | NA                  | \n",
       "| 272                 | 164716              | 210407              | 2186-12-25 21:08:04 | 2186-12-27 12:01:13 | 2186-12-25 21:06:00 | 2187-01-02 14:57:00 | NA                  | \n",
       "| 273                 | 158689              | 241507              | 2141-04-19 06:12:05 | 2141-04-20 17:52:11 | 2141-04-19 06:11:00 | 2141-04-20 17:00:00 | NA                  | \n",
       "| 274                 | 130546              | 254851              | 2114-06-28 22:28:44 | 2114-07-07 18:01:16 | 2114-06-28 22:16:00 | 2114-07-12 15:30:00 | NA                  | \n",
       "\n",
       "\n"
      ],
      "text/plain": [
       "  subject_id hadm_id icustay_id intime              outtime            \n",
       "1 268        110404  280836     2198-02-14 23:27:38 2198-02-18 05:26:11\n",
       "2 269        106296  206613     2170-11-05 11:05:29 2170-11-08 17:46:57\n",
       "3 270        188028  220345     2128-06-24 15:05:20 2128-06-27 12:32:29\n",
       "4 272        164716  210407     2186-12-25 21:08:04 2186-12-27 12:01:13\n",
       "5 273        158689  241507     2141-04-19 06:12:05 2141-04-20 17:52:11\n",
       "6 274        130546  254851     2114-06-28 22:28:44 2114-07-07 18:01:16\n",
       "  admittime           dischtime           deathtime          \n",
       "1 2198-02-11 13:40:00 2198-02-18 03:55:00 2198-02-18 03:55:00\n",
       "2 2170-11-05 11:04:00 2170-11-27 18:00:00 <NA>               \n",
       "3 2128-06-23 18:26:00 2128-06-27 12:31:00 <NA>               \n",
       "4 2186-12-25 21:06:00 2187-01-02 14:57:00 <NA>               \n",
       "5 2141-04-19 06:11:00 2141-04-20 17:00:00 <NA>               \n",
       "6 2114-06-28 22:16:00 2114-07-12 15:30:00 <NA>               "
      ]
     },
     "metadata": {},
     "output_type": "display_data"
    }
   ],
   "source": [
    "fst_icu <- first_icu %>%\n",
    "    mutate(intime = ymd_hms(intime),\n",
    "           outtime = ymd_hms(outtime),\n",
    "           admittime = ymd_hms(admittime),\n",
    "           dischtime = ymd_hms(dischtime),\n",
    "           deathtime = ymd_hms(deathtime))\n",
    "head(fst_icu)"
   ]
  },
  {
   "cell_type": "code",
   "execution_count": 11,
   "metadata": {},
   "outputs": [
    {
     "data": {
      "text/html": [
       "<table>\n",
       "<thead><tr><th scope=col>subject_id</th><th scope=col>hadm_id</th><th scope=col>icustay_id</th><th scope=col>intime</th><th scope=col>outtime</th><th scope=col>admittime</th><th scope=col>dischtime</th><th scope=col>deathtime</th><th scope=col>time_till_death</th></tr></thead>\n",
       "<tbody>\n",
       "\t<tr><td>268                </td><td>110404             </td><td>280836             </td><td>2198-02-14 23:27:38</td><td>2198-02-18 05:26:11</td><td>2198-02-11 13:40:00</td><td>2198-02-18 03:55:00</td><td>2198-02-18 03:55:00</td><td>76.45611           </td></tr>\n",
       "\t<tr><td>269                </td><td>106296             </td><td>206613             </td><td>2170-11-05 11:05:29</td><td>2170-11-08 17:46:57</td><td>2170-11-05 11:04:00</td><td>2170-11-27 18:00:00</td><td>NA                 </td><td>      NA           </td></tr>\n",
       "\t<tr><td>270                </td><td>188028             </td><td>220345             </td><td>2128-06-24 15:05:20</td><td>2128-06-27 12:32:29</td><td>2128-06-23 18:26:00</td><td>2128-06-27 12:31:00</td><td>NA                 </td><td>      NA           </td></tr>\n",
       "\t<tr><td>272                </td><td>164716             </td><td>210407             </td><td>2186-12-25 21:08:04</td><td>2186-12-27 12:01:13</td><td>2186-12-25 21:06:00</td><td>2187-01-02 14:57:00</td><td>NA                 </td><td>      NA           </td></tr>\n",
       "\t<tr><td>273                </td><td>158689             </td><td>241507             </td><td>2141-04-19 06:12:05</td><td>2141-04-20 17:52:11</td><td>2141-04-19 06:11:00</td><td>2141-04-20 17:00:00</td><td>NA                 </td><td>      NA           </td></tr>\n",
       "\t<tr><td>274                </td><td>130546             </td><td>254851             </td><td>2114-06-28 22:28:44</td><td>2114-07-07 18:01:16</td><td>2114-06-28 22:16:00</td><td>2114-07-12 15:30:00</td><td>NA                 </td><td>      NA           </td></tr>\n",
       "</tbody>\n",
       "</table>\n"
      ],
      "text/latex": [
       "\\begin{tabular}{r|lllllllll}\n",
       " subject\\_id & hadm\\_id & icustay\\_id & intime & outtime & admittime & dischtime & deathtime & time\\_till\\_death\\\\\n",
       "\\hline\n",
       "\t 268                 & 110404              & 280836              & 2198-02-14 23:27:38 & 2198-02-18 05:26:11 & 2198-02-11 13:40:00 & 2198-02-18 03:55:00 & 2198-02-18 03:55:00 & 76.45611           \\\\\n",
       "\t 269                 & 106296              & 206613              & 2170-11-05 11:05:29 & 2170-11-08 17:46:57 & 2170-11-05 11:04:00 & 2170-11-27 18:00:00 & NA                  &       NA           \\\\\n",
       "\t 270                 & 188028              & 220345              & 2128-06-24 15:05:20 & 2128-06-27 12:32:29 & 2128-06-23 18:26:00 & 2128-06-27 12:31:00 & NA                  &       NA           \\\\\n",
       "\t 272                 & 164716              & 210407              & 2186-12-25 21:08:04 & 2186-12-27 12:01:13 & 2186-12-25 21:06:00 & 2187-01-02 14:57:00 & NA                  &       NA           \\\\\n",
       "\t 273                 & 158689              & 241507              & 2141-04-19 06:12:05 & 2141-04-20 17:52:11 & 2141-04-19 06:11:00 & 2141-04-20 17:00:00 & NA                  &       NA           \\\\\n",
       "\t 274                 & 130546              & 254851              & 2114-06-28 22:28:44 & 2114-07-07 18:01:16 & 2114-06-28 22:16:00 & 2114-07-12 15:30:00 & NA                  &       NA           \\\\\n",
       "\\end{tabular}\n"
      ],
      "text/markdown": [
       "\n",
       "subject_id | hadm_id | icustay_id | intime | outtime | admittime | dischtime | deathtime | time_till_death | \n",
       "|---|---|---|---|---|---|\n",
       "| 268                 | 110404              | 280836              | 2198-02-14 23:27:38 | 2198-02-18 05:26:11 | 2198-02-11 13:40:00 | 2198-02-18 03:55:00 | 2198-02-18 03:55:00 | 76.45611            | \n",
       "| 269                 | 106296              | 206613              | 2170-11-05 11:05:29 | 2170-11-08 17:46:57 | 2170-11-05 11:04:00 | 2170-11-27 18:00:00 | NA                  |       NA            | \n",
       "| 270                 | 188028              | 220345              | 2128-06-24 15:05:20 | 2128-06-27 12:32:29 | 2128-06-23 18:26:00 | 2128-06-27 12:31:00 | NA                  |       NA            | \n",
       "| 272                 | 164716              | 210407              | 2186-12-25 21:08:04 | 2186-12-27 12:01:13 | 2186-12-25 21:06:00 | 2187-01-02 14:57:00 | NA                  |       NA            | \n",
       "| 273                 | 158689              | 241507              | 2141-04-19 06:12:05 | 2141-04-20 17:52:11 | 2141-04-19 06:11:00 | 2141-04-20 17:00:00 | NA                  |       NA            | \n",
       "| 274                 | 130546              | 254851              | 2114-06-28 22:28:44 | 2114-07-07 18:01:16 | 2114-06-28 22:16:00 | 2114-07-12 15:30:00 | NA                  |       NA            | \n",
       "\n",
       "\n"
      ],
      "text/plain": [
       "  subject_id hadm_id icustay_id intime              outtime            \n",
       "1 268        110404  280836     2198-02-14 23:27:38 2198-02-18 05:26:11\n",
       "2 269        106296  206613     2170-11-05 11:05:29 2170-11-08 17:46:57\n",
       "3 270        188028  220345     2128-06-24 15:05:20 2128-06-27 12:32:29\n",
       "4 272        164716  210407     2186-12-25 21:08:04 2186-12-27 12:01:13\n",
       "5 273        158689  241507     2141-04-19 06:12:05 2141-04-20 17:52:11\n",
       "6 274        130546  254851     2114-06-28 22:28:44 2114-07-07 18:01:16\n",
       "  admittime           dischtime           deathtime           time_till_death\n",
       "1 2198-02-11 13:40:00 2198-02-18 03:55:00 2198-02-18 03:55:00 76.45611       \n",
       "2 2170-11-05 11:04:00 2170-11-27 18:00:00 <NA>                      NA       \n",
       "3 2128-06-23 18:26:00 2128-06-27 12:31:00 <NA>                      NA       \n",
       "4 2186-12-25 21:06:00 2187-01-02 14:57:00 <NA>                      NA       \n",
       "5 2141-04-19 06:11:00 2141-04-20 17:00:00 <NA>                      NA       \n",
       "6 2114-06-28 22:16:00 2114-07-12 15:30:00 <NA>                      NA       "
      ]
     },
     "metadata": {},
     "output_type": "display_data"
    }
   ],
   "source": [
    "raw_mort <- fst_icu %>%\n",
    "    mutate(time_till_death = interval(intime, deathtime) / dhours(1))\n",
    "head(raw_mort)"
   ]
  },
  {
   "cell_type": "code",
   "execution_count": 12,
   "metadata": {},
   "outputs": [
    {
     "name": "stdout",
     "output_type": "stream",
     "text": [
      " num [1:61532] 76.5 NA NA NA NA ...\n"
     ]
    }
   ],
   "source": [
    "raw_mort %>%\n",
    "    pull(time_till_death) %>%\n",
    "    str"
   ]
  },
  {
   "cell_type": "code",
   "execution_count": 14,
   "metadata": {},
   "outputs": [
    {
     "data": {
      "text/html": [
       "<table>\n",
       "<thead><tr><th scope=col>subject_id</th><th scope=col>icustay_id</th><th scope=col>intime</th><th scope=col>deathtime</th><th scope=col>time_till_death</th></tr></thead>\n",
       "<tbody>\n",
       "\t<tr><td>268                </td><td>280836             </td><td>2198-02-14 23:27:38</td><td>2198-02-18 03:55:00</td><td>76.45611           </td></tr>\n",
       "\t<tr><td>269                </td><td>206613             </td><td>2170-11-05 11:05:29</td><td>NA                 </td><td>      NA           </td></tr>\n",
       "\t<tr><td>270                </td><td>220345             </td><td>2128-06-24 15:05:20</td><td>NA                 </td><td>      NA           </td></tr>\n",
       "\t<tr><td>272                </td><td>210407             </td><td>2186-12-25 21:08:04</td><td>NA                 </td><td>      NA           </td></tr>\n",
       "\t<tr><td>273                </td><td>241507             </td><td>2141-04-19 06:12:05</td><td>NA                 </td><td>      NA           </td></tr>\n",
       "\t<tr><td>274                </td><td>254851             </td><td>2114-06-28 22:28:44</td><td>NA                 </td><td>      NA           </td></tr>\n",
       "</tbody>\n",
       "</table>\n"
      ],
      "text/latex": [
       "\\begin{tabular}{r|lllll}\n",
       " subject\\_id & icustay\\_id & intime & deathtime & time\\_till\\_death\\\\\n",
       "\\hline\n",
       "\t 268                 & 280836              & 2198-02-14 23:27:38 & 2198-02-18 03:55:00 & 76.45611           \\\\\n",
       "\t 269                 & 206613              & 2170-11-05 11:05:29 & NA                  &       NA           \\\\\n",
       "\t 270                 & 220345              & 2128-06-24 15:05:20 & NA                  &       NA           \\\\\n",
       "\t 272                 & 210407              & 2186-12-25 21:08:04 & NA                  &       NA           \\\\\n",
       "\t 273                 & 241507              & 2141-04-19 06:12:05 & NA                  &       NA           \\\\\n",
       "\t 274                 & 254851              & 2114-06-28 22:28:44 & NA                  &       NA           \\\\\n",
       "\\end{tabular}\n"
      ],
      "text/markdown": [
       "\n",
       "subject_id | icustay_id | intime | deathtime | time_till_death | \n",
       "|---|---|---|---|---|---|\n",
       "| 268                 | 280836              | 2198-02-14 23:27:38 | 2198-02-18 03:55:00 | 76.45611            | \n",
       "| 269                 | 206613              | 2170-11-05 11:05:29 | NA                  |       NA            | \n",
       "| 270                 | 220345              | 2128-06-24 15:05:20 | NA                  |       NA            | \n",
       "| 272                 | 210407              | 2186-12-25 21:08:04 | NA                  |       NA            | \n",
       "| 273                 | 241507              | 2141-04-19 06:12:05 | NA                  |       NA            | \n",
       "| 274                 | 254851              | 2114-06-28 22:28:44 | NA                  |       NA            | \n",
       "\n",
       "\n"
      ],
      "text/plain": [
       "  subject_id icustay_id intime              deathtime           time_till_death\n",
       "1 268        280836     2198-02-14 23:27:38 2198-02-18 03:55:00 76.45611       \n",
       "2 269        206613     2170-11-05 11:05:29 NA                        NA       \n",
       "3 270        220345     2128-06-24 15:05:20 NA                        NA       \n",
       "4 272        210407     2186-12-25 21:08:04 NA                        NA       \n",
       "5 273        241507     2141-04-19 06:12:05 NA                        NA       \n",
       "6 274        254851     2114-06-28 22:28:44 NA                        NA       "
      ]
     },
     "metadata": {},
     "output_type": "display_data"
    }
   ],
   "source": [
    "raw_mort_chr <- raw_mort %>%\n",
    "    select(subject_id, icustay_id, intime, deathtime, time_till_death) %>%\n",
    "    mutate(intime = as.character(intime), deathtime = as.character(deathtime))\n",
    "head(raw_mort_chr)"
   ]
  },
  {
   "cell_type": "code",
   "execution_count": 15,
   "metadata": {
    "collapsed": true
   },
   "outputs": [],
   "source": [
    "data.table::fwrite(raw_mort_chr, \"/Data/common/raw_mort.csv\")"
   ]
  },
  {
   "cell_type": "code",
   "execution_count": null,
   "metadata": {},
   "outputs": [],
   "source": [
    "time_till_death <- raw_mort %>%\n",
    "    select(subject_id, icustay_id, time_till_death)\n",
    "head(time_till_death)\n",
    "nrow(time_till_death)"
   ]
  },
  {
   "cell_type": "code",
   "execution_count": null,
   "metadata": {
    "collapsed": true
   },
   "outputs": [],
   "source": [
    "data.table::fwrite(time_till_death, \"/Data/common/time_till_death.csv\")"
   ]
  },
  {
   "cell_type": "code",
   "execution_count": null,
   "metadata": {},
   "outputs": [],
   "source": [
    "mort_icu <- fst_icu %>%\n",
    "    mutate(onemth = intime + months(1),\n",
    "           thrmth = intime + months(3),\n",
    "           sixmth = intime + months(6))\n",
    "head(mort_icu)"
   ]
  },
  {
   "cell_type": "code",
   "execution_count": null,
   "metadata": {},
   "outputs": [],
   "source": [
    "mort_fst_icu <- mort_icu %>%\n",
    "    mutate(icu_mort = (!is.na(deathtime) & deathtime >= outtime & deathtime <= outtime)) %>%\n",
    "    mutate(h_mort = (!is.na(deathtime) & (deathtime >= admittime & deathtime <= dischtime | icu_mort))) %>%\n",
    "    mutate(one_mort = (!is.na(deathtime) & deathtime <= onemth)) %>%\n",
    "    mutate(thr_mort = (!is.na(deathtime) & deathtime <= thrmth)) %>%\n",
    "    mutate(six_mort = (!is.na(deathtime) & deathtime <= sixmth))\n",
    "head(mort_fst_icu)"
   ]
  },
  {
   "cell_type": "code",
   "execution_count": null,
   "metadata": {},
   "outputs": [],
   "source": [
    "mort_sum <- mort_fst_icu %>%\n",
    "    select_(.dots = c(\"subject_id\", \"hadm_id\", \"icustay_id\", grep(\"mort\", names(.), value = TRUE))) %>%\n",
    "    mutate_(.dots = grep(\"mort\", names(.), value = TRUE) %>%\n",
    "                setNames(., .) %>%\n",
    "                map(~ sprintf(\"~ as.integer(%s)\", .x)) %>%\n",
    "                map(~ as.formula(.x)))\n",
    "head(mort_sum)"
   ]
  },
  {
   "cell_type": "code",
   "execution_count": null,
   "metadata": {
    "collapsed": true
   },
   "outputs": [],
   "source": [
    "# data.table::fwrite(mort_sum, \"/Data/common/mort_sum_full.csv\")"
   ]
  },
  {
   "cell_type": "code",
   "execution_count": null,
   "metadata": {},
   "outputs": [],
   "source": [
    "mort_sum %>%\n",
    "    summarise(i = sum(icu_mort, na.rm = TRUE) / n(),\n",
    "              h = sum(h_mort, na.rm = TRUE) / n(),\n",
    "              o = sum(one_mort, na.rm = TRUE) / n(),\n",
    "              t = sum(thr_mort, na.rm = TRUE) / n(),\n",
    "              s = sum(six_mort, na.rm = TRUE) / n())"
   ]
  },
  {
   "cell_type": "code",
   "execution_count": null,
   "metadata": {
    "collapsed": true
   },
   "outputs": [],
   "source": [
    "1 + 1"
   ]
  },
  {
   "cell_type": "code",
   "execution_count": null,
   "metadata": {
    "collapsed": true
   },
   "outputs": [],
   "source": []
  }
 ],
 "metadata": {
  "kernelspec": {
   "display_name": "R",
   "language": "R",
   "name": "ir"
  }
 },
 "nbformat": 4,
 "nbformat_minor": 2
}
