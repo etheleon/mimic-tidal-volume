{
 "cells": [
  {
   "cell_type": "code",
   "execution_count": null,
   "metadata": {
    "attributes": {
     "classes": [
      "postgres"
     ],
     "id": ""
    }
   },
   "outputs": [],
   "source": [
    "psql -d mimic -U datathon\n",
    "select * from pg_stat_activity;\n",
    "select pg_terminate_backend(3682);\n",
    "\n",
    "#loging into postgres\n",
    "set search_path to public,mimiciii;\n",
    "\\i instructions"
   ]
  },
  {
   "cell_type": "code",
   "execution_count": null,
   "metadata": {},
   "outputs": [],
   "source": [
    "options(max.print=999)"
   ]
  },
  {
   "cell_type": "code",
   "execution_count": null,
   "metadata": {},
   "outputs": [],
   "source": [
    "PBW = function(gender, height){\n",
    "    if (!is.na(height) && !is.na(gender)){ \n",
    "        if (gender == 'M'){ \n",
    "            50.0 + 0.91 * (height  - 152.4) \n",
    "        }else{ \n",
    "            45.5 + 0.91 * (height  - 152.4) } \n",
    "        }else{ \n",
    "            NA } \n",
    "}\n",
    "\n",
    "#' calculates table\n",
    "#'\n",
    "#' @param df the input data.frame\n",
    "#' @param ids the icustay_ids\n",
    "#'\n",
    "tableFXN = function(df, ids){\n",
    "    if(missing(ids)){\n",
    "        tdf = df\n",
    "    }else{\n",
    "        tdf = df %>% filter(icustay_id %in% ids)\n",
    "    }\n",
    "    mapply(function(lower, upper){\n",
    "        count = tdf %>%\n",
    "            filter(tv_pbw >= lower, tv_pbw < upper) %>% nrow\n",
    "        data.frame(lower = lower, upper = upper, count=count)\n",
    "    },\n",
    "        lower = c(0, 6, 8, 10),\n",
    "        upper = c(6, 8, 10, Inf),\n",
    "        SIMPLIFY=FALSE\n",
    "    ) %>% do.call(rbind,.)\n",
    "}\n",
    "\n",
    "#' Searches the table materialized view tables\n",
    "#'\n",
    "#' @param regex text\n",
    "findWhichTable = function(regex){\n",
    "    namesDF.materialized %<>% do.call(rbind,.)\n",
    "    whichones =  namesDF.materialized %$%\n",
    "        columns  %>% as.character %>% grepl(regex,.)\n",
    "    namesDF.materialized[whichones,]\n",
    "}"
   ]
  },
  {
   "cell_type": "code",
   "execution_count": null,
   "metadata": {},
   "outputs": [],
   "source": [
    "##################################################\n",
    "# Tables\n",
    "##################################################\n",
    "namesDF = dbListTables(con) %>% lapply(function(tbl){\n",
    "    data.frame(tbl = tbl, columns = colnames(tbl(con, tbl)))\n",
    "})\n",
    "names(namesDF) = dbListTables(con)\n",
    "\n",
    "##################################################\n",
    "# Materialized Views\n",
    "##################################################\n",
    "\n",
    "#names\n",
    "materializedViews = c(\"adenosinedurations\", \"angus_sepsis\", \"apsiii\", \"bloodgasfirstday\", \"bloodgasfirstdayarterial\", \"dobutaminedurations\", \"dopaminedurations\", \"echodata\", \"elixhauser_ahrq\", \"elixhauser_ahrq_score\", \"elixhauser_quan\", \"elixhauser_quan_score\", \"epinephrinedurations\", \"gcsfirstday\", \"heightfirstday\", \"icustay_detail\", \"isupreldurations\", \"labsfirstday\", \"lods\", \"milrinonedurations\", \"norepinephrinedurations\", \"oasis\", \"phenylephrinedurations\", \"rrtfirstday\", \"saps\", \"sapsii\", \"sofa\", \"uofirstday\", \"vasopressindurations\", \"vasopressordurations\", \"ventfirstday\", \"vitalsfirstday\", \"weightfirstday\")\n",
    "namesDF.materialized = materializedViews %>% lapply(function(tbl){\n",
    "    data.frame( tbl = tbl, columns = colnames(tbl(con, sql(sprintf(\"select * from %s\", tbl)))))\n",
    "})\n",
    "names(namesDF.materialized) = materializedViews\n",
    "\n",
    "#df\n",
    "materialized = materializedViews %>% lapply(\n",
    "function(tbl){\n",
    "    con %>% tbl(sql(sprintf(\"select * from %s\", tbl))) %>% collect(n = Inf)\n",
    "})\n",
    "names(materialized) = materializedViews"
   ]
  },
  {
   "cell_type": "code",
   "execution_count": null,
   "metadata": {},
   "outputs": [],
   "source": [
    "apache = materialized$apsiii %>% select(subject_id:apsiii_prob)\n",
    "oasis = con %>% tbl(\"oasis\") %>% select(subject_id, icustay_id, oasis, oasis_prob) %>% collect(n=Inf)\n",
    "#write.csv(apache, file=\"/Data/common/apache.csv\")\n",
    "#write.csv(oasis, file=\"/Data/common/oasis.csv\")"
   ]
  },
  {
   "cell_type": "markdown",
   "metadata": {},
   "source": [
    "## 1. ideal body weight"
   ]
  },
  {
   "cell_type": "code",
   "execution_count": null,
   "metadata": {},
   "outputs": [],
   "source": [
    "#gender, ethnicity\n",
    "stats   = materialized %$% icustay_detail\n",
    "patient2icuID = stats %>% select(subject_id, icustay_id)\n",
    "\n",
    "weight  = materialized %$% weightfirstday %>% select(icustay_id, weight_admit)\n",
    "\n",
    "height  = materialized %$% heightfirstday %>% select(icustay_id, height)\n",
    "\n",
    "#pbw - predicted body weight\n",
    "pbwDF   = merge(stats %>% select(icustay_id, gender, ethnicity), height, all=T)\n",
    "pbwDF %<>% rowwise %>% mutate(pbw = PBW(gender, height))\n",
    "pbwDF = pbwDF %>% complete.cases %>% pbwDF[.,]"
   ]
  },
  {
   "cell_type": "markdown",
   "metadata": {},
   "source": [
    "## 2. Cohort 2008-2012 Metavision"
   ]
  },
  {
   "cell_type": "code",
   "execution_count": null,
   "metadata": {},
   "outputs": [],
   "source": [
    "## 2. Time Period 2008-2012\n",
    "metavisionPatients = con %>% tbl(\"icustays\") %>%\n",
    "    filter(dbsource == 'metavision') %>%\n",
    "    pull(icustay_id)"
   ]
  },
  {
   "cell_type": "markdown",
   "metadata": {},
   "source": [
    "## 3. Tidal Volume (cm3/kg)"
   ]
  },
  {
   "cell_type": "code",
   "execution_count": null,
   "metadata": {},
   "outputs": [],
   "source": [
    "## Tidal Volume\n",
    "\n",
    "#' tvSet Finds the set tidal volume\n",
    "tv_Set = function(){\n",
    "    con %>% tbl(\"mpwr_vent_unpivot\") %>%\n",
    "        filter(!is.na(tidal_volume_set)) %>% collect(n=Inf) %>%\n",
    "        group_by(icustay_id) %>% summarise(tv_set = head(tidal_volume_set, n=1)) %>%\n",
    "        merge(pbwDF, by=\"icustay_id\") %>%\n",
    "        mutate(tv_pbw = tv_set / pbw) %>% tbl_df\n",
    "}\n",
    "tvSet = tv_Set()\n",
    "\n",
    "#' tvSet Finds the observed tidal volume\n",
    "tv_Observed = function(){\n",
    "    con %>% tbl(\"mpwr_vent_unpivot\") %>%\n",
    "        filter(!is.na(tidal_volume_observed)) %>% collect(n=Inf) %>%\n",
    "        group_by(icustay_id) %>% summarise(tv_set= head(tidal_volume_observed, n=1)) %>%\n",
    "        merge(pbwDF, by=\"icustay_id\") %>% mutate(tv_pbw = tv_set / pbw) %>% tbl_df\n",
    "}\n",
    "tvObserved = tv_Observed()\n",
    "\n",
    "tvSet %>% tableFXN\n",
    "tvObserved %>% tableFXN\n",
    "\n",
    "# pdf(\"hist.pdf\", w=10, h=10)\n",
    "# ggplot(filter(tvSet,tv_pbw > 0, tv_pbw < 30), aes(x=tv_pbw)) + geom_histogram() +\n",
    "# scale_x_continuous(breaks=seq(0,30, 1))\n",
    "# dev.off()"
   ]
  },
  {
   "cell_type": "markdown",
   "metadata": {},
   "source": [
    "## 4. Just First visit - Patient Count"
   ]
  },
  {
   "cell_type": "code",
   "execution_count": null,
   "metadata": {},
   "outputs": [],
   "source": [
    "firstVisit = con %>% tbl(\"mpwr_chartevents_vent\") %>%\n",
    "    merge(patient2icuID, by=\"icustay_id\", all.x=T) %>% \n",
    "    group_by(subject_id) %>%\n",
    "    do(head(arrange(., charttime),n=1))\n",
    "\n",
    "firstVisitID = firstVisit %>% pull(icustay_id)"
   ]
  },
  {
   "cell_type": "markdown",
   "metadata": {},
   "source": [
    "## 5. Duration > 48hr"
   ]
  },
  {
   "cell_type": "code",
   "execution_count": null,
   "metadata": {},
   "outputs": [],
   "source": [
    "above48_icuIDs = con %>% tbl(\"ventdurations\") %>%\n",
    "    filter(duration_hours > 48) %>% pull(icustay_id)"
   ]
  },
  {
   "cell_type": "markdown",
   "metadata": {},
   "source": [
    "## 6. peeps and pao2fio"
   ]
  },
  {
   "cell_type": "code",
   "execution_count": null,
   "metadata": {},
   "outputs": [],
   "source": [
    "peepIDs =  con %>% tbl(\"pao2fio2peep\") %>% select(icustay_id, peep, pao2fio2) %>% \n",
    "    filter(peep >= 5, pao2fio2 <= 300) %>% pull(icustay_id)"
   ]
  },
  {
   "cell_type": "markdown",
   "metadata": {},
   "source": [
    "## 7. Ventilation mode"
   ]
  },
  {
   "cell_type": "code",
   "execution_count": null,
   "metadata": {},
   "outputs": [],
   "source": [
    "## Ventmode\n",
    "ventMetaVision = con %>% tbl(\"mpwr_chartevents_vent\") %>%\n",
    "    filter(itemid %in% c(720, 223849)) %>% collect(n=Inf)\n",
    "annotatedModes = read.csv(\"/home/team12user7/WESLEY/vent_matt.csv\") %>% filter(X == 1)\n",
    "ventModeIDS = ventMetaVision %>% filter(value %in% annotatedModes$ventMode) %>% tbl_df %>% pull(icustay_id)\n",
    "\n",
    "ventModes_Full = ventMetaVision\n",
    "    pull(value) %>% table %>% as.data.frame  %>% arrange(desc(Freq)) %>%\n",
    "    setNames(c(\"ventMode\", \"Freq\"))\n",
    "\n",
    "#ventMetaVision_withSubject = ventMetaVision %>% merge(patient2icuID, all.x=T)\n",
    "\n",
    "# ventModes_metavision = con %>% tbl(\"mpwr_chartevents_vent\") %>%\n",
    "#     filter(itemid %in% c(720, 223849)) %>% collect(n=Inf) %>%\n",
    "#     filter(icustay_id %in% metavisionPatients) %>%\n",
    "#     pull(value) %>% table %>% as.data.frame  %>% arrange(desc(Freq)) %>% \n",
    "#     setNames(c(\"ventMode\", \"Freq\"))\n",
    "#write.csv(ventModes_metavision, file=\"/Data/common/ventmodes_metavision.csv\")"
   ]
  },
  {
   "cell_type": "markdown",
   "metadata": {},
   "source": [
    "## 8. Filtered Table"
   ]
  },
  {
   "cell_type": "code",
   "execution_count": null,
   "metadata": {},
   "outputs": [],
   "source": [
    "tvSet_filtered <-\n",
    "tvSet %>%\n",
    "    filter(icustay_id %in% unique(metavisionPatients)) %>%\n",
    "    filter(icustay_id %in% unique(firstVisitID)) %>%\n",
    "    filter(icustay_id %in% unique(above48_icuIDs)) %>%\n",
    "    filter(icustay_id %in% unique(peepIDs)) %>% \n",
    "    filter(icustay_id %in% unique(ventModeIDS)) %>% tableFXN\n",
    "write.csv(tvSet_filtered, file=\"/Data/common/tvSet_filtered.csv\", row.names=F)\n",
    "tvSet_filtered %>% tableFXN()"
   ]
  },
  {
   "cell_type": "code",
   "execution_count": null,
   "metadata": {},
   "outputs": [],
   "source": [
    "tvObserved_filtered <-\n",
    "tvObserved %>% #tableFXN(id = metavisionPatients)\n",
    "    filter(icustay_id %in% unique(metavisionPatients)) %>%\n",
    "    filter(icustay_id %in% unique(firstVisitID)) %>%\n",
    "    filter(icustay_id %in% unique(above48_icuIDs)) %>%\n",
    "    filter(icustay_id %in% unique(peepIDs)) %>% tableFXN\n",
    "    filter(icustay_id %in% unique(ventModeIDS))\n",
    "write.csv(tvObserved_filtered, file=\"/Data/common/tvObserved_filtered.csv\", row.names=F)\n",
    "tvObserved_filtered %>% tableFXN()"
   ]
  },
  {
   "cell_type": "markdown",
   "metadata": {},
   "source": [
    "undone"
   ]
  },
  {
   "cell_type": "code",
   "execution_count": null,
   "metadata": {},
   "outputs": [],
   "source": [
    "mortalityDF = con %>% tbl(\"admissions\") %>% select(subject_id, deathtime)\n",
    "allData = con %>% tbl(\"mpwr_vent_unpivot\") %>% select(icustay_id, tidal_volume:tidal_volume_observed) %>% collect(n=Inf)\n",
    "allData %>% filter(tidal_volume_spont == tidal_volume_set)\n",
    "vent_unpivot = con %>% tbl(\"mpwr_vent_unpivot\") %>% collect(n = Inf)"
   ]
  },
  {
   "cell_type": "markdown",
   "metadata": {},
   "source": [
    "admissions <- tbl(con, )\n",
    "admissions %>% head\n",
    "\n",
    "\n",
    "\n",
    "\n",
    "## 9. APACHE\n",
    "## 10. Height\n",
    "## 11. Weight\n",
    "\n",
    "\n",
    "#TV in 0 - 48hr\n",
    "\n",
    "#predicted body weight\n",
    "```"
   ]
  }
 ],
 "metadata": {},
 "nbformat": 4,
 "nbformat_minor": 0
}
