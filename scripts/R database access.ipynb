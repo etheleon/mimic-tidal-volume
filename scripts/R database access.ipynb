{
 "cells": [
  {
   "cell_type": "code",
   "execution_count": 1,
   "metadata": {
    "collapsed": true
   },
   "outputs": [],
   "source": [
    "load('/Data/common/RData//materialized.rda')"
   ]
  },
  {
   "cell_type": "code",
   "execution_count": 4,
   "metadata": {},
   "outputs": [
    {
     "name": "stderr",
     "output_type": "stream",
     "text": [
      "\n",
      "Attaching package: ‘dbplyr’\n",
      "\n",
      "The following objects are masked from ‘package:dplyr’:\n",
      "\n",
      "    ident, sql\n",
      "\n"
     ]
    },
    {
     "data": {
      "text/html": [
       "<ol class=list-inline>\n",
       "\t<li>'mpwr_chartevents_vent'</li>\n",
       "\t<li>'mpwr_vent_unpivot'</li>\n",
       "\t<li>'chartevents_12'</li>\n",
       "\t<li>'d_icd_diagnoses'</li>\n",
       "\t<li>'d_labitems'</li>\n",
       "\t<li>'procedureevents_mv'</li>\n",
       "\t<li>'procedures_icd'</li>\n",
       "\t<li>'ventdurations'</li>\n",
       "\t<li>'crrtdurations'</li>\n",
       "\t<li>'admissions'</li>\n",
       "\t<li>'callout'</li>\n",
       "\t<li>'caregivers'</li>\n",
       "\t<li>'chartevents'</li>\n",
       "\t<li>'chartevents_1'</li>\n",
       "\t<li>'chartevents_10'</li>\n",
       "\t<li>'chartevents_11'</li>\n",
       "\t<li>'chartevents_13'</li>\n",
       "\t<li>'chartevents_14'</li>\n",
       "\t<li>'chartevents_2'</li>\n",
       "\t<li>'chartevents_3'</li>\n",
       "\t<li>'chartevents_4'</li>\n",
       "\t<li>'chartevents_5'</li>\n",
       "\t<li>'chartevents_6'</li>\n",
       "\t<li>'chartevents_7'</li>\n",
       "\t<li>'chartevents_8'</li>\n",
       "\t<li>'chartevents_9'</li>\n",
       "\t<li>'cptevents'</li>\n",
       "\t<li>'d_cpt'</li>\n",
       "\t<li>'d_icd_procedures'</li>\n",
       "\t<li>'d_items'</li>\n",
       "\t<li>'datetimeevents'</li>\n",
       "\t<li>'diagnoses_icd'</li>\n",
       "\t<li>'drgcodes'</li>\n",
       "\t<li>'icustays'</li>\n",
       "\t<li>'inputevents_cv'</li>\n",
       "\t<li>'inputevents_mv'</li>\n",
       "\t<li>'labevents'</li>\n",
       "\t<li>'microbiologyevents'</li>\n",
       "\t<li>'noteevents'</li>\n",
       "\t<li>'outputevents'</li>\n",
       "\t<li>'patients'</li>\n",
       "\t<li>'prescriptions'</li>\n",
       "\t<li>'services'</li>\n",
       "\t<li>'transfers'</li>\n",
       "\t<li>'ccs_single_level_dx'</li>\n",
       "\t<li>'ccs_multi_level_dx'</li>\n",
       "</ol>\n"
      ],
      "text/latex": [
       "\\begin{enumerate*}\n",
       "\\item 'mpwr\\_chartevents\\_vent'\n",
       "\\item 'mpwr\\_vent\\_unpivot'\n",
       "\\item 'chartevents\\_12'\n",
       "\\item 'd\\_icd\\_diagnoses'\n",
       "\\item 'd\\_labitems'\n",
       "\\item 'procedureevents\\_mv'\n",
       "\\item 'procedures\\_icd'\n",
       "\\item 'ventdurations'\n",
       "\\item 'crrtdurations'\n",
       "\\item 'admissions'\n",
       "\\item 'callout'\n",
       "\\item 'caregivers'\n",
       "\\item 'chartevents'\n",
       "\\item 'chartevents\\_1'\n",
       "\\item 'chartevents\\_10'\n",
       "\\item 'chartevents\\_11'\n",
       "\\item 'chartevents\\_13'\n",
       "\\item 'chartevents\\_14'\n",
       "\\item 'chartevents\\_2'\n",
       "\\item 'chartevents\\_3'\n",
       "\\item 'chartevents\\_4'\n",
       "\\item 'chartevents\\_5'\n",
       "\\item 'chartevents\\_6'\n",
       "\\item 'chartevents\\_7'\n",
       "\\item 'chartevents\\_8'\n",
       "\\item 'chartevents\\_9'\n",
       "\\item 'cptevents'\n",
       "\\item 'd\\_cpt'\n",
       "\\item 'd\\_icd\\_procedures'\n",
       "\\item 'd\\_items'\n",
       "\\item 'datetimeevents'\n",
       "\\item 'diagnoses\\_icd'\n",
       "\\item 'drgcodes'\n",
       "\\item 'icustays'\n",
       "\\item 'inputevents\\_cv'\n",
       "\\item 'inputevents\\_mv'\n",
       "\\item 'labevents'\n",
       "\\item 'microbiologyevents'\n",
       "\\item 'noteevents'\n",
       "\\item 'outputevents'\n",
       "\\item 'patients'\n",
       "\\item 'prescriptions'\n",
       "\\item 'services'\n",
       "\\item 'transfers'\n",
       "\\item 'ccs\\_single\\_level\\_dx'\n",
       "\\item 'ccs\\_multi\\_level\\_dx'\n",
       "\\end{enumerate*}\n"
      ],
      "text/markdown": [
       "1. 'mpwr_chartevents_vent'\n",
       "2. 'mpwr_vent_unpivot'\n",
       "3. 'chartevents_12'\n",
       "4. 'd_icd_diagnoses'\n",
       "5. 'd_labitems'\n",
       "6. 'procedureevents_mv'\n",
       "7. 'procedures_icd'\n",
       "8. 'ventdurations'\n",
       "9. 'crrtdurations'\n",
       "10. 'admissions'\n",
       "11. 'callout'\n",
       "12. 'caregivers'\n",
       "13. 'chartevents'\n",
       "14. 'chartevents_1'\n",
       "15. 'chartevents_10'\n",
       "16. 'chartevents_11'\n",
       "17. 'chartevents_13'\n",
       "18. 'chartevents_14'\n",
       "19. 'chartevents_2'\n",
       "20. 'chartevents_3'\n",
       "21. 'chartevents_4'\n",
       "22. 'chartevents_5'\n",
       "23. 'chartevents_6'\n",
       "24. 'chartevents_7'\n",
       "25. 'chartevents_8'\n",
       "26. 'chartevents_9'\n",
       "27. 'cptevents'\n",
       "28. 'd_cpt'\n",
       "29. 'd_icd_procedures'\n",
       "30. 'd_items'\n",
       "31. 'datetimeevents'\n",
       "32. 'diagnoses_icd'\n",
       "33. 'drgcodes'\n",
       "34. 'icustays'\n",
       "35. 'inputevents_cv'\n",
       "36. 'inputevents_mv'\n",
       "37. 'labevents'\n",
       "38. 'microbiologyevents'\n",
       "39. 'noteevents'\n",
       "40. 'outputevents'\n",
       "41. 'patients'\n",
       "42. 'prescriptions'\n",
       "43. 'services'\n",
       "44. 'transfers'\n",
       "45. 'ccs_single_level_dx'\n",
       "46. 'ccs_multi_level_dx'\n",
       "\n",
       "\n"
      ],
      "text/plain": [
       " [1] \"mpwr_chartevents_vent\" \"mpwr_vent_unpivot\"     \"chartevents_12\"       \n",
       " [4] \"d_icd_diagnoses\"       \"d_labitems\"            \"procedureevents_mv\"   \n",
       " [7] \"procedures_icd\"        \"ventdurations\"         \"crrtdurations\"        \n",
       "[10] \"admissions\"            \"callout\"               \"caregivers\"           \n",
       "[13] \"chartevents\"           \"chartevents_1\"         \"chartevents_10\"       \n",
       "[16] \"chartevents_11\"        \"chartevents_13\"        \"chartevents_14\"       \n",
       "[19] \"chartevents_2\"         \"chartevents_3\"         \"chartevents_4\"        \n",
       "[22] \"chartevents_5\"         \"chartevents_6\"         \"chartevents_7\"        \n",
       "[25] \"chartevents_8\"         \"chartevents_9\"         \"cptevents\"            \n",
       "[28] \"d_cpt\"                 \"d_icd_procedures\"      \"d_items\"              \n",
       "[31] \"datetimeevents\"        \"diagnoses_icd\"         \"drgcodes\"             \n",
       "[34] \"icustays\"              \"inputevents_cv\"        \"inputevents_mv\"       \n",
       "[37] \"labevents\"             \"microbiologyevents\"    \"noteevents\"           \n",
       "[40] \"outputevents\"          \"patients\"              \"prescriptions\"        \n",
       "[43] \"services\"              \"transfers\"             \"ccs_single_level_dx\"  \n",
       "[46] \"ccs_multi_level_dx\"   "
      ]
     },
     "metadata": {},
     "output_type": "display_data"
    }
   ],
   "source": [
    "library(RPostgreSQL)\n",
    "library(tidyverse)\n",
    "library(dbplyr)\n",
    "drv <- dbDriver(\"PostgreSQL\")\n",
    "con <- dbConnect(drv, dbname = \"mimic\",\n",
    "                 host = \"localhost\", port = 5432,\n",
    "                 user = \"datathon\", password = \"datathon\")\n",
    "dbListTables(con)\n",
    "\n",
    "#con <- DBI::dbConnect(RSQLite::SQLite(), \":memory:\")\n",
    "#DBI::dbWriteTable(con, \"mtcars\", mtcars)\n",
    "\n",
    "chartevents<- tbl(con, \"chartevents\")\n"
   ]
  },
  {
   "cell_type": "code",
   "execution_count": 18,
   "metadata": {},
   "outputs": [
    {
     "data": {
      "text/plain": [
       "# Source:   table<chartevents> [?? x 15]\n",
       "# Database: postgres 9.5.7 [datathon@localhost:5432/mimic]\n",
       "     row_id subject_id hadm_id icustay_id itemid           charttime\n",
       "      <int>      <int>   <int>      <int>  <int>              <dttm>\n",
       " 1 34308321          3  145834     211552    128 2101-10-25 04:00:00\n",
       " 2 34308322          3  145834     211552    159 2101-10-25 04:00:00\n",
       " 3 34308323          3  145834     211552    161 2101-10-25 04:00:00\n",
       " 4 34309354          4  185777     294638     84 2191-03-16 08:00:00\n",
       " 5 34309355          4  185777     294638     85 2191-03-16 08:00:00\n",
       " 6 34309356          4  185777     294638     86 2191-03-16 08:00:00\n",
       " 7 34309357          4  185777     294638     87 2191-03-16 08:00:00\n",
       " 8 34309358          4  185777     294638     88 2191-03-16 08:00:00\n",
       " 9 34309359          4  185777     294638    139 2191-03-16 08:00:00\n",
       "10 34309360          4  185777     294638    154 2191-03-16 08:00:00\n",
       "# ... with more rows, and 9 more variables: storetime <dttm>, cgid <int>,\n",
       "#   value <chr>, valuenum <dbl>, valueuom <chr>, warning <int>, error <int>,\n",
       "#   resultstatus <chr>, stopped <chr>"
      ]
     },
     "metadata": {},
     "output_type": "display_data"
    }
   ],
   "source": [
    "chartevents"
   ]
  },
  {
   "cell_type": "code",
   "execution_count": 27,
   "metadata": {},
   "outputs": [
    {
     "data": {
      "text/plain": [
       "<PostgreSQLResult>"
      ]
     },
     "metadata": {},
     "output_type": "display_data"
    }
   ],
   "source": [
    "dbSendQuery(con, 'set search_path to public, mimiciii')\n",
    "\n",
    "oxy_params = dbGetQuery(con, \"select icustay_id, charttime, fio2, o2flow, lactate, tidalvolume, ventilationrate, ventilator, intubated from oxy_params\")"
   ]
  },
  {
   "cell_type": "code",
   "execution_count": null,
   "metadata": {
    "collapsed": true
   },
   "outputs": [],
   "source": [
    "full.table  <-  read.csv('/Data/common/for_kiesha/Ventilator_final_table_demo_mort_vent.csv')"
   ]
  },
  {
   "cell_type": "code",
   "execution_count": 34,
   "metadata": {},
   "outputs": [],
   "source": [
    "write.table(oxy_params, '/Data/common/oxyparam.csv', row.names=F, sep=',')"
   ]
  }
 ],
 "metadata": {
  "kernelspec": {
   "display_name": "R",
   "language": "R",
   "name": "ir"
  },
  "language_info": {
   "codemirror_mode": "r",
   "file_extension": ".r",
   "mimetype": "text/x-r-source",
   "name": "R",
   "pygments_lexer": "r",
   "version": "3.4.0"
  }
 },
 "nbformat": 4,
 "nbformat_minor": 2
}
