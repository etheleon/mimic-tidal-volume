{
 "cells": [
  {
   "cell_type": "code",
   "execution_count": 1,
   "metadata": {},
   "outputs": [
    {
     "name": "stderr",
     "output_type": "stream",
     "text": [
      "Loading tidyverse: ggplot2\n",
      "Loading tidyverse: tibble\n",
      "Loading tidyverse: tidyr\n",
      "Loading tidyverse: readr\n",
      "Loading tidyverse: purrr\n",
      "Loading tidyverse: dplyr\n",
      "Conflicts with tidy packages ---------------------------------------------------\n",
      "filter(): dplyr, stats\n",
      "lag():    dplyr, stats\n",
      "Loading required package: DBI\n",
      "\n",
      "Attaching package: ‘lubridate’\n",
      "\n",
      "The following object is masked from ‘package:base’:\n",
      "\n",
      "    date\n",
      "\n"
     ]
    }
   ],
   "source": [
    "library(tidyverse)\n",
    "library(RPostgreSQL)\n",
    "library(lubridate)"
   ]
  },
  {
   "cell_type": "code",
   "execution_count": 2,
   "metadata": {
    "collapsed": true
   },
   "outputs": [],
   "source": [
    "drv <- dbDriver(\"PostgreSQL\")"
   ]
  },
  {
   "cell_type": "code",
   "execution_count": 3,
   "metadata": {
    "collapsed": true
   },
   "outputs": [],
   "source": [
    "user <- pw <- \"datathon\"\n",
    "dbname <- \"mimic\""
   ]
  },
  {
   "cell_type": "code",
   "execution_count": 4,
   "metadata": {
    "collapsed": true
   },
   "outputs": [],
   "source": [
    "con <- dbConnect(drv, dbname = dbname, user = user, password = pw)"
   ]
  },
  {
   "cell_type": "code",
   "execution_count": 5,
   "metadata": {},
   "outputs": [
    {
     "data": {
      "text/html": [
       "<table>\n",
       "<thead><tr><th scope=col>subject_id</th><th scope=col>hadm_id</th><th scope=col>icustay_id</th></tr></thead>\n",
       "<tbody>\n",
       "\t<tr><td>2     </td><td>163353</td><td>243653</td></tr>\n",
       "\t<tr><td>3     </td><td>145834</td><td>211552</td></tr>\n",
       "\t<tr><td>4     </td><td>185777</td><td>294638</td></tr>\n",
       "\t<tr><td>5     </td><td>178980</td><td>214757</td></tr>\n",
       "\t<tr><td>6     </td><td>107064</td><td>228232</td></tr>\n",
       "\t<tr><td>7     </td><td>118037</td><td>278444</td></tr>\n",
       "</tbody>\n",
       "</table>\n"
      ],
      "text/latex": [
       "\\begin{tabular}{r|lll}\n",
       " subject\\_id & hadm\\_id & icustay\\_id\\\\\n",
       "\\hline\n",
       "\t 2      & 163353 & 243653\\\\\n",
       "\t 3      & 145834 & 211552\\\\\n",
       "\t 4      & 185777 & 294638\\\\\n",
       "\t 5      & 178980 & 214757\\\\\n",
       "\t 6      & 107064 & 228232\\\\\n",
       "\t 7      & 118037 & 278444\\\\\n",
       "\\end{tabular}\n"
      ],
      "text/markdown": [
       "\n",
       "subject_id | hadm_id | icustay_id | \n",
       "|---|---|---|---|---|---|\n",
       "| 2      | 163353 | 243653 | \n",
       "| 3      | 145834 | 211552 | \n",
       "| 4      | 185777 | 294638 | \n",
       "| 5      | 178980 | 214757 | \n",
       "| 6      | 107064 | 228232 | \n",
       "| 7      | 118037 | 278444 | \n",
       "\n",
       "\n"
      ],
      "text/plain": [
       "  subject_id hadm_id icustay_id\n",
       "1 2          163353  243653    \n",
       "2 3          145834  211552    \n",
       "3 4          185777  294638    \n",
       "4 5          178980  214757    \n",
       "5 6          107064  228232    \n",
       "6 7          118037  278444    "
      ]
     },
     "metadata": {},
     "output_type": "display_data"
    }
   ],
   "source": [
    "que <- \"\n",
    "    SELECT subject_id, hadm_id, icustay_id FROM (SELECT *,\n",
    "        MIN(intime) over (PARTITION BY subject_id) AS first\n",
    "        FROM icustays) AS icu\n",
    "    WHERE intime = first;\n",
    "\"\n",
    "quedf <- dbGetQuery(con, que)\n",
    "head(quedf)"
   ]
  },
  {
   "cell_type": "code",
   "execution_count": 7,
   "metadata": {},
   "outputs": [],
   "source": [
    "data.table::fwrite(quedf, \"/Data/common/first_icu_id.csv\")"
   ]
  },
  {
   "cell_type": "code",
   "execution_count": null,
   "metadata": {
    "collapsed": true
   },
   "outputs": [],
   "source": []
  }
 ],
 "metadata": {
  "kernelspec": {
   "display_name": "R",
   "language": "R",
   "name": "ir"
  },
  "language_info": {
   "codemirror_mode": "r",
   "file_extension": ".r",
   "mimetype": "text/x-r-source",
   "name": "R",
   "pygments_lexer": "r",
   "version": "3.4.0"
  }
 },
 "nbformat": 4,
 "nbformat_minor": 2
}
