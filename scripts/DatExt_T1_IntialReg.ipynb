{
 "cells": [
  {
   "cell_type": "code",
   "execution_count": 9,
   "metadata": {
    "collapsed": true
   },
   "outputs": [],
   "source": [
    "library(RPostgreSQL)\n",
    "\n",
    "drv <- dbDriver(\"PostgreSQL\")\n",
    "con <- dbConnect(drv, dbname = \"mimic\",\n",
    "                 host = \"localhost\", port = 5432,\n",
    "                 user = \"datathon\", password = \"datathon\")"
   ]
  },
  {
   "cell_type": "code",
   "execution_count": 10,
   "metadata": {},
   "outputs": [
    {
     "data": {
      "text/html": [
       "<ol class=list-inline>\n",
       "\t<li>'chartevents_12'</li>\n",
       "\t<li>'d_icd_diagnoses'</li>\n",
       "\t<li>'d_labitems'</li>\n",
       "\t<li>'procedureevents_mv'</li>\n",
       "\t<li>'procedures_icd'</li>\n",
       "\t<li>'ventdurations'</li>\n",
       "\t<li>'crrtdurations'</li>\n",
       "\t<li>'admissions'</li>\n",
       "\t<li>'callout'</li>\n",
       "\t<li>'caregivers'</li>\n",
       "\t<li>'chartevents'</li>\n",
       "\t<li>'chartevents_1'</li>\n",
       "\t<li>'chartevents_10'</li>\n",
       "\t<li>'chartevents_11'</li>\n",
       "\t<li>'chartevents_13'</li>\n",
       "\t<li>'chartevents_14'</li>\n",
       "\t<li>'chartevents_2'</li>\n",
       "\t<li>'chartevents_3'</li>\n",
       "\t<li>'chartevents_4'</li>\n",
       "\t<li>'chartevents_5'</li>\n",
       "\t<li>'chartevents_6'</li>\n",
       "\t<li>'chartevents_7'</li>\n",
       "\t<li>'chartevents_8'</li>\n",
       "\t<li>'chartevents_9'</li>\n",
       "\t<li>'cptevents'</li>\n",
       "\t<li>'d_cpt'</li>\n",
       "\t<li>'d_icd_procedures'</li>\n",
       "\t<li>'d_items'</li>\n",
       "\t<li>'datetimeevents'</li>\n",
       "\t<li>'diagnoses_icd'</li>\n",
       "\t<li>'drgcodes'</li>\n",
       "\t<li>'icustays'</li>\n",
       "\t<li>'inputevents_cv'</li>\n",
       "\t<li>'inputevents_mv'</li>\n",
       "\t<li>'labevents'</li>\n",
       "\t<li>'microbiologyevents'</li>\n",
       "\t<li>'noteevents'</li>\n",
       "\t<li>'outputevents'</li>\n",
       "\t<li>'patients'</li>\n",
       "\t<li>'prescriptions'</li>\n",
       "\t<li>'services'</li>\n",
       "\t<li>'transfers'</li>\n",
       "\t<li>'ccs_single_level_dx'</li>\n",
       "\t<li>'ccs_multi_level_dx'</li>\n",
       "</ol>\n"
      ],
      "text/latex": [
       "\\begin{enumerate*}\n",
       "\\item 'chartevents\\_12'\n",
       "\\item 'd\\_icd\\_diagnoses'\n",
       "\\item 'd\\_labitems'\n",
       "\\item 'procedureevents\\_mv'\n",
       "\\item 'procedures\\_icd'\n",
       "\\item 'ventdurations'\n",
       "\\item 'crrtdurations'\n",
       "\\item 'admissions'\n",
       "\\item 'callout'\n",
       "\\item 'caregivers'\n",
       "\\item 'chartevents'\n",
       "\\item 'chartevents\\_1'\n",
       "\\item 'chartevents\\_10'\n",
       "\\item 'chartevents\\_11'\n",
       "\\item 'chartevents\\_13'\n",
       "\\item 'chartevents\\_14'\n",
       "\\item 'chartevents\\_2'\n",
       "\\item 'chartevents\\_3'\n",
       "\\item 'chartevents\\_4'\n",
       "\\item 'chartevents\\_5'\n",
       "\\item 'chartevents\\_6'\n",
       "\\item 'chartevents\\_7'\n",
       "\\item 'chartevents\\_8'\n",
       "\\item 'chartevents\\_9'\n",
       "\\item 'cptevents'\n",
       "\\item 'd\\_cpt'\n",
       "\\item 'd\\_icd\\_procedures'\n",
       "\\item 'd\\_items'\n",
       "\\item 'datetimeevents'\n",
       "\\item 'diagnoses\\_icd'\n",
       "\\item 'drgcodes'\n",
       "\\item 'icustays'\n",
       "\\item 'inputevents\\_cv'\n",
       "\\item 'inputevents\\_mv'\n",
       "\\item 'labevents'\n",
       "\\item 'microbiologyevents'\n",
       "\\item 'noteevents'\n",
       "\\item 'outputevents'\n",
       "\\item 'patients'\n",
       "\\item 'prescriptions'\n",
       "\\item 'services'\n",
       "\\item 'transfers'\n",
       "\\item 'ccs\\_single\\_level\\_dx'\n",
       "\\item 'ccs\\_multi\\_level\\_dx'\n",
       "\\end{enumerate*}\n"
      ],
      "text/markdown": [
       "1. 'chartevents_12'\n",
       "2. 'd_icd_diagnoses'\n",
       "3. 'd_labitems'\n",
       "4. 'procedureevents_mv'\n",
       "5. 'procedures_icd'\n",
       "6. 'ventdurations'\n",
       "7. 'crrtdurations'\n",
       "8. 'admissions'\n",
       "9. 'callout'\n",
       "10. 'caregivers'\n",
       "11. 'chartevents'\n",
       "12. 'chartevents_1'\n",
       "13. 'chartevents_10'\n",
       "14. 'chartevents_11'\n",
       "15. 'chartevents_13'\n",
       "16. 'chartevents_14'\n",
       "17. 'chartevents_2'\n",
       "18. 'chartevents_3'\n",
       "19. 'chartevents_4'\n",
       "20. 'chartevents_5'\n",
       "21. 'chartevents_6'\n",
       "22. 'chartevents_7'\n",
       "23. 'chartevents_8'\n",
       "24. 'chartevents_9'\n",
       "25. 'cptevents'\n",
       "26. 'd_cpt'\n",
       "27. 'd_icd_procedures'\n",
       "28. 'd_items'\n",
       "29. 'datetimeevents'\n",
       "30. 'diagnoses_icd'\n",
       "31. 'drgcodes'\n",
       "32. 'icustays'\n",
       "33. 'inputevents_cv'\n",
       "34. 'inputevents_mv'\n",
       "35. 'labevents'\n",
       "36. 'microbiologyevents'\n",
       "37. 'noteevents'\n",
       "38. 'outputevents'\n",
       "39. 'patients'\n",
       "40. 'prescriptions'\n",
       "41. 'services'\n",
       "42. 'transfers'\n",
       "43. 'ccs_single_level_dx'\n",
       "44. 'ccs_multi_level_dx'\n",
       "\n",
       "\n"
      ],
      "text/plain": [
       " [1] \"chartevents_12\"      \"d_icd_diagnoses\"     \"d_labitems\"         \n",
       " [4] \"procedureevents_mv\"  \"procedures_icd\"      \"ventdurations\"      \n",
       " [7] \"crrtdurations\"       \"admissions\"          \"callout\"            \n",
       "[10] \"caregivers\"          \"chartevents\"         \"chartevents_1\"      \n",
       "[13] \"chartevents_10\"      \"chartevents_11\"      \"chartevents_13\"     \n",
       "[16] \"chartevents_14\"      \"chartevents_2\"       \"chartevents_3\"      \n",
       "[19] \"chartevents_4\"       \"chartevents_5\"       \"chartevents_6\"      \n",
       "[22] \"chartevents_7\"       \"chartevents_8\"       \"chartevents_9\"      \n",
       "[25] \"cptevents\"           \"d_cpt\"               \"d_icd_procedures\"   \n",
       "[28] \"d_items\"             \"datetimeevents\"      \"diagnoses_icd\"      \n",
       "[31] \"drgcodes\"            \"icustays\"            \"inputevents_cv\"     \n",
       "[34] \"inputevents_mv\"      \"labevents\"           \"microbiologyevents\" \n",
       "[37] \"noteevents\"          \"outputevents\"        \"patients\"           \n",
       "[40] \"prescriptions\"       \"services\"            \"transfers\"          \n",
       "[43] \"ccs_single_level_dx\" \"ccs_multi_level_dx\" "
      ]
     },
     "metadata": {},
     "output_type": "display_data"
    }
   ],
   "source": [
    "dbListTables(con)"
   ]
  },
  {
   "cell_type": "code",
   "execution_count": 44,
   "metadata": {},
   "outputs": [
    {
     "name": "stderr",
     "output_type": "stream",
     "text": [
      "Warning message in postgresqlQuickSQL(conn, statement, ...):\n",
      "“Could not create execute/dmv”"
     ]
    },
    {
     "data": {
      "text/plain": [
       "NULL"
      ]
     },
     "metadata": {},
     "output_type": "display_data"
    }
   ],
   "source": [
    "dbGetQuery(con, \"/dmv\")"
   ]
  },
  {
   "cell_type": "code",
   "execution_count": 41,
   "metadata": {},
   "outputs": [
    {
     "data": {
      "text/html": [
       "<table>\n",
       "<thead><tr><th scope=col>icustay_id</th><th scope=col>ventnum</th><th scope=col>starttime</th><th scope=col>endtime</th><th scope=col>duration_hours</th></tr></thead>\n",
       "<tbody>\n",
       "\t<tr><td>200003             </td><td>1                  </td><td>2199-08-03 18:00:00</td><td>2199-08-07 13:00:00</td><td>91.00000           </td></tr>\n",
       "\t<tr><td>200006             </td><td>1                  </td><td>2159-09-03 13:00:00</td><td>2159-09-04 03:50:00</td><td>14.83333           </td></tr>\n",
       "\t<tr><td>200009             </td><td>1                  </td><td>2189-11-30 18:10:00</td><td>2189-12-01 10:00:00</td><td>15.83333           </td></tr>\n",
       "\t<tr><td>200011             </td><td>1                  </td><td>2188-08-06 01:00:00</td><td>2188-08-06 04:00:00</td><td> 3.00000           </td></tr>\n",
       "\t<tr><td>200014             </td><td>1                  </td><td>2105-02-16 23:15:00</td><td>2105-02-17 18:00:00</td><td>18.75000           </td></tr>\n",
       "\t<tr><td>200017             </td><td>1                  </td><td>2138-03-17 22:00:00</td><td>2138-03-21 09:00:00</td><td>83.00000           </td></tr>\n",
       "</tbody>\n",
       "</table>\n"
      ],
      "text/latex": [
       "\\begin{tabular}{r|lllll}\n",
       " icustay\\_id & ventnum & starttime & endtime & duration\\_hours\\\\\n",
       "\\hline\n",
       "\t 200003              & 1                   & 2199-08-03 18:00:00 & 2199-08-07 13:00:00 & 91.00000           \\\\\n",
       "\t 200006              & 1                   & 2159-09-03 13:00:00 & 2159-09-04 03:50:00 & 14.83333           \\\\\n",
       "\t 200009              & 1                   & 2189-11-30 18:10:00 & 2189-12-01 10:00:00 & 15.83333           \\\\\n",
       "\t 200011              & 1                   & 2188-08-06 01:00:00 & 2188-08-06 04:00:00 &  3.00000           \\\\\n",
       "\t 200014              & 1                   & 2105-02-16 23:15:00 & 2105-02-17 18:00:00 & 18.75000           \\\\\n",
       "\t 200017              & 1                   & 2138-03-17 22:00:00 & 2138-03-21 09:00:00 & 83.00000           \\\\\n",
       "\\end{tabular}\n"
      ],
      "text/markdown": [
       "\n",
       "icustay_id | ventnum | starttime | endtime | duration_hours | \n",
       "|---|---|---|---|---|---|\n",
       "| 200003              | 1                   | 2199-08-03 18:00:00 | 2199-08-07 13:00:00 | 91.00000            | \n",
       "| 200006              | 1                   | 2159-09-03 13:00:00 | 2159-09-04 03:50:00 | 14.83333            | \n",
       "| 200009              | 1                   | 2189-11-30 18:10:00 | 2189-12-01 10:00:00 | 15.83333            | \n",
       "| 200011              | 1                   | 2188-08-06 01:00:00 | 2188-08-06 04:00:00 |  3.00000            | \n",
       "| 200014              | 1                   | 2105-02-16 23:15:00 | 2105-02-17 18:00:00 | 18.75000            | \n",
       "| 200017              | 1                   | 2138-03-17 22:00:00 | 2138-03-21 09:00:00 | 83.00000            | \n",
       "\n",
       "\n"
      ],
      "text/plain": [
       "  icustay_id ventnum starttime           endtime             duration_hours\n",
       "1 200003     1       2199-08-03 18:00:00 2199-08-07 13:00:00 91.00000      \n",
       "2 200006     1       2159-09-03 13:00:00 2159-09-04 03:50:00 14.83333      \n",
       "3 200009     1       2189-11-30 18:10:00 2189-12-01 10:00:00 15.83333      \n",
       "4 200011     1       2188-08-06 01:00:00 2188-08-06 04:00:00  3.00000      \n",
       "5 200014     1       2105-02-16 23:15:00 2105-02-17 18:00:00 18.75000      \n",
       "6 200017     1       2138-03-17 22:00:00 2138-03-21 09:00:00 83.00000      "
      ]
     },
     "metadata": {},
     "output_type": "display_data"
    }
   ],
   "source": [
    "vent = dbGetQuery(con, \"select * from ventdurations where icustay_id < 200100\")\n",
    "head(vent)"
   ]
  },
  {
   "cell_type": "code",
   "execution_count": 53,
   "metadata": {
    "scrolled": true
   },
   "outputs": [
    {
     "data": {
      "text/html": [
       "<table>\n",
       "<thead><tr><th scope=col>intubated</th></tr></thead>\n",
       "<tbody>\n",
       "\t<tr><td>NA</td></tr>\n",
       "\t<tr><td>NA</td></tr>\n",
       "\t<tr><td>NA</td></tr>\n",
       "\t<tr><td>NA</td></tr>\n",
       "\t<tr><td>NA</td></tr>\n",
       "\t<tr><td>NA</td></tr>\n",
       "</tbody>\n",
       "</table>\n"
      ],
      "text/latex": [
       "\\begin{tabular}{r|l}\n",
       " intubated\\\\\n",
       "\\hline\n",
       "\t NA\\\\\n",
       "\t NA\\\\\n",
       "\t NA\\\\\n",
       "\t NA\\\\\n",
       "\t NA\\\\\n",
       "\t NA\\\\\n",
       "\\end{tabular}\n"
      ],
      "text/markdown": [
       "\n",
       "intubated | \n",
       "|---|---|---|---|---|---|\n",
       "| NA | \n",
       "| NA | \n",
       "| NA | \n",
       "| NA | \n",
       "| NA | \n",
       "| NA | \n",
       "\n",
       "\n"
      ],
      "text/plain": [
       "  intubated\n",
       "1 NA       \n",
       "2 NA       \n",
       "3 NA       \n",
       "4 NA       \n",
       "5 NA       \n",
       "6 NA       "
      ]
     },
     "metadata": {},
     "output_type": "display_data"
    }
   ],
   "source": [
    "intubated = dbGetQuery(con, \"select intubated from oxy_params\")\n",
    "head(intubated)"
   ]
  },
  {
   "cell_type": "code",
   "execution_count": 77,
   "metadata": {},
   "outputs": [
    {
     "data": {
      "text/html": [
       "<table>\n",
       "<thead><tr><th scope=col>icustay_id</th><th scope=col>charttime</th><th scope=col>specimen_pred</th><th scope=col>pao2fio2</th><th scope=col>peep</th></tr></thead>\n",
       "<tbody>\n",
       "\t<tr><td>200001             </td><td>2181-11-25 19:27:00</td><td>ART                </td><td>      NA           </td><td>NA                 </td></tr>\n",
       "\t<tr><td>200001             </td><td>2181-11-26 11:07:00</td><td>ART                </td><td>      NA           </td><td>NA                 </td></tr>\n",
       "\t<tr><td>200001             </td><td>2181-11-26 17:44:00</td><td>ART                </td><td>      NA           </td><td>NA                 </td></tr>\n",
       "\t<tr><td>200001             </td><td>2181-11-26 18:56:00</td><td>ART                </td><td>      NA           </td><td>NA                 </td></tr>\n",
       "\t<tr><td>200001             </td><td>2181-11-27 01:26:00</td><td>ART                </td><td>      NA           </td><td>NA                 </td></tr>\n",
       "\t<tr><td>200001             </td><td>2181-11-27 12:24:00</td><td>ART                </td><td>      NA           </td><td>NA                 </td></tr>\n",
       "\t<tr><td>200001             </td><td>2181-11-28 12:45:00</td><td>ART                </td><td>      NA           </td><td>NA                 </td></tr>\n",
       "\t<tr><td>200003             </td><td>2199-08-03 01:55:00</td><td>ART                </td><td> 88.0000           </td><td>NA                 </td></tr>\n",
       "\t<tr><td>200003             </td><td>2199-08-03 03:42:00</td><td>ART                </td><td> 94.0000           </td><td>NA                 </td></tr>\n",
       "\t<tr><td>200003             </td><td>2199-08-03 10:49:00</td><td>ART                </td><td>216.0000           </td><td>NA                 </td></tr>\n",
       "\t<tr><td>200003             </td><td>2199-08-03 17:52:00</td><td>ART                </td><td>      NA           </td><td>NA                 </td></tr>\n",
       "\t<tr><td>200003             </td><td>2199-08-03 18:40:00</td><td>ART                </td><td>163.0000           </td><td> 5                 </td></tr>\n",
       "\t<tr><td>200003             </td><td>2199-08-03 20:13:00</td><td>ART                </td><td>241.4286           </td><td>10                 </td></tr>\n",
       "\t<tr><td>200003             </td><td>2199-08-03 23:20:00</td><td>ART                </td><td>214.0000           </td><td>10                 </td></tr>\n",
       "\t<tr><td>200003             </td><td>2199-08-04 01:33:00</td><td>ART                </td><td>250.0000           </td><td>10                 </td></tr>\n",
       "\t<tr><td>200003             </td><td>2199-08-04 05:40:00</td><td>ART                </td><td>375.0000           </td><td> 8                 </td></tr>\n",
       "\t<tr><td>200003             </td><td>2199-08-04 12:06:00</td><td>ART                </td><td>310.0000           </td><td> 5                 </td></tr>\n",
       "\t<tr><td>200003             </td><td>2199-08-05 02:46:00</td><td>ART                </td><td>262.5000           </td><td>NA                 </td></tr>\n",
       "\t<tr><td>200003             </td><td>2199-08-05 11:15:00</td><td>ART                </td><td>247.5000           </td><td>NA                 </td></tr>\n",
       "\t<tr><td>200003             </td><td>2199-08-05 21:12:00</td><td>ART                </td><td>247.5000           </td><td>NA                 </td></tr>\n",
       "\t<tr><td>200003             </td><td>2199-08-06 02:20:00</td><td>ART                </td><td>175.0000           </td><td>NA                 </td></tr>\n",
       "\t<tr><td>200003             </td><td>2199-08-07 02:07:00</td><td>ART                </td><td>207.5000           </td><td>NA                 </td></tr>\n",
       "\t<tr><td>200003             </td><td>2199-08-07 14:16:00</td><td>ART                </td><td>144.2857           </td><td>NA                 </td></tr>\n",
       "\t<tr><td>200003             </td><td>2199-08-07 19:54:00</td><td>ART                </td><td>      NA           </td><td>NA                 </td></tr>\n",
       "\t<tr><td>200007             </td><td>2109-02-18 13:17:00</td><td>ART                </td><td>      NA           </td><td>NA                 </td></tr>\n",
       "\t<tr><td>200009             </td><td>2189-11-30 11:43:00</td><td>ART                </td><td>      NA           </td><td>NA                 </td></tr>\n",
       "\t<tr><td>200009             </td><td>2189-11-30 14:16:00</td><td>ART                </td><td>      NA           </td><td>NA                 </td></tr>\n",
       "\t<tr><td>200009             </td><td>2189-11-30 14:55:00</td><td>ART                </td><td>      NA           </td><td>NA                 </td></tr>\n",
       "\t<tr><td>200009             </td><td>2189-11-30 15:53:00</td><td>ART                </td><td>      NA           </td><td>NA                 </td></tr>\n",
       "\t<tr><td>200009             </td><td>2189-11-30 16:24:00</td><td>ART                </td><td>      NA           </td><td>NA                 </td></tr>\n",
       "\t<tr><td>200009             </td><td>2189-11-30 18:44:00</td><td>ART                </td><td>358.0000           </td><td> 5                 </td></tr>\n",
       "\t<tr><td>200009             </td><td>2189-11-30 22:30:00</td><td>ART                </td><td>322.5000           </td><td> 5                 </td></tr>\n",
       "\t<tr><td>200009             </td><td>2189-12-01 07:56:00</td><td>ART                </td><td>797.5000           </td><td> 5                 </td></tr>\n",
       "\t<tr><td>200009             </td><td>2189-12-01 09:11:00</td><td>ART                </td><td>      NA           </td><td>NA                 </td></tr>\n",
       "\t<tr><td>200009             </td><td>2189-12-01 10:37:00</td><td>ART                </td><td>277.1429           </td><td> 5                 </td></tr>\n",
       "\t<tr><td>200009             </td><td>2189-12-01 12:06:00</td><td>ART                </td><td>300.0000           </td><td> 5                 </td></tr>\n",
       "\t<tr><td>200011             </td><td>2188-08-06 02:09:00</td><td>ART                </td><td>266.6667           </td><td> 5                 </td></tr>\n",
       "\t<tr><td>200011             </td><td>2188-08-06 15:42:00</td><td>ART                </td><td>      NA           </td><td>NA                 </td></tr>\n",
       "\t<tr><td>200014             </td><td>2105-02-17 01:08:00</td><td>ART                </td><td>447.5000           </td><td> 5                 </td></tr>\n",
       "\t<tr><td>200014             </td><td>2105-02-17 04:35:00</td><td>ART                </td><td>457.5000           </td><td> 5                 </td></tr>\n",
       "\t<tr><td>200014             </td><td>2105-02-17 11:18:00</td><td>ART                </td><td>355.0000           </td><td> 5                 </td></tr>\n",
       "\t<tr><td>200014             </td><td>2105-02-17 15:28:00</td><td>ART                </td><td>387.5000           </td><td> 5                 </td></tr>\n",
       "\t<tr><td>200014             </td><td>2105-02-17 17:11:00</td><td>ART                </td><td>342.8571           </td><td> 5                 </td></tr>\n",
       "\t<tr><td>200014             </td><td>2105-02-17 20:53:00</td><td>ART                </td><td>      NA           </td><td> 5                 </td></tr>\n",
       "\t<tr><td>200014             </td><td>2105-02-18 04:01:00</td><td>ART                </td><td>      NA           </td><td>NA                 </td></tr>\n",
       "\t<tr><td>200019             </td><td>2178-07-08 10:08:00</td><td>ART                </td><td>832.0000           </td><td> 5                 </td></tr>\n",
       "\t<tr><td>200019             </td><td>2178-07-10 05:28:00</td><td>ART                </td><td>188.0000           </td><td>NA                 </td></tr>\n",
       "\t<tr><td>200021             </td><td>2114-12-26 21:23:00</td><td>ART                </td><td>367.0000           </td><td> 5                 </td></tr>\n",
       "\t<tr><td>200021             </td><td>2114-12-27 03:28:00</td><td>ART                </td><td>436.0000           </td><td> 5                 </td></tr>\n",
       "\t<tr><td>200024             </td><td>2127-03-03 17:27:00</td><td>ART                </td><td>397.5000           </td><td> 5                 </td></tr>\n",
       "</tbody>\n",
       "</table>\n"
      ],
      "text/latex": [
       "\\begin{tabular}{r|lllll}\n",
       " icustay\\_id & charttime & specimen\\_pred & pao2fio2 & peep\\\\\n",
       "\\hline\n",
       "\t 200001              & 2181-11-25 19:27:00 & ART                 &       NA            & NA                 \\\\\n",
       "\t 200001              & 2181-11-26 11:07:00 & ART                 &       NA            & NA                 \\\\\n",
       "\t 200001              & 2181-11-26 17:44:00 & ART                 &       NA            & NA                 \\\\\n",
       "\t 200001              & 2181-11-26 18:56:00 & ART                 &       NA            & NA                 \\\\\n",
       "\t 200001              & 2181-11-27 01:26:00 & ART                 &       NA            & NA                 \\\\\n",
       "\t 200001              & 2181-11-27 12:24:00 & ART                 &       NA            & NA                 \\\\\n",
       "\t 200001              & 2181-11-28 12:45:00 & ART                 &       NA            & NA                 \\\\\n",
       "\t 200003              & 2199-08-03 01:55:00 & ART                 &  88.0000            & NA                 \\\\\n",
       "\t 200003              & 2199-08-03 03:42:00 & ART                 &  94.0000            & NA                 \\\\\n",
       "\t 200003              & 2199-08-03 10:49:00 & ART                 & 216.0000            & NA                 \\\\\n",
       "\t 200003              & 2199-08-03 17:52:00 & ART                 &       NA            & NA                 \\\\\n",
       "\t 200003              & 2199-08-03 18:40:00 & ART                 & 163.0000            &  5                 \\\\\n",
       "\t 200003              & 2199-08-03 20:13:00 & ART                 & 241.4286            & 10                 \\\\\n",
       "\t 200003              & 2199-08-03 23:20:00 & ART                 & 214.0000            & 10                 \\\\\n",
       "\t 200003              & 2199-08-04 01:33:00 & ART                 & 250.0000            & 10                 \\\\\n",
       "\t 200003              & 2199-08-04 05:40:00 & ART                 & 375.0000            &  8                 \\\\\n",
       "\t 200003              & 2199-08-04 12:06:00 & ART                 & 310.0000            &  5                 \\\\\n",
       "\t 200003              & 2199-08-05 02:46:00 & ART                 & 262.5000            & NA                 \\\\\n",
       "\t 200003              & 2199-08-05 11:15:00 & ART                 & 247.5000            & NA                 \\\\\n",
       "\t 200003              & 2199-08-05 21:12:00 & ART                 & 247.5000            & NA                 \\\\\n",
       "\t 200003              & 2199-08-06 02:20:00 & ART                 & 175.0000            & NA                 \\\\\n",
       "\t 200003              & 2199-08-07 02:07:00 & ART                 & 207.5000            & NA                 \\\\\n",
       "\t 200003              & 2199-08-07 14:16:00 & ART                 & 144.2857            & NA                 \\\\\n",
       "\t 200003              & 2199-08-07 19:54:00 & ART                 &       NA            & NA                 \\\\\n",
       "\t 200007              & 2109-02-18 13:17:00 & ART                 &       NA            & NA                 \\\\\n",
       "\t 200009              & 2189-11-30 11:43:00 & ART                 &       NA            & NA                 \\\\\n",
       "\t 200009              & 2189-11-30 14:16:00 & ART                 &       NA            & NA                 \\\\\n",
       "\t 200009              & 2189-11-30 14:55:00 & ART                 &       NA            & NA                 \\\\\n",
       "\t 200009              & 2189-11-30 15:53:00 & ART                 &       NA            & NA                 \\\\\n",
       "\t 200009              & 2189-11-30 16:24:00 & ART                 &       NA            & NA                 \\\\\n",
       "\t 200009              & 2189-11-30 18:44:00 & ART                 & 358.0000            &  5                 \\\\\n",
       "\t 200009              & 2189-11-30 22:30:00 & ART                 & 322.5000            &  5                 \\\\\n",
       "\t 200009              & 2189-12-01 07:56:00 & ART                 & 797.5000            &  5                 \\\\\n",
       "\t 200009              & 2189-12-01 09:11:00 & ART                 &       NA            & NA                 \\\\\n",
       "\t 200009              & 2189-12-01 10:37:00 & ART                 & 277.1429            &  5                 \\\\\n",
       "\t 200009              & 2189-12-01 12:06:00 & ART                 & 300.0000            &  5                 \\\\\n",
       "\t 200011              & 2188-08-06 02:09:00 & ART                 & 266.6667            &  5                 \\\\\n",
       "\t 200011              & 2188-08-06 15:42:00 & ART                 &       NA            & NA                 \\\\\n",
       "\t 200014              & 2105-02-17 01:08:00 & ART                 & 447.5000            &  5                 \\\\\n",
       "\t 200014              & 2105-02-17 04:35:00 & ART                 & 457.5000            &  5                 \\\\\n",
       "\t 200014              & 2105-02-17 11:18:00 & ART                 & 355.0000            &  5                 \\\\\n",
       "\t 200014              & 2105-02-17 15:28:00 & ART                 & 387.5000            &  5                 \\\\\n",
       "\t 200014              & 2105-02-17 17:11:00 & ART                 & 342.8571            &  5                 \\\\\n",
       "\t 200014              & 2105-02-17 20:53:00 & ART                 &       NA            &  5                 \\\\\n",
       "\t 200014              & 2105-02-18 04:01:00 & ART                 &       NA            & NA                 \\\\\n",
       "\t 200019              & 2178-07-08 10:08:00 & ART                 & 832.0000            &  5                 \\\\\n",
       "\t 200019              & 2178-07-10 05:28:00 & ART                 & 188.0000            & NA                 \\\\\n",
       "\t 200021              & 2114-12-26 21:23:00 & ART                 & 367.0000            &  5                 \\\\\n",
       "\t 200021              & 2114-12-27 03:28:00 & ART                 & 436.0000            &  5                 \\\\\n",
       "\t 200024              & 2127-03-03 17:27:00 & ART                 & 397.5000            &  5                 \\\\\n",
       "\\end{tabular}\n"
      ],
      "text/markdown": [
       "\n",
       "icustay_id | charttime | specimen_pred | pao2fio2 | peep | \n",
       "|---|---|---|---|---|---|---|---|---|---|---|---|---|---|---|---|---|---|---|---|---|---|---|---|---|---|---|---|---|---|---|---|---|---|---|---|---|---|---|---|---|---|---|---|---|---|---|---|---|---|\n",
       "| 200001              | 2181-11-25 19:27:00 | ART                 |       NA            | NA                  | \n",
       "| 200001              | 2181-11-26 11:07:00 | ART                 |       NA            | NA                  | \n",
       "| 200001              | 2181-11-26 17:44:00 | ART                 |       NA            | NA                  | \n",
       "| 200001              | 2181-11-26 18:56:00 | ART                 |       NA            | NA                  | \n",
       "| 200001              | 2181-11-27 01:26:00 | ART                 |       NA            | NA                  | \n",
       "| 200001              | 2181-11-27 12:24:00 | ART                 |       NA            | NA                  | \n",
       "| 200001              | 2181-11-28 12:45:00 | ART                 |       NA            | NA                  | \n",
       "| 200003              | 2199-08-03 01:55:00 | ART                 |  88.0000            | NA                  | \n",
       "| 200003              | 2199-08-03 03:42:00 | ART                 |  94.0000            | NA                  | \n",
       "| 200003              | 2199-08-03 10:49:00 | ART                 | 216.0000            | NA                  | \n",
       "| 200003              | 2199-08-03 17:52:00 | ART                 |       NA            | NA                  | \n",
       "| 200003              | 2199-08-03 18:40:00 | ART                 | 163.0000            |  5                  | \n",
       "| 200003              | 2199-08-03 20:13:00 | ART                 | 241.4286            | 10                  | \n",
       "| 200003              | 2199-08-03 23:20:00 | ART                 | 214.0000            | 10                  | \n",
       "| 200003              | 2199-08-04 01:33:00 | ART                 | 250.0000            | 10                  | \n",
       "| 200003              | 2199-08-04 05:40:00 | ART                 | 375.0000            |  8                  | \n",
       "| 200003              | 2199-08-04 12:06:00 | ART                 | 310.0000            |  5                  | \n",
       "| 200003              | 2199-08-05 02:46:00 | ART                 | 262.5000            | NA                  | \n",
       "| 200003              | 2199-08-05 11:15:00 | ART                 | 247.5000            | NA                  | \n",
       "| 200003              | 2199-08-05 21:12:00 | ART                 | 247.5000            | NA                  | \n",
       "| 200003              | 2199-08-06 02:20:00 | ART                 | 175.0000            | NA                  | \n",
       "| 200003              | 2199-08-07 02:07:00 | ART                 | 207.5000            | NA                  | \n",
       "| 200003              | 2199-08-07 14:16:00 | ART                 | 144.2857            | NA                  | \n",
       "| 200003              | 2199-08-07 19:54:00 | ART                 |       NA            | NA                  | \n",
       "| 200007              | 2109-02-18 13:17:00 | ART                 |       NA            | NA                  | \n",
       "| 200009              | 2189-11-30 11:43:00 | ART                 |       NA            | NA                  | \n",
       "| 200009              | 2189-11-30 14:16:00 | ART                 |       NA            | NA                  | \n",
       "| 200009              | 2189-11-30 14:55:00 | ART                 |       NA            | NA                  | \n",
       "| 200009              | 2189-11-30 15:53:00 | ART                 |       NA            | NA                  | \n",
       "| 200009              | 2189-11-30 16:24:00 | ART                 |       NA            | NA                  | \n",
       "| 200009              | 2189-11-30 18:44:00 | ART                 | 358.0000            |  5                  | \n",
       "| 200009              | 2189-11-30 22:30:00 | ART                 | 322.5000            |  5                  | \n",
       "| 200009              | 2189-12-01 07:56:00 | ART                 | 797.5000            |  5                  | \n",
       "| 200009              | 2189-12-01 09:11:00 | ART                 |       NA            | NA                  | \n",
       "| 200009              | 2189-12-01 10:37:00 | ART                 | 277.1429            |  5                  | \n",
       "| 200009              | 2189-12-01 12:06:00 | ART                 | 300.0000            |  5                  | \n",
       "| 200011              | 2188-08-06 02:09:00 | ART                 | 266.6667            |  5                  | \n",
       "| 200011              | 2188-08-06 15:42:00 | ART                 |       NA            | NA                  | \n",
       "| 200014              | 2105-02-17 01:08:00 | ART                 | 447.5000            |  5                  | \n",
       "| 200014              | 2105-02-17 04:35:00 | ART                 | 457.5000            |  5                  | \n",
       "| 200014              | 2105-02-17 11:18:00 | ART                 | 355.0000            |  5                  | \n",
       "| 200014              | 2105-02-17 15:28:00 | ART                 | 387.5000            |  5                  | \n",
       "| 200014              | 2105-02-17 17:11:00 | ART                 | 342.8571            |  5                  | \n",
       "| 200014              | 2105-02-17 20:53:00 | ART                 |       NA            |  5                  | \n",
       "| 200014              | 2105-02-18 04:01:00 | ART                 |       NA            | NA                  | \n",
       "| 200019              | 2178-07-08 10:08:00 | ART                 | 832.0000            |  5                  | \n",
       "| 200019              | 2178-07-10 05:28:00 | ART                 | 188.0000            | NA                  | \n",
       "| 200021              | 2114-12-26 21:23:00 | ART                 | 367.0000            |  5                  | \n",
       "| 200021              | 2114-12-27 03:28:00 | ART                 | 436.0000            |  5                  | \n",
       "| 200024              | 2127-03-03 17:27:00 | ART                 | 397.5000            |  5                  | \n",
       "\n",
       "\n"
      ],
      "text/plain": [
       "   icustay_id charttime           specimen_pred pao2fio2 peep\n",
       "1  200001     2181-11-25 19:27:00 ART                 NA NA  \n",
       "2  200001     2181-11-26 11:07:00 ART                 NA NA  \n",
       "3  200001     2181-11-26 17:44:00 ART                 NA NA  \n",
       "4  200001     2181-11-26 18:56:00 ART                 NA NA  \n",
       "5  200001     2181-11-27 01:26:00 ART                 NA NA  \n",
       "6  200001     2181-11-27 12:24:00 ART                 NA NA  \n",
       "7  200001     2181-11-28 12:45:00 ART                 NA NA  \n",
       "8  200003     2199-08-03 01:55:00 ART            88.0000 NA  \n",
       "9  200003     2199-08-03 03:42:00 ART            94.0000 NA  \n",
       "10 200003     2199-08-03 10:49:00 ART           216.0000 NA  \n",
       "11 200003     2199-08-03 17:52:00 ART                 NA NA  \n",
       "12 200003     2199-08-03 18:40:00 ART           163.0000  5  \n",
       "13 200003     2199-08-03 20:13:00 ART           241.4286 10  \n",
       "14 200003     2199-08-03 23:20:00 ART           214.0000 10  \n",
       "15 200003     2199-08-04 01:33:00 ART           250.0000 10  \n",
       "16 200003     2199-08-04 05:40:00 ART           375.0000  8  \n",
       "17 200003     2199-08-04 12:06:00 ART           310.0000  5  \n",
       "18 200003     2199-08-05 02:46:00 ART           262.5000 NA  \n",
       "19 200003     2199-08-05 11:15:00 ART           247.5000 NA  \n",
       "20 200003     2199-08-05 21:12:00 ART           247.5000 NA  \n",
       "21 200003     2199-08-06 02:20:00 ART           175.0000 NA  \n",
       "22 200003     2199-08-07 02:07:00 ART           207.5000 NA  \n",
       "23 200003     2199-08-07 14:16:00 ART           144.2857 NA  \n",
       "24 200003     2199-08-07 19:54:00 ART                 NA NA  \n",
       "25 200007     2109-02-18 13:17:00 ART                 NA NA  \n",
       "26 200009     2189-11-30 11:43:00 ART                 NA NA  \n",
       "27 200009     2189-11-30 14:16:00 ART                 NA NA  \n",
       "28 200009     2189-11-30 14:55:00 ART                 NA NA  \n",
       "29 200009     2189-11-30 15:53:00 ART                 NA NA  \n",
       "30 200009     2189-11-30 16:24:00 ART                 NA NA  \n",
       "31 200009     2189-11-30 18:44:00 ART           358.0000  5  \n",
       "32 200009     2189-11-30 22:30:00 ART           322.5000  5  \n",
       "33 200009     2189-12-01 07:56:00 ART           797.5000  5  \n",
       "34 200009     2189-12-01 09:11:00 ART                 NA NA  \n",
       "35 200009     2189-12-01 10:37:00 ART           277.1429  5  \n",
       "36 200009     2189-12-01 12:06:00 ART           300.0000  5  \n",
       "37 200011     2188-08-06 02:09:00 ART           266.6667  5  \n",
       "38 200011     2188-08-06 15:42:00 ART                 NA NA  \n",
       "39 200014     2105-02-17 01:08:00 ART           447.5000  5  \n",
       "40 200014     2105-02-17 04:35:00 ART           457.5000  5  \n",
       "41 200014     2105-02-17 11:18:00 ART           355.0000  5  \n",
       "42 200014     2105-02-17 15:28:00 ART           387.5000  5  \n",
       "43 200014     2105-02-17 17:11:00 ART           342.8571  5  \n",
       "44 200014     2105-02-17 20:53:00 ART                 NA  5  \n",
       "45 200014     2105-02-18 04:01:00 ART                 NA NA  \n",
       "46 200019     2178-07-08 10:08:00 ART           832.0000  5  \n",
       "47 200019     2178-07-10 05:28:00 ART           188.0000 NA  \n",
       "48 200021     2114-12-26 21:23:00 ART           367.0000  5  \n",
       "49 200021     2114-12-27 03:28:00 ART           436.0000  5  \n",
       "50 200024     2127-03-03 17:27:00 ART           397.5000  5  "
      ]
     },
     "metadata": {},
     "output_type": "display_data"
    }
   ],
   "source": [
    "PFpeep = dbGetQuery(con, \"select * from pao2fio2peep\")\n",
    "write.csv(PFpeep,\"/Data/common/for_kiesha/PF.csv\")\n",
    "head(PFpeep,50)"
   ]
  },
  {
   "cell_type": "code",
   "execution_count": 60,
   "metadata": {},
   "outputs": [
    {
     "data": {
      "text/html": [
       "<table>\n",
       "<thead><tr><th scope=col>subject_id</th><th scope=col>hadm_id</th><th scope=col>congestive_heart_failure</th><th scope=col>cardiac_arrhythmias</th><th scope=col>valvular_disease</th><th scope=col>pulmonary_circulation</th><th scope=col>peripheral_vascular</th><th scope=col>hypertension</th><th scope=col>paralysis</th><th scope=col>other_neurological</th><th scope=col>⋯</th><th scope=col>coagulopathy</th><th scope=col>obesity</th><th scope=col>weight_loss</th><th scope=col>fluid_electrolyte</th><th scope=col>blood_loss_anemia</th><th scope=col>deficiency_anemias</th><th scope=col>alcohol_abuse</th><th scope=col>drug_abuse</th><th scope=col>psychoses</th><th scope=col>depression</th></tr></thead>\n",
       "<tbody>\n",
       "\t<tr><td>58526 </td><td>100001</td><td>0     </td><td>0     </td><td>0     </td><td>0     </td><td>0     </td><td>1     </td><td>0     </td><td>0     </td><td>⋯     </td><td>0     </td><td>0     </td><td>0     </td><td>0     </td><td>0     </td><td>0     </td><td>0     </td><td>0     </td><td>0     </td><td>0     </td></tr>\n",
       "\t<tr><td>54610 </td><td>100003</td><td>0     </td><td>0     </td><td>0     </td><td>0     </td><td>0     </td><td>0     </td><td>0     </td><td>0     </td><td>⋯     </td><td>0     </td><td>0     </td><td>0     </td><td>0     </td><td>0     </td><td>0     </td><td>0     </td><td>0     </td><td>0     </td><td>0     </td></tr>\n",
       "\t<tr><td> 9895 </td><td>100006</td><td>0     </td><td>1     </td><td>0     </td><td>0     </td><td>0     </td><td>0     </td><td>0     </td><td>0     </td><td>⋯     </td><td>0     </td><td>0     </td><td>0     </td><td>1     </td><td>0     </td><td>0     </td><td>0     </td><td>0     </td><td>0     </td><td>1     </td></tr>\n",
       "\t<tr><td>23018 </td><td>100007</td><td>0     </td><td>0     </td><td>0     </td><td>0     </td><td>0     </td><td>0     </td><td>0     </td><td>0     </td><td>⋯     </td><td>0     </td><td>0     </td><td>0     </td><td>0     </td><td>0     </td><td>0     </td><td>0     </td><td>0     </td><td>0     </td><td>0     </td></tr>\n",
       "\t<tr><td>  533 </td><td>100009</td><td>0     </td><td>0     </td><td>0     </td><td>0     </td><td>1     </td><td>0     </td><td>0     </td><td>0     </td><td>⋯     </td><td>0     </td><td>1     </td><td>0     </td><td>0     </td><td>0     </td><td>1     </td><td>0     </td><td>0     </td><td>0     </td><td>0     </td></tr>\n",
       "\t<tr><td>55853 </td><td>100010</td><td>0     </td><td>0     </td><td>0     </td><td>0     </td><td>0     </td><td>0     </td><td>0     </td><td>0     </td><td>⋯     </td><td>0     </td><td>0     </td><td>0     </td><td>1     </td><td>0     </td><td>0     </td><td>0     </td><td>0     </td><td>0     </td><td>0     </td></tr>\n",
       "</tbody>\n",
       "</table>\n"
      ],
      "text/latex": [
       "\\begin{tabular}{r|llllllllllllllllllllllllllllllll}\n",
       " subject\\_id & hadm\\_id & congestive\\_heart\\_failure & cardiac\\_arrhythmias & valvular\\_disease & pulmonary\\_circulation & peripheral\\_vascular & hypertension & paralysis & other\\_neurological & ⋯ & coagulopathy & obesity & weight\\_loss & fluid\\_electrolyte & blood\\_loss\\_anemia & deficiency\\_anemias & alcohol\\_abuse & drug\\_abuse & psychoses & depression\\\\\n",
       "\\hline\n",
       "\t 58526  & 100001 & 0      & 0      & 0      & 0      & 0      & 1      & 0      & 0      & ⋯      & 0      & 0      & 0      & 0      & 0      & 0      & 0      & 0      & 0      & 0     \\\\\n",
       "\t 54610  & 100003 & 0      & 0      & 0      & 0      & 0      & 0      & 0      & 0      & ⋯      & 0      & 0      & 0      & 0      & 0      & 0      & 0      & 0      & 0      & 0     \\\\\n",
       "\t  9895  & 100006 & 0      & 1      & 0      & 0      & 0      & 0      & 0      & 0      & ⋯      & 0      & 0      & 0      & 1      & 0      & 0      & 0      & 0      & 0      & 1     \\\\\n",
       "\t 23018  & 100007 & 0      & 0      & 0      & 0      & 0      & 0      & 0      & 0      & ⋯      & 0      & 0      & 0      & 0      & 0      & 0      & 0      & 0      & 0      & 0     \\\\\n",
       "\t   533  & 100009 & 0      & 0      & 0      & 0      & 1      & 0      & 0      & 0      & ⋯      & 0      & 1      & 0      & 0      & 0      & 1      & 0      & 0      & 0      & 0     \\\\\n",
       "\t 55853  & 100010 & 0      & 0      & 0      & 0      & 0      & 0      & 0      & 0      & ⋯      & 0      & 0      & 0      & 1      & 0      & 0      & 0      & 0      & 0      & 0     \\\\\n",
       "\\end{tabular}\n"
      ],
      "text/markdown": [
       "\n",
       "subject_id | hadm_id | congestive_heart_failure | cardiac_arrhythmias | valvular_disease | pulmonary_circulation | peripheral_vascular | hypertension | paralysis | other_neurological | ⋯ | coagulopathy | obesity | weight_loss | fluid_electrolyte | blood_loss_anemia | deficiency_anemias | alcohol_abuse | drug_abuse | psychoses | depression | \n",
       "|---|---|---|---|---|---|\n",
       "| 58526  | 100001 | 0      | 0      | 0      | 0      | 0      | 1      | 0      | 0      | ⋯      | 0      | 0      | 0      | 0      | 0      | 0      | 0      | 0      | 0      | 0      | \n",
       "| 54610  | 100003 | 0      | 0      | 0      | 0      | 0      | 0      | 0      | 0      | ⋯      | 0      | 0      | 0      | 0      | 0      | 0      | 0      | 0      | 0      | 0      | \n",
       "|  9895  | 100006 | 0      | 1      | 0      | 0      | 0      | 0      | 0      | 0      | ⋯      | 0      | 0      | 0      | 1      | 0      | 0      | 0      | 0      | 0      | 1      | \n",
       "| 23018  | 100007 | 0      | 0      | 0      | 0      | 0      | 0      | 0      | 0      | ⋯      | 0      | 0      | 0      | 0      | 0      | 0      | 0      | 0      | 0      | 0      | \n",
       "|   533  | 100009 | 0      | 0      | 0      | 0      | 1      | 0      | 0      | 0      | ⋯      | 0      | 1      | 0      | 0      | 0      | 1      | 0      | 0      | 0      | 0      | \n",
       "| 55853  | 100010 | 0      | 0      | 0      | 0      | 0      | 0      | 0      | 0      | ⋯      | 0      | 0      | 0      | 1      | 0      | 0      | 0      | 0      | 0      | 0      | \n",
       "\n",
       "\n"
      ],
      "text/plain": [
       "  subject_id hadm_id congestive_heart_failure cardiac_arrhythmias\n",
       "1 58526      100001  0                        0                  \n",
       "2 54610      100003  0                        0                  \n",
       "3  9895      100006  0                        1                  \n",
       "4 23018      100007  0                        0                  \n",
       "5   533      100009  0                        0                  \n",
       "6 55853      100010  0                        0                  \n",
       "  valvular_disease pulmonary_circulation peripheral_vascular hypertension\n",
       "1 0                0                     0                   1           \n",
       "2 0                0                     0                   0           \n",
       "3 0                0                     0                   0           \n",
       "4 0                0                     0                   0           \n",
       "5 0                0                     1                   0           \n",
       "6 0                0                     0                   0           \n",
       "  paralysis other_neurological ⋯ coagulopathy obesity weight_loss\n",
       "1 0         0                  ⋯ 0            0       0          \n",
       "2 0         0                  ⋯ 0            0       0          \n",
       "3 0         0                  ⋯ 0            0       0          \n",
       "4 0         0                  ⋯ 0            0       0          \n",
       "5 0         0                  ⋯ 0            1       0          \n",
       "6 0         0                  ⋯ 0            0       0          \n",
       "  fluid_electrolyte blood_loss_anemia deficiency_anemias alcohol_abuse\n",
       "1 0                 0                 0                  0            \n",
       "2 0                 0                 0                  0            \n",
       "3 1                 0                 0                  0            \n",
       "4 0                 0                 0                  0            \n",
       "5 0                 0                 1                  0            \n",
       "6 1                 0                 0                  0            \n",
       "  drug_abuse psychoses depression\n",
       "1 0          0         0         \n",
       "2 0          0         0         \n",
       "3 0          0         1         \n",
       "4 0          0         0         \n",
       "5 0          0         0         \n",
       "6 0          0         0         "
      ]
     },
     "metadata": {},
     "output_type": "display_data"
    },
    {
     "data": {
      "text/html": [
       "<ol class=list-inline>\n",
       "\t<li>58976</li>\n",
       "\t<li>32</li>\n",
       "</ol>\n"
      ],
      "text/latex": [
       "\\begin{enumerate*}\n",
       "\\item 58976\n",
       "\\item 32\n",
       "\\end{enumerate*}\n"
      ],
      "text/markdown": [
       "1. 58976\n",
       "2. 32\n",
       "\n",
       "\n"
      ],
      "text/plain": [
       "[1] 58976    32"
      ]
     },
     "metadata": {},
     "output_type": "display_data"
    }
   ],
   "source": [
    "elixhauser = dbGetQuery(con, \"select * from elixhauser_ahrq\")\n",
    "head(elixhauser)\n",
    "dim(elixhauser)\n",
    "write.csv(elixhauser,\"/Data/common/for_kiesha/elixhauser.csv\",row.names=FALSE)"
   ]
  },
  {
   "cell_type": "code",
   "execution_count": 25,
   "metadata": {},
   "outputs": [
    {
     "data": {
      "text/html": [
       "<ol class=list-inline>\n",
       "\t<li>'chartevents_12'</li>\n",
       "\t<li>'d_icd_diagnoses'</li>\n",
       "\t<li>'d_labitems'</li>\n",
       "\t<li>'procedureevents_mv'</li>\n",
       "\t<li>'procedures_icd'</li>\n",
       "\t<li>'ventdurations'</li>\n",
       "\t<li>'crrtdurations'</li>\n",
       "\t<li>'admissions'</li>\n",
       "\t<li>'callout'</li>\n",
       "\t<li>'caregivers'</li>\n",
       "\t<li>'chartevents'</li>\n",
       "\t<li>'chartevents_1'</li>\n",
       "\t<li>'chartevents_10'</li>\n",
       "\t<li>'chartevents_11'</li>\n",
       "\t<li>'chartevents_13'</li>\n",
       "\t<li>'chartevents_14'</li>\n",
       "\t<li>'chartevents_2'</li>\n",
       "\t<li>'chartevents_3'</li>\n",
       "\t<li>'chartevents_4'</li>\n",
       "\t<li>'chartevents_5'</li>\n",
       "\t<li>'chartevents_6'</li>\n",
       "\t<li>'chartevents_7'</li>\n",
       "\t<li>'chartevents_8'</li>\n",
       "\t<li>'chartevents_9'</li>\n",
       "\t<li>'cptevents'</li>\n",
       "\t<li>'d_cpt'</li>\n",
       "\t<li>'d_icd_procedures'</li>\n",
       "\t<li>'d_items'</li>\n",
       "\t<li>'datetimeevents'</li>\n",
       "\t<li>'diagnoses_icd'</li>\n",
       "\t<li>'drgcodes'</li>\n",
       "\t<li>'icustays'</li>\n",
       "\t<li>'inputevents_cv'</li>\n",
       "\t<li>'inputevents_mv'</li>\n",
       "\t<li>'labevents'</li>\n",
       "\t<li>'microbiologyevents'</li>\n",
       "\t<li>'noteevents'</li>\n",
       "\t<li>'outputevents'</li>\n",
       "\t<li>'patients'</li>\n",
       "\t<li>'prescriptions'</li>\n",
       "\t<li>'services'</li>\n",
       "\t<li>'transfers'</li>\n",
       "\t<li>'ccs_single_level_dx'</li>\n",
       "\t<li>'ccs_multi_level_dx'</li>\n",
       "</ol>\n"
      ],
      "text/latex": [
       "\\begin{enumerate*}\n",
       "\\item 'chartevents\\_12'\n",
       "\\item 'd\\_icd\\_diagnoses'\n",
       "\\item 'd\\_labitems'\n",
       "\\item 'procedureevents\\_mv'\n",
       "\\item 'procedures\\_icd'\n",
       "\\item 'ventdurations'\n",
       "\\item 'crrtdurations'\n",
       "\\item 'admissions'\n",
       "\\item 'callout'\n",
       "\\item 'caregivers'\n",
       "\\item 'chartevents'\n",
       "\\item 'chartevents\\_1'\n",
       "\\item 'chartevents\\_10'\n",
       "\\item 'chartevents\\_11'\n",
       "\\item 'chartevents\\_13'\n",
       "\\item 'chartevents\\_14'\n",
       "\\item 'chartevents\\_2'\n",
       "\\item 'chartevents\\_3'\n",
       "\\item 'chartevents\\_4'\n",
       "\\item 'chartevents\\_5'\n",
       "\\item 'chartevents\\_6'\n",
       "\\item 'chartevents\\_7'\n",
       "\\item 'chartevents\\_8'\n",
       "\\item 'chartevents\\_9'\n",
       "\\item 'cptevents'\n",
       "\\item 'd\\_cpt'\n",
       "\\item 'd\\_icd\\_procedures'\n",
       "\\item 'd\\_items'\n",
       "\\item 'datetimeevents'\n",
       "\\item 'diagnoses\\_icd'\n",
       "\\item 'drgcodes'\n",
       "\\item 'icustays'\n",
       "\\item 'inputevents\\_cv'\n",
       "\\item 'inputevents\\_mv'\n",
       "\\item 'labevents'\n",
       "\\item 'microbiologyevents'\n",
       "\\item 'noteevents'\n",
       "\\item 'outputevents'\n",
       "\\item 'patients'\n",
       "\\item 'prescriptions'\n",
       "\\item 'services'\n",
       "\\item 'transfers'\n",
       "\\item 'ccs\\_single\\_level\\_dx'\n",
       "\\item 'ccs\\_multi\\_level\\_dx'\n",
       "\\end{enumerate*}\n"
      ],
      "text/markdown": [
       "1. 'chartevents_12'\n",
       "2. 'd_icd_diagnoses'\n",
       "3. 'd_labitems'\n",
       "4. 'procedureevents_mv'\n",
       "5. 'procedures_icd'\n",
       "6. 'ventdurations'\n",
       "7. 'crrtdurations'\n",
       "8. 'admissions'\n",
       "9. 'callout'\n",
       "10. 'caregivers'\n",
       "11. 'chartevents'\n",
       "12. 'chartevents_1'\n",
       "13. 'chartevents_10'\n",
       "14. 'chartevents_11'\n",
       "15. 'chartevents_13'\n",
       "16. 'chartevents_14'\n",
       "17. 'chartevents_2'\n",
       "18. 'chartevents_3'\n",
       "19. 'chartevents_4'\n",
       "20. 'chartevents_5'\n",
       "21. 'chartevents_6'\n",
       "22. 'chartevents_7'\n",
       "23. 'chartevents_8'\n",
       "24. 'chartevents_9'\n",
       "25. 'cptevents'\n",
       "26. 'd_cpt'\n",
       "27. 'd_icd_procedures'\n",
       "28. 'd_items'\n",
       "29. 'datetimeevents'\n",
       "30. 'diagnoses_icd'\n",
       "31. 'drgcodes'\n",
       "32. 'icustays'\n",
       "33. 'inputevents_cv'\n",
       "34. 'inputevents_mv'\n",
       "35. 'labevents'\n",
       "36. 'microbiologyevents'\n",
       "37. 'noteevents'\n",
       "38. 'outputevents'\n",
       "39. 'patients'\n",
       "40. 'prescriptions'\n",
       "41. 'services'\n",
       "42. 'transfers'\n",
       "43. 'ccs_single_level_dx'\n",
       "44. 'ccs_multi_level_dx'\n",
       "\n",
       "\n"
      ],
      "text/plain": [
       " [1] \"chartevents_12\"      \"d_icd_diagnoses\"     \"d_labitems\"         \n",
       " [4] \"procedureevents_mv\"  \"procedures_icd\"      \"ventdurations\"      \n",
       " [7] \"crrtdurations\"       \"admissions\"          \"callout\"            \n",
       "[10] \"caregivers\"          \"chartevents\"         \"chartevents_1\"      \n",
       "[13] \"chartevents_10\"      \"chartevents_11\"      \"chartevents_13\"     \n",
       "[16] \"chartevents_14\"      \"chartevents_2\"       \"chartevents_3\"      \n",
       "[19] \"chartevents_4\"       \"chartevents_5\"       \"chartevents_6\"      \n",
       "[22] \"chartevents_7\"       \"chartevents_8\"       \"chartevents_9\"      \n",
       "[25] \"cptevents\"           \"d_cpt\"               \"d_icd_procedures\"   \n",
       "[28] \"d_items\"             \"datetimeevents\"      \"diagnoses_icd\"      \n",
       "[31] \"drgcodes\"            \"icustays\"            \"inputevents_cv\"     \n",
       "[34] \"inputevents_mv\"      \"labevents\"           \"microbiologyevents\" \n",
       "[37] \"noteevents\"          \"outputevents\"        \"patients\"           \n",
       "[40] \"prescriptions\"       \"services\"            \"transfers\"          \n",
       "[43] \"ccs_single_level_dx\" \"ccs_multi_level_dx\" "
      ]
     },
     "metadata": {},
     "output_type": "display_data"
    }
   ],
   "source": [
    "###To see all the \n",
    "dbListTables(con)"
   ]
  },
  {
   "cell_type": "code",
   "execution_count": 47,
   "metadata": {},
   "outputs": [
    {
     "name": "stderr",
     "output_type": "stream",
     "text": [
      "Installing package into ‘/home/team12user3/R/library’\n",
      "(as ‘lib’ is unspecified)\n"
     ]
    },
    {
     "data": {
      "text/plain": [
       "# Source:   lazy query [?? x 7]\n",
       "# Database: postgres 9.5.7 [datathon@localhost:5432/mimic]\n",
       "   icustay_id           charttime itemid value valuenum valueuom\n",
       "        <int>              <dttm>  <int> <chr>    <dbl>    <chr>\n",
       " 1     275017 2152-11-21 09:30:00    618    24       24      BPM\n",
       " 2     275017 2152-11-21 20:00:00    618    23       23      BPM\n",
       " 3     292368 2200-09-08 12:00:00    618    10       10      BPM\n",
       " 4     292368 2200-09-08 13:00:00    618    15       15      BPM\n",
       " 5     292368 2200-09-09 11:00:00    618     7        7      BPM\n",
       " 6     292368 2200-09-09 12:00:00    618    19       19      BPM\n",
       " 7     260977 2167-10-25 21:00:00    618    15       15      BPM\n",
       " 8     260977 2167-10-26 20:00:00    618    15       15      BPM\n",
       " 9     260977 2167-10-26 21:00:00    618    15       15      BPM\n",
       "10     292368 2200-09-14 19:00:00    618    16       16      BPM\n",
       "# ... with more rows, and 1 more variables: storetime <dttm>"
      ]
     },
     "metadata": {},
     "output_type": "display_data"
    }
   ],
   "source": [
    "library(tidyverse)\n",
    "install.packages(\"dbplyr\")\n",
    "library(dbplyr)\n",
    "chartevents_12 <- tbl(con, \"mpwr_chartevents_vent\")\n",
    "head(chartevents_12)"
   ]
  },
  {
   "cell_type": "code",
   "execution_count": 36,
   "metadata": {
    "collapsed": true
   },
   "outputs": [],
   "source": [
    "tableNamesDF = lapply(dbListTables(con),\n",
    "                      function(tablename) {\n",
    "                          data.frame(tblName = tablename, col = colnames(tbl(con, tablename))) }) %>% do.call(rbind,.)\n",
    "                                            "
   ]
  },
  {
   "cell_type": "code",
   "execution_count": 33,
   "metadata": {
    "scrolled": true
   },
   "outputs": [
    {
     "data": {
      "text/html": [
       "<table>\n",
       "<thead><tr><th scope=col>tblName</th><th scope=col>col</th></tr></thead>\n",
       "<tbody>\n",
       "\t<tr><td>chartevents_12    </td><td>row_id            </td></tr>\n",
       "\t<tr><td>chartevents_12    </td><td>subject_id        </td></tr>\n",
       "\t<tr><td>chartevents_12    </td><td>hadm_id           </td></tr>\n",
       "\t<tr><td>chartevents_12    </td><td>icustay_id        </td></tr>\n",
       "\t<tr><td>chartevents_12    </td><td>itemid            </td></tr>\n",
       "\t<tr><td>chartevents_12    </td><td>charttime         </td></tr>\n",
       "\t<tr><td>chartevents_12    </td><td>storetime         </td></tr>\n",
       "\t<tr><td>chartevents_12    </td><td>cgid              </td></tr>\n",
       "\t<tr><td>chartevents_12    </td><td>value             </td></tr>\n",
       "\t<tr><td>chartevents_12    </td><td>valuenum          </td></tr>\n",
       "\t<tr><td>chartevents_12    </td><td>valueuom          </td></tr>\n",
       "\t<tr><td>chartevents_12    </td><td>warning           </td></tr>\n",
       "\t<tr><td>chartevents_12    </td><td>error             </td></tr>\n",
       "\t<tr><td>chartevents_12    </td><td>resultstatus      </td></tr>\n",
       "\t<tr><td>chartevents_12    </td><td>stopped           </td></tr>\n",
       "\t<tr><td>d_icd_diagnoses   </td><td>row_id            </td></tr>\n",
       "\t<tr><td>d_icd_diagnoses   </td><td>icd9_code         </td></tr>\n",
       "\t<tr><td>d_icd_diagnoses   </td><td>short_title       </td></tr>\n",
       "\t<tr><td>d_icd_diagnoses   </td><td>long_title        </td></tr>\n",
       "\t<tr><td>d_labitems        </td><td>row_id            </td></tr>\n",
       "\t<tr><td>d_labitems        </td><td>itemid            </td></tr>\n",
       "\t<tr><td>d_labitems        </td><td>label             </td></tr>\n",
       "\t<tr><td>d_labitems        </td><td>fluid             </td></tr>\n",
       "\t<tr><td>d_labitems        </td><td>category          </td></tr>\n",
       "\t<tr><td>d_labitems        </td><td>loinc_code        </td></tr>\n",
       "\t<tr><td>procedureevents_mv</td><td>row_id            </td></tr>\n",
       "\t<tr><td>procedureevents_mv</td><td>subject_id        </td></tr>\n",
       "\t<tr><td>procedureevents_mv</td><td>hadm_id           </td></tr>\n",
       "\t<tr><td>procedureevents_mv</td><td>icustay_id        </td></tr>\n",
       "\t<tr><td>procedureevents_mv</td><td>starttime         </td></tr>\n",
       "\t<tr><td>⋮</td><td>⋮</td></tr>\n",
       "\t<tr><td>prescriptions      </td><td>form_unit_disp     </td></tr>\n",
       "\t<tr><td>prescriptions      </td><td>route              </td></tr>\n",
       "\t<tr><td>services           </td><td>row_id             </td></tr>\n",
       "\t<tr><td>services           </td><td>subject_id         </td></tr>\n",
       "\t<tr><td>services           </td><td>hadm_id            </td></tr>\n",
       "\t<tr><td>services           </td><td>transfertime       </td></tr>\n",
       "\t<tr><td>services           </td><td>prev_service       </td></tr>\n",
       "\t<tr><td>services           </td><td>curr_service       </td></tr>\n",
       "\t<tr><td>transfers          </td><td>row_id             </td></tr>\n",
       "\t<tr><td>transfers          </td><td>subject_id         </td></tr>\n",
       "\t<tr><td>transfers          </td><td>hadm_id            </td></tr>\n",
       "\t<tr><td>transfers          </td><td>icustay_id         </td></tr>\n",
       "\t<tr><td>transfers          </td><td>dbsource           </td></tr>\n",
       "\t<tr><td>transfers          </td><td>eventtype          </td></tr>\n",
       "\t<tr><td>transfers          </td><td>prev_careunit      </td></tr>\n",
       "\t<tr><td>transfers          </td><td>curr_careunit      </td></tr>\n",
       "\t<tr><td>transfers          </td><td>prev_wardid        </td></tr>\n",
       "\t<tr><td>transfers          </td><td>curr_wardid        </td></tr>\n",
       "\t<tr><td>transfers          </td><td>intime             </td></tr>\n",
       "\t<tr><td>transfers          </td><td>outtime            </td></tr>\n",
       "\t<tr><td>transfers          </td><td>los                </td></tr>\n",
       "\t<tr><td>ccs_single_level_dx</td><td>ccs_id             </td></tr>\n",
       "\t<tr><td>ccs_single_level_dx</td><td>ccs_name           </td></tr>\n",
       "\t<tr><td>ccs_single_level_dx</td><td>icd9_code          </td></tr>\n",
       "\t<tr><td>ccs_multi_level_dx </td><td>ccs_mid            </td></tr>\n",
       "\t<tr><td>ccs_multi_level_dx </td><td>ccs_name           </td></tr>\n",
       "\t<tr><td>ccs_multi_level_dx </td><td>ccs_group1         </td></tr>\n",
       "\t<tr><td>ccs_multi_level_dx </td><td>ccs_group2         </td></tr>\n",
       "\t<tr><td>ccs_multi_level_dx </td><td>ccs_group3         </td></tr>\n",
       "\t<tr><td>ccs_multi_level_dx </td><td>icd9_code          </td></tr>\n",
       "</tbody>\n",
       "</table>\n"
      ],
      "text/latex": [
       "\\begin{tabular}{r|ll}\n",
       " tblName & col\\\\\n",
       "\\hline\n",
       "\t chartevents\\_12     & row\\_id            \\\\\n",
       "\t chartevents\\_12     & subject\\_id        \\\\\n",
       "\t chartevents\\_12     & hadm\\_id           \\\\\n",
       "\t chartevents\\_12     & icustay\\_id        \\\\\n",
       "\t chartevents\\_12     & itemid              \\\\\n",
       "\t chartevents\\_12     & charttime           \\\\\n",
       "\t chartevents\\_12     & storetime           \\\\\n",
       "\t chartevents\\_12     & cgid                \\\\\n",
       "\t chartevents\\_12     & value               \\\\\n",
       "\t chartevents\\_12     & valuenum            \\\\\n",
       "\t chartevents\\_12     & valueuom            \\\\\n",
       "\t chartevents\\_12     & warning             \\\\\n",
       "\t chartevents\\_12     & error               \\\\\n",
       "\t chartevents\\_12     & resultstatus        \\\\\n",
       "\t chartevents\\_12     & stopped             \\\\\n",
       "\t d\\_icd\\_diagnoses    & row\\_id              \\\\\n",
       "\t d\\_icd\\_diagnoses    & icd9\\_code           \\\\\n",
       "\t d\\_icd\\_diagnoses    & short\\_title         \\\\\n",
       "\t d\\_icd\\_diagnoses    & long\\_title          \\\\\n",
       "\t d\\_labitems         & row\\_id            \\\\\n",
       "\t d\\_labitems         & itemid              \\\\\n",
       "\t d\\_labitems         & label               \\\\\n",
       "\t d\\_labitems         & fluid               \\\\\n",
       "\t d\\_labitems         & category            \\\\\n",
       "\t d\\_labitems         & loinc\\_code        \\\\\n",
       "\t procedureevents\\_mv & row\\_id            \\\\\n",
       "\t procedureevents\\_mv & subject\\_id        \\\\\n",
       "\t procedureevents\\_mv & hadm\\_id           \\\\\n",
       "\t procedureevents\\_mv & icustay\\_id        \\\\\n",
       "\t procedureevents\\_mv & starttime           \\\\\n",
       "\t ⋮ & ⋮\\\\\n",
       "\t prescriptions       & form\\_unit\\_disp \\\\\n",
       "\t prescriptions       & route              \\\\\n",
       "\t services            & row\\_id           \\\\\n",
       "\t services            & subject\\_id       \\\\\n",
       "\t services            & hadm\\_id          \\\\\n",
       "\t services            & transfertime       \\\\\n",
       "\t services            & prev\\_service     \\\\\n",
       "\t services            & curr\\_service     \\\\\n",
       "\t transfers           & row\\_id           \\\\\n",
       "\t transfers           & subject\\_id       \\\\\n",
       "\t transfers           & hadm\\_id          \\\\\n",
       "\t transfers           & icustay\\_id       \\\\\n",
       "\t transfers           & dbsource           \\\\\n",
       "\t transfers           & eventtype          \\\\\n",
       "\t transfers           & prev\\_careunit    \\\\\n",
       "\t transfers           & curr\\_careunit    \\\\\n",
       "\t transfers           & prev\\_wardid      \\\\\n",
       "\t transfers           & curr\\_wardid      \\\\\n",
       "\t transfers           & intime             \\\\\n",
       "\t transfers           & outtime            \\\\\n",
       "\t transfers           & los                \\\\\n",
       "\t ccs\\_single\\_level\\_dx & ccs\\_id                 \\\\\n",
       "\t ccs\\_single\\_level\\_dx & ccs\\_name               \\\\\n",
       "\t ccs\\_single\\_level\\_dx & icd9\\_code              \\\\\n",
       "\t ccs\\_multi\\_level\\_dx  & ccs\\_mid                \\\\\n",
       "\t ccs\\_multi\\_level\\_dx  & ccs\\_name               \\\\\n",
       "\t ccs\\_multi\\_level\\_dx  & ccs\\_group1             \\\\\n",
       "\t ccs\\_multi\\_level\\_dx  & ccs\\_group2             \\\\\n",
       "\t ccs\\_multi\\_level\\_dx  & ccs\\_group3             \\\\\n",
       "\t ccs\\_multi\\_level\\_dx  & icd9\\_code              \\\\\n",
       "\\end{tabular}\n"
      ],
      "text/markdown": [
       "\n",
       "tblName | col | \n",
       "|---|---|---|---|---|---|---|---|---|---|---|---|---|---|---|---|---|---|---|---|---|---|---|---|---|---|---|---|---|---|---|---|---|---|---|---|---|---|---|---|---|---|---|---|---|---|---|---|---|---|---|---|---|---|---|---|---|---|---|---|---|\n",
       "| chartevents_12     | row_id             | \n",
       "| chartevents_12     | subject_id         | \n",
       "| chartevents_12     | hadm_id            | \n",
       "| chartevents_12     | icustay_id         | \n",
       "| chartevents_12     | itemid             | \n",
       "| chartevents_12     | charttime          | \n",
       "| chartevents_12     | storetime          | \n",
       "| chartevents_12     | cgid               | \n",
       "| chartevents_12     | value              | \n",
       "| chartevents_12     | valuenum           | \n",
       "| chartevents_12     | valueuom           | \n",
       "| chartevents_12     | warning            | \n",
       "| chartevents_12     | error              | \n",
       "| chartevents_12     | resultstatus       | \n",
       "| chartevents_12     | stopped            | \n",
       "| d_icd_diagnoses    | row_id             | \n",
       "| d_icd_diagnoses    | icd9_code          | \n",
       "| d_icd_diagnoses    | short_title        | \n",
       "| d_icd_diagnoses    | long_title         | \n",
       "| d_labitems         | row_id             | \n",
       "| d_labitems         | itemid             | \n",
       "| d_labitems         | label              | \n",
       "| d_labitems         | fluid              | \n",
       "| d_labitems         | category           | \n",
       "| d_labitems         | loinc_code         | \n",
       "| procedureevents_mv | row_id             | \n",
       "| procedureevents_mv | subject_id         | \n",
       "| procedureevents_mv | hadm_id            | \n",
       "| procedureevents_mv | icustay_id         | \n",
       "| procedureevents_mv | starttime          | \n",
       "| ⋮ | ⋮ | \n",
       "| prescriptions       | form_unit_disp      | \n",
       "| prescriptions       | route               | \n",
       "| services            | row_id              | \n",
       "| services            | subject_id          | \n",
       "| services            | hadm_id             | \n",
       "| services            | transfertime        | \n",
       "| services            | prev_service        | \n",
       "| services            | curr_service        | \n",
       "| transfers           | row_id              | \n",
       "| transfers           | subject_id          | \n",
       "| transfers           | hadm_id             | \n",
       "| transfers           | icustay_id          | \n",
       "| transfers           | dbsource            | \n",
       "| transfers           | eventtype           | \n",
       "| transfers           | prev_careunit       | \n",
       "| transfers           | curr_careunit       | \n",
       "| transfers           | prev_wardid         | \n",
       "| transfers           | curr_wardid         | \n",
       "| transfers           | intime              | \n",
       "| transfers           | outtime             | \n",
       "| transfers           | los                 | \n",
       "| ccs_single_level_dx | ccs_id              | \n",
       "| ccs_single_level_dx | ccs_name            | \n",
       "| ccs_single_level_dx | icd9_code           | \n",
       "| ccs_multi_level_dx  | ccs_mid             | \n",
       "| ccs_multi_level_dx  | ccs_name            | \n",
       "| ccs_multi_level_dx  | ccs_group1          | \n",
       "| ccs_multi_level_dx  | ccs_group2          | \n",
       "| ccs_multi_level_dx  | ccs_group3          | \n",
       "| ccs_multi_level_dx  | icd9_code           | \n",
       "\n",
       "\n"
      ],
      "text/plain": [
       "    tblName             col           \n",
       "1   chartevents_12      row_id        \n",
       "2   chartevents_12      subject_id    \n",
       "3   chartevents_12      hadm_id       \n",
       "4   chartevents_12      icustay_id    \n",
       "5   chartevents_12      itemid        \n",
       "6   chartevents_12      charttime     \n",
       "7   chartevents_12      storetime     \n",
       "8   chartevents_12      cgid          \n",
       "9   chartevents_12      value         \n",
       "10  chartevents_12      valuenum      \n",
       "11  chartevents_12      valueuom      \n",
       "12  chartevents_12      warning       \n",
       "13  chartevents_12      error         \n",
       "14  chartevents_12      resultstatus  \n",
       "15  chartevents_12      stopped       \n",
       "16  d_icd_diagnoses     row_id        \n",
       "17  d_icd_diagnoses     icd9_code     \n",
       "18  d_icd_diagnoses     short_title   \n",
       "19  d_icd_diagnoses     long_title    \n",
       "20  d_labitems          row_id        \n",
       "21  d_labitems          itemid        \n",
       "22  d_labitems          label         \n",
       "23  d_labitems          fluid         \n",
       "24  d_labitems          category      \n",
       "25  d_labitems          loinc_code    \n",
       "26  procedureevents_mv  row_id        \n",
       "27  procedureevents_mv  subject_id    \n",
       "28  procedureevents_mv  hadm_id       \n",
       "29  procedureevents_mv  icustay_id    \n",
       "30  procedureevents_mv  starttime     \n",
       "⋮   ⋮                   ⋮             \n",
       "523 prescriptions       form_unit_disp\n",
       "524 prescriptions       route         \n",
       "525 services            row_id        \n",
       "526 services            subject_id    \n",
       "527 services            hadm_id       \n",
       "528 services            transfertime  \n",
       "529 services            prev_service  \n",
       "530 services            curr_service  \n",
       "531 transfers           row_id        \n",
       "532 transfers           subject_id    \n",
       "533 transfers           hadm_id       \n",
       "534 transfers           icustay_id    \n",
       "535 transfers           dbsource      \n",
       "536 transfers           eventtype     \n",
       "537 transfers           prev_careunit \n",
       "538 transfers           curr_careunit \n",
       "539 transfers           prev_wardid   \n",
       "540 transfers           curr_wardid   \n",
       "541 transfers           intime        \n",
       "542 transfers           outtime       \n",
       "543 transfers           los           \n",
       "544 ccs_single_level_dx ccs_id        \n",
       "545 ccs_single_level_dx ccs_name      \n",
       "546 ccs_single_level_dx icd9_code     \n",
       "547 ccs_multi_level_dx  ccs_mid       \n",
       "548 ccs_multi_level_dx  ccs_name      \n",
       "549 ccs_multi_level_dx  ccs_group1    \n",
       "550 ccs_multi_level_dx  ccs_group2    \n",
       "551 ccs_multi_level_dx  ccs_group3    \n",
       "552 ccs_multi_level_dx  icd9_code     "
      ]
     },
     "metadata": {},
     "output_type": "display_data"
    }
   ],
   "source": [
    "tableNamesDF"
   ]
  },
  {
   "cell_type": "code",
   "execution_count": 76,
   "metadata": {},
   "outputs": [
    {
     "data": {
      "text/html": [
       "<ol class=list-inline>\n",
       "\t<li>'icustay_id'</li>\n",
       "\t<li>'age'</li>\n",
       "\t<li>'subject_id'</li>\n",
       "\t<li>'hadm_id'</li>\n",
       "\t<li>'admission_type'</li>\n",
       "\t<li>'admittime'</li>\n",
       "\t<li>'dischtime'</li>\n",
       "\t<li>'first_hosp_stay'</li>\n",
       "\t<li>'first_icu_stay'</li>\n",
       "\t<li>'hospital_expire_flag'</li>\n",
       "\t<li>'hospstay_seq'</li>\n",
       "\t<li>'icustay_seq'</li>\n",
       "\t<li>'intime'</li>\n",
       "\t<li>'los_hospital'</li>\n",
       "\t<li>'los_icu'</li>\n",
       "\t<li>'outtime'</li>\n",
       "\t<li>'apsiii'</li>\n",
       "\t<li>'apsiii_prob'</li>\n",
       "\t<li>'oasis'</li>\n",
       "\t<li>'oasis_prob'</li>\n",
       "\t<li>'icu_mort'</li>\n",
       "\t<li>'h_mort'</li>\n",
       "\t<li>'one_mort'</li>\n",
       "\t<li>'thr_mort'</li>\n",
       "\t<li>'six_mort'</li>\n",
       "\t<li>'tv_set'</li>\n",
       "\t<li>'gender'</li>\n",
       "\t<li>'ethnicity'</li>\n",
       "\t<li>'height'</li>\n",
       "\t<li>'pbw'</li>\n",
       "\t<li>'tv_pbw'</li>\n",
       "\t<li>'tv_pbw_observed'</li>\n",
       "</ol>\n"
      ],
      "text/latex": [
       "\\begin{enumerate*}\n",
       "\\item 'icustay\\_id'\n",
       "\\item 'age'\n",
       "\\item 'subject\\_id'\n",
       "\\item 'hadm\\_id'\n",
       "\\item 'admission\\_type'\n",
       "\\item 'admittime'\n",
       "\\item 'dischtime'\n",
       "\\item 'first\\_hosp\\_stay'\n",
       "\\item 'first\\_icu\\_stay'\n",
       "\\item 'hospital\\_expire\\_flag'\n",
       "\\item 'hospstay\\_seq'\n",
       "\\item 'icustay\\_seq'\n",
       "\\item 'intime'\n",
       "\\item 'los\\_hospital'\n",
       "\\item 'los\\_icu'\n",
       "\\item 'outtime'\n",
       "\\item 'apsiii'\n",
       "\\item 'apsiii\\_prob'\n",
       "\\item 'oasis'\n",
       "\\item 'oasis\\_prob'\n",
       "\\item 'icu\\_mort'\n",
       "\\item 'h\\_mort'\n",
       "\\item 'one\\_mort'\n",
       "\\item 'thr\\_mort'\n",
       "\\item 'six\\_mort'\n",
       "\\item 'tv\\_set'\n",
       "\\item 'gender'\n",
       "\\item 'ethnicity'\n",
       "\\item 'height'\n",
       "\\item 'pbw'\n",
       "\\item 'tv\\_pbw'\n",
       "\\item 'tv\\_pbw\\_observed'\n",
       "\\end{enumerate*}\n"
      ],
      "text/markdown": [
       "1. 'icustay_id'\n",
       "2. 'age'\n",
       "3. 'subject_id'\n",
       "4. 'hadm_id'\n",
       "5. 'admission_type'\n",
       "6. 'admittime'\n",
       "7. 'dischtime'\n",
       "8. 'first_hosp_stay'\n",
       "9. 'first_icu_stay'\n",
       "10. 'hospital_expire_flag'\n",
       "11. 'hospstay_seq'\n",
       "12. 'icustay_seq'\n",
       "13. 'intime'\n",
       "14. 'los_hospital'\n",
       "15. 'los_icu'\n",
       "16. 'outtime'\n",
       "17. 'apsiii'\n",
       "18. 'apsiii_prob'\n",
       "19. 'oasis'\n",
       "20. 'oasis_prob'\n",
       "21. 'icu_mort'\n",
       "22. 'h_mort'\n",
       "23. 'one_mort'\n",
       "24. 'thr_mort'\n",
       "25. 'six_mort'\n",
       "26. 'tv_set'\n",
       "27. 'gender'\n",
       "28. 'ethnicity'\n",
       "29. 'height'\n",
       "30. 'pbw'\n",
       "31. 'tv_pbw'\n",
       "32. 'tv_pbw_observed'\n",
       "\n",
       "\n"
      ],
      "text/plain": [
       " [1] \"icustay_id\"           \"age\"                  \"subject_id\"          \n",
       " [4] \"hadm_id\"              \"admission_type\"       \"admittime\"           \n",
       " [7] \"dischtime\"            \"first_hosp_stay\"      \"first_icu_stay\"      \n",
       "[10] \"hospital_expire_flag\" \"hospstay_seq\"         \"icustay_seq\"         \n",
       "[13] \"intime\"               \"los_hospital\"         \"los_icu\"             \n",
       "[16] \"outtime\"              \"apsiii\"               \"apsiii_prob\"         \n",
       "[19] \"oasis\"                \"oasis_prob\"           \"icu_mort\"            \n",
       "[22] \"h_mort\"               \"one_mort\"             \"thr_mort\"            \n",
       "[25] \"six_mort\"             \"tv_set\"               \"gender\"              \n",
       "[28] \"ethnicity\"            \"height\"               \"pbw\"                 \n",
       "[31] \"tv_pbw\"               \"tv_pbw_observed\"     "
      ]
     },
     "metadata": {},
     "output_type": "display_data"
    },
    {
     "data": {
      "text/html": [
       "<table>\n",
       "<thead><tr><th scope=col>icustay_id</th><th scope=col>gender</th><th scope=col>age</th><th scope=col>height</th><th scope=col>subject_id</th><th scope=col>hadm_id</th><th scope=col>admission_type</th><th scope=col>admittime</th><th scope=col>dischtime</th><th scope=col>ethnicity</th><th scope=col>first_hosp_stay</th><th scope=col>first_icu_stay</th><th scope=col>hospital_expire_flag</th><th scope=col>hospstay_seq</th><th scope=col>icustay_seq</th><th scope=col>intime</th><th scope=col>los_hospital</th><th scope=col>los_icu</th><th scope=col>outtime</th></tr></thead>\n",
       "<tbody>\n",
       "\t<tr><td>294912               </td><td>M                    </td><td> 57.0272             </td><td>178.00               </td><td>72530                </td><td>189421               </td><td>EMERGENCY            </td><td>2170-07-11 17:28:00  </td><td>2170-07-30 16:33:00  </td><td>WHITE                </td><td>Y                    </td><td>Y                    </td><td>0                    </td><td>1                    </td><td>1                    </td><td>2170-07-16 10:14:57  </td><td>18.9618              </td><td> 1.1795              </td><td>2170-07-17 14:33:28  </td></tr>\n",
       "\t<tr><td>262146               </td><td>F                    </td><td> 77.9385             </td><td>157.48               </td><td>14114                </td><td>189388               </td><td>ELECTIVE             </td><td>2141-04-25 10:00:00  </td><td>2141-05-04 17:00:00  </td><td>WHITE                </td><td>N                    </td><td>Y                    </td><td>0                    </td><td>2                    </td><td>1                    </td><td>2141-04-25 12:41:07  </td><td> 9.2917              </td><td> 2.0080              </td><td>2141-04-27 12:52:34  </td></tr>\n",
       "\t<tr><td>229381               </td><td>F                    </td><td> 42.2699             </td><td>165.10               </td><td>47927                </td><td>161682               </td><td>EMERGENCY            </td><td>2108-12-23 17:42:00  </td><td>2108-12-27 19:00:00  </td><td>UNKNOWN/NOT SPECIFIED</td><td>Y                    </td><td>Y                    </td><td>1                    </td><td>1                    </td><td>1                    </td><td>2108-12-23 17:43:08  </td><td> 4.0542              </td><td> 4.1369              </td><td>2108-12-27 21:00:12  </td></tr>\n",
       "\t<tr><td>294919               </td><td>M                    </td><td> 70.8541             </td><td>172.72               </td><td>86078                </td><td>182281               </td><td>EMERGENCY            </td><td>2183-02-03 21:02:00  </td><td>2183-02-08 15:00:00  </td><td>WHITE                </td><td>Y                    </td><td>Y                    </td><td>1                    </td><td>1                    </td><td>1                    </td><td>2183-02-03 21:03:22  </td><td> 4.7486              </td><td> 4.8489              </td><td>2183-02-08 17:25:51  </td></tr>\n",
       "\t<tr><td>262154               </td><td>F                    </td><td>300.0023             </td><td>157.00               </td><td>94698                </td><td>152925               </td><td>EMERGENCY            </td><td>2105-12-07 10:37:00  </td><td>2105-12-26 15:30:00  </td><td>WHITE                </td><td>Y                    </td><td>Y                    </td><td>0                    </td><td>1                    </td><td>1                    </td><td>2105-12-07 10:37:54  </td><td>19.2035              </td><td>12.3319              </td><td>2105-12-19 18:35:54  </td></tr>\n",
       "\t<tr><td>229387               </td><td>M                    </td><td> 68.0426             </td><td>170.18               </td><td> 6561                </td><td>142014               </td><td>EMERGENCY            </td><td>2149-12-17 00:32:00  </td><td>2150-01-03 14:00:00  </td><td>WHITE                </td><td>Y                    </td><td>Y                    </td><td>0                    </td><td>1                    </td><td>1                    </td><td>2149-12-17 13:01:58  </td><td>17.5611              </td><td> 8.9507              </td><td>2149-12-26 11:51:02  </td></tr>\n",
       "</tbody>\n",
       "</table>\n"
      ],
      "text/latex": [
       "\\begin{tabular}{r|lllllllllllllllllll}\n",
       " icustay\\_id & gender & age & height & subject\\_id & hadm\\_id & admission\\_type & admittime & dischtime & ethnicity & first\\_hosp\\_stay & first\\_icu\\_stay & hospital\\_expire\\_flag & hospstay\\_seq & icustay\\_seq & intime & los\\_hospital & los\\_icu & outtime\\\\\n",
       "\\hline\n",
       "\t 294912                & M                     &  57.0272              & 178.00                & 72530                 & 189421                & EMERGENCY             & 2170-07-11 17:28:00   & 2170-07-30 16:33:00   & WHITE                 & Y                     & Y                     & 0                     & 1                     & 1                     & 2170-07-16 10:14:57   & 18.9618               &  1.1795               & 2170-07-17 14:33:28  \\\\\n",
       "\t 262146                & F                     &  77.9385              & 157.48                & 14114                 & 189388                & ELECTIVE              & 2141-04-25 10:00:00   & 2141-05-04 17:00:00   & WHITE                 & N                     & Y                     & 0                     & 2                     & 1                     & 2141-04-25 12:41:07   &  9.2917               &  2.0080               & 2141-04-27 12:52:34  \\\\\n",
       "\t 229381                & F                     &  42.2699              & 165.10                & 47927                 & 161682                & EMERGENCY             & 2108-12-23 17:42:00   & 2108-12-27 19:00:00   & UNKNOWN/NOT SPECIFIED & Y                     & Y                     & 1                     & 1                     & 1                     & 2108-12-23 17:43:08   &  4.0542               &  4.1369               & 2108-12-27 21:00:12  \\\\\n",
       "\t 294919                & M                     &  70.8541              & 172.72                & 86078                 & 182281                & EMERGENCY             & 2183-02-03 21:02:00   & 2183-02-08 15:00:00   & WHITE                 & Y                     & Y                     & 1                     & 1                     & 1                     & 2183-02-03 21:03:22   &  4.7486               &  4.8489               & 2183-02-08 17:25:51  \\\\\n",
       "\t 262154                & F                     & 300.0023              & 157.00                & 94698                 & 152925                & EMERGENCY             & 2105-12-07 10:37:00   & 2105-12-26 15:30:00   & WHITE                 & Y                     & Y                     & 0                     & 1                     & 1                     & 2105-12-07 10:37:54   & 19.2035               & 12.3319               & 2105-12-19 18:35:54  \\\\\n",
       "\t 229387                & M                     &  68.0426              & 170.18                &  6561                 & 142014                & EMERGENCY             & 2149-12-17 00:32:00   & 2150-01-03 14:00:00   & WHITE                 & Y                     & Y                     & 0                     & 1                     & 1                     & 2149-12-17 13:01:58   & 17.5611               &  8.9507               & 2149-12-26 11:51:02  \\\\\n",
       "\\end{tabular}\n"
      ],
      "text/markdown": [
       "\n",
       "icustay_id | gender | age | height | subject_id | hadm_id | admission_type | admittime | dischtime | ethnicity | first_hosp_stay | first_icu_stay | hospital_expire_flag | hospstay_seq | icustay_seq | intime | los_hospital | los_icu | outtime | \n",
       "|---|---|---|---|---|---|\n",
       "| 294912                | M                     |  57.0272              | 178.00                | 72530                 | 189421                | EMERGENCY             | 2170-07-11 17:28:00   | 2170-07-30 16:33:00   | WHITE                 | Y                     | Y                     | 0                     | 1                     | 1                     | 2170-07-16 10:14:57   | 18.9618               |  1.1795               | 2170-07-17 14:33:28   | \n",
       "| 262146                | F                     |  77.9385              | 157.48                | 14114                 | 189388                | ELECTIVE              | 2141-04-25 10:00:00   | 2141-05-04 17:00:00   | WHITE                 | N                     | Y                     | 0                     | 2                     | 1                     | 2141-04-25 12:41:07   |  9.2917               |  2.0080               | 2141-04-27 12:52:34   | \n",
       "| 229381                | F                     |  42.2699              | 165.10                | 47927                 | 161682                | EMERGENCY             | 2108-12-23 17:42:00   | 2108-12-27 19:00:00   | UNKNOWN/NOT SPECIFIED | Y                     | Y                     | 1                     | 1                     | 1                     | 2108-12-23 17:43:08   |  4.0542               |  4.1369               | 2108-12-27 21:00:12   | \n",
       "| 294919                | M                     |  70.8541              | 172.72                | 86078                 | 182281                | EMERGENCY             | 2183-02-03 21:02:00   | 2183-02-08 15:00:00   | WHITE                 | Y                     | Y                     | 1                     | 1                     | 1                     | 2183-02-03 21:03:22   |  4.7486               |  4.8489               | 2183-02-08 17:25:51   | \n",
       "| 262154                | F                     | 300.0023              | 157.00                | 94698                 | 152925                | EMERGENCY             | 2105-12-07 10:37:00   | 2105-12-26 15:30:00   | WHITE                 | Y                     | Y                     | 0                     | 1                     | 1                     | 2105-12-07 10:37:54   | 19.2035               | 12.3319               | 2105-12-19 18:35:54   | \n",
       "| 229387                | M                     |  68.0426              | 170.18                |  6561                 | 142014                | EMERGENCY             | 2149-12-17 00:32:00   | 2150-01-03 14:00:00   | WHITE                 | Y                     | Y                     | 0                     | 1                     | 1                     | 2149-12-17 13:01:58   | 17.5611               |  8.9507               | 2149-12-26 11:51:02   | \n",
       "\n",
       "\n"
      ],
      "text/plain": [
       "  icustay_id gender age      height subject_id hadm_id admission_type\n",
       "1 294912     M       57.0272 178.00 72530      189421  EMERGENCY     \n",
       "2 262146     F       77.9385 157.48 14114      189388  ELECTIVE      \n",
       "3 229381     F       42.2699 165.10 47927      161682  EMERGENCY     \n",
       "4 294919     M       70.8541 172.72 86078      182281  EMERGENCY     \n",
       "5 262154     F      300.0023 157.00 94698      152925  EMERGENCY     \n",
       "6 229387     M       68.0426 170.18  6561      142014  EMERGENCY     \n",
       "  admittime           dischtime           ethnicity             first_hosp_stay\n",
       "1 2170-07-11 17:28:00 2170-07-30 16:33:00 WHITE                 Y              \n",
       "2 2141-04-25 10:00:00 2141-05-04 17:00:00 WHITE                 N              \n",
       "3 2108-12-23 17:42:00 2108-12-27 19:00:00 UNKNOWN/NOT SPECIFIED Y              \n",
       "4 2183-02-03 21:02:00 2183-02-08 15:00:00 WHITE                 Y              \n",
       "5 2105-12-07 10:37:00 2105-12-26 15:30:00 WHITE                 Y              \n",
       "6 2149-12-17 00:32:00 2150-01-03 14:00:00 WHITE                 Y              \n",
       "  first_icu_stay hospital_expire_flag hospstay_seq icustay_seq\n",
       "1 Y              0                    1            1          \n",
       "2 Y              0                    2            1          \n",
       "3 Y              1                    1            1          \n",
       "4 Y              1                    1            1          \n",
       "5 Y              0                    1            1          \n",
       "6 Y              0                    1            1          \n",
       "  intime              los_hospital los_icu outtime            \n",
       "1 2170-07-16 10:14:57 18.9618       1.1795 2170-07-17 14:33:28\n",
       "2 2141-04-25 12:41:07  9.2917       2.0080 2141-04-27 12:52:34\n",
       "3 2108-12-23 17:43:08  4.0542       4.1369 2108-12-27 21:00:12\n",
       "4 2183-02-03 21:03:22  4.7486       4.8489 2183-02-08 17:25:51\n",
       "5 2105-12-07 10:37:54 19.2035      12.3319 2105-12-19 18:35:54\n",
       "6 2149-12-17 13:01:58 17.5611       8.9507 2149-12-26 11:51:02"
      ]
     },
     "metadata": {},
     "output_type": "display_data"
    },
    {
     "data": {
      "text/html": [
       "<ol class=list-inline>\n",
       "\t<li>'icustay_id'</li>\n",
       "\t<li>'gender'</li>\n",
       "\t<li>'age'</li>\n",
       "\t<li>'height'</li>\n",
       "\t<li>'subject_id'</li>\n",
       "\t<li>'hadm_id'</li>\n",
       "\t<li>'admission_type'</li>\n",
       "\t<li>'admittime'</li>\n",
       "\t<li>'dischtime'</li>\n",
       "\t<li>'ethnicity'</li>\n",
       "\t<li>'first_hosp_stay'</li>\n",
       "\t<li>'first_icu_stay'</li>\n",
       "\t<li>'hospital_expire_flag'</li>\n",
       "\t<li>'hospstay_seq'</li>\n",
       "\t<li>'icustay_seq'</li>\n",
       "\t<li>'intime'</li>\n",
       "\t<li>'los_hospital'</li>\n",
       "\t<li>'los_icu'</li>\n",
       "\t<li>'outtime'</li>\n",
       "</ol>\n"
      ],
      "text/latex": [
       "\\begin{enumerate*}\n",
       "\\item 'icustay\\_id'\n",
       "\\item 'gender'\n",
       "\\item 'age'\n",
       "\\item 'height'\n",
       "\\item 'subject\\_id'\n",
       "\\item 'hadm\\_id'\n",
       "\\item 'admission\\_type'\n",
       "\\item 'admittime'\n",
       "\\item 'dischtime'\n",
       "\\item 'ethnicity'\n",
       "\\item 'first\\_hosp\\_stay'\n",
       "\\item 'first\\_icu\\_stay'\n",
       "\\item 'hospital\\_expire\\_flag'\n",
       "\\item 'hospstay\\_seq'\n",
       "\\item 'icustay\\_seq'\n",
       "\\item 'intime'\n",
       "\\item 'los\\_hospital'\n",
       "\\item 'los\\_icu'\n",
       "\\item 'outtime'\n",
       "\\end{enumerate*}\n"
      ],
      "text/markdown": [
       "1. 'icustay_id'\n",
       "2. 'gender'\n",
       "3. 'age'\n",
       "4. 'height'\n",
       "5. 'subject_id'\n",
       "6. 'hadm_id'\n",
       "7. 'admission_type'\n",
       "8. 'admittime'\n",
       "9. 'dischtime'\n",
       "10. 'ethnicity'\n",
       "11. 'first_hosp_stay'\n",
       "12. 'first_icu_stay'\n",
       "13. 'hospital_expire_flag'\n",
       "14. 'hospstay_seq'\n",
       "15. 'icustay_seq'\n",
       "16. 'intime'\n",
       "17. 'los_hospital'\n",
       "18. 'los_icu'\n",
       "19. 'outtime'\n",
       "\n",
       "\n"
      ],
      "text/plain": [
       " [1] \"icustay_id\"           \"gender\"               \"age\"                 \n",
       " [4] \"height\"               \"subject_id\"           \"hadm_id\"             \n",
       " [7] \"admission_type\"       \"admittime\"            \"dischtime\"           \n",
       "[10] \"ethnicity\"            \"first_hosp_stay\"      \"first_icu_stay\"      \n",
       "[13] \"hospital_expire_flag\" \"hospstay_seq\"         \"icustay_seq\"         \n",
       "[16] \"intime\"               \"los_hospital\"         \"los_icu\"             \n",
       "[19] \"outtime\"             "
      ]
     },
     "metadata": {},
     "output_type": "display_data"
    }
   ],
   "source": [
    "###Read in the raw tables\n",
    "test<-read.csv(\"/Data/common/for_kiesha/Ventilator_final_table_demo_mort_vent.csv\")\n",
    "#head(test)\n",
    "colnames(test)\n",
    "\n",
    "test2<-read.table(\"/Data/common/for_kiesha/Ventilator_demo.tsv\",sep=\"\\t\",header=TRUE)\n",
    "head(test2)\n",
    "colnames(test2)"
   ]
  },
  {
   "cell_type": "code",
   "execution_count": 170,
   "metadata": {},
   "outputs": [
    {
     "data": {
      "text/html": [
       "<ol class=list-inline>\n",
       "\t<li>'icustay_id'</li>\n",
       "\t<li>'age'</li>\n",
       "\t<li>'subject_id'</li>\n",
       "\t<li>'hadm_id'</li>\n",
       "\t<li>'admission_type'</li>\n",
       "\t<li>'admittime'</li>\n",
       "\t<li>'dischtime'</li>\n",
       "\t<li>'first_hosp_stay'</li>\n",
       "\t<li>'first_icu_stay'</li>\n",
       "\t<li>'hospital_expire_flag'</li>\n",
       "\t<li>'hospstay_seq'</li>\n",
       "\t<li>'icustay_seq'</li>\n",
       "\t<li>'intime.x'</li>\n",
       "\t<li>'los_hospital'</li>\n",
       "\t<li>'los_icu'</li>\n",
       "\t<li>'outtime'</li>\n",
       "\t<li>'apsiii'</li>\n",
       "\t<li>'apsiii_prob'</li>\n",
       "\t<li>'oasis'</li>\n",
       "\t<li>'oasis_prob'</li>\n",
       "\t<li>'icu_mort'</li>\n",
       "\t<li>'h_mort'</li>\n",
       "\t<li>'one_mort'</li>\n",
       "\t<li>'thr_mort'</li>\n",
       "\t<li>'six_mort'</li>\n",
       "\t<li>'tv_set'</li>\n",
       "\t<li>'gender'</li>\n",
       "\t<li>'ethnicity'</li>\n",
       "\t<li>'height'</li>\n",
       "\t<li>'pbw'</li>\n",
       "\t<li>'tv_pbw'</li>\n",
       "\t<li>'tv_pbw_observed'</li>\n",
       "\t<li>'tv_cat'</li>\n",
       "\t<li>'intime.y'</li>\n",
       "\t<li>'deathtime'</li>\n",
       "\t<li>'time_till_death'</li>\n",
       "\t<li>'tmins'</li>\n",
       "\t<li>'tdays'</li>\n",
       "\t<li>'mean_tv_observed'</li>\n",
       "\t<li>'tv_pbw_mean'</li>\n",
       "\t<li>'chosen'</li>\n",
       "\t<li>'congestive_heart_failure'</li>\n",
       "\t<li>'cardiac_arrhythmias'</li>\n",
       "\t<li>'valvular_disease'</li>\n",
       "\t<li>'pulmonary_circulation'</li>\n",
       "\t<li>'peripheral_vascular'</li>\n",
       "\t<li>'hypertension'</li>\n",
       "\t<li>'paralysis'</li>\n",
       "\t<li>'other_neurological'</li>\n",
       "\t<li>'chronic_pulmonary'</li>\n",
       "\t<li>'diabetes_uncomplicated'</li>\n",
       "\t<li>'diabetes_complicated'</li>\n",
       "\t<li>'hypothyroidism'</li>\n",
       "\t<li>'renal_failure'</li>\n",
       "\t<li>'liver_disease'</li>\n",
       "\t<li>'peptic_ulcer'</li>\n",
       "\t<li>'aids'</li>\n",
       "\t<li>'lymphoma'</li>\n",
       "\t<li>'metastatic_cancer'</li>\n",
       "\t<li>'solid_tumor'</li>\n",
       "\t<li>'rheumatoid_arthritis'</li>\n",
       "\t<li>'coagulopathy'</li>\n",
       "\t<li>'obesity'</li>\n",
       "\t<li>'weight_loss'</li>\n",
       "\t<li>'fluid_electrolyte'</li>\n",
       "\t<li>'blood_loss_anemia'</li>\n",
       "\t<li>'deficiency_anemias'</li>\n",
       "\t<li>'alcohol_abuse'</li>\n",
       "\t<li>'drug_abuse'</li>\n",
       "\t<li>'psychoses'</li>\n",
       "\t<li>'depression'</li>\n",
       "\t<li>'hours_vent'</li>\n",
       "\t<li>'PC1'</li>\n",
       "\t<li>'PC2'</li>\n",
       "\t<li>'PC3'</li>\n",
       "\t<li>'PC4'</li>\n",
       "\t<li>'PC5'</li>\n",
       "\t<li>'PC6'</li>\n",
       "\t<li>'PC7'</li>\n",
       "\t<li>'PC8'</li>\n",
       "\t<li>'PC9'</li>\n",
       "\t<li>'PC10'</li>\n",
       "\t<li>'PC11'</li>\n",
       "\t<li>'PC12'</li>\n",
       "\t<li>'PC13'</li>\n",
       "\t<li>'PC14'</li>\n",
       "\t<li>'PC15'</li>\n",
       "\t<li>'PC16'</li>\n",
       "\t<li>'PC17'</li>\n",
       "\t<li>'PC18'</li>\n",
       "\t<li>'PC19'</li>\n",
       "\t<li>'PC20'</li>\n",
       "\t<li>'PC21'</li>\n",
       "\t<li>'PC22'</li>\n",
       "\t<li>'PC23'</li>\n",
       "\t<li>'PC24'</li>\n",
       "\t<li>'PC25'</li>\n",
       "\t<li>'PC26'</li>\n",
       "\t<li>'PC27'</li>\n",
       "\t<li>'PC28'</li>\n",
       "\t<li>'PC29'</li>\n",
       "\t<li>'PC30'</li>\n",
       "\t<li>'pao2fio2_mean'</li>\n",
       "\t<li>'peep_mean'</li>\n",
       "\t<li>'pao2fio2_max'</li>\n",
       "\t<li>'peep_max'</li>\n",
       "\t<li>'pao2fio2_sd'</li>\n",
       "\t<li>'peep_sd'</li>\n",
       "</ol>\n"
      ],
      "text/latex": [
       "\\begin{enumerate*}\n",
       "\\item 'icustay\\_id'\n",
       "\\item 'age'\n",
       "\\item 'subject\\_id'\n",
       "\\item 'hadm\\_id'\n",
       "\\item 'admission\\_type'\n",
       "\\item 'admittime'\n",
       "\\item 'dischtime'\n",
       "\\item 'first\\_hosp\\_stay'\n",
       "\\item 'first\\_icu\\_stay'\n",
       "\\item 'hospital\\_expire\\_flag'\n",
       "\\item 'hospstay\\_seq'\n",
       "\\item 'icustay\\_seq'\n",
       "\\item 'intime.x'\n",
       "\\item 'los\\_hospital'\n",
       "\\item 'los\\_icu'\n",
       "\\item 'outtime'\n",
       "\\item 'apsiii'\n",
       "\\item 'apsiii\\_prob'\n",
       "\\item 'oasis'\n",
       "\\item 'oasis\\_prob'\n",
       "\\item 'icu\\_mort'\n",
       "\\item 'h\\_mort'\n",
       "\\item 'one\\_mort'\n",
       "\\item 'thr\\_mort'\n",
       "\\item 'six\\_mort'\n",
       "\\item 'tv\\_set'\n",
       "\\item 'gender'\n",
       "\\item 'ethnicity'\n",
       "\\item 'height'\n",
       "\\item 'pbw'\n",
       "\\item 'tv\\_pbw'\n",
       "\\item 'tv\\_pbw\\_observed'\n",
       "\\item 'tv\\_cat'\n",
       "\\item 'intime.y'\n",
       "\\item 'deathtime'\n",
       "\\item 'time\\_till\\_death'\n",
       "\\item 'tmins'\n",
       "\\item 'tdays'\n",
       "\\item 'mean\\_tv\\_observed'\n",
       "\\item 'tv\\_pbw\\_mean'\n",
       "\\item 'chosen'\n",
       "\\item 'congestive\\_heart\\_failure'\n",
       "\\item 'cardiac\\_arrhythmias'\n",
       "\\item 'valvular\\_disease'\n",
       "\\item 'pulmonary\\_circulation'\n",
       "\\item 'peripheral\\_vascular'\n",
       "\\item 'hypertension'\n",
       "\\item 'paralysis'\n",
       "\\item 'other\\_neurological'\n",
       "\\item 'chronic\\_pulmonary'\n",
       "\\item 'diabetes\\_uncomplicated'\n",
       "\\item 'diabetes\\_complicated'\n",
       "\\item 'hypothyroidism'\n",
       "\\item 'renal\\_failure'\n",
       "\\item 'liver\\_disease'\n",
       "\\item 'peptic\\_ulcer'\n",
       "\\item 'aids'\n",
       "\\item 'lymphoma'\n",
       "\\item 'metastatic\\_cancer'\n",
       "\\item 'solid\\_tumor'\n",
       "\\item 'rheumatoid\\_arthritis'\n",
       "\\item 'coagulopathy'\n",
       "\\item 'obesity'\n",
       "\\item 'weight\\_loss'\n",
       "\\item 'fluid\\_electrolyte'\n",
       "\\item 'blood\\_loss\\_anemia'\n",
       "\\item 'deficiency\\_anemias'\n",
       "\\item 'alcohol\\_abuse'\n",
       "\\item 'drug\\_abuse'\n",
       "\\item 'psychoses'\n",
       "\\item 'depression'\n",
       "\\item 'hours\\_vent'\n",
       "\\item 'PC1'\n",
       "\\item 'PC2'\n",
       "\\item 'PC3'\n",
       "\\item 'PC4'\n",
       "\\item 'PC5'\n",
       "\\item 'PC6'\n",
       "\\item 'PC7'\n",
       "\\item 'PC8'\n",
       "\\item 'PC9'\n",
       "\\item 'PC10'\n",
       "\\item 'PC11'\n",
       "\\item 'PC12'\n",
       "\\item 'PC13'\n",
       "\\item 'PC14'\n",
       "\\item 'PC15'\n",
       "\\item 'PC16'\n",
       "\\item 'PC17'\n",
       "\\item 'PC18'\n",
       "\\item 'PC19'\n",
       "\\item 'PC20'\n",
       "\\item 'PC21'\n",
       "\\item 'PC22'\n",
       "\\item 'PC23'\n",
       "\\item 'PC24'\n",
       "\\item 'PC25'\n",
       "\\item 'PC26'\n",
       "\\item 'PC27'\n",
       "\\item 'PC28'\n",
       "\\item 'PC29'\n",
       "\\item 'PC30'\n",
       "\\item 'pao2fio2\\_mean'\n",
       "\\item 'peep\\_mean'\n",
       "\\item 'pao2fio2\\_max'\n",
       "\\item 'peep\\_max'\n",
       "\\item 'pao2fio2\\_sd'\n",
       "\\item 'peep\\_sd'\n",
       "\\end{enumerate*}\n"
      ],
      "text/markdown": [
       "1. 'icustay_id'\n",
       "2. 'age'\n",
       "3. 'subject_id'\n",
       "4. 'hadm_id'\n",
       "5. 'admission_type'\n",
       "6. 'admittime'\n",
       "7. 'dischtime'\n",
       "8. 'first_hosp_stay'\n",
       "9. 'first_icu_stay'\n",
       "10. 'hospital_expire_flag'\n",
       "11. 'hospstay_seq'\n",
       "12. 'icustay_seq'\n",
       "13. 'intime.x'\n",
       "14. 'los_hospital'\n",
       "15. 'los_icu'\n",
       "16. 'outtime'\n",
       "17. 'apsiii'\n",
       "18. 'apsiii_prob'\n",
       "19. 'oasis'\n",
       "20. 'oasis_prob'\n",
       "21. 'icu_mort'\n",
       "22. 'h_mort'\n",
       "23. 'one_mort'\n",
       "24. 'thr_mort'\n",
       "25. 'six_mort'\n",
       "26. 'tv_set'\n",
       "27. 'gender'\n",
       "28. 'ethnicity'\n",
       "29. 'height'\n",
       "30. 'pbw'\n",
       "31. 'tv_pbw'\n",
       "32. 'tv_pbw_observed'\n",
       "33. 'tv_cat'\n",
       "34. 'intime.y'\n",
       "35. 'deathtime'\n",
       "36. 'time_till_death'\n",
       "37. 'tmins'\n",
       "38. 'tdays'\n",
       "39. 'mean_tv_observed'\n",
       "40. 'tv_pbw_mean'\n",
       "41. 'chosen'\n",
       "42. 'congestive_heart_failure'\n",
       "43. 'cardiac_arrhythmias'\n",
       "44. 'valvular_disease'\n",
       "45. 'pulmonary_circulation'\n",
       "46. 'peripheral_vascular'\n",
       "47. 'hypertension'\n",
       "48. 'paralysis'\n",
       "49. 'other_neurological'\n",
       "50. 'chronic_pulmonary'\n",
       "51. 'diabetes_uncomplicated'\n",
       "52. 'diabetes_complicated'\n",
       "53. 'hypothyroidism'\n",
       "54. 'renal_failure'\n",
       "55. 'liver_disease'\n",
       "56. 'peptic_ulcer'\n",
       "57. 'aids'\n",
       "58. 'lymphoma'\n",
       "59. 'metastatic_cancer'\n",
       "60. 'solid_tumor'\n",
       "61. 'rheumatoid_arthritis'\n",
       "62. 'coagulopathy'\n",
       "63. 'obesity'\n",
       "64. 'weight_loss'\n",
       "65. 'fluid_electrolyte'\n",
       "66. 'blood_loss_anemia'\n",
       "67. 'deficiency_anemias'\n",
       "68. 'alcohol_abuse'\n",
       "69. 'drug_abuse'\n",
       "70. 'psychoses'\n",
       "71. 'depression'\n",
       "72. 'hours_vent'\n",
       "73. 'PC1'\n",
       "74. 'PC2'\n",
       "75. 'PC3'\n",
       "76. 'PC4'\n",
       "77. 'PC5'\n",
       "78. 'PC6'\n",
       "79. 'PC7'\n",
       "80. 'PC8'\n",
       "81. 'PC9'\n",
       "82. 'PC10'\n",
       "83. 'PC11'\n",
       "84. 'PC12'\n",
       "85. 'PC13'\n",
       "86. 'PC14'\n",
       "87. 'PC15'\n",
       "88. 'PC16'\n",
       "89. 'PC17'\n",
       "90. 'PC18'\n",
       "91. 'PC19'\n",
       "92. 'PC20'\n",
       "93. 'PC21'\n",
       "94. 'PC22'\n",
       "95. 'PC23'\n",
       "96. 'PC24'\n",
       "97. 'PC25'\n",
       "98. 'PC26'\n",
       "99. 'PC27'\n",
       "100. 'PC28'\n",
       "101. 'PC29'\n",
       "102. 'PC30'\n",
       "103. 'pao2fio2_mean'\n",
       "104. 'peep_mean'\n",
       "105. 'pao2fio2_max'\n",
       "106. 'peep_max'\n",
       "107. 'pao2fio2_sd'\n",
       "108. 'peep_sd'\n",
       "\n",
       "\n"
      ],
      "text/plain": [
       "  [1] \"icustay_id\"               \"age\"                     \n",
       "  [3] \"subject_id\"               \"hadm_id\"                 \n",
       "  [5] \"admission_type\"           \"admittime\"               \n",
       "  [7] \"dischtime\"                \"first_hosp_stay\"         \n",
       "  [9] \"first_icu_stay\"           \"hospital_expire_flag\"    \n",
       " [11] \"hospstay_seq\"             \"icustay_seq\"             \n",
       " [13] \"intime.x\"                 \"los_hospital\"            \n",
       " [15] \"los_icu\"                  \"outtime\"                 \n",
       " [17] \"apsiii\"                   \"apsiii_prob\"             \n",
       " [19] \"oasis\"                    \"oasis_prob\"              \n",
       " [21] \"icu_mort\"                 \"h_mort\"                  \n",
       " [23] \"one_mort\"                 \"thr_mort\"                \n",
       " [25] \"six_mort\"                 \"tv_set\"                  \n",
       " [27] \"gender\"                   \"ethnicity\"               \n",
       " [29] \"height\"                   \"pbw\"                     \n",
       " [31] \"tv_pbw\"                   \"tv_pbw_observed\"         \n",
       " [33] \"tv_cat\"                   \"intime.y\"                \n",
       " [35] \"deathtime\"                \"time_till_death\"         \n",
       " [37] \"tmins\"                    \"tdays\"                   \n",
       " [39] \"mean_tv_observed\"         \"tv_pbw_mean\"             \n",
       " [41] \"chosen\"                   \"congestive_heart_failure\"\n",
       " [43] \"cardiac_arrhythmias\"      \"valvular_disease\"        \n",
       " [45] \"pulmonary_circulation\"    \"peripheral_vascular\"     \n",
       " [47] \"hypertension\"             \"paralysis\"               \n",
       " [49] \"other_neurological\"       \"chronic_pulmonary\"       \n",
       " [51] \"diabetes_uncomplicated\"   \"diabetes_complicated\"    \n",
       " [53] \"hypothyroidism\"           \"renal_failure\"           \n",
       " [55] \"liver_disease\"            \"peptic_ulcer\"            \n",
       " [57] \"aids\"                     \"lymphoma\"                \n",
       " [59] \"metastatic_cancer\"        \"solid_tumor\"             \n",
       " [61] \"rheumatoid_arthritis\"     \"coagulopathy\"            \n",
       " [63] \"obesity\"                  \"weight_loss\"             \n",
       " [65] \"fluid_electrolyte\"        \"blood_loss_anemia\"       \n",
       " [67] \"deficiency_anemias\"       \"alcohol_abuse\"           \n",
       " [69] \"drug_abuse\"               \"psychoses\"               \n",
       " [71] \"depression\"               \"hours_vent\"              \n",
       " [73] \"PC1\"                      \"PC2\"                     \n",
       " [75] \"PC3\"                      \"PC4\"                     \n",
       " [77] \"PC5\"                      \"PC6\"                     \n",
       " [79] \"PC7\"                      \"PC8\"                     \n",
       " [81] \"PC9\"                      \"PC10\"                    \n",
       " [83] \"PC11\"                     \"PC12\"                    \n",
       " [85] \"PC13\"                     \"PC14\"                    \n",
       " [87] \"PC15\"                     \"PC16\"                    \n",
       " [89] \"PC17\"                     \"PC18\"                    \n",
       " [91] \"PC19\"                     \"PC20\"                    \n",
       " [93] \"PC21\"                     \"PC22\"                    \n",
       " [95] \"PC23\"                     \"PC24\"                    \n",
       " [97] \"PC25\"                     \"PC26\"                    \n",
       " [99] \"PC27\"                     \"PC28\"                    \n",
       "[101] \"PC29\"                     \"PC30\"                    \n",
       "[103] \"pao2fio2_mean\"            \"peep_mean\"               \n",
       "[105] \"pao2fio2_max\"             \"peep_max\"                \n",
       "[107] \"pao2fio2_sd\"              \"peep_sd\"                 "
      ]
     },
     "metadata": {},
     "output_type": "display_data"
    },
    {
     "data": {
      "text/html": [
       "<table>\n",
       "<thead><tr><th scope=col>icustay_id</th><th scope=col>age</th><th scope=col>subject_id</th><th scope=col>hadm_id</th><th scope=col>admission_type</th><th scope=col>admittime</th><th scope=col>dischtime</th><th scope=col>first_hosp_stay</th><th scope=col>first_icu_stay</th><th scope=col>hospital_expire_flag</th><th scope=col>⋯</th><th scope=col>PC27</th><th scope=col>PC28</th><th scope=col>PC29</th><th scope=col>PC30</th><th scope=col>pao2fio2_mean</th><th scope=col>peep_mean</th><th scope=col>pao2fio2_max</th><th scope=col>peep_max</th><th scope=col>pao2fio2_sd</th><th scope=col>peep_sd</th></tr></thead>\n",
       "<tbody>\n",
       "\t<tr><td>200191             </td><td>62.4176            </td><td>76012              </td><td>191578             </td><td>EMERGENCY          </td><td>2160-11-18 12:26:00</td><td>2160-12-03 18:53:00</td><td>Y                  </td><td>Y                  </td><td>0                  </td><td>⋯                  </td><td>        NA         </td><td>          NA       </td><td>         NA        </td><td>         NA        </td><td>254.8810           </td><td> 5.000000          </td><td> 72.67983          </td><td>0.000000           </td><td> 72.67983          </td><td>0.000000           </td></tr>\n",
       "\t<tr><td>200290             </td><td>59.6253            </td><td>76420              </td><td>160159             </td><td>URGENT             </td><td>2102-12-24 15:52:00</td><td>2103-01-12 14:50:00</td><td>Y                  </td><td>Y                  </td><td>0                  </td><td>⋯                  </td><td>        NA         </td><td>          NA       </td><td>         NA        </td><td>         NA        </td><td>178.8568           </td><td>12.482759          </td><td> 80.25355          </td><td>3.841695           </td><td> 80.25355          </td><td>3.841695           </td></tr>\n",
       "\t<tr><td>200325             </td><td>53.0687            </td><td>82257              </td><td>161851             </td><td>EMERGENCY          </td><td>2142-06-01 22:21:00</td><td>2142-08-10 15:00:00</td><td>Y                  </td><td>Y                  </td><td>0                  </td><td>⋯                  </td><td>        NA         </td><td>          NA       </td><td>         NA        </td><td>         NA        </td><td>      NA           </td><td>       NA          </td><td>       NA          </td><td>      NA           </td><td>       NA          </td><td>      NA           </td></tr>\n",
       "\t<tr><td>200489             </td><td>68.7234            </td><td>64819              </td><td>159799             </td><td>EMERGENCY          </td><td>2156-06-09 15:49:00</td><td>2156-06-17 15:20:00</td><td>Y                  </td><td>Y                  </td><td>0                  </td><td>⋯                  </td><td>        NA         </td><td>          NA       </td><td>         NA        </td><td>         NA        </td><td>      NA           </td><td>       NA          </td><td>       NA          </td><td>      NA           </td><td>       NA          </td><td>      NA           </td></tr>\n",
       "\t<tr><td>200694             </td><td>59.9734            </td><td>59347              </td><td>144152             </td><td>URGENT             </td><td>2145-01-16 18:59:00</td><td>2145-02-24 13:21:00</td><td>Y                  </td><td>Y                  </td><td>0                  </td><td>⋯                  </td><td>        NA         </td><td>          NA       </td><td>         NA        </td><td>         NA        </td><td>253.2088           </td><td> 9.875000          </td><td> 66.93859          </td><td>2.531939           </td><td> 66.93859          </td><td>2.531939           </td></tr>\n",
       "\t<tr><td>201077             </td><td>25.9579            </td><td>57764              </td><td>103584             </td><td>EMERGENCY          </td><td>2126-02-01 21:56:00</td><td>2126-05-14 10:23:00</td><td>Y                  </td><td>Y                  </td><td>0                  </td><td>⋯                  </td><td>0.02484009         </td><td>0.0009104123       </td><td>-0.01533627        </td><td>0.001039624        </td><td>408.9708           </td><td> 5.436667          </td><td>213.08508          </td><td>1.267766           </td><td>213.08508          </td><td>1.267766           </td></tr>\n",
       "</tbody>\n",
       "</table>\n"
      ],
      "text/latex": [
       "\\begin{tabular}{r|llllllllllllllllllllllllllllllllllllllllllllllllllllllllllllllllllllllllllllllllllllllllllllllllllllllllllll}\n",
       " icustay\\_id & age & subject\\_id & hadm\\_id & admission\\_type & admittime & dischtime & first\\_hosp\\_stay & first\\_icu\\_stay & hospital\\_expire\\_flag & ⋯ & PC27 & PC28 & PC29 & PC30 & pao2fio2\\_mean & peep\\_mean & pao2fio2\\_max & peep\\_max & pao2fio2\\_sd & peep\\_sd\\\\\n",
       "\\hline\n",
       "\t 200191              & 62.4176             & 76012               & 191578              & EMERGENCY           & 2160-11-18 12:26:00 & 2160-12-03 18:53:00 & Y                   & Y                   & 0                   & ⋯                   &         NA          &           NA        &          NA         &          NA         & 254.8810            &  5.000000           &  72.67983           & 0.000000            &  72.67983           & 0.000000           \\\\\n",
       "\t 200290              & 59.6253             & 76420               & 160159              & URGENT              & 2102-12-24 15:52:00 & 2103-01-12 14:50:00 & Y                   & Y                   & 0                   & ⋯                   &         NA          &           NA        &          NA         &          NA         & 178.8568            & 12.482759           &  80.25355           & 3.841695            &  80.25355           & 3.841695           \\\\\n",
       "\t 200325              & 53.0687             & 82257               & 161851              & EMERGENCY           & 2142-06-01 22:21:00 & 2142-08-10 15:00:00 & Y                   & Y                   & 0                   & ⋯                   &         NA          &           NA        &          NA         &          NA         &       NA            &        NA           &        NA           &       NA            &        NA           &       NA           \\\\\n",
       "\t 200489              & 68.7234             & 64819               & 159799              & EMERGENCY           & 2156-06-09 15:49:00 & 2156-06-17 15:20:00 & Y                   & Y                   & 0                   & ⋯                   &         NA          &           NA        &          NA         &          NA         &       NA            &        NA           &        NA           &       NA            &        NA           &       NA           \\\\\n",
       "\t 200694              & 59.9734             & 59347               & 144152              & URGENT              & 2145-01-16 18:59:00 & 2145-02-24 13:21:00 & Y                   & Y                   & 0                   & ⋯                   &         NA          &           NA        &          NA         &          NA         & 253.2088            &  9.875000           &  66.93859           & 2.531939            &  66.93859           & 2.531939           \\\\\n",
       "\t 201077              & 25.9579             & 57764               & 103584              & EMERGENCY           & 2126-02-01 21:56:00 & 2126-05-14 10:23:00 & Y                   & Y                   & 0                   & ⋯                   & 0.02484009          & 0.0009104123        & -0.01533627         & 0.001039624         & 408.9708            &  5.436667           & 213.08508           & 1.267766            & 213.08508           & 1.267766           \\\\\n",
       "\\end{tabular}\n"
      ],
      "text/markdown": [
       "\n",
       "icustay_id | age | subject_id | hadm_id | admission_type | admittime | dischtime | first_hosp_stay | first_icu_stay | hospital_expire_flag | ⋯ | PC27 | PC28 | PC29 | PC30 | pao2fio2_mean | peep_mean | pao2fio2_max | peep_max | pao2fio2_sd | peep_sd | \n",
       "|---|---|---|---|---|---|\n",
       "| 200191              | 62.4176             | 76012               | 191578              | EMERGENCY           | 2160-11-18 12:26:00 | 2160-12-03 18:53:00 | Y                   | Y                   | 0                   | ⋯                   |         NA          |           NA        |          NA         |          NA         | 254.8810            |  5.000000           |  72.67983           | 0.000000            |  72.67983           | 0.000000            | \n",
       "| 200290              | 59.6253             | 76420               | 160159              | URGENT              | 2102-12-24 15:52:00 | 2103-01-12 14:50:00 | Y                   | Y                   | 0                   | ⋯                   |         NA          |           NA        |          NA         |          NA         | 178.8568            | 12.482759           |  80.25355           | 3.841695            |  80.25355           | 3.841695            | \n",
       "| 200325              | 53.0687             | 82257               | 161851              | EMERGENCY           | 2142-06-01 22:21:00 | 2142-08-10 15:00:00 | Y                   | Y                   | 0                   | ⋯                   |         NA          |           NA        |          NA         |          NA         |       NA            |        NA           |        NA           |       NA            |        NA           |       NA            | \n",
       "| 200489              | 68.7234             | 64819               | 159799              | EMERGENCY           | 2156-06-09 15:49:00 | 2156-06-17 15:20:00 | Y                   | Y                   | 0                   | ⋯                   |         NA          |           NA        |          NA         |          NA         |       NA            |        NA           |        NA           |       NA            |        NA           |       NA            | \n",
       "| 200694              | 59.9734             | 59347               | 144152              | URGENT              | 2145-01-16 18:59:00 | 2145-02-24 13:21:00 | Y                   | Y                   | 0                   | ⋯                   |         NA          |           NA        |          NA         |          NA         | 253.2088            |  9.875000           |  66.93859           | 2.531939            |  66.93859           | 2.531939            | \n",
       "| 201077              | 25.9579             | 57764               | 103584              | EMERGENCY           | 2126-02-01 21:56:00 | 2126-05-14 10:23:00 | Y                   | Y                   | 0                   | ⋯                   | 0.02484009          | 0.0009104123        | -0.01533627         | 0.001039624         | 408.9708            |  5.436667           | 213.08508           | 1.267766            | 213.08508           | 1.267766            | \n",
       "\n",
       "\n"
      ],
      "text/plain": [
       "  icustay_id age     subject_id hadm_id admission_type admittime          \n",
       "1 200191     62.4176 76012      191578  EMERGENCY      2160-11-18 12:26:00\n",
       "2 200290     59.6253 76420      160159  URGENT         2102-12-24 15:52:00\n",
       "3 200325     53.0687 82257      161851  EMERGENCY      2142-06-01 22:21:00\n",
       "4 200489     68.7234 64819      159799  EMERGENCY      2156-06-09 15:49:00\n",
       "5 200694     59.9734 59347      144152  URGENT         2145-01-16 18:59:00\n",
       "6 201077     25.9579 57764      103584  EMERGENCY      2126-02-01 21:56:00\n",
       "  dischtime           first_hosp_stay first_icu_stay hospital_expire_flag ⋯\n",
       "1 2160-12-03 18:53:00 Y               Y              0                    ⋯\n",
       "2 2103-01-12 14:50:00 Y               Y              0                    ⋯\n",
       "3 2142-08-10 15:00:00 Y               Y              0                    ⋯\n",
       "4 2156-06-17 15:20:00 Y               Y              0                    ⋯\n",
       "5 2145-02-24 13:21:00 Y               Y              0                    ⋯\n",
       "6 2126-05-14 10:23:00 Y               Y              0                    ⋯\n",
       "  PC27       PC28         PC29        PC30        pao2fio2_mean peep_mean\n",
       "1         NA           NA          NA          NA 254.8810       5.000000\n",
       "2         NA           NA          NA          NA 178.8568      12.482759\n",
       "3         NA           NA          NA          NA       NA             NA\n",
       "4         NA           NA          NA          NA       NA             NA\n",
       "5         NA           NA          NA          NA 253.2088       9.875000\n",
       "6 0.02484009 0.0009104123 -0.01533627 0.001039624 408.9708       5.436667\n",
       "  pao2fio2_max peep_max pao2fio2_sd peep_sd \n",
       "1  72.67983    0.000000  72.67983   0.000000\n",
       "2  80.25355    3.841695  80.25355   3.841695\n",
       "3        NA          NA        NA         NA\n",
       "4        NA          NA        NA         NA\n",
       "5  66.93859    2.531939  66.93859   2.531939\n",
       "6 213.08508    1.267766 213.08508   1.267766"
      ]
     },
     "metadata": {},
     "output_type": "display_data"
    }
   ],
   "source": [
    "#read in compiled tables\n",
    "compiledTable<-read.csv(\"/Data/common/survival_1.csv\")\n",
    "#head(compiledTable)\n",
    "colnames(compiledTable)\n",
    "head(compiledTable)"
   ]
  },
  {
   "cell_type": "code",
   "execution_count": 126,
   "metadata": {},
   "outputs": [
    {
     "data": {
      "text/html": [
       "<ol class=list-inline>\n",
       "\t<li>58976</li>\n",
       "\t<li>32</li>\n",
       "</ol>\n"
      ],
      "text/latex": [
       "\\begin{enumerate*}\n",
       "\\item 58976\n",
       "\\item 32\n",
       "\\end{enumerate*}\n"
      ],
      "text/markdown": [
       "1. 58976\n",
       "2. 32\n",
       "\n",
       "\n"
      ],
      "text/plain": [
       "[1] 58976    32"
      ]
     },
     "metadata": {},
     "output_type": "display_data"
    },
    {
     "data": {
      "text/plain": [
       "NULL"
      ]
     },
     "metadata": {},
     "output_type": "display_data"
    },
    {
     "data": {
      "text/html": [
       "<ol class=list-inline>\n",
       "\t<li>1105</li>\n",
       "\t<li>32</li>\n",
       "</ol>\n"
      ],
      "text/latex": [
       "\\begin{enumerate*}\n",
       "\\item 1105\n",
       "\\item 32\n",
       "\\end{enumerate*}\n"
      ],
      "text/markdown": [
       "1. 1105\n",
       "2. 32\n",
       "\n",
       "\n"
      ],
      "text/plain": [
       "[1] 1105   32"
      ]
     },
     "metadata": {},
     "output_type": "display_data"
    },
    {
     "data": {
      "text/html": [
       "<table>\n",
       "<thead><tr><th scope=col>subject_id</th><th scope=col>hadm_id</th><th scope=col>congestive_heart_failure</th><th scope=col>cardiac_arrhythmias</th><th scope=col>valvular_disease</th><th scope=col>pulmonary_circulation</th><th scope=col>peripheral_vascular</th><th scope=col>hypertension</th><th scope=col>paralysis</th><th scope=col>other_neurological</th><th scope=col>⋯</th><th scope=col>coagulopathy</th><th scope=col>obesity</th><th scope=col>weight_loss</th><th scope=col>fluid_electrolyte</th><th scope=col>blood_loss_anemia</th><th scope=col>deficiency_anemias</th><th scope=col>alcohol_abuse</th><th scope=col>drug_abuse</th><th scope=col>psychoses</th><th scope=col>depression</th></tr></thead>\n",
       "<tbody>\n",
       "\t<tr><td>76012 </td><td>191578</td><td>0     </td><td>0     </td><td>0     </td><td>0     </td><td>0     </td><td>0     </td><td>0     </td><td>0     </td><td>⋯     </td><td>0     </td><td>0     </td><td>1     </td><td>0     </td><td>0     </td><td>0     </td><td>0     </td><td>0     </td><td>0     </td><td>0     </td></tr>\n",
       "\t<tr><td>76420 </td><td>160159</td><td>0     </td><td>0     </td><td>0     </td><td>0     </td><td>0     </td><td>0     </td><td>0     </td><td>0     </td><td>⋯     </td><td>0     </td><td>0     </td><td>0     </td><td>1     </td><td>0     </td><td>1     </td><td>0     </td><td>0     </td><td>0     </td><td>0     </td></tr>\n",
       "\t<tr><td>82257 </td><td>161851</td><td>0     </td><td>1     </td><td>0     </td><td>0     </td><td>0     </td><td>0     </td><td>1     </td><td>0     </td><td>⋯     </td><td>0     </td><td>0     </td><td>1     </td><td>0     </td><td>0     </td><td>0     </td><td>0     </td><td>0     </td><td>0     </td><td>0     </td></tr>\n",
       "\t<tr><td>64819 </td><td>159799</td><td>0     </td><td>0     </td><td>0     </td><td>0     </td><td>0     </td><td>1     </td><td>0     </td><td>0     </td><td>⋯     </td><td>0     </td><td>0     </td><td>0     </td><td>0     </td><td>0     </td><td>0     </td><td>0     </td><td>0     </td><td>0     </td><td>1     </td></tr>\n",
       "\t<tr><td>59347 </td><td>144152</td><td>0     </td><td>0     </td><td>0     </td><td>0     </td><td>0     </td><td>0     </td><td>0     </td><td>0     </td><td>⋯     </td><td>0     </td><td>1     </td><td>0     </td><td>0     </td><td>0     </td><td>0     </td><td>0     </td><td>0     </td><td>0     </td><td>0     </td></tr>\n",
       "\t<tr><td>57764 </td><td>103584</td><td>0     </td><td>0     </td><td>0     </td><td>0     </td><td>0     </td><td>0     </td><td>0     </td><td>0     </td><td>⋯     </td><td>1     </td><td>0     </td><td>0     </td><td>1     </td><td>0     </td><td>0     </td><td>0     </td><td>0     </td><td>0     </td><td>0     </td></tr>\n",
       "</tbody>\n",
       "</table>\n"
      ],
      "text/latex": [
       "\\begin{tabular}{r|llllllllllllllllllllllllllllllll}\n",
       " subject\\_id & hadm\\_id & congestive\\_heart\\_failure & cardiac\\_arrhythmias & valvular\\_disease & pulmonary\\_circulation & peripheral\\_vascular & hypertension & paralysis & other\\_neurological & ⋯ & coagulopathy & obesity & weight\\_loss & fluid\\_electrolyte & blood\\_loss\\_anemia & deficiency\\_anemias & alcohol\\_abuse & drug\\_abuse & psychoses & depression\\\\\n",
       "\\hline\n",
       "\t 76012  & 191578 & 0      & 0      & 0      & 0      & 0      & 0      & 0      & 0      & ⋯      & 0      & 0      & 1      & 0      & 0      & 0      & 0      & 0      & 0      & 0     \\\\\n",
       "\t 76420  & 160159 & 0      & 0      & 0      & 0      & 0      & 0      & 0      & 0      & ⋯      & 0      & 0      & 0      & 1      & 0      & 1      & 0      & 0      & 0      & 0     \\\\\n",
       "\t 82257  & 161851 & 0      & 1      & 0      & 0      & 0      & 0      & 1      & 0      & ⋯      & 0      & 0      & 1      & 0      & 0      & 0      & 0      & 0      & 0      & 0     \\\\\n",
       "\t 64819  & 159799 & 0      & 0      & 0      & 0      & 0      & 1      & 0      & 0      & ⋯      & 0      & 0      & 0      & 0      & 0      & 0      & 0      & 0      & 0      & 1     \\\\\n",
       "\t 59347  & 144152 & 0      & 0      & 0      & 0      & 0      & 0      & 0      & 0      & ⋯      & 0      & 1      & 0      & 0      & 0      & 0      & 0      & 0      & 0      & 0     \\\\\n",
       "\t 57764  & 103584 & 0      & 0      & 0      & 0      & 0      & 0      & 0      & 0      & ⋯      & 1      & 0      & 0      & 1      & 0      & 0      & 0      & 0      & 0      & 0     \\\\\n",
       "\\end{tabular}\n"
      ],
      "text/markdown": [
       "\n",
       "subject_id | hadm_id | congestive_heart_failure | cardiac_arrhythmias | valvular_disease | pulmonary_circulation | peripheral_vascular | hypertension | paralysis | other_neurological | ⋯ | coagulopathy | obesity | weight_loss | fluid_electrolyte | blood_loss_anemia | deficiency_anemias | alcohol_abuse | drug_abuse | psychoses | depression | \n",
       "|---|---|---|---|---|---|\n",
       "| 76012  | 191578 | 0      | 0      | 0      | 0      | 0      | 0      | 0      | 0      | ⋯      | 0      | 0      | 1      | 0      | 0      | 0      | 0      | 0      | 0      | 0      | \n",
       "| 76420  | 160159 | 0      | 0      | 0      | 0      | 0      | 0      | 0      | 0      | ⋯      | 0      | 0      | 0      | 1      | 0      | 1      | 0      | 0      | 0      | 0      | \n",
       "| 82257  | 161851 | 0      | 1      | 0      | 0      | 0      | 0      | 1      | 0      | ⋯      | 0      | 0      | 1      | 0      | 0      | 0      | 0      | 0      | 0      | 0      | \n",
       "| 64819  | 159799 | 0      | 0      | 0      | 0      | 0      | 1      | 0      | 0      | ⋯      | 0      | 0      | 0      | 0      | 0      | 0      | 0      | 0      | 0      | 1      | \n",
       "| 59347  | 144152 | 0      | 0      | 0      | 0      | 0      | 0      | 0      | 0      | ⋯      | 0      | 1      | 0      | 0      | 0      | 0      | 0      | 0      | 0      | 0      | \n",
       "| 57764  | 103584 | 0      | 0      | 0      | 0      | 0      | 0      | 0      | 0      | ⋯      | 1      | 0      | 0      | 1      | 0      | 0      | 0      | 0      | 0      | 0      | \n",
       "\n",
       "\n"
      ],
      "text/plain": [
       "  subject_id hadm_id congestive_heart_failure cardiac_arrhythmias\n",
       "1 76012      191578  0                        0                  \n",
       "2 76420      160159  0                        0                  \n",
       "3 82257      161851  0                        1                  \n",
       "4 64819      159799  0                        0                  \n",
       "5 59347      144152  0                        0                  \n",
       "6 57764      103584  0                        0                  \n",
       "  valvular_disease pulmonary_circulation peripheral_vascular hypertension\n",
       "1 0                0                     0                   0           \n",
       "2 0                0                     0                   0           \n",
       "3 0                0                     0                   0           \n",
       "4 0                0                     0                   1           \n",
       "5 0                0                     0                   0           \n",
       "6 0                0                     0                   0           \n",
       "  paralysis other_neurological ⋯ coagulopathy obesity weight_loss\n",
       "1 0         0                  ⋯ 0            0       1          \n",
       "2 0         0                  ⋯ 0            0       0          \n",
       "3 1         0                  ⋯ 0            0       1          \n",
       "4 0         0                  ⋯ 0            0       0          \n",
       "5 0         0                  ⋯ 0            1       0          \n",
       "6 0         0                  ⋯ 1            0       0          \n",
       "  fluid_electrolyte blood_loss_anemia deficiency_anemias alcohol_abuse\n",
       "1 0                 0                 0                  0            \n",
       "2 1                 0                 1                  0            \n",
       "3 0                 0                 0                  0            \n",
       "4 0                 0                 0                  0            \n",
       "5 0                 0                 0                  0            \n",
       "6 1                 0                 0                  0            \n",
       "  drug_abuse psychoses depression\n",
       "1 0          0         0         \n",
       "2 0          0         0         \n",
       "3 0          0         0         \n",
       "4 0          0         1         \n",
       "5 0          0         0         \n",
       "6 0          0         0         "
      ]
     },
     "metadata": {},
     "output_type": "display_data"
    }
   ],
   "source": [
    "dim(elixhauser)\n",
    "oldelix<-colnames(elixhauser)\n",
    "dim(oldelix)\n",
    "newElix<-compiledTable[colnames(compiledTable) %in% oldelix]\n",
    "dim(newElix)\n",
    "head(newElix)\n",
    "\n",
    "#head(elixhauser[!which(elixhauser$subject_id %in% unique(elixhauser$subject_id)),]\n",
    "\n",
    "#table()\n",
    "#head(t(elixhauser[,c(3:32)]))"
   ]
  },
  {
   "cell_type": "code",
   "execution_count": 142,
   "metadata": {},
   "outputs": [
    {
     "data": {
      "text/html": [
       "<ol class=list-inline>\n",
       "\t<li>1105</li>\n",
       "\t<li>30</li>\n",
       "</ol>\n"
      ],
      "text/latex": [
       "\\begin{enumerate*}\n",
       "\\item 1105\n",
       "\\item 30\n",
       "\\end{enumerate*}\n"
      ],
      "text/markdown": [
       "1. 1105\n",
       "2. 30\n",
       "\n",
       "\n"
      ],
      "text/plain": [
       "[1] 1105   30"
      ]
     },
     "metadata": {},
     "output_type": "display_data"
    },
    {
     "data": {
      "text/html": [
       "<table>\n",
       "<thead><tr><th></th><th scope=col>PC1</th><th scope=col>PC2</th><th scope=col>PC3</th><th scope=col>PC4</th><th scope=col>PC5</th><th scope=col>PC6</th><th scope=col>PC7</th><th scope=col>PC8</th><th scope=col>PC9</th><th scope=col>PC10</th><th scope=col>⋯</th><th scope=col>PC21</th><th scope=col>PC22</th><th scope=col>PC23</th><th scope=col>PC24</th><th scope=col>PC25</th><th scope=col>PC26</th><th scope=col>PC27</th><th scope=col>PC28</th><th scope=col>PC29</th><th scope=col>PC30</th></tr></thead>\n",
       "<tbody>\n",
       "\t<tr><th scope=row>76012</th><td>-0.7546715   </td><td>-0.3450593   </td><td>-0.1272577   </td><td> 0.33664153  </td><td> 0.06063483  </td><td>-0.0001582318</td><td> 0.13936810  </td><td> 0.09175189  </td><td> 0.00795296  </td><td> 0.01627775  </td><td>⋯            </td><td>-0.026816612 </td><td> 0.11062118  </td><td>-0.05330906  </td><td>-0.056474474 </td><td> 0.02397190  </td><td>0.001200581  </td><td> 0.067853457 </td><td>-0.002804179 </td><td> 0.0001194167</td><td>-2.880955e-05</td></tr>\n",
       "\t<tr><th scope=row>76420</th><td>-0.1461770   </td><td> 0.3830158   </td><td>-0.2769528   </td><td> 0.03788286  </td><td> 0.85934306  </td><td>-0.1812769065</td><td>-0.17720158  </td><td>-0.16336980  </td><td>-0.09002984  </td><td> 0.18941262  </td><td>⋯            </td><td> 0.034563862 </td><td> 0.02771447  </td><td>-0.04680938  </td><td>-0.017655779 </td><td> 0.06303260  </td><td>0.005164864  </td><td>-0.009358332 </td><td> 0.028032812 </td><td> 0.0010988817</td><td> 2.567680e-03</td></tr>\n",
       "\t<tr><th scope=row>82257</th><td>-0.4799071   </td><td>-0.3893508   </td><td> 0.3724571   </td><td> 0.58936315  </td><td> 0.04454862  </td><td> 0.4544810718</td><td> 0.51791000  </td><td> 0.09344255  </td><td> 0.78502194  </td><td> 0.17566731  </td><td>⋯            </td><td> 0.143670136 </td><td>-0.02691351  </td><td>-0.01207339  </td><td>-0.157162472 </td><td>-0.02853014  </td><td>0.071270315  </td><td> 0.072534973 </td><td> 0.014498476 </td><td>-0.0026735616</td><td>-5.760904e-03</td></tr>\n",
       "\t<tr><th scope=row>64819</th><td> 0.2020114   </td><td>-0.9344380   </td><td>-0.8551369   </td><td> 0.37509141  </td><td>-0.22336915  </td><td>-0.0560868999</td><td>-0.24114154  </td><td> 0.24367768  </td><td>-0.24238877  </td><td> 0.04735995  </td><td>⋯            </td><td> 0.224539295 </td><td>-0.01669482  </td><td>-0.07165049  </td><td>-0.069847660 </td><td> 0.02198490  </td><td>0.055723445  </td><td> 0.021166000 </td><td> 0.046088783 </td><td>-0.0018571391</td><td> 3.501203e-04</td></tr>\n",
       "\t<tr><th scope=row>59347</th><td>-0.7430822   </td><td>-0.4564497   </td><td>-0.1130411   </td><td>-0.03760325  </td><td>-0.05324474  </td><td>-0.1552251865</td><td> 0.02669934  </td><td> 0.17145615  </td><td>-0.43274673  </td><td> 0.25029235  </td><td>⋯            </td><td> 0.094835517 </td><td> 0.06612501  </td><td>-0.07386802  </td><td> 0.016667577 </td><td> 0.02466690  </td><td>0.006982244  </td><td>-0.000718805 </td><td> 0.021201782 </td><td> 0.0002299196</td><td> 6.619304e-04</td></tr>\n",
       "\t<tr><th scope=row>57764</th><td>-0.2229296   </td><td> 0.7660169   </td><td>-0.2454379   </td><td> 0.24607997  </td><td>-0.30644693  </td><td> 0.0946961477</td><td> 0.15347141  </td><td>-0.15499052  </td><td>-0.36272428  </td><td>-0.18387714  </td><td>⋯            </td><td> 0.005658695 </td><td> 0.04692203  </td><td>-0.06021299  </td><td>-0.003248879 </td><td> 0.05079821  </td><td>0.012240739  </td><td> 0.015588938 </td><td> 0.014190129 </td><td> 0.0002711778</td><td> 2.077167e-03</td></tr>\n",
       "</tbody>\n",
       "</table>\n"
      ],
      "text/latex": [
       "\\begin{tabular}{r|llllllllllllllllllllllllllllll}\n",
       "  & PC1 & PC2 & PC3 & PC4 & PC5 & PC6 & PC7 & PC8 & PC9 & PC10 & ⋯ & PC21 & PC22 & PC23 & PC24 & PC25 & PC26 & PC27 & PC28 & PC29 & PC30\\\\\n",
       "\\hline\n",
       "\t76012 & -0.7546715    & -0.3450593    & -0.1272577    &  0.33664153   &  0.06063483   & -0.0001582318 &  0.13936810   &  0.09175189   &  0.00795296   &  0.01627775   & ⋯             & -0.026816612  &  0.11062118   & -0.05330906   & -0.056474474  &  0.02397190   & 0.001200581   &  0.067853457  & -0.002804179  &  0.0001194167 & -2.880955e-05\\\\\n",
       "\t76420 & -0.1461770    &  0.3830158    & -0.2769528    &  0.03788286   &  0.85934306   & -0.1812769065 & -0.17720158   & -0.16336980   & -0.09002984   &  0.18941262   & ⋯             &  0.034563862  &  0.02771447   & -0.04680938   & -0.017655779  &  0.06303260   & 0.005164864   & -0.009358332  &  0.028032812  &  0.0010988817 &  2.567680e-03\\\\\n",
       "\t82257 & -0.4799071    & -0.3893508    &  0.3724571    &  0.58936315   &  0.04454862   &  0.4544810718 &  0.51791000   &  0.09344255   &  0.78502194   &  0.17566731   & ⋯             &  0.143670136  & -0.02691351   & -0.01207339   & -0.157162472  & -0.02853014   & 0.071270315   &  0.072534973  &  0.014498476  & -0.0026735616 & -5.760904e-03\\\\\n",
       "\t64819 &  0.2020114    & -0.9344380    & -0.8551369    &  0.37509141   & -0.22336915   & -0.0560868999 & -0.24114154   &  0.24367768   & -0.24238877   &  0.04735995   & ⋯             &  0.224539295  & -0.01669482   & -0.07165049   & -0.069847660  &  0.02198490   & 0.055723445   &  0.021166000  &  0.046088783  & -0.0018571391 &  3.501203e-04\\\\\n",
       "\t59347 & -0.7430822    & -0.4564497    & -0.1130411    & -0.03760325   & -0.05324474   & -0.1552251865 &  0.02669934   &  0.17145615   & -0.43274673   &  0.25029235   & ⋯             &  0.094835517  &  0.06612501   & -0.07386802   &  0.016667577  &  0.02466690   & 0.006982244   & -0.000718805  &  0.021201782  &  0.0002299196 &  6.619304e-04\\\\\n",
       "\t57764 & -0.2229296    &  0.7660169    & -0.2454379    &  0.24607997   & -0.30644693   &  0.0946961477 &  0.15347141   & -0.15499052   & -0.36272428   & -0.18387714   & ⋯             &  0.005658695  &  0.04692203   & -0.06021299   & -0.003248879  &  0.05079821   & 0.012240739   &  0.015588938  &  0.014190129  &  0.0002711778 &  2.077167e-03\\\\\n",
       "\\end{tabular}\n"
      ],
      "text/markdown": [
       "\n",
       "| <!--/--> | PC1 | PC2 | PC3 | PC4 | PC5 | PC6 | PC7 | PC8 | PC9 | PC10 | ⋯ | PC21 | PC22 | PC23 | PC24 | PC25 | PC26 | PC27 | PC28 | PC29 | PC30 | \n",
       "|---|---|---|---|---|---|\n",
       "| 76012 | -0.7546715    | -0.3450593    | -0.1272577    |  0.33664153   |  0.06063483   | -0.0001582318 |  0.13936810   |  0.09175189   |  0.00795296   |  0.01627775   | ⋯             | -0.026816612  |  0.11062118   | -0.05330906   | -0.056474474  |  0.02397190   | 0.001200581   |  0.067853457  | -0.002804179  |  0.0001194167 | -2.880955e-05 | \n",
       "| 76420 | -0.1461770    |  0.3830158    | -0.2769528    |  0.03788286   |  0.85934306   | -0.1812769065 | -0.17720158   | -0.16336980   | -0.09002984   |  0.18941262   | ⋯             |  0.034563862  |  0.02771447   | -0.04680938   | -0.017655779  |  0.06303260   | 0.005164864   | -0.009358332  |  0.028032812  |  0.0010988817 |  2.567680e-03 | \n",
       "| 82257 | -0.4799071    | -0.3893508    |  0.3724571    |  0.58936315   |  0.04454862   |  0.4544810718 |  0.51791000   |  0.09344255   |  0.78502194   |  0.17566731   | ⋯             |  0.143670136  | -0.02691351   | -0.01207339   | -0.157162472  | -0.02853014   | 0.071270315   |  0.072534973  |  0.014498476  | -0.0026735616 | -5.760904e-03 | \n",
       "| 64819 |  0.2020114    | -0.9344380    | -0.8551369    |  0.37509141   | -0.22336915   | -0.0560868999 | -0.24114154   |  0.24367768   | -0.24238877   |  0.04735995   | ⋯             |  0.224539295  | -0.01669482   | -0.07165049   | -0.069847660  |  0.02198490   | 0.055723445   |  0.021166000  |  0.046088783  | -0.0018571391 |  3.501203e-04 | \n",
       "| 59347 | -0.7430822    | -0.4564497    | -0.1130411    | -0.03760325   | -0.05324474   | -0.1552251865 |  0.02669934   |  0.17145615   | -0.43274673   |  0.25029235   | ⋯             |  0.094835517  |  0.06612501   | -0.07386802   |  0.016667577  |  0.02466690   | 0.006982244   | -0.000718805  |  0.021201782  |  0.0002299196 |  6.619304e-04 | \n",
       "| 57764 | -0.2229296    |  0.7660169    | -0.2454379    |  0.24607997   | -0.30644693   |  0.0946961477 |  0.15347141   | -0.15499052   | -0.36272428   | -0.18387714   | ⋯             |  0.005658695  |  0.04692203   | -0.06021299   | -0.003248879  |  0.05079821   | 0.012240739   |  0.015588938  |  0.014190129  |  0.0002711778 |  2.077167e-03 | \n",
       "\n",
       "\n"
      ],
      "text/plain": [
       "      PC1        PC2        PC3        PC4         PC5         PC6          \n",
       "76012 -0.7546715 -0.3450593 -0.1272577  0.33664153  0.06063483 -0.0001582318\n",
       "76420 -0.1461770  0.3830158 -0.2769528  0.03788286  0.85934306 -0.1812769065\n",
       "82257 -0.4799071 -0.3893508  0.3724571  0.58936315  0.04454862  0.4544810718\n",
       "64819  0.2020114 -0.9344380 -0.8551369  0.37509141 -0.22336915 -0.0560868999\n",
       "59347 -0.7430822 -0.4564497 -0.1130411 -0.03760325 -0.05324474 -0.1552251865\n",
       "57764 -0.2229296  0.7660169 -0.2454379  0.24607997 -0.30644693  0.0946961477\n",
       "      PC7         PC8         PC9         PC10        ⋯ PC21        \n",
       "76012  0.13936810  0.09175189  0.00795296  0.01627775 ⋯ -0.026816612\n",
       "76420 -0.17720158 -0.16336980 -0.09002984  0.18941262 ⋯  0.034563862\n",
       "82257  0.51791000  0.09344255  0.78502194  0.17566731 ⋯  0.143670136\n",
       "64819 -0.24114154  0.24367768 -0.24238877  0.04735995 ⋯  0.224539295\n",
       "59347  0.02669934  0.17145615 -0.43274673  0.25029235 ⋯  0.094835517\n",
       "57764  0.15347141 -0.15499052 -0.36272428 -0.18387714 ⋯  0.005658695\n",
       "      PC22        PC23        PC24         PC25        PC26        PC27        \n",
       "76012  0.11062118 -0.05330906 -0.056474474  0.02397190 0.001200581  0.067853457\n",
       "76420  0.02771447 -0.04680938 -0.017655779  0.06303260 0.005164864 -0.009358332\n",
       "82257 -0.02691351 -0.01207339 -0.157162472 -0.02853014 0.071270315  0.072534973\n",
       "64819 -0.01669482 -0.07165049 -0.069847660  0.02198490 0.055723445  0.021166000\n",
       "59347  0.06612501 -0.07386802  0.016667577  0.02466690 0.006982244 -0.000718805\n",
       "57764  0.04692203 -0.06021299 -0.003248879  0.05079821 0.012240739  0.015588938\n",
       "      PC28         PC29          PC30         \n",
       "76012 -0.002804179  0.0001194167 -2.880955e-05\n",
       "76420  0.028032812  0.0010988817  2.567680e-03\n",
       "82257  0.014498476 -0.0026735616 -5.760904e-03\n",
       "64819  0.046088783 -0.0018571391  3.501203e-04\n",
       "59347  0.021201782  0.0002299196  6.619304e-04\n",
       "57764  0.014190129  0.0002711778  2.077167e-03"
      ]
     },
     "metadata": {},
     "output_type": "display_data"
    },
    {
     "data": {
      "image/png": "[encoded data removed]",
      "text/plain": [
       "plot without title"
      ]
     },
     "metadata": {},
     "output_type": "display_data"
    }
   ],
   "source": [
    "\n",
    "pcaElix<-prcomp(newElix[,c(3:32)])\n",
    "dim(pcaElix$x)\n",
    "pca<-pcaElix$x\n",
    "row.names(pca)<-newElix$subject_id\n",
    "head(pca)\n",
    "write.csv(pca,\"/Data/common/for_kiesha/elixhauser_PCAv2.csv\")\n",
    "\n",
    "#PLOT VARIANCE OF PCA\n",
    " \n",
    "p.variance.explained = pcaElix$sdev^2 / sum(pcaElix$sdev^2)\n",
    "write.csv(p.variance.explained,\"/Data/common/for_kiesha/elixhauser_PCA_perctVar.csv\")\n",
    " # plot percentage of variance explained for each principal component    \n",
    "  dat<-1:12\n",
    "  forplot<-p.variance.explained[dat]\n",
    "  names(forplot)<-c(paste(\"PC\",c(1:12),sep=\"\"))\n",
    "  par(mar=c(5, 5, 1, 8))\n",
    "  barplot(100*forplot, las=2, xlab=\"\", ylab='% Variance Explained',xlim = c(0,12))\n",
    "  "
   ]
  },
  {
   "cell_type": "code",
   "execution_count": 134,
   "metadata": {},
   "outputs": [
    {
     "data": {
      "text/html": [
       "<table>\n",
       "<thead><tr><th></th><th scope=col>PC1</th><th scope=col>PC2</th><th scope=col>PC3</th><th scope=col>PC4</th><th scope=col>PC5</th><th scope=col>PC6</th><th scope=col>PC7</th><th scope=col>PC8</th><th scope=col>PC9</th><th scope=col>PC10</th><th scope=col>⋯</th><th scope=col>PC21</th><th scope=col>PC22</th><th scope=col>PC23</th><th scope=col>PC24</th><th scope=col>PC25</th><th scope=col>PC26</th><th scope=col>PC27</th><th scope=col>PC28</th><th scope=col>PC29</th><th scope=col>PC30</th></tr></thead>\n",
       "<tbody>\n",
       "\t<tr><th scope=row>76012</th><td>-0.75467150  </td><td>-0.345059332 </td><td>-0.12725775  </td><td> 0.336641532 </td><td> 0.060634832 </td><td>-0.0001582318</td><td> 0.13936810  </td><td> 0.09175189  </td><td> 0.007952960 </td><td> 0.016277749 </td><td>⋯            </td><td>-0.026816612 </td><td> 0.11062118  </td><td>-5.330906e-02</td><td>-0.0564744741</td><td> 0.023971901 </td><td> 0.001200581 </td><td> 0.067853457 </td><td>-0.002804179 </td><td> 0.0001194167</td><td>-2.880955e-05</td></tr>\n",
       "\t<tr><th scope=row>76420</th><td>-0.14617704  </td><td> 0.383015826 </td><td>-0.27695283  </td><td> 0.037882859 </td><td> 0.859343065 </td><td>-0.1812769065</td><td>-0.17720158  </td><td>-0.16336980  </td><td>-0.090029844 </td><td> 0.189412622 </td><td>⋯            </td><td> 0.034563862 </td><td> 0.02771447  </td><td>-4.680938e-02</td><td>-0.0176557793</td><td> 0.063032603 </td><td> 0.005164864 </td><td>-0.009358332 </td><td> 0.028032812 </td><td> 0.0010988817</td><td> 2.567680e-03</td></tr>\n",
       "\t<tr><th scope=row>82257</th><td>-0.47990714  </td><td>-0.389350806 </td><td> 0.37245714  </td><td> 0.589363145 </td><td> 0.044548624 </td><td> 0.4544810718</td><td> 0.51791000  </td><td> 0.09344255  </td><td> 0.785021943 </td><td> 0.175667306 </td><td>⋯            </td><td> 0.143670136 </td><td>-0.02691351  </td><td>-1.207339e-02</td><td>-0.1571624718</td><td>-0.028530144 </td><td> 0.071270315 </td><td> 0.072534973 </td><td> 0.014498476 </td><td>-0.0026735616</td><td>-5.760904e-03</td></tr>\n",
       "\t<tr><th scope=row>64819</th><td> 0.20201135  </td><td>-0.934437993 </td><td>-0.85513686  </td><td> 0.375091415 </td><td>-0.223369155 </td><td>-0.0560868999</td><td>-0.24114154  </td><td> 0.24367768  </td><td>-0.242388767 </td><td> 0.047359951 </td><td>⋯            </td><td> 0.224539295 </td><td>-0.01669482  </td><td>-7.165049e-02</td><td>-0.0698476597</td><td> 0.021984895 </td><td> 0.055723445 </td><td> 0.021166000 </td><td> 0.046088783 </td><td>-0.0018571391</td><td> 3.501203e-04</td></tr>\n",
       "\t<tr><th scope=row>59347</th><td>-0.74308222  </td><td>-0.456449668 </td><td>-0.11304109  </td><td>-0.037603249 </td><td>-0.053244739 </td><td>-0.1552251865</td><td> 0.02669934  </td><td> 0.17145615  </td><td>-0.432746730 </td><td> 0.250292350 </td><td>⋯            </td><td> 0.094835517 </td><td> 0.06612501  </td><td>-7.386802e-02</td><td> 0.0166675775</td><td> 0.024666901 </td><td> 0.006982244 </td><td>-0.000718805 </td><td> 0.021201782 </td><td> 0.0002299196</td><td> 6.619304e-04</td></tr>\n",
       "\t<tr><th scope=row>57764</th><td>-0.22292956  </td><td> 0.766016915 </td><td>-0.24543786  </td><td> 0.246079972 </td><td>-0.306446925 </td><td> 0.0946961477</td><td> 0.15347141  </td><td>-0.15499052  </td><td>-0.362724283 </td><td>-0.183877135 </td><td>⋯            </td><td> 0.005658695 </td><td> 0.04692203  </td><td>-6.021299e-02</td><td>-0.0032488793</td><td> 0.050798209 </td><td> 0.012240739 </td><td> 0.015588938 </td><td> 0.014190129 </td><td> 0.0002711778</td><td> 2.077167e-03</td></tr>\n",
       "\t<tr><th scope=row>49379</th><td>-0.46005932  </td><td>-0.377225458 </td><td>-0.31956868  </td><td>-0.788800092 </td><td> 0.570582127 </td><td>-0.2936636790</td><td> 0.40782080  </td><td>-0.31577774  </td><td> 0.169815021 </td><td> 0.206443124 </td><td>⋯            </td><td>-0.073181716 </td><td> 0.02334148  </td><td>-3.909654e-03</td><td>-0.0004122603</td><td> 0.065054640 </td><td>-0.022571768 </td><td> 0.001757148 </td><td> 0.014804600 </td><td> 0.0022133854</td><td>-4.207415e-04</td></tr>\n",
       "\t<tr><th scope=row>56697</th><td>-0.74008434  </td><td>-0.536238351 </td><td>-0.17298561  </td><td>-0.591844765 </td><td>-0.058663423 </td><td> 0.2433554091</td><td> 0.25015000  </td><td>-0.21377315  </td><td>-0.066579573 </td><td>-0.011160250 </td><td>⋯            </td><td>-0.092679259 </td><td> 0.04445648  </td><td>-1.335323e-05</td><td> 0.0109317679</td><td> 0.040435575 </td><td>-0.025982076 </td><td> 0.023858474 </td><td> 0.009741427 </td><td>-0.0005161375</td><td> 5.783024e-04</td></tr>\n",
       "\t<tr><th scope=row>86199</th><td> 0.72012036  </td><td>-0.751991118 </td><td> 0.25259533  </td><td> 0.296196516 </td><td> 0.736930114 </td><td>-0.3901961329</td><td> 0.61721856  </td><td> 0.29737843  </td><td>-0.182095670 </td><td> 0.354627536 </td><td>⋯            </td><td> 0.358620801 </td><td> 0.07413503  </td><td>-1.300908e-01</td><td>-0.1374719110</td><td>-0.928152331 </td><td>-0.618519021 </td><td> 0.152258615 </td><td> 0.074528602 </td><td>-0.0025704297</td><td>-2.696879e-03</td></tr>\n",
       "\t<tr><th scope=row>70304</th><td> 0.21993550  </td><td> 0.678375362 </td><td> 0.37956447  </td><td> 0.697390454 </td><td>-0.428295517 </td><td> 0.4909653824</td><td> 0.46028146  </td><td>-0.30796850  </td><td> 0.278539569 </td><td> 0.327624093 </td><td>⋯            </td><td>-0.565006459 </td><td>-0.20145260  </td><td>-1.392049e-01</td><td>-0.0638035235</td><td>-0.014393263 </td><td> 0.041512135 </td><td>-0.015862461 </td><td>-0.023224886 </td><td>-0.0042164149</td><td> 9.969866e-03</td></tr>\n",
       "\t<tr><th scope=row>96562</th><td>-0.75467150  </td><td>-0.345059332 </td><td>-0.12725775  </td><td> 0.336641532 </td><td> 0.060634832 </td><td>-0.0001582318</td><td> 0.13936810  </td><td> 0.09175189  </td><td> 0.007952960 </td><td> 0.016277749 </td><td>⋯            </td><td>-0.026816612 </td><td> 0.11062118  </td><td>-5.330906e-02</td><td>-0.0564744741</td><td> 0.023971901 </td><td> 0.001200581 </td><td> 0.067853457 </td><td>-0.002804179 </td><td> 0.0001194167</td><td>-2.880955e-05</td></tr>\n",
       "\t<tr><th scope=row>77480</th><td> 0.30440851  </td><td> 0.597725248 </td><td> 0.21232414  </td><td> 0.312783176 </td><td>-0.185337788 </td><td> 0.0412027790</td><td> 0.46660496  </td><td> 0.82945725  </td><td>-0.336702291 </td><td>-0.871609998 </td><td>⋯            </td><td>-0.442139609 </td><td> 0.08119925  </td><td>-7.972813e-02</td><td>-0.0653691835</td><td>-0.009849350 </td><td> 0.016034531 </td><td> 0.102011056 </td><td>-0.057043270 </td><td> 0.0065278396</td><td>-4.190972e-04</td></tr>\n",
       "\t<tr><th scope=row>71577</th><td> 1.54230725  </td><td>-0.528552134 </td><td>-0.21058551  </td><td> 0.470597891 </td><td> 0.777111443 </td><td> 0.1695506579</td><td> 0.17311052  </td><td> 0.07543088  </td><td>-0.166429132 </td><td> 0.338949520 </td><td>⋯            </td><td>-0.288939178 </td><td>-0.02873412  </td><td> 9.827130e-02</td><td> 0.0196144559</td><td> 0.047983429 </td><td> 0.092080187 </td><td>-0.026291730 </td><td> 0.026989848 </td><td>-0.0218460933</td><td> 1.234199e-03</td></tr>\n",
       "\t<tr><th scope=row>89103</th><td>-0.19304647  </td><td> 0.019984889 </td><td> 0.26912198  </td><td> 0.281110862 </td><td>-0.236296724 </td><td>-0.2081719824</td><td>-0.94099692  </td><td>-0.28180011  </td><td> 0.229592838 </td><td>-0.544418810 </td><td>⋯            </td><td> 0.057973501 </td><td>-0.12837382  </td><td>-9.748742e-04</td><td>-0.0145098189</td><td>-0.037764712 </td><td>-0.065325132 </td><td> 0.069252016 </td><td>-0.023492193 </td><td>-0.0031882102</td><td> 5.731095e-04</td></tr>\n",
       "\t<tr><th scope=row>81581</th><td>-0.35705370  </td><td> 0.163791955 </td><td>-0.15911791  </td><td> 0.380398991 </td><td> 0.009403705 </td><td> 0.3521447123</td><td>-0.42413098  </td><td>-0.45264155  </td><td>-0.270246449 </td><td> 0.225590274 </td><td>⋯            </td><td> 0.125084870 </td><td>-0.16116102  </td><td> 2.181005e-02</td><td>-0.0564043931</td><td>-0.054055802 </td><td>-0.019734852 </td><td> 0.040947660 </td><td> 0.007780922 </td><td>-0.0021635065</td><td> 1.998725e-03</td></tr>\n",
       "\t<tr><th scope=row>62479</th><td> 0.17947638  </td><td>-0.793049360 </td><td>-0.87164529  </td><td> 0.401688813 </td><td>-0.392413817 </td><td> 0.0660101508</td><td>-0.23343185  </td><td> 0.66502769  </td><td> 0.331919608 </td><td> 0.375419572 </td><td>⋯            </td><td> 0.539405998 </td><td> 0.63913137  </td><td> 3.785096e-01</td><td> 0.1420381637</td><td> 0.044534405 </td><td> 0.124033674 </td><td> 0.114151900 </td><td> 0.086177633 </td><td>-0.0006988472</td><td>-7.517898e-03</td></tr>\n",
       "\t<tr><th scope=row>91123</th><td>-0.35093727  </td><td>-0.449801436 </td><td> 0.70601185  </td><td>-0.125110910 </td><td>-0.567240650 </td><td>-0.3829479589</td><td>-0.22687965  </td><td> 1.14994006  </td><td> 0.347561516 </td><td> 0.826301143 </td><td>⋯            </td><td> 0.125727882 </td><td>-0.12303800  </td><td>-1.666399e-01</td><td>-0.0775709369</td><td> 0.006430690 </td><td> 0.063420170 </td><td> 0.028472795 </td><td>-0.005405672 </td><td>-0.0029229888</td><td> 5.907008e-03</td></tr>\n",
       "\t<tr><th scope=row>69371</th><td> 0.83679995  </td><td> 0.234594895 </td><td>-0.95645948  </td><td> 0.593979545 </td><td>-0.778810896 </td><td> 0.2420992624</td><td>-0.10871900  </td><td>-0.34321490  </td><td> 0.008455734 </td><td> 0.101338194 </td><td>⋯            </td><td> 0.157281023 </td><td> 0.05825169  </td><td>-7.217750e-02</td><td>-0.0594056111</td><td>-0.034357038 </td><td> 0.074993093 </td><td> 0.082386671 </td><td> 0.002719161 </td><td>-0.0031969449</td><td>-2.483214e-04</td></tr>\n",
       "\t<tr><th scope=row>74009</th><td>-0.47730758  </td><td>-0.549200320 </td><td> 0.36113819  </td><td> 0.495762411 </td><td> 0.199257455 </td><td> 0.2493007699</td><td> 0.45723026  </td><td>-0.31880345  </td><td> 0.045570939 </td><td> 0.001910183 </td><td>⋯            </td><td> 0.077705385 </td><td> 0.06109880  </td><td>-6.428202e-02</td><td>-0.0113182730</td><td> 0.060881461 </td><td> 0.019371840 </td><td>-0.009888689 </td><td> 0.042435456 </td><td>-0.0087606470</td><td> 4.564672e-04</td></tr>\n",
       "\t<tr><th scope=row>80847</th><td>-0.59066427  </td><td>-0.488866398 </td><td> 0.30098214  </td><td> 0.237353403 </td><td>-0.185065596 </td><td>-0.5604749265</td><td>-0.37749785  </td><td> 0.26259333  </td><td> 0.507792247 </td><td>-0.753731335 </td><td>⋯            </td><td>-0.093927981 </td><td> 0.14340838  </td><td>-7.609398e-02</td><td>-0.0145798999</td><td> 0.040262991 </td><td>-0.044389699 </td><td> 0.096157813 </td><td>-0.034077294 </td><td>-0.0009052870</td><td>-1.454426e-03</td></tr>\n",
       "\t<tr><th scope=row>88953</th><td>-0.66480963  </td><td>-0.327904621 </td><td> 0.35823699  </td><td> 0.169359974 </td><td>-0.335206401 </td><td>-0.5237087858</td><td>-0.56319115  </td><td> 0.46032956  </td><td> 0.309086858 </td><td> 0.273337847 </td><td>⋯            </td><td>-0.115763702 </td><td>-0.19845684  </td><td>-1.392897e-01</td><td>-0.0816789289</td><td> 0.044752020 </td><td>-0.030484014 </td><td> 0.021055724 </td><td>-0.010306503 </td><td>-0.0015901268</td><td> 9.519719e-03</td></tr>\n",
       "\t<tr><th scope=row>55219</th><td>-0.05441506  </td><td>-0.022883122 </td><td> 0.39138788  </td><td>-0.405403507 </td><td> 0.275328041 </td><td> 0.9527655537</td><td> 0.14449761  </td><td>-0.48549732  </td><td> 0.083869598 </td><td>-0.121488864 </td><td>⋯            </td><td>-0.051479187 </td><td> 0.04688823  </td><td>-5.697843e-03</td><td> 0.0157219734</td><td> 0.039573492 </td><td>-0.001707721 </td><td> 0.004492083 </td><td> 0.027968913 </td><td>-0.0069732373</td><td> 1.536247e-03</td></tr>\n",
       "\t<tr><th scope=row>59333</th><td>-0.79458946  </td><td>-0.419276308 </td><td>-0.16680253  </td><td> 0.272079670 </td><td> 0.047681753 </td><td>-0.0521835966</td><td> 0.11400514  </td><td>-0.05422225  </td><td>-0.215651335 </td><td> 0.042024022 </td><td>⋯            </td><td> 0.025785817 </td><td> 0.05374826  </td><td>-5.075530e-02</td><td>-0.0112101149</td><td> 0.050078541 </td><td>-0.001573980 </td><td> 0.011110348 </td><td> 0.023588805 </td><td>-0.0019670942</td><td> 1.532623e-03</td></tr>\n",
       "\t<tr><th scope=row>43150</th><td> 0.15645244  </td><td>-0.063738261 </td><td>-0.42874548  </td><td> 0.015398385 </td><td> 0.085755616 </td><td> 0.1459151467</td><td>-0.67701234  </td><td> 0.85082825  </td><td>-0.136672012 </td><td>-0.640439171 </td><td>⋯            </td><td> 0.175530788 </td><td>-0.09440607  </td><td>-4.853515e-02</td><td>-0.0908800990</td><td>-0.077763798 </td><td> 0.694298359 </td><td> 0.058038669 </td><td>-0.060557073 </td><td> 0.0051781754</td><td>-1.704492e-03</td></tr>\n",
       "\t<tr><th scope=row>92158</th><td>-0.42620206  </td><td> 0.224002933 </td><td>-0.13036977  </td><td> 0.234838186 </td><td> 0.230097515 </td><td> 0.3557421815</td><td>-0.33487238  </td><td>-0.06136521  </td><td>-0.326424437 </td><td>-0.028190753 </td><td>⋯            </td><td> 0.015066319 </td><td> 0.04882947  </td><td>-4.291308e-02</td><td>-0.0063117512</td><td> 0.038413538 </td><td> 0.001754556 </td><td> 0.012742994 </td><td> 0.022969639 </td><td>-0.0016306412</td><td> 3.566724e-03</td></tr>\n",
       "\t<tr><th scope=row>94673</th><td>-0.02992997  </td><td> 0.310051822 </td><td>-0.22551480  </td><td> 0.009174806 </td><td> 0.864136078 </td><td>-0.3787740038</td><td>-0.08760298  </td><td> 0.31172569  </td><td> 0.104748874 </td><td>-0.430928701 </td><td>⋯            </td><td>-0.079202358 </td><td> 0.09731173  </td><td>-1.024492e-01</td><td> 0.0266521279</td><td> 0.100313025 </td><td> 0.063611705 </td><td> 0.017653668 </td><td> 0.021544000 </td><td> 0.0044446360</td><td> 1.586442e-03</td></tr>\n",
       "\t<tr><th scope=row>62143</th><td> 1.37023264  </td><td> 0.001030679 </td><td>-0.10447339  </td><td> 0.327670514 </td><td>-1.078786980 </td><td>-0.3997529050</td><td>-0.57914776  </td><td> 0.07320891  </td><td>-0.501055340 </td><td> 0.179950278 </td><td>⋯            </td><td> 0.388123227 </td><td>-0.07053654  </td><td>-8.372632e-02</td><td>-0.0572369243</td><td>-0.006038474 </td><td> 0.059180568 </td><td> 0.076579925 </td><td> 0.016076987 </td><td>-0.0075131739</td><td>-3.827501e-04</td></tr>\n",
       "\t<tr><th scope=row>79222</th><td>-0.26022067  </td><td>-0.548089244 </td><td> 0.33474204  </td><td> 0.197574066 </td><td> 0.103945409 </td><td>-0.1980297514</td><td> 0.40210257  </td><td> 0.49286342  </td><td>-0.593978165 </td><td>-0.050563816 </td><td>⋯            </td><td> 0.157657084 </td><td>-0.38793762  </td><td> 1.332001e-01</td><td> 0.8392860543</td><td>-0.018827078 </td><td> 0.093134318 </td><td>-0.016455410 </td><td> 0.052445245 </td><td> 0.0014509211</td><td>-1.952296e-05</td></tr>\n",
       "\t<tr><th scope=row>57437</th><td> 0.24043316  </td><td> 0.516362728 </td><td>-0.71364957  </td><td>-0.458648842 </td><td>-0.705717967 </td><td> 0.5842561647</td><td> 0.22291058  </td><td> 0.70281812  </td><td> 1.012591527 </td><td>-0.371699472 </td><td>⋯            </td><td>-0.149225441 </td><td>-0.11717821  </td><td>-1.234377e-01</td><td>-0.0725644629</td><td>-0.003189065 </td><td>-0.636260679 </td><td> 0.075374152 </td><td> 0.039776280 </td><td> 0.0057569622</td><td> 5.812297e-03</td></tr>\n",
       "\t<tr><th scope=row>51871</th><td> 0.70436107  </td><td> 0.318302426 </td><td> 0.03745175  </td><td> 0.615733029 </td><td>-0.304081245 </td><td> 0.4822568737</td><td> 0.49406106  </td><td>-0.27601975  </td><td>-0.085526944 </td><td>-0.257569303 </td><td>⋯            </td><td>-0.399507601 </td><td> 0.01588747  </td><td>-6.328610e-02</td><td>-0.0490059408</td><td> 0.015664011 </td><td>-0.623689977 </td><td> 0.024065415 </td><td> 0.047909389 </td><td> 0.0004483613</td><td> 9.673793e-04</td></tr>\n",
       "\t<tr><th scope=row>⋮</th><td>⋮</td><td>⋮</td><td>⋮</td><td>⋮</td><td>⋮</td><td>⋮</td><td>⋮</td><td>⋮</td><td>⋮</td><td>⋮</td><td>⋱</td><td>⋮</td><td>⋮</td><td>⋮</td><td>⋮</td><td>⋮</td><td>⋮</td><td>⋮</td><td>⋮</td><td>⋮</td><td>⋮</td></tr>\n",
       "\t<tr><th scope=row>69943</th><td> 0.04654055  </td><td> 1.035656963 </td><td>-0.40935400  </td><td> 0.06025703  </td><td> 0.16769389  </td><td>-0.31362455  </td><td> 0.330466886 </td><td> 0.023075072 </td><td> 0.34439051  </td><td> 0.311580852 </td><td>⋯            </td><td> 0.101927711 </td><td> 0.0657163393</td><td>-7.194027e-02</td><td>-0.056807978 </td><td> 0.071193019 </td><td> 0.0867008651</td><td> 0.007274228 </td><td> 0.034021871 </td><td> 4.184080e-03</td><td>-0.0027499015</td></tr>\n",
       "\t<tr><th scope=row>81391</th><td> 0.17861623  </td><td>-1.106660987 </td><td>-0.90569664  </td><td>-0.43616137  </td><td>-0.33584384  </td><td> 0.36678717  </td><td> 0.067847336 </td><td>-0.170493642 </td><td> 0.06994467  </td><td>-0.032330890 </td><td>⋯            </td><td> 0.043322653 </td><td> 0.0241091880</td><td>-1.155388e-02</td><td>-0.008232732 </td><td> 0.014775596 </td><td> 0.0335592200</td><td> 0.017602369 </td><td> 0.023539594 </td><td>-2.720711e-03</td><td> 0.0005543322</td></tr>\n",
       "\t<tr><th scope=row>87976</th><td> 0.62642770  </td><td>-1.074245358 </td><td>-1.06566704  </td><td>-0.79036765  </td><td> 0.06415014  </td><td>-0.41106082  </td><td> 0.038796690 </td><td>-0.096518602 </td><td> 0.36817712  </td><td> 0.009843094 </td><td>⋯            </td><td> 0.268528034 </td><td>-0.4795444524</td><td> 1.749807e-01</td><td> 0.845960921 </td><td>-0.129685566 </td><td> 0.0198703553</td><td>-0.047990635 </td><td> 0.067017231 </td><td> 6.825365e-04</td><td>-0.0038127565</td></tr>\n",
       "\t<tr><th scope=row>88696</th><td>-0.23099587  </td><td>-0.694850502 </td><td> 0.76798366  </td><td> 0.49721979  </td><td>-0.11077493  </td><td>-0.26281745  </td><td>-0.088499128 </td><td>-0.427888200 </td><td> 0.20560367  </td><td> 0.052396953 </td><td>⋯            </td><td>-0.635074879 </td><td> 0.0497534691</td><td> 1.126405e-01</td><td> 0.083657343 </td><td> 0.087573140 </td><td>-0.0091025822</td><td>-0.008485066 </td><td>-0.015431486 </td><td>-2.245429e-02</td><td>-0.0001691635</td></tr>\n",
       "\t<tr><th scope=row>77450</th><td>-0.42620206  </td><td> 0.224002933 </td><td>-0.13036977  </td><td> 0.23483819  </td><td> 0.23009752  </td><td> 0.35574218  </td><td>-0.334872381 </td><td>-0.061365211 </td><td>-0.32642444  </td><td>-0.028190753 </td><td>⋯            </td><td> 0.015066319 </td><td> 0.0488294733</td><td>-4.291308e-02</td><td>-0.006311751 </td><td> 0.038413538 </td><td> 0.0017545562</td><td> 0.012742994 </td><td> 0.022969639 </td><td>-1.630641e-03</td><td> 0.0035667241</td></tr>\n",
       "\t<tr><th scope=row>82938</th><td>-0.74008434  </td><td>-0.536238351 </td><td>-0.17298561  </td><td>-0.59184476  </td><td>-0.05866342  </td><td> 0.24335541  </td><td> 0.250150004 </td><td>-0.213773147 </td><td>-0.06657957  </td><td>-0.011160250 </td><td>⋯            </td><td>-0.092679259 </td><td> 0.0444564796</td><td>-1.335323e-05</td><td> 0.010931768 </td><td> 0.040435575 </td><td>-0.0259820762</td><td> 0.023858474 </td><td> 0.009741427 </td><td>-5.161375e-04</td><td> 0.0005783024</td></tr>\n",
       "\t<tr><th scope=row>66009</th><td>-0.01377167  </td><td> 0.321314733 </td><td>-0.23875921  </td><td>-0.87871322  </td><td> 0.75912739  </td><td>-0.01307297  </td><td>-0.213900719 </td><td>-0.068300286 </td><td>-0.10421975  </td><td> 0.162734919 </td><td>⋯            </td><td>-0.021149647 </td><td>-0.0316731022</td><td>-5.422087e-03</td><td>-0.034986941 </td><td> 0.050955971 </td><td>-0.0214871046</td><td> 0.019701551 </td><td> 0.022887245 </td><td> 4.864367e-03</td><td> 0.0004548261</td></tr>\n",
       "\t<tr><th scope=row>95948</th><td>-0.32018969  </td><td> 0.069867529 </td><td>-0.08279140  </td><td>-0.93876917  </td><td> 0.02282585  </td><td> 0.54823960  </td><td>-0.286033312 </td><td> 0.004762285 </td><td>-0.39444807  </td><td> 0.126893303 </td><td>⋯            </td><td>-0.034349056 </td><td> 0.0519144426</td><td>-1.528385e-02</td><td> 0.043707824 </td><td> 0.003358932 </td><td>-0.0140973163</td><td> 0.013661967 </td><td> 0.006735239 </td><td> 2.017329e-03</td><td> 0.0017417099</td></tr>\n",
       "\t<tr><th scope=row>89797</th><td>-0.03761435  </td><td>-0.175162857 </td><td> 0.23606006  </td><td>-0.96878134  </td><td>-0.73879342  </td><td>-0.22040435  </td><td> 0.985430751 </td><td> 0.530311526 </td><td>-0.74768049  </td><td> 0.217448697 </td><td>⋯            </td><td> 0.035796175 </td><td> 0.0699163186</td><td>-7.802876e-02</td><td> 0.040663037 </td><td> 0.053043530 </td><td> 0.0863033611</td><td> 0.048207516 </td><td> 0.001622229 </td><td> 3.408907e-03</td><td>-0.0018748994</td></tr>\n",
       "\t<tr><th scope=row>51143</th><td>-0.46444750  </td><td> 0.217670156 </td><td>-0.14732102  </td><td>-0.57865077  </td><td> 0.05801367  </td><td> 0.75735176  </td><td>-0.199409376 </td><td> 0.169720078 </td><td> 0.25488048  </td><td> 0.190419914 </td><td>⋯            </td><td>-0.264766073 </td><td>-0.1677151078</td><td>-7.236415e-02</td><td>-0.032570685 </td><td> 0.010113024 </td><td>-0.0264713418</td><td> 0.006271497 </td><td>-0.010516794 </td><td> 2.827418e-05</td><td> 0.0122228334</td></tr>\n",
       "\t<tr><th scope=row>91529</th><td>-0.74008434  </td><td>-0.536238351 </td><td>-0.17298561  </td><td>-0.59184476  </td><td>-0.05866342  </td><td> 0.24335541  </td><td> 0.250150004 </td><td>-0.213773147 </td><td>-0.06657957  </td><td>-0.011160250 </td><td>⋯            </td><td>-0.092679259 </td><td> 0.0444564796</td><td>-1.335323e-05</td><td> 0.010931768 </td><td> 0.040435575 </td><td>-0.0259820762</td><td> 0.023858474 </td><td> 0.009741427 </td><td>-5.161375e-04</td><td> 0.0005783024</td></tr>\n",
       "\t<tr><th scope=row>94782</th><td> 0.13716946  </td><td> 0.095380006 </td><td> 0.74335059  </td><td> 0.47582942  </td><td> 0.33212111  </td><td> 0.74446473  </td><td> 0.227504508 </td><td> 0.644451929 </td><td> 0.09220734  </td><td> 0.347042280 </td><td>⋯            </td><td> 0.302135776 </td><td> 0.4378810757</td><td> 3.155970e-01</td><td> 0.178252493 </td><td> 0.046213575 </td><td> 0.0281972549</td><td> 0.073494980 </td><td> 0.048718613 </td><td>-1.064005e-02</td><td> 0.0079884775</td></tr>\n",
       "\t<tr><th scope=row>58456</th><td>-0.69347849  </td><td>-0.454492668 </td><td>-0.18465791  </td><td> 0.39973399  </td><td>-0.16045488  </td><td>-0.08023761  </td><td> 0.008754427 </td><td>-0.431700270 </td><td>-0.20459985  </td><td> 0.374156264 </td><td>⋯            </td><td> 0.094008662 </td><td> 0.0285522993</td><td>-4.862553e-02</td><td>-0.002937987 </td><td> 0.016689911 </td><td>-0.0011374837</td><td> 0.027421078 </td><td> 0.024712653 </td><td>-5.317155e-03</td><td> 0.0007925388</td></tr>\n",
       "\t<tr><th scope=row>91694</th><td>-0.78132765  </td><td>-0.462782445 </td><td>-0.12999235  </td><td>-0.85109221  </td><td>-0.22532858  </td><td> 0.24638439  </td><td> 0.162162341 </td><td> 0.402541442 </td><td> 0.14855818  </td><td> 0.468903016 </td><td>⋯            </td><td>-0.184996876 </td><td>-0.1504195695</td><td>-1.033191e-01</td><td>-0.009591356 </td><td>-0.003633613 </td><td>-0.0212436536</td><td>-0.007190302 </td><td>-0.012284651 </td><td> 1.888835e-03</td><td> 0.0093180397</td></tr>\n",
       "\t<tr><th scope=row>73417</th><td> 1.01112157  </td><td> 0.078330879 </td><td>-0.44213864  </td><td> 0.66408692  </td><td>-0.41907255  </td><td> 0.53266286  </td><td> 0.347256255 </td><td>-0.353189207 </td><td> 0.05615595  </td><td>-0.243522788 </td><td>⋯            </td><td> 0.354102599 </td><td>-0.4944609557</td><td> 2.461615e-01</td><td> 0.784933820 </td><td>-0.047276069 </td><td> 0.0297587026</td><td>-0.075584696 </td><td>-0.893391647 </td><td>-4.511195e-03</td><td>-0.0004099733</td></tr>\n",
       "\t<tr><th scope=row>27455</th><td> 0.18239582  </td><td> 0.508965212 </td><td> 0.10410223  </td><td>-0.66643646  </td><td>-0.38266562  </td><td> 0.37800411  </td><td> 0.521064902 </td><td> 0.123940910 </td><td>-0.59206434  </td><td>-0.143714483 </td><td>⋯            </td><td> 0.045615596 </td><td> 0.0106672359</td><td>-1.523227e-02</td><td>-0.002134672 </td><td> 0.030036142 </td><td>-0.0001130881</td><td> 0.050108428 </td><td> 0.001563846 </td><td>-6.765923e-04</td><td> 0.0010503188</td></tr>\n",
       "\t<tr><th scope=row>97542</th><td> 0.20464323  </td><td> 0.242926166 </td><td> 0.07877034  </td><td>-0.01070914  </td><td> 0.88946955  </td><td>-0.19350795  </td><td> 0.054247040 </td><td> 0.275112528 </td><td>-0.46844166  </td><td> 0.282759547 </td><td>⋯            </td><td> 0.192985839 </td><td> 0.0007514551</td><td>-5.257061e-02</td><td>-0.038683454 </td><td> 0.051913502 </td><td> 0.0172191332</td><td> 0.012413032 </td><td> 0.029253908 </td><td>-1.299845e-03</td><td> 0.0024951536</td></tr>\n",
       "\t<tr><th scope=row>94661</th><td> 0.40250650  </td><td> 0.437599833 </td><td>-0.12391848  </td><td> 0.25749383  </td><td>-0.79332687  </td><td>-0.29285784  </td><td>-0.433966961 </td><td>-0.099308581 </td><td> 0.07584872  </td><td>-0.181926026 </td><td>⋯            </td><td> 0.273174541 </td><td> 0.6528737100</td><td> 3.966469e-01</td><td> 0.242925955 </td><td> 0.071347765 </td><td>-0.6819306276</td><td> 0.144660445 </td><td> 0.069171415 </td><td>-3.767544e-04</td><td>-0.0025597705</td></tr>\n",
       "\t<tr><th scope=row>58609</th><td> 0.37931191  </td><td>-0.177980517 </td><td> 0.04974853  </td><td> 0.55982690  </td><td> 0.22412818  </td><td> 0.70455364  </td><td>-0.053973559 </td><td>-0.291529979 </td><td> 0.01130495  </td><td>-0.094316817 </td><td>⋯            </td><td> 0.177522980 </td><td>-0.2416912687</td><td> 7.433118e-01</td><td>-0.485641920 </td><td>-0.030971919 </td><td>-0.6185869467</td><td>-0.026128136 </td><td> 0.187977149 </td><td>-6.182671e-03</td><td> 0.0017345255</td></tr>\n",
       "\t<tr><th scope=row>61068</th><td>-0.16796256  </td><td> 0.294043322 </td><td> 0.45888044  </td><td> 0.16982714  </td><td>-0.07186591  </td><td>-0.16950551  </td><td>-0.966993243 </td><td> 0.234757557 </td><td> 0.01349410  </td><td>-0.107226699 </td><td>⋯            </td><td> 0.074894582 </td><td>-0.4366130531</td><td> 1.814039e-01</td><td> 0.731254226 </td><td>-0.085168431 </td><td>-0.0239130872</td><td> 0.035226733 </td><td> 0.030313092 </td><td> 1.330834e-03</td><td>-0.0004144973</td></tr>\n",
       "\t<tr><th scope=row>90846</th><td>-0.62580181  </td><td>-0.364144159 </td><td>-0.10513130  </td><td> 0.19981560  </td><td> 0.15050100  </td><td>-0.22601538  </td><td>-0.124014781 </td><td> 0.109219239 </td><td>-0.35334336  </td><td>-0.187275690 </td><td>⋯            </td><td> 0.058962399 </td><td> 0.0443392038</td><td>-7.376386e-02</td><td>-0.003876030 </td><td> 0.063910686 </td><td> 0.0009973881</td><td> 0.029948464 </td><td> 0.010107032 </td><td> 3.233282e-03</td><td>-0.0002886517</td></tr>\n",
       "\t<tr><th scope=row>40624</th><td>-0.12181859  </td><td> 0.730800554 </td><td>-0.26329324  </td><td> 0.37373429  </td><td>-0.51458356  </td><td> 0.06664213  </td><td> 0.048220704 </td><td>-0.532468545 </td><td>-0.35167280  </td><td> 0.148255107 </td><td>⋯            </td><td> 0.073881540 </td><td> 0.0217260692</td><td>-5.808321e-02</td><td> 0.005023248 </td><td> 0.017409580 </td><td> 0.0126772352</td><td> 0.031899667 </td><td> 0.015313977 </td><td>-3.078883e-03</td><td> 0.0013370818</td></tr>\n",
       "\t<tr><th scope=row>84838</th><td> 0.76896641  </td><td>-0.002132633 </td><td> 0.67597884  </td><td>-0.76841757  </td><td> 0.63859002  </td><td> 0.32444518  </td><td> 0.366423483 </td><td>-0.154845068 </td><td>-0.04058724  </td><td> 0.704115732 </td><td>⋯            </td><td> 0.211110448 </td><td> 0.0428639128</td><td>-3.889207e-02</td><td>-0.025764269 </td><td>-0.031833452 </td><td> 0.0255241373</td><td> 0.065386805 </td><td> 0.006597024 </td><td>-5.708977e-03</td><td>-0.0027075346</td></tr>\n",
       "\t<tr><th scope=row>53347</th><td>-0.37169694  </td><td> 0.107040890 </td><td>-0.13655284  </td><td>-0.62908625  </td><td> 0.12375234  </td><td> 0.65128119  </td><td>-0.198727512 </td><td>-0.220916113 </td><td>-0.17735268  </td><td>-0.081375025 </td><td>⋯            </td><td>-0.103398756 </td><td> 0.0395376920</td><td> 7.828869e-03</td><td> 0.015830132 </td><td> 0.028770572 </td><td>-0.0226535403</td><td> 0.025491120 </td><td> 0.009122261 </td><td>-1.796845e-04</td><td> 0.0026124030</td></tr>\n",
       "\t<tr><th scope=row>81918</th><td>-0.34830182  </td><td> 0.279263883 </td><td>-0.08599307  </td><td> 0.18216654  </td><td> 0.23622702  </td><td> 0.22840712  </td><td>-0.507716387 </td><td> 0.193255208 </td><td>-0.48968611  </td><td>-0.001684184 </td><td>⋯            </td><td> 0.077817886 </td><td>-0.0012663164</td><td>-5.226774e-02</td><td>-0.045784796 </td><td> 0.035979871 </td><td>-0.0004893158</td><td> 0.029054750 </td><td> 0.031671450 </td><td> 6.838869e-04</td><td> 0.0024081911</td></tr>\n",
       "\t<tr><th scope=row>99726</th><td>-0.79869303  </td><td>-0.411591261 </td><td>-0.15812592  </td><td> 0.27430038  </td><td> 0.06951390  </td><td>-0.08440335  </td><td> 0.129871002 </td><td>-0.074245444 </td><td>-0.21725717  </td><td> 0.038550723 </td><td>⋯            </td><td>-0.006324239 </td><td> 0.1800669892</td><td>-9.540739e-02</td><td>-0.040187899 </td><td>-0.928032647 </td><td> 0.0158978725</td><td> 0.120256876 </td><td>-0.011923197 </td><td> 5.512466e-05</td><td> 0.0007415212</td></tr>\n",
       "\t<tr><th scope=row>50362</th><td>-0.49957554  </td><td> 0.265343663 </td><td>-0.20432906  </td><td> 0.28646905  </td><td> 0.24193742  </td><td> 0.35175675  </td><td>-0.348749777 </td><td> 0.630817223 </td><td> 0.34988129  </td><td>-0.459417215 </td><td>⋯            </td><td>-0.170478599 </td><td>-0.1307796101</td><td>-1.469043e-01</td><td>-0.030223041 </td><td> 0.020282387 </td><td>-0.0248051656</td><td> 0.008974484 </td><td>-0.004984468 </td><td>-3.018668e-04</td><td> 0.0122163407</td></tr>\n",
       "\t<tr><th scope=row>62639</th><td> 0.09500501  </td><td> 0.024488831 </td><td> 0.86535564  </td><td> 0.42379466  </td><td> 0.14892587  </td><td> 0.14893522  </td><td>-0.483150243 </td><td>-0.009130841 </td><td> 0.65824142  </td><td>-0.864059949 </td><td>⋯            </td><td>-0.052727910 </td><td> 0.1458401297</td><td>-8.177847e-02</td><td>-0.009789694 </td><td> 0.039400909 </td><td>-0.0201153439</td><td> 0.076791421 </td><td>-0.015849808 </td><td>-7.362387e-03</td><td>-0.0004964812</td></tr>\n",
       "\t<tr><th scope=row>68426</th><td>-0.80943978  </td><td>-0.253386091 </td><td>-0.13319401  </td><td> 0.26984350  </td><td>-0.01192741  </td><td>-0.07344809  </td><td>-0.059520734 </td><td> 0.591034365 </td><td> 0.05332015  </td><td> 0.340325530 </td><td>⋯            </td><td>-0.072829935 </td><td>-0.2036003285</td><td>-1.403030e-01</td><td>-0.099083976 </td><td> 0.028987327 </td><td>-0.0076356532</td><td> 0.008202482 </td><td> 0.012651560 </td><td> 5.553926e-04</td><td> 0.0099845209</td></tr>\n",
       "\t<tr><th scope=row>53283</th><td>-0.80368348  </td><td>-0.421430020 </td><td>-0.15674092  </td><td> 0.24626165  </td><td> 0.04241699  </td><td>-0.09337964  </td><td> 0.072576884 </td><td>-0.012314696 </td><td>-0.19695939  </td><td>-0.018441575 </td><td>⋯            </td><td> 0.318652066 </td><td>-0.3503533342</td><td>-2.330443e-01</td><td>-0.250001596 </td><td>-0.032159716 </td><td> 0.0106203578</td><td>-0.058786703 </td><td> 0.013640403 </td><td>-8.647122e-04</td><td> 0.0011119921</td></tr>\n",
       "</tbody>\n",
       "</table>\n"
      ],
      "text/latex": [
       "\\begin{tabular}{r|llllllllllllllllllllllllllllll}\n",
       "  & PC1 & PC2 & PC3 & PC4 & PC5 & PC6 & PC7 & PC8 & PC9 & PC10 & ⋯ & PC21 & PC22 & PC23 & PC24 & PC25 & PC26 & PC27 & PC28 & PC29 & PC30\\\\\n",
       "\\hline\n",
       "\t76012 & -0.75467150   & -0.345059332  & -0.12725775   &  0.336641532  &  0.060634832  & -0.0001582318 &  0.13936810   &  0.09175189   &  0.007952960  &  0.016277749  & ⋯             & -0.026816612  &  0.11062118   & -5.330906e-02 & -0.0564744741 &  0.023971901  &  0.001200581  &  0.067853457  & -0.002804179  &  0.0001194167 & -2.880955e-05\\\\\n",
       "\t76420 & -0.14617704   &  0.383015826  & -0.27695283   &  0.037882859  &  0.859343065  & -0.1812769065 & -0.17720158   & -0.16336980   & -0.090029844  &  0.189412622  & ⋯             &  0.034563862  &  0.02771447   & -4.680938e-02 & -0.0176557793 &  0.063032603  &  0.005164864  & -0.009358332  &  0.028032812  &  0.0010988817 &  2.567680e-03\\\\\n",
       "\t82257 & -0.47990714   & -0.389350806  &  0.37245714   &  0.589363145  &  0.044548624  &  0.4544810718 &  0.51791000   &  0.09344255   &  0.785021943  &  0.175667306  & ⋯             &  0.143670136  & -0.02691351   & -1.207339e-02 & -0.1571624718 & -0.028530144  &  0.071270315  &  0.072534973  &  0.014498476  & -0.0026735616 & -5.760904e-03\\\\\n",
       "\t64819 &  0.20201135   & -0.934437993  & -0.85513686   &  0.375091415  & -0.223369155  & -0.0560868999 & -0.24114154   &  0.24367768   & -0.242388767  &  0.047359951  & ⋯             &  0.224539295  & -0.01669482   & -7.165049e-02 & -0.0698476597 &  0.021984895  &  0.055723445  &  0.021166000  &  0.046088783  & -0.0018571391 &  3.501203e-04\\\\\n",
       "\t59347 & -0.74308222   & -0.456449668  & -0.11304109   & -0.037603249  & -0.053244739  & -0.1552251865 &  0.02669934   &  0.17145615   & -0.432746730  &  0.250292350  & ⋯             &  0.094835517  &  0.06612501   & -7.386802e-02 &  0.0166675775 &  0.024666901  &  0.006982244  & -0.000718805  &  0.021201782  &  0.0002299196 &  6.619304e-04\\\\\n",
       "\t57764 & -0.22292956   &  0.766016915  & -0.24543786   &  0.246079972  & -0.306446925  &  0.0946961477 &  0.15347141   & -0.15499052   & -0.362724283  & -0.183877135  & ⋯             &  0.005658695  &  0.04692203   & -6.021299e-02 & -0.0032488793 &  0.050798209  &  0.012240739  &  0.015588938  &  0.014190129  &  0.0002711778 &  2.077167e-03\\\\\n",
       "\t49379 & -0.46005932   & -0.377225458  & -0.31956868   & -0.788800092  &  0.570582127  & -0.2936636790 &  0.40782080   & -0.31577774   &  0.169815021  &  0.206443124  & ⋯             & -0.073181716  &  0.02334148   & -3.909654e-03 & -0.0004122603 &  0.065054640  & -0.022571768  &  0.001757148  &  0.014804600  &  0.0022133854 & -4.207415e-04\\\\\n",
       "\t56697 & -0.74008434   & -0.536238351  & -0.17298561   & -0.591844765  & -0.058663423  &  0.2433554091 &  0.25015000   & -0.21377315   & -0.066579573  & -0.011160250  & ⋯             & -0.092679259  &  0.04445648   & -1.335323e-05 &  0.0109317679 &  0.040435575  & -0.025982076  &  0.023858474  &  0.009741427  & -0.0005161375 &  5.783024e-04\\\\\n",
       "\t86199 &  0.72012036   & -0.751991118  &  0.25259533   &  0.296196516  &  0.736930114  & -0.3901961329 &  0.61721856   &  0.29737843   & -0.182095670  &  0.354627536  & ⋯             &  0.358620801  &  0.07413503   & -1.300908e-01 & -0.1374719110 & -0.928152331  & -0.618519021  &  0.152258615  &  0.074528602  & -0.0025704297 & -2.696879e-03\\\\\n",
       "\t70304 &  0.21993550   &  0.678375362  &  0.37956447   &  0.697390454  & -0.428295517  &  0.4909653824 &  0.46028146   & -0.30796850   &  0.278539569  &  0.327624093  & ⋯             & -0.565006459  & -0.20145260   & -1.392049e-01 & -0.0638035235 & -0.014393263  &  0.041512135  & -0.015862461  & -0.023224886  & -0.0042164149 &  9.969866e-03\\\\\n",
       "\t96562 & -0.75467150   & -0.345059332  & -0.12725775   &  0.336641532  &  0.060634832  & -0.0001582318 &  0.13936810   &  0.09175189   &  0.007952960  &  0.016277749  & ⋯             & -0.026816612  &  0.11062118   & -5.330906e-02 & -0.0564744741 &  0.023971901  &  0.001200581  &  0.067853457  & -0.002804179  &  0.0001194167 & -2.880955e-05\\\\\n",
       "\t77480 &  0.30440851   &  0.597725248  &  0.21232414   &  0.312783176  & -0.185337788  &  0.0412027790 &  0.46660496   &  0.82945725   & -0.336702291  & -0.871609998  & ⋯             & -0.442139609  &  0.08119925   & -7.972813e-02 & -0.0653691835 & -0.009849350  &  0.016034531  &  0.102011056  & -0.057043270  &  0.0065278396 & -4.190972e-04\\\\\n",
       "\t71577 &  1.54230725   & -0.528552134  & -0.21058551   &  0.470597891  &  0.777111443  &  0.1695506579 &  0.17311052   &  0.07543088   & -0.166429132  &  0.338949520  & ⋯             & -0.288939178  & -0.02873412   &  9.827130e-02 &  0.0196144559 &  0.047983429  &  0.092080187  & -0.026291730  &  0.026989848  & -0.0218460933 &  1.234199e-03\\\\\n",
       "\t89103 & -0.19304647   &  0.019984889  &  0.26912198   &  0.281110862  & -0.236296724  & -0.2081719824 & -0.94099692   & -0.28180011   &  0.229592838  & -0.544418810  & ⋯             &  0.057973501  & -0.12837382   & -9.748742e-04 & -0.0145098189 & -0.037764712  & -0.065325132  &  0.069252016  & -0.023492193  & -0.0031882102 &  5.731095e-04\\\\\n",
       "\t81581 & -0.35705370   &  0.163791955  & -0.15911791   &  0.380398991  &  0.009403705  &  0.3521447123 & -0.42413098   & -0.45264155   & -0.270246449  &  0.225590274  & ⋯             &  0.125084870  & -0.16116102   &  2.181005e-02 & -0.0564043931 & -0.054055802  & -0.019734852  &  0.040947660  &  0.007780922  & -0.0021635065 &  1.998725e-03\\\\\n",
       "\t62479 &  0.17947638   & -0.793049360  & -0.87164529   &  0.401688813  & -0.392413817  &  0.0660101508 & -0.23343185   &  0.66502769   &  0.331919608  &  0.375419572  & ⋯             &  0.539405998  &  0.63913137   &  3.785096e-01 &  0.1420381637 &  0.044534405  &  0.124033674  &  0.114151900  &  0.086177633  & -0.0006988472 & -7.517898e-03\\\\\n",
       "\t91123 & -0.35093727   & -0.449801436  &  0.70601185   & -0.125110910  & -0.567240650  & -0.3829479589 & -0.22687965   &  1.14994006   &  0.347561516  &  0.826301143  & ⋯             &  0.125727882  & -0.12303800   & -1.666399e-01 & -0.0775709369 &  0.006430690  &  0.063420170  &  0.028472795  & -0.005405672  & -0.0029229888 &  5.907008e-03\\\\\n",
       "\t69371 &  0.83679995   &  0.234594895  & -0.95645948   &  0.593979545  & -0.778810896  &  0.2420992624 & -0.10871900   & -0.34321490   &  0.008455734  &  0.101338194  & ⋯             &  0.157281023  &  0.05825169   & -7.217750e-02 & -0.0594056111 & -0.034357038  &  0.074993093  &  0.082386671  &  0.002719161  & -0.0031969449 & -2.483214e-04\\\\\n",
       "\t74009 & -0.47730758   & -0.549200320  &  0.36113819   &  0.495762411  &  0.199257455  &  0.2493007699 &  0.45723026   & -0.31880345   &  0.045570939  &  0.001910183  & ⋯             &  0.077705385  &  0.06109880   & -6.428202e-02 & -0.0113182730 &  0.060881461  &  0.019371840  & -0.009888689  &  0.042435456  & -0.0087606470 &  4.564672e-04\\\\\n",
       "\t80847 & -0.59066427   & -0.488866398  &  0.30098214   &  0.237353403  & -0.185065596  & -0.5604749265 & -0.37749785   &  0.26259333   &  0.507792247  & -0.753731335  & ⋯             & -0.093927981  &  0.14340838   & -7.609398e-02 & -0.0145798999 &  0.040262991  & -0.044389699  &  0.096157813  & -0.034077294  & -0.0009052870 & -1.454426e-03\\\\\n",
       "\t88953 & -0.66480963   & -0.327904621  &  0.35823699   &  0.169359974  & -0.335206401  & -0.5237087858 & -0.56319115   &  0.46032956   &  0.309086858  &  0.273337847  & ⋯             & -0.115763702  & -0.19845684   & -1.392897e-01 & -0.0816789289 &  0.044752020  & -0.030484014  &  0.021055724  & -0.010306503  & -0.0015901268 &  9.519719e-03\\\\\n",
       "\t55219 & -0.05441506   & -0.022883122  &  0.39138788   & -0.405403507  &  0.275328041  &  0.9527655537 &  0.14449761   & -0.48549732   &  0.083869598  & -0.121488864  & ⋯             & -0.051479187  &  0.04688823   & -5.697843e-03 &  0.0157219734 &  0.039573492  & -0.001707721  &  0.004492083  &  0.027968913  & -0.0069732373 &  1.536247e-03\\\\\n",
       "\t59333 & -0.79458946   & -0.419276308  & -0.16680253   &  0.272079670  &  0.047681753  & -0.0521835966 &  0.11400514   & -0.05422225   & -0.215651335  &  0.042024022  & ⋯             &  0.025785817  &  0.05374826   & -5.075530e-02 & -0.0112101149 &  0.050078541  & -0.001573980  &  0.011110348  &  0.023588805  & -0.0019670942 &  1.532623e-03\\\\\n",
       "\t43150 &  0.15645244   & -0.063738261  & -0.42874548   &  0.015398385  &  0.085755616  &  0.1459151467 & -0.67701234   &  0.85082825   & -0.136672012  & -0.640439171  & ⋯             &  0.175530788  & -0.09440607   & -4.853515e-02 & -0.0908800990 & -0.077763798  &  0.694298359  &  0.058038669  & -0.060557073  &  0.0051781754 & -1.704492e-03\\\\\n",
       "\t92158 & -0.42620206   &  0.224002933  & -0.13036977   &  0.234838186  &  0.230097515  &  0.3557421815 & -0.33487238   & -0.06136521   & -0.326424437  & -0.028190753  & ⋯             &  0.015066319  &  0.04882947   & -4.291308e-02 & -0.0063117512 &  0.038413538  &  0.001754556  &  0.012742994  &  0.022969639  & -0.0016306412 &  3.566724e-03\\\\\n",
       "\t94673 & -0.02992997   &  0.310051822  & -0.22551480   &  0.009174806  &  0.864136078  & -0.3787740038 & -0.08760298   &  0.31172569   &  0.104748874  & -0.430928701  & ⋯             & -0.079202358  &  0.09731173   & -1.024492e-01 &  0.0266521279 &  0.100313025  &  0.063611705  &  0.017653668  &  0.021544000  &  0.0044446360 &  1.586442e-03\\\\\n",
       "\t62143 &  1.37023264   &  0.001030679  & -0.10447339   &  0.327670514  & -1.078786980  & -0.3997529050 & -0.57914776   &  0.07320891   & -0.501055340  &  0.179950278  & ⋯             &  0.388123227  & -0.07053654   & -8.372632e-02 & -0.0572369243 & -0.006038474  &  0.059180568  &  0.076579925  &  0.016076987  & -0.0075131739 & -3.827501e-04\\\\\n",
       "\t79222 & -0.26022067   & -0.548089244  &  0.33474204   &  0.197574066  &  0.103945409  & -0.1980297514 &  0.40210257   &  0.49286342   & -0.593978165  & -0.050563816  & ⋯             &  0.157657084  & -0.38793762   &  1.332001e-01 &  0.8392860543 & -0.018827078  &  0.093134318  & -0.016455410  &  0.052445245  &  0.0014509211 & -1.952296e-05\\\\\n",
       "\t57437 &  0.24043316   &  0.516362728  & -0.71364957   & -0.458648842  & -0.705717967  &  0.5842561647 &  0.22291058   &  0.70281812   &  1.012591527  & -0.371699472  & ⋯             & -0.149225441  & -0.11717821   & -1.234377e-01 & -0.0725644629 & -0.003189065  & -0.636260679  &  0.075374152  &  0.039776280  &  0.0057569622 &  5.812297e-03\\\\\n",
       "\t51871 &  0.70436107   &  0.318302426  &  0.03745175   &  0.615733029  & -0.304081245  &  0.4822568737 &  0.49406106   & -0.27601975   & -0.085526944  & -0.257569303  & ⋯             & -0.399507601  &  0.01588747   & -6.328610e-02 & -0.0490059408 &  0.015664011  & -0.623689977  &  0.024065415  &  0.047909389  &  0.0004483613 &  9.673793e-04\\\\\n",
       "\t⋮ & ⋮ & ⋮ & ⋮ & ⋮ & ⋮ & ⋮ & ⋮ & ⋮ & ⋮ & ⋮ & ⋱ & ⋮ & ⋮ & ⋮ & ⋮ & ⋮ & ⋮ & ⋮ & ⋮ & ⋮ & ⋮\\\\\n",
       "\t69943 &  0.04654055   &  1.035656963  & -0.40935400   &  0.06025703   &  0.16769389   & -0.31362455   &  0.330466886  &  0.023075072  &  0.34439051   &  0.311580852  & ⋯             &  0.101927711  &  0.0657163393 & -7.194027e-02 & -0.056807978  &  0.071193019  &  0.0867008651 &  0.007274228  &  0.034021871  &  4.184080e-03 & -0.0027499015\\\\\n",
       "\t81391 &  0.17861623   & -1.106660987  & -0.90569664   & -0.43616137   & -0.33584384   &  0.36678717   &  0.067847336  & -0.170493642  &  0.06994467   & -0.032330890  & ⋯             &  0.043322653  &  0.0241091880 & -1.155388e-02 & -0.008232732  &  0.014775596  &  0.0335592200 &  0.017602369  &  0.023539594  & -2.720711e-03 &  0.0005543322\\\\\n",
       "\t87976 &  0.62642770   & -1.074245358  & -1.06566704   & -0.79036765   &  0.06415014   & -0.41106082   &  0.038796690  & -0.096518602  &  0.36817712   &  0.009843094  & ⋯             &  0.268528034  & -0.4795444524 &  1.749807e-01 &  0.845960921  & -0.129685566  &  0.0198703553 & -0.047990635  &  0.067017231  &  6.825365e-04 & -0.0038127565\\\\\n",
       "\t88696 & -0.23099587   & -0.694850502  &  0.76798366   &  0.49721979   & -0.11077493   & -0.26281745   & -0.088499128  & -0.427888200  &  0.20560367   &  0.052396953  & ⋯             & -0.635074879  &  0.0497534691 &  1.126405e-01 &  0.083657343  &  0.087573140  & -0.0091025822 & -0.008485066  & -0.015431486  & -2.245429e-02 & -0.0001691635\\\\\n",
       "\t77450 & -0.42620206   &  0.224002933  & -0.13036977   &  0.23483819   &  0.23009752   &  0.35574218   & -0.334872381  & -0.061365211  & -0.32642444   & -0.028190753  & ⋯             &  0.015066319  &  0.0488294733 & -4.291308e-02 & -0.006311751  &  0.038413538  &  0.0017545562 &  0.012742994  &  0.022969639  & -1.630641e-03 &  0.0035667241\\\\\n",
       "\t82938 & -0.74008434   & -0.536238351  & -0.17298561   & -0.59184476   & -0.05866342   &  0.24335541   &  0.250150004  & -0.213773147  & -0.06657957   & -0.011160250  & ⋯             & -0.092679259  &  0.0444564796 & -1.335323e-05 &  0.010931768  &  0.040435575  & -0.0259820762 &  0.023858474  &  0.009741427  & -5.161375e-04 &  0.0005783024\\\\\n",
       "\t66009 & -0.01377167   &  0.321314733  & -0.23875921   & -0.87871322   &  0.75912739   & -0.01307297   & -0.213900719  & -0.068300286  & -0.10421975   &  0.162734919  & ⋯             & -0.021149647  & -0.0316731022 & -5.422087e-03 & -0.034986941  &  0.050955971  & -0.0214871046 &  0.019701551  &  0.022887245  &  4.864367e-03 &  0.0004548261\\\\\n",
       "\t95948 & -0.32018969   &  0.069867529  & -0.08279140   & -0.93876917   &  0.02282585   &  0.54823960   & -0.286033312  &  0.004762285  & -0.39444807   &  0.126893303  & ⋯             & -0.034349056  &  0.0519144426 & -1.528385e-02 &  0.043707824  &  0.003358932  & -0.0140973163 &  0.013661967  &  0.006735239  &  2.017329e-03 &  0.0017417099\\\\\n",
       "\t89797 & -0.03761435   & -0.175162857  &  0.23606006   & -0.96878134   & -0.73879342   & -0.22040435   &  0.985430751  &  0.530311526  & -0.74768049   &  0.217448697  & ⋯             &  0.035796175  &  0.0699163186 & -7.802876e-02 &  0.040663037  &  0.053043530  &  0.0863033611 &  0.048207516  &  0.001622229  &  3.408907e-03 & -0.0018748994\\\\\n",
       "\t51143 & -0.46444750   &  0.217670156  & -0.14732102   & -0.57865077   &  0.05801367   &  0.75735176   & -0.199409376  &  0.169720078  &  0.25488048   &  0.190419914  & ⋯             & -0.264766073  & -0.1677151078 & -7.236415e-02 & -0.032570685  &  0.010113024  & -0.0264713418 &  0.006271497  & -0.010516794  &  2.827418e-05 &  0.0122228334\\\\\n",
       "\t91529 & -0.74008434   & -0.536238351  & -0.17298561   & -0.59184476   & -0.05866342   &  0.24335541   &  0.250150004  & -0.213773147  & -0.06657957   & -0.011160250  & ⋯             & -0.092679259  &  0.0444564796 & -1.335323e-05 &  0.010931768  &  0.040435575  & -0.0259820762 &  0.023858474  &  0.009741427  & -5.161375e-04 &  0.0005783024\\\\\n",
       "\t94782 &  0.13716946   &  0.095380006  &  0.74335059   &  0.47582942   &  0.33212111   &  0.74446473   &  0.227504508  &  0.644451929  &  0.09220734   &  0.347042280  & ⋯             &  0.302135776  &  0.4378810757 &  3.155970e-01 &  0.178252493  &  0.046213575  &  0.0281972549 &  0.073494980  &  0.048718613  & -1.064005e-02 &  0.0079884775\\\\\n",
       "\t58456 & -0.69347849   & -0.454492668  & -0.18465791   &  0.39973399   & -0.16045488   & -0.08023761   &  0.008754427  & -0.431700270  & -0.20459985   &  0.374156264  & ⋯             &  0.094008662  &  0.0285522993 & -4.862553e-02 & -0.002937987  &  0.016689911  & -0.0011374837 &  0.027421078  &  0.024712653  & -5.317155e-03 &  0.0007925388\\\\\n",
       "\t91694 & -0.78132765   & -0.462782445  & -0.12999235   & -0.85109221   & -0.22532858   &  0.24638439   &  0.162162341  &  0.402541442  &  0.14855818   &  0.468903016  & ⋯             & -0.184996876  & -0.1504195695 & -1.033191e-01 & -0.009591356  & -0.003633613  & -0.0212436536 & -0.007190302  & -0.012284651  &  1.888835e-03 &  0.0093180397\\\\\n",
       "\t73417 &  1.01112157   &  0.078330879  & -0.44213864   &  0.66408692   & -0.41907255   &  0.53266286   &  0.347256255  & -0.353189207  &  0.05615595   & -0.243522788  & ⋯             &  0.354102599  & -0.4944609557 &  2.461615e-01 &  0.784933820  & -0.047276069  &  0.0297587026 & -0.075584696  & -0.893391647  & -4.511195e-03 & -0.0004099733\\\\\n",
       "\t27455 &  0.18239582   &  0.508965212  &  0.10410223   & -0.66643646   & -0.38266562   &  0.37800411   &  0.521064902  &  0.123940910  & -0.59206434   & -0.143714483  & ⋯             &  0.045615596  &  0.0106672359 & -1.523227e-02 & -0.002134672  &  0.030036142  & -0.0001130881 &  0.050108428  &  0.001563846  & -6.765923e-04 &  0.0010503188\\\\\n",
       "\t97542 &  0.20464323   &  0.242926166  &  0.07877034   & -0.01070914   &  0.88946955   & -0.19350795   &  0.054247040  &  0.275112528  & -0.46844166   &  0.282759547  & ⋯             &  0.192985839  &  0.0007514551 & -5.257061e-02 & -0.038683454  &  0.051913502  &  0.0172191332 &  0.012413032  &  0.029253908  & -1.299845e-03 &  0.0024951536\\\\\n",
       "\t94661 &  0.40250650   &  0.437599833  & -0.12391848   &  0.25749383   & -0.79332687   & -0.29285784   & -0.433966961  & -0.099308581  &  0.07584872   & -0.181926026  & ⋯             &  0.273174541  &  0.6528737100 &  3.966469e-01 &  0.242925955  &  0.071347765  & -0.6819306276 &  0.144660445  &  0.069171415  & -3.767544e-04 & -0.0025597705\\\\\n",
       "\t58609 &  0.37931191   & -0.177980517  &  0.04974853   &  0.55982690   &  0.22412818   &  0.70455364   & -0.053973559  & -0.291529979  &  0.01130495   & -0.094316817  & ⋯             &  0.177522980  & -0.2416912687 &  7.433118e-01 & -0.485641920  & -0.030971919  & -0.6185869467 & -0.026128136  &  0.187977149  & -6.182671e-03 &  0.0017345255\\\\\n",
       "\t61068 & -0.16796256   &  0.294043322  &  0.45888044   &  0.16982714   & -0.07186591   & -0.16950551   & -0.966993243  &  0.234757557  &  0.01349410   & -0.107226699  & ⋯             &  0.074894582  & -0.4366130531 &  1.814039e-01 &  0.731254226  & -0.085168431  & -0.0239130872 &  0.035226733  &  0.030313092  &  1.330834e-03 & -0.0004144973\\\\\n",
       "\t90846 & -0.62580181   & -0.364144159  & -0.10513130   &  0.19981560   &  0.15050100   & -0.22601538   & -0.124014781  &  0.109219239  & -0.35334336   & -0.187275690  & ⋯             &  0.058962399  &  0.0443392038 & -7.376386e-02 & -0.003876030  &  0.063910686  &  0.0009973881 &  0.029948464  &  0.010107032  &  3.233282e-03 & -0.0002886517\\\\\n",
       "\t40624 & -0.12181859   &  0.730800554  & -0.26329324   &  0.37373429   & -0.51458356   &  0.06664213   &  0.048220704  & -0.532468545  & -0.35167280   &  0.148255107  & ⋯             &  0.073881540  &  0.0217260692 & -5.808321e-02 &  0.005023248  &  0.017409580  &  0.0126772352 &  0.031899667  &  0.015313977  & -3.078883e-03 &  0.0013370818\\\\\n",
       "\t84838 &  0.76896641   & -0.002132633  &  0.67597884   & -0.76841757   &  0.63859002   &  0.32444518   &  0.366423483  & -0.154845068  & -0.04058724   &  0.704115732  & ⋯             &  0.211110448  &  0.0428639128 & -3.889207e-02 & -0.025764269  & -0.031833452  &  0.0255241373 &  0.065386805  &  0.006597024  & -5.708977e-03 & -0.0027075346\\\\\n",
       "\t53347 & -0.37169694   &  0.107040890  & -0.13655284   & -0.62908625   &  0.12375234   &  0.65128119   & -0.198727512  & -0.220916113  & -0.17735268   & -0.081375025  & ⋯             & -0.103398756  &  0.0395376920 &  7.828869e-03 &  0.015830132  &  0.028770572  & -0.0226535403 &  0.025491120  &  0.009122261  & -1.796845e-04 &  0.0026124030\\\\\n",
       "\t81918 & -0.34830182   &  0.279263883  & -0.08599307   &  0.18216654   &  0.23622702   &  0.22840712   & -0.507716387  &  0.193255208  & -0.48968611   & -0.001684184  & ⋯             &  0.077817886  & -0.0012663164 & -5.226774e-02 & -0.045784796  &  0.035979871  & -0.0004893158 &  0.029054750  &  0.031671450  &  6.838869e-04 &  0.0024081911\\\\\n",
       "\t99726 & -0.79869303   & -0.411591261  & -0.15812592   &  0.27430038   &  0.06951390   & -0.08440335   &  0.129871002  & -0.074245444  & -0.21725717   &  0.038550723  & ⋯             & -0.006324239  &  0.1800669892 & -9.540739e-02 & -0.040187899  & -0.928032647  &  0.0158978725 &  0.120256876  & -0.011923197  &  5.512466e-05 &  0.0007415212\\\\\n",
       "\t50362 & -0.49957554   &  0.265343663  & -0.20432906   &  0.28646905   &  0.24193742   &  0.35175675   & -0.348749777  &  0.630817223  &  0.34988129   & -0.459417215  & ⋯             & -0.170478599  & -0.1307796101 & -1.469043e-01 & -0.030223041  &  0.020282387  & -0.0248051656 &  0.008974484  & -0.004984468  & -3.018668e-04 &  0.0122163407\\\\\n",
       "\t62639 &  0.09500501   &  0.024488831  &  0.86535564   &  0.42379466   &  0.14892587   &  0.14893522   & -0.483150243  & -0.009130841  &  0.65824142   & -0.864059949  & ⋯             & -0.052727910  &  0.1458401297 & -8.177847e-02 & -0.009789694  &  0.039400909  & -0.0201153439 &  0.076791421  & -0.015849808  & -7.362387e-03 & -0.0004964812\\\\\n",
       "\t68426 & -0.80943978   & -0.253386091  & -0.13319401   &  0.26984350   & -0.01192741   & -0.07344809   & -0.059520734  &  0.591034365  &  0.05332015   &  0.340325530  & ⋯             & -0.072829935  & -0.2036003285 & -1.403030e-01 & -0.099083976  &  0.028987327  & -0.0076356532 &  0.008202482  &  0.012651560  &  5.553926e-04 &  0.0099845209\\\\\n",
       "\t53283 & -0.80368348   & -0.421430020  & -0.15674092   &  0.24626165   &  0.04241699   & -0.09337964   &  0.072576884  & -0.012314696  & -0.19695939   & -0.018441575  & ⋯             &  0.318652066  & -0.3503533342 & -2.330443e-01 & -0.250001596  & -0.032159716  &  0.0106203578 & -0.058786703  &  0.013640403  & -8.647122e-04 &  0.0011119921\\\\\n",
       "\\end{tabular}\n"
      ],
      "text/markdown": [
       "\n",
       "| <!--/--> | PC1 | PC2 | PC3 | PC4 | PC5 | PC6 | PC7 | PC8 | PC9 | PC10 | ⋯ | PC21 | PC22 | PC23 | PC24 | PC25 | PC26 | PC27 | PC28 | PC29 | PC30 | \n",
       "|---|---|---|---|---|---|---|---|---|---|---|---|---|---|---|---|---|---|---|---|---|---|---|---|---|---|---|---|---|---|---|---|---|---|---|---|---|---|---|---|---|---|---|---|---|---|---|---|---|---|---|---|---|---|---|---|---|---|---|---|---|\n",
       "| 76012 | -0.75467150   | -0.345059332  | -0.12725775   |  0.336641532  |  0.060634832  | -0.0001582318 |  0.13936810   |  0.09175189   |  0.007952960  |  0.016277749  | ⋯             | -0.026816612  |  0.11062118   | -5.330906e-02 | -0.0564744741 |  0.023971901  |  0.001200581  |  0.067853457  | -0.002804179  |  0.0001194167 | -2.880955e-05 | \n",
       "| 76420 | -0.14617704   |  0.383015826  | -0.27695283   |  0.037882859  |  0.859343065  | -0.1812769065 | -0.17720158   | -0.16336980   | -0.090029844  |  0.189412622  | ⋯             |  0.034563862  |  0.02771447   | -4.680938e-02 | -0.0176557793 |  0.063032603  |  0.005164864  | -0.009358332  |  0.028032812  |  0.0010988817 |  2.567680e-03 | \n",
       "| 82257 | -0.47990714   | -0.389350806  |  0.37245714   |  0.589363145  |  0.044548624  |  0.4544810718 |  0.51791000   |  0.09344255   |  0.785021943  |  0.175667306  | ⋯             |  0.143670136  | -0.02691351   | -1.207339e-02 | -0.1571624718 | -0.028530144  |  0.071270315  |  0.072534973  |  0.014498476  | -0.0026735616 | -5.760904e-03 | \n",
       "| 64819 |  0.20201135   | -0.934437993  | -0.85513686   |  0.375091415  | -0.223369155  | -0.0560868999 | -0.24114154   |  0.24367768   | -0.242388767  |  0.047359951  | ⋯             |  0.224539295  | -0.01669482   | -7.165049e-02 | -0.0698476597 |  0.021984895  |  0.055723445  |  0.021166000  |  0.046088783  | -0.0018571391 |  3.501203e-04 | \n",
       "| 59347 | -0.74308222   | -0.456449668  | -0.11304109   | -0.037603249  | -0.053244739  | -0.1552251865 |  0.02669934   |  0.17145615   | -0.432746730  |  0.250292350  | ⋯             |  0.094835517  |  0.06612501   | -7.386802e-02 |  0.0166675775 |  0.024666901  |  0.006982244  | -0.000718805  |  0.021201782  |  0.0002299196 |  6.619304e-04 | \n",
       "| 57764 | -0.22292956   |  0.766016915  | -0.24543786   |  0.246079972  | -0.306446925  |  0.0946961477 |  0.15347141   | -0.15499052   | -0.362724283  | -0.183877135  | ⋯             |  0.005658695  |  0.04692203   | -6.021299e-02 | -0.0032488793 |  0.050798209  |  0.012240739  |  0.015588938  |  0.014190129  |  0.0002711778 |  2.077167e-03 | \n",
       "| 49379 | -0.46005932   | -0.377225458  | -0.31956868   | -0.788800092  |  0.570582127  | -0.2936636790 |  0.40782080   | -0.31577774   |  0.169815021  |  0.206443124  | ⋯             | -0.073181716  |  0.02334148   | -3.909654e-03 | -0.0004122603 |  0.065054640  | -0.022571768  |  0.001757148  |  0.014804600  |  0.0022133854 | -4.207415e-04 | \n",
       "| 56697 | -0.74008434   | -0.536238351  | -0.17298561   | -0.591844765  | -0.058663423  |  0.2433554091 |  0.25015000   | -0.21377315   | -0.066579573  | -0.011160250  | ⋯             | -0.092679259  |  0.04445648   | -1.335323e-05 |  0.0109317679 |  0.040435575  | -0.025982076  |  0.023858474  |  0.009741427  | -0.0005161375 |  5.783024e-04 | \n",
       "| 86199 |  0.72012036   | -0.751991118  |  0.25259533   |  0.296196516  |  0.736930114  | -0.3901961329 |  0.61721856   |  0.29737843   | -0.182095670  |  0.354627536  | ⋯             |  0.358620801  |  0.07413503   | -1.300908e-01 | -0.1374719110 | -0.928152331  | -0.618519021  |  0.152258615  |  0.074528602  | -0.0025704297 | -2.696879e-03 | \n",
       "| 70304 |  0.21993550   |  0.678375362  |  0.37956447   |  0.697390454  | -0.428295517  |  0.4909653824 |  0.46028146   | -0.30796850   |  0.278539569  |  0.327624093  | ⋯             | -0.565006459  | -0.20145260   | -1.392049e-01 | -0.0638035235 | -0.014393263  |  0.041512135  | -0.015862461  | -0.023224886  | -0.0042164149 |  9.969866e-03 | \n",
       "| 96562 | -0.75467150   | -0.345059332  | -0.12725775   |  0.336641532  |  0.060634832  | -0.0001582318 |  0.13936810   |  0.09175189   |  0.007952960  |  0.016277749  | ⋯             | -0.026816612  |  0.11062118   | -5.330906e-02 | -0.0564744741 |  0.023971901  |  0.001200581  |  0.067853457  | -0.002804179  |  0.0001194167 | -2.880955e-05 | \n",
       "| 77480 |  0.30440851   |  0.597725248  |  0.21232414   |  0.312783176  | -0.185337788  |  0.0412027790 |  0.46660496   |  0.82945725   | -0.336702291  | -0.871609998  | ⋯             | -0.442139609  |  0.08119925   | -7.972813e-02 | -0.0653691835 | -0.009849350  |  0.016034531  |  0.102011056  | -0.057043270  |  0.0065278396 | -4.190972e-04 | \n",
       "| 71577 |  1.54230725   | -0.528552134  | -0.21058551   |  0.470597891  |  0.777111443  |  0.1695506579 |  0.17311052   |  0.07543088   | -0.166429132  |  0.338949520  | ⋯             | -0.288939178  | -0.02873412   |  9.827130e-02 |  0.0196144559 |  0.047983429  |  0.092080187  | -0.026291730  |  0.026989848  | -0.0218460933 |  1.234199e-03 | \n",
       "| 89103 | -0.19304647   |  0.019984889  |  0.26912198   |  0.281110862  | -0.236296724  | -0.2081719824 | -0.94099692   | -0.28180011   |  0.229592838  | -0.544418810  | ⋯             |  0.057973501  | -0.12837382   | -9.748742e-04 | -0.0145098189 | -0.037764712  | -0.065325132  |  0.069252016  | -0.023492193  | -0.0031882102 |  5.731095e-04 | \n",
       "| 81581 | -0.35705370   |  0.163791955  | -0.15911791   |  0.380398991  |  0.009403705  |  0.3521447123 | -0.42413098   | -0.45264155   | -0.270246449  |  0.225590274  | ⋯             |  0.125084870  | -0.16116102   |  2.181005e-02 | -0.0564043931 | -0.054055802  | -0.019734852  |  0.040947660  |  0.007780922  | -0.0021635065 |  1.998725e-03 | \n",
       "| 62479 |  0.17947638   | -0.793049360  | -0.87164529   |  0.401688813  | -0.392413817  |  0.0660101508 | -0.23343185   |  0.66502769   |  0.331919608  |  0.375419572  | ⋯             |  0.539405998  |  0.63913137   |  3.785096e-01 |  0.1420381637 |  0.044534405  |  0.124033674  |  0.114151900  |  0.086177633  | -0.0006988472 | -7.517898e-03 | \n",
       "| 91123 | -0.35093727   | -0.449801436  |  0.70601185   | -0.125110910  | -0.567240650  | -0.3829479589 | -0.22687965   |  1.14994006   |  0.347561516  |  0.826301143  | ⋯             |  0.125727882  | -0.12303800   | -1.666399e-01 | -0.0775709369 |  0.006430690  |  0.063420170  |  0.028472795  | -0.005405672  | -0.0029229888 |  5.907008e-03 | \n",
       "| 69371 |  0.83679995   |  0.234594895  | -0.95645948   |  0.593979545  | -0.778810896  |  0.2420992624 | -0.10871900   | -0.34321490   |  0.008455734  |  0.101338194  | ⋯             |  0.157281023  |  0.05825169   | -7.217750e-02 | -0.0594056111 | -0.034357038  |  0.074993093  |  0.082386671  |  0.002719161  | -0.0031969449 | -2.483214e-04 | \n",
       "| 74009 | -0.47730758   | -0.549200320  |  0.36113819   |  0.495762411  |  0.199257455  |  0.2493007699 |  0.45723026   | -0.31880345   |  0.045570939  |  0.001910183  | ⋯             |  0.077705385  |  0.06109880   | -6.428202e-02 | -0.0113182730 |  0.060881461  |  0.019371840  | -0.009888689  |  0.042435456  | -0.0087606470 |  4.564672e-04 | \n",
       "| 80847 | -0.59066427   | -0.488866398  |  0.30098214   |  0.237353403  | -0.185065596  | -0.5604749265 | -0.37749785   |  0.26259333   |  0.507792247  | -0.753731335  | ⋯             | -0.093927981  |  0.14340838   | -7.609398e-02 | -0.0145798999 |  0.040262991  | -0.044389699  |  0.096157813  | -0.034077294  | -0.0009052870 | -1.454426e-03 | \n",
       "| 88953 | -0.66480963   | -0.327904621  |  0.35823699   |  0.169359974  | -0.335206401  | -0.5237087858 | -0.56319115   |  0.46032956   |  0.309086858  |  0.273337847  | ⋯             | -0.115763702  | -0.19845684   | -1.392897e-01 | -0.0816789289 |  0.044752020  | -0.030484014  |  0.021055724  | -0.010306503  | -0.0015901268 |  9.519719e-03 | \n",
       "| 55219 | -0.05441506   | -0.022883122  |  0.39138788   | -0.405403507  |  0.275328041  |  0.9527655537 |  0.14449761   | -0.48549732   |  0.083869598  | -0.121488864  | ⋯             | -0.051479187  |  0.04688823   | -5.697843e-03 |  0.0157219734 |  0.039573492  | -0.001707721  |  0.004492083  |  0.027968913  | -0.0069732373 |  1.536247e-03 | \n",
       "| 59333 | -0.79458946   | -0.419276308  | -0.16680253   |  0.272079670  |  0.047681753  | -0.0521835966 |  0.11400514   | -0.05422225   | -0.215651335  |  0.042024022  | ⋯             |  0.025785817  |  0.05374826   | -5.075530e-02 | -0.0112101149 |  0.050078541  | -0.001573980  |  0.011110348  |  0.023588805  | -0.0019670942 |  1.532623e-03 | \n",
       "| 43150 |  0.15645244   | -0.063738261  | -0.42874548   |  0.015398385  |  0.085755616  |  0.1459151467 | -0.67701234   |  0.85082825   | -0.136672012  | -0.640439171  | ⋯             |  0.175530788  | -0.09440607   | -4.853515e-02 | -0.0908800990 | -0.077763798  |  0.694298359  |  0.058038669  | -0.060557073  |  0.0051781754 | -1.704492e-03 | \n",
       "| 92158 | -0.42620206   |  0.224002933  | -0.13036977   |  0.234838186  |  0.230097515  |  0.3557421815 | -0.33487238   | -0.06136521   | -0.326424437  | -0.028190753  | ⋯             |  0.015066319  |  0.04882947   | -4.291308e-02 | -0.0063117512 |  0.038413538  |  0.001754556  |  0.012742994  |  0.022969639  | -0.0016306412 |  3.566724e-03 | \n",
       "| 94673 | -0.02992997   |  0.310051822  | -0.22551480   |  0.009174806  |  0.864136078  | -0.3787740038 | -0.08760298   |  0.31172569   |  0.104748874  | -0.430928701  | ⋯             | -0.079202358  |  0.09731173   | -1.024492e-01 |  0.0266521279 |  0.100313025  |  0.063611705  |  0.017653668  |  0.021544000  |  0.0044446360 |  1.586442e-03 | \n",
       "| 62143 |  1.37023264   |  0.001030679  | -0.10447339   |  0.327670514  | -1.078786980  | -0.3997529050 | -0.57914776   |  0.07320891   | -0.501055340  |  0.179950278  | ⋯             |  0.388123227  | -0.07053654   | -8.372632e-02 | -0.0572369243 | -0.006038474  |  0.059180568  |  0.076579925  |  0.016076987  | -0.0075131739 | -3.827501e-04 | \n",
       "| 79222 | -0.26022067   | -0.548089244  |  0.33474204   |  0.197574066  |  0.103945409  | -0.1980297514 |  0.40210257   |  0.49286342   | -0.593978165  | -0.050563816  | ⋯             |  0.157657084  | -0.38793762   |  1.332001e-01 |  0.8392860543 | -0.018827078  |  0.093134318  | -0.016455410  |  0.052445245  |  0.0014509211 | -1.952296e-05 | \n",
       "| 57437 |  0.24043316   |  0.516362728  | -0.71364957   | -0.458648842  | -0.705717967  |  0.5842561647 |  0.22291058   |  0.70281812   |  1.012591527  | -0.371699472  | ⋯             | -0.149225441  | -0.11717821   | -1.234377e-01 | -0.0725644629 | -0.003189065  | -0.636260679  |  0.075374152  |  0.039776280  |  0.0057569622 |  5.812297e-03 | \n",
       "| 51871 |  0.70436107   |  0.318302426  |  0.03745175   |  0.615733029  | -0.304081245  |  0.4822568737 |  0.49406106   | -0.27601975   | -0.085526944  | -0.257569303  | ⋯             | -0.399507601  |  0.01588747   | -6.328610e-02 | -0.0490059408 |  0.015664011  | -0.623689977  |  0.024065415  |  0.047909389  |  0.0004483613 |  9.673793e-04 | \n",
       "| ⋮ | ⋮ | ⋮ | ⋮ | ⋮ | ⋮ | ⋮ | ⋮ | ⋮ | ⋮ | ⋮ | ⋱ | ⋮ | ⋮ | ⋮ | ⋮ | ⋮ | ⋮ | ⋮ | ⋮ | ⋮ | ⋮ | \n",
       "| 69943 |  0.04654055   |  1.035656963  | -0.40935400   |  0.06025703   |  0.16769389   | -0.31362455   |  0.330466886  |  0.023075072  |  0.34439051   |  0.311580852  | ⋯             |  0.101927711  |  0.0657163393 | -7.194027e-02 | -0.056807978  |  0.071193019  |  0.0867008651 |  0.007274228  |  0.034021871  |  4.184080e-03 | -0.0027499015 | \n",
       "| 81391 |  0.17861623   | -1.106660987  | -0.90569664   | -0.43616137   | -0.33584384   |  0.36678717   |  0.067847336  | -0.170493642  |  0.06994467   | -0.032330890  | ⋯             |  0.043322653  |  0.0241091880 | -1.155388e-02 | -0.008232732  |  0.014775596  |  0.0335592200 |  0.017602369  |  0.023539594  | -2.720711e-03 |  0.0005543322 | \n",
       "| 87976 |  0.62642770   | -1.074245358  | -1.06566704   | -0.79036765   |  0.06415014   | -0.41106082   |  0.038796690  | -0.096518602  |  0.36817712   |  0.009843094  | ⋯             |  0.268528034  | -0.4795444524 |  1.749807e-01 |  0.845960921  | -0.129685566  |  0.0198703553 | -0.047990635  |  0.067017231  |  6.825365e-04 | -0.0038127565 | \n",
       "| 88696 | -0.23099587   | -0.694850502  |  0.76798366   |  0.49721979   | -0.11077493   | -0.26281745   | -0.088499128  | -0.427888200  |  0.20560367   |  0.052396953  | ⋯             | -0.635074879  |  0.0497534691 |  1.126405e-01 |  0.083657343  |  0.087573140  | -0.0091025822 | -0.008485066  | -0.015431486  | -2.245429e-02 | -0.0001691635 | \n",
       "| 77450 | -0.42620206   |  0.224002933  | -0.13036977   |  0.23483819   |  0.23009752   |  0.35574218   | -0.334872381  | -0.061365211  | -0.32642444   | -0.028190753  | ⋯             |  0.015066319  |  0.0488294733 | -4.291308e-02 | -0.006311751  |  0.038413538  |  0.0017545562 |  0.012742994  |  0.022969639  | -1.630641e-03 |  0.0035667241 | \n",
       "| 82938 | -0.74008434   | -0.536238351  | -0.17298561   | -0.59184476   | -0.05866342   |  0.24335541   |  0.250150004  | -0.213773147  | -0.06657957   | -0.011160250  | ⋯             | -0.092679259  |  0.0444564796 | -1.335323e-05 |  0.010931768  |  0.040435575  | -0.0259820762 |  0.023858474  |  0.009741427  | -5.161375e-04 |  0.0005783024 | \n",
       "| 66009 | -0.01377167   |  0.321314733  | -0.23875921   | -0.87871322   |  0.75912739   | -0.01307297   | -0.213900719  | -0.068300286  | -0.10421975   |  0.162734919  | ⋯             | -0.021149647  | -0.0316731022 | -5.422087e-03 | -0.034986941  |  0.050955971  | -0.0214871046 |  0.019701551  |  0.022887245  |  4.864367e-03 |  0.0004548261 | \n",
       "| 95948 | -0.32018969   |  0.069867529  | -0.08279140   | -0.93876917   |  0.02282585   |  0.54823960   | -0.286033312  |  0.004762285  | -0.39444807   |  0.126893303  | ⋯             | -0.034349056  |  0.0519144426 | -1.528385e-02 |  0.043707824  |  0.003358932  | -0.0140973163 |  0.013661967  |  0.006735239  |  2.017329e-03 |  0.0017417099 | \n",
       "| 89797 | -0.03761435   | -0.175162857  |  0.23606006   | -0.96878134   | -0.73879342   | -0.22040435   |  0.985430751  |  0.530311526  | -0.74768049   |  0.217448697  | ⋯             |  0.035796175  |  0.0699163186 | -7.802876e-02 |  0.040663037  |  0.053043530  |  0.0863033611 |  0.048207516  |  0.001622229  |  3.408907e-03 | -0.0018748994 | \n",
       "| 51143 | -0.46444750   |  0.217670156  | -0.14732102   | -0.57865077   |  0.05801367   |  0.75735176   | -0.199409376  |  0.169720078  |  0.25488048   |  0.190419914  | ⋯             | -0.264766073  | -0.1677151078 | -7.236415e-02 | -0.032570685  |  0.010113024  | -0.0264713418 |  0.006271497  | -0.010516794  |  2.827418e-05 |  0.0122228334 | \n",
       "| 91529 | -0.74008434   | -0.536238351  | -0.17298561   | -0.59184476   | -0.05866342   |  0.24335541   |  0.250150004  | -0.213773147  | -0.06657957   | -0.011160250  | ⋯             | -0.092679259  |  0.0444564796 | -1.335323e-05 |  0.010931768  |  0.040435575  | -0.0259820762 |  0.023858474  |  0.009741427  | -5.161375e-04 |  0.0005783024 | \n",
       "| 94782 |  0.13716946   |  0.095380006  |  0.74335059   |  0.47582942   |  0.33212111   |  0.74446473   |  0.227504508  |  0.644451929  |  0.09220734   |  0.347042280  | ⋯             |  0.302135776  |  0.4378810757 |  3.155970e-01 |  0.178252493  |  0.046213575  |  0.0281972549 |  0.073494980  |  0.048718613  | -1.064005e-02 |  0.0079884775 | \n",
       "| 58456 | -0.69347849   | -0.454492668  | -0.18465791   |  0.39973399   | -0.16045488   | -0.08023761   |  0.008754427  | -0.431700270  | -0.20459985   |  0.374156264  | ⋯             |  0.094008662  |  0.0285522993 | -4.862553e-02 | -0.002937987  |  0.016689911  | -0.0011374837 |  0.027421078  |  0.024712653  | -5.317155e-03 |  0.0007925388 | \n",
       "| 91694 | -0.78132765   | -0.462782445  | -0.12999235   | -0.85109221   | -0.22532858   |  0.24638439   |  0.162162341  |  0.402541442  |  0.14855818   |  0.468903016  | ⋯             | -0.184996876  | -0.1504195695 | -1.033191e-01 | -0.009591356  | -0.003633613  | -0.0212436536 | -0.007190302  | -0.012284651  |  1.888835e-03 |  0.0093180397 | \n",
       "| 73417 |  1.01112157   |  0.078330879  | -0.44213864   |  0.66408692   | -0.41907255   |  0.53266286   |  0.347256255  | -0.353189207  |  0.05615595   | -0.243522788  | ⋯             |  0.354102599  | -0.4944609557 |  2.461615e-01 |  0.784933820  | -0.047276069  |  0.0297587026 | -0.075584696  | -0.893391647  | -4.511195e-03 | -0.0004099733 | \n",
       "| 27455 |  0.18239582   |  0.508965212  |  0.10410223   | -0.66643646   | -0.38266562   |  0.37800411   |  0.521064902  |  0.123940910  | -0.59206434   | -0.143714483  | ⋯             |  0.045615596  |  0.0106672359 | -1.523227e-02 | -0.002134672  |  0.030036142  | -0.0001130881 |  0.050108428  |  0.001563846  | -6.765923e-04 |  0.0010503188 | \n",
       "| 97542 |  0.20464323   |  0.242926166  |  0.07877034   | -0.01070914   |  0.88946955   | -0.19350795   |  0.054247040  |  0.275112528  | -0.46844166   |  0.282759547  | ⋯             |  0.192985839  |  0.0007514551 | -5.257061e-02 | -0.038683454  |  0.051913502  |  0.0172191332 |  0.012413032  |  0.029253908  | -1.299845e-03 |  0.0024951536 | \n",
       "| 94661 |  0.40250650   |  0.437599833  | -0.12391848   |  0.25749383   | -0.79332687   | -0.29285784   | -0.433966961  | -0.099308581  |  0.07584872   | -0.181926026  | ⋯             |  0.273174541  |  0.6528737100 |  3.966469e-01 |  0.242925955  |  0.071347765  | -0.6819306276 |  0.144660445  |  0.069171415  | -3.767544e-04 | -0.0025597705 | \n",
       "| 58609 |  0.37931191   | -0.177980517  |  0.04974853   |  0.55982690   |  0.22412818   |  0.70455364   | -0.053973559  | -0.291529979  |  0.01130495   | -0.094316817  | ⋯             |  0.177522980  | -0.2416912687 |  7.433118e-01 | -0.485641920  | -0.030971919  | -0.6185869467 | -0.026128136  |  0.187977149  | -6.182671e-03 |  0.0017345255 | \n",
       "| 61068 | -0.16796256   |  0.294043322  |  0.45888044   |  0.16982714   | -0.07186591   | -0.16950551   | -0.966993243  |  0.234757557  |  0.01349410   | -0.107226699  | ⋯             |  0.074894582  | -0.4366130531 |  1.814039e-01 |  0.731254226  | -0.085168431  | -0.0239130872 |  0.035226733  |  0.030313092  |  1.330834e-03 | -0.0004144973 | \n",
       "| 90846 | -0.62580181   | -0.364144159  | -0.10513130   |  0.19981560   |  0.15050100   | -0.22601538   | -0.124014781  |  0.109219239  | -0.35334336   | -0.187275690  | ⋯             |  0.058962399  |  0.0443392038 | -7.376386e-02 | -0.003876030  |  0.063910686  |  0.0009973881 |  0.029948464  |  0.010107032  |  3.233282e-03 | -0.0002886517 | \n",
       "| 40624 | -0.12181859   |  0.730800554  | -0.26329324   |  0.37373429   | -0.51458356   |  0.06664213   |  0.048220704  | -0.532468545  | -0.35167280   |  0.148255107  | ⋯             |  0.073881540  |  0.0217260692 | -5.808321e-02 |  0.005023248  |  0.017409580  |  0.0126772352 |  0.031899667  |  0.015313977  | -3.078883e-03 |  0.0013370818 | \n",
       "| 84838 |  0.76896641   | -0.002132633  |  0.67597884   | -0.76841757   |  0.63859002   |  0.32444518   |  0.366423483  | -0.154845068  | -0.04058724   |  0.704115732  | ⋯             |  0.211110448  |  0.0428639128 | -3.889207e-02 | -0.025764269  | -0.031833452  |  0.0255241373 |  0.065386805  |  0.006597024  | -5.708977e-03 | -0.0027075346 | \n",
       "| 53347 | -0.37169694   |  0.107040890  | -0.13655284   | -0.62908625   |  0.12375234   |  0.65128119   | -0.198727512  | -0.220916113  | -0.17735268   | -0.081375025  | ⋯             | -0.103398756  |  0.0395376920 |  7.828869e-03 |  0.015830132  |  0.028770572  | -0.0226535403 |  0.025491120  |  0.009122261  | -1.796845e-04 |  0.0026124030 | \n",
       "| 81918 | -0.34830182   |  0.279263883  | -0.08599307   |  0.18216654   |  0.23622702   |  0.22840712   | -0.507716387  |  0.193255208  | -0.48968611   | -0.001684184  | ⋯             |  0.077817886  | -0.0012663164 | -5.226774e-02 | -0.045784796  |  0.035979871  | -0.0004893158 |  0.029054750  |  0.031671450  |  6.838869e-04 |  0.0024081911 | \n",
       "| 99726 | -0.79869303   | -0.411591261  | -0.15812592   |  0.27430038   |  0.06951390   | -0.08440335   |  0.129871002  | -0.074245444  | -0.21725717   |  0.038550723  | ⋯             | -0.006324239  |  0.1800669892 | -9.540739e-02 | -0.040187899  | -0.928032647  |  0.0158978725 |  0.120256876  | -0.011923197  |  5.512466e-05 |  0.0007415212 | \n",
       "| 50362 | -0.49957554   |  0.265343663  | -0.20432906   |  0.28646905   |  0.24193742   |  0.35175675   | -0.348749777  |  0.630817223  |  0.34988129   | -0.459417215  | ⋯             | -0.170478599  | -0.1307796101 | -1.469043e-01 | -0.030223041  |  0.020282387  | -0.0248051656 |  0.008974484  | -0.004984468  | -3.018668e-04 |  0.0122163407 | \n",
       "| 62639 |  0.09500501   |  0.024488831  |  0.86535564   |  0.42379466   |  0.14892587   |  0.14893522   | -0.483150243  | -0.009130841  |  0.65824142   | -0.864059949  | ⋯             | -0.052727910  |  0.1458401297 | -8.177847e-02 | -0.009789694  |  0.039400909  | -0.0201153439 |  0.076791421  | -0.015849808  | -7.362387e-03 | -0.0004964812 | \n",
       "| 68426 | -0.80943978   | -0.253386091  | -0.13319401   |  0.26984350   | -0.01192741   | -0.07344809   | -0.059520734  |  0.591034365  |  0.05332015   |  0.340325530  | ⋯             | -0.072829935  | -0.2036003285 | -1.403030e-01 | -0.099083976  |  0.028987327  | -0.0076356532 |  0.008202482  |  0.012651560  |  5.553926e-04 |  0.0099845209 | \n",
       "| 53283 | -0.80368348   | -0.421430020  | -0.15674092   |  0.24626165   |  0.04241699   | -0.09337964   |  0.072576884  | -0.012314696  | -0.19695939   | -0.018441575  | ⋯             |  0.318652066  | -0.3503533342 | -2.330443e-01 | -0.250001596  | -0.032159716  |  0.0106203578 | -0.058786703  |  0.013640403  | -8.647122e-04 |  0.0011119921 | \n",
       "\n",
       "\n"
      ],
      "text/plain": [
       "      PC1         PC2          PC3         PC4          PC5         \n",
       "76012 -0.75467150 -0.345059332 -0.12725775  0.336641532  0.060634832\n",
       "76420 -0.14617704  0.383015826 -0.27695283  0.037882859  0.859343065\n",
       "82257 -0.47990714 -0.389350806  0.37245714  0.589363145  0.044548624\n",
       "64819  0.20201135 -0.934437993 -0.85513686  0.375091415 -0.223369155\n",
       "59347 -0.74308222 -0.456449668 -0.11304109 -0.037603249 -0.053244739\n",
       "57764 -0.22292956  0.766016915 -0.24543786  0.246079972 -0.306446925\n",
       "49379 -0.46005932 -0.377225458 -0.31956868 -0.788800092  0.570582127\n",
       "56697 -0.74008434 -0.536238351 -0.17298561 -0.591844765 -0.058663423\n",
       "86199  0.72012036 -0.751991118  0.25259533  0.296196516  0.736930114\n",
       "70304  0.21993550  0.678375362  0.37956447  0.697390454 -0.428295517\n",
       "96562 -0.75467150 -0.345059332 -0.12725775  0.336641532  0.060634832\n",
       "77480  0.30440851  0.597725248  0.21232414  0.312783176 -0.185337788\n",
       "71577  1.54230725 -0.528552134 -0.21058551  0.470597891  0.777111443\n",
       "89103 -0.19304647  0.019984889  0.26912198  0.281110862 -0.236296724\n",
       "81581 -0.35705370  0.163791955 -0.15911791  0.380398991  0.009403705\n",
       "62479  0.17947638 -0.793049360 -0.87164529  0.401688813 -0.392413817\n",
       "91123 -0.35093727 -0.449801436  0.70601185 -0.125110910 -0.567240650\n",
       "69371  0.83679995  0.234594895 -0.95645948  0.593979545 -0.778810896\n",
       "74009 -0.47730758 -0.549200320  0.36113819  0.495762411  0.199257455\n",
       "80847 -0.59066427 -0.488866398  0.30098214  0.237353403 -0.185065596\n",
       "88953 -0.66480963 -0.327904621  0.35823699  0.169359974 -0.335206401\n",
       "55219 -0.05441506 -0.022883122  0.39138788 -0.405403507  0.275328041\n",
       "59333 -0.79458946 -0.419276308 -0.16680253  0.272079670  0.047681753\n",
       "43150  0.15645244 -0.063738261 -0.42874548  0.015398385  0.085755616\n",
       "92158 -0.42620206  0.224002933 -0.13036977  0.234838186  0.230097515\n",
       "94673 -0.02992997  0.310051822 -0.22551480  0.009174806  0.864136078\n",
       "62143  1.37023264  0.001030679 -0.10447339  0.327670514 -1.078786980\n",
       "79222 -0.26022067 -0.548089244  0.33474204  0.197574066  0.103945409\n",
       "57437  0.24043316  0.516362728 -0.71364957 -0.458648842 -0.705717967\n",
       "51871  0.70436107  0.318302426  0.03745175  0.615733029 -0.304081245\n",
       "⋮     ⋮           ⋮            ⋮           ⋮            ⋮           \n",
       "69943  0.04654055  1.035656963 -0.40935400  0.06025703   0.16769389 \n",
       "81391  0.17861623 -1.106660987 -0.90569664 -0.43616137  -0.33584384 \n",
       "87976  0.62642770 -1.074245358 -1.06566704 -0.79036765   0.06415014 \n",
       "88696 -0.23099587 -0.694850502  0.76798366  0.49721979  -0.11077493 \n",
       "77450 -0.42620206  0.224002933 -0.13036977  0.23483819   0.23009752 \n",
       "82938 -0.74008434 -0.536238351 -0.17298561 -0.59184476  -0.05866342 \n",
       "66009 -0.01377167  0.321314733 -0.23875921 -0.87871322   0.75912739 \n",
       "95948 -0.32018969  0.069867529 -0.08279140 -0.93876917   0.02282585 \n",
       "89797 -0.03761435 -0.175162857  0.23606006 -0.96878134  -0.73879342 \n",
       "51143 -0.46444750  0.217670156 -0.14732102 -0.57865077   0.05801367 \n",
       "91529 -0.74008434 -0.536238351 -0.17298561 -0.59184476  -0.05866342 \n",
       "94782  0.13716946  0.095380006  0.74335059  0.47582942   0.33212111 \n",
       "58456 -0.69347849 -0.454492668 -0.18465791  0.39973399  -0.16045488 \n",
       "91694 -0.78132765 -0.462782445 -0.12999235 -0.85109221  -0.22532858 \n",
       "73417  1.01112157  0.078330879 -0.44213864  0.66408692  -0.41907255 \n",
       "27455  0.18239582  0.508965212  0.10410223 -0.66643646  -0.38266562 \n",
       "97542  0.20464323  0.242926166  0.07877034 -0.01070914   0.88946955 \n",
       "94661  0.40250650  0.437599833 -0.12391848  0.25749383  -0.79332687 \n",
       "58609  0.37931191 -0.177980517  0.04974853  0.55982690   0.22412818 \n",
       "61068 -0.16796256  0.294043322  0.45888044  0.16982714  -0.07186591 \n",
       "90846 -0.62580181 -0.364144159 -0.10513130  0.19981560   0.15050100 \n",
       "40624 -0.12181859  0.730800554 -0.26329324  0.37373429  -0.51458356 \n",
       "84838  0.76896641 -0.002132633  0.67597884 -0.76841757   0.63859002 \n",
       "53347 -0.37169694  0.107040890 -0.13655284 -0.62908625   0.12375234 \n",
       "81918 -0.34830182  0.279263883 -0.08599307  0.18216654   0.23622702 \n",
       "99726 -0.79869303 -0.411591261 -0.15812592  0.27430038   0.06951390 \n",
       "50362 -0.49957554  0.265343663 -0.20432906  0.28646905   0.24193742 \n",
       "62639  0.09500501  0.024488831  0.86535564  0.42379466   0.14892587 \n",
       "68426 -0.80943978 -0.253386091 -0.13319401  0.26984350  -0.01192741 \n",
       "53283 -0.80368348 -0.421430020 -0.15674092  0.24626165   0.04241699 \n",
       "      PC6           PC7          PC8          PC9          PC10         ⋯\n",
       "76012 -0.0001582318  0.13936810   0.09175189   0.007952960  0.016277749 ⋯\n",
       "76420 -0.1812769065 -0.17720158  -0.16336980  -0.090029844  0.189412622 ⋯\n",
       "82257  0.4544810718  0.51791000   0.09344255   0.785021943  0.175667306 ⋯\n",
       "64819 -0.0560868999 -0.24114154   0.24367768  -0.242388767  0.047359951 ⋯\n",
       "59347 -0.1552251865  0.02669934   0.17145615  -0.432746730  0.250292350 ⋯\n",
       "57764  0.0946961477  0.15347141  -0.15499052  -0.362724283 -0.183877135 ⋯\n",
       "49379 -0.2936636790  0.40782080  -0.31577774   0.169815021  0.206443124 ⋯\n",
       "56697  0.2433554091  0.25015000  -0.21377315  -0.066579573 -0.011160250 ⋯\n",
       "86199 -0.3901961329  0.61721856   0.29737843  -0.182095670  0.354627536 ⋯\n",
       "70304  0.4909653824  0.46028146  -0.30796850   0.278539569  0.327624093 ⋯\n",
       "96562 -0.0001582318  0.13936810   0.09175189   0.007952960  0.016277749 ⋯\n",
       "77480  0.0412027790  0.46660496   0.82945725  -0.336702291 -0.871609998 ⋯\n",
       "71577  0.1695506579  0.17311052   0.07543088  -0.166429132  0.338949520 ⋯\n",
       "89103 -0.2081719824 -0.94099692  -0.28180011   0.229592838 -0.544418810 ⋯\n",
       "81581  0.3521447123 -0.42413098  -0.45264155  -0.270246449  0.225590274 ⋯\n",
       "62479  0.0660101508 -0.23343185   0.66502769   0.331919608  0.375419572 ⋯\n",
       "91123 -0.3829479589 -0.22687965   1.14994006   0.347561516  0.826301143 ⋯\n",
       "69371  0.2420992624 -0.10871900  -0.34321490   0.008455734  0.101338194 ⋯\n",
       "74009  0.2493007699  0.45723026  -0.31880345   0.045570939  0.001910183 ⋯\n",
       "80847 -0.5604749265 -0.37749785   0.26259333   0.507792247 -0.753731335 ⋯\n",
       "88953 -0.5237087858 -0.56319115   0.46032956   0.309086858  0.273337847 ⋯\n",
       "55219  0.9527655537  0.14449761  -0.48549732   0.083869598 -0.121488864 ⋯\n",
       "59333 -0.0521835966  0.11400514  -0.05422225  -0.215651335  0.042024022 ⋯\n",
       "43150  0.1459151467 -0.67701234   0.85082825  -0.136672012 -0.640439171 ⋯\n",
       "92158  0.3557421815 -0.33487238  -0.06136521  -0.326424437 -0.028190753 ⋯\n",
       "94673 -0.3787740038 -0.08760298   0.31172569   0.104748874 -0.430928701 ⋯\n",
       "62143 -0.3997529050 -0.57914776   0.07320891  -0.501055340  0.179950278 ⋯\n",
       "79222 -0.1980297514  0.40210257   0.49286342  -0.593978165 -0.050563816 ⋯\n",
       "57437  0.5842561647  0.22291058   0.70281812   1.012591527 -0.371699472 ⋯\n",
       "51871  0.4822568737  0.49406106  -0.27601975  -0.085526944 -0.257569303 ⋯\n",
       "⋮     ⋮             ⋮            ⋮            ⋮            ⋮            ⋱\n",
       "69943 -0.31362455    0.330466886  0.023075072  0.34439051   0.311580852 ⋯\n",
       "81391  0.36678717    0.067847336 -0.170493642  0.06994467  -0.032330890 ⋯\n",
       "87976 -0.41106082    0.038796690 -0.096518602  0.36817712   0.009843094 ⋯\n",
       "88696 -0.26281745   -0.088499128 -0.427888200  0.20560367   0.052396953 ⋯\n",
       "77450  0.35574218   -0.334872381 -0.061365211 -0.32642444  -0.028190753 ⋯\n",
       "82938  0.24335541    0.250150004 -0.213773147 -0.06657957  -0.011160250 ⋯\n",
       "66009 -0.01307297   -0.213900719 -0.068300286 -0.10421975   0.162734919 ⋯\n",
       "95948  0.54823960   -0.286033312  0.004762285 -0.39444807   0.126893303 ⋯\n",
       "89797 -0.22040435    0.985430751  0.530311526 -0.74768049   0.217448697 ⋯\n",
       "51143  0.75735176   -0.199409376  0.169720078  0.25488048   0.190419914 ⋯\n",
       "91529  0.24335541    0.250150004 -0.213773147 -0.06657957  -0.011160250 ⋯\n",
       "94782  0.74446473    0.227504508  0.644451929  0.09220734   0.347042280 ⋯\n",
       "58456 -0.08023761    0.008754427 -0.431700270 -0.20459985   0.374156264 ⋯\n",
       "91694  0.24638439    0.162162341  0.402541442  0.14855818   0.468903016 ⋯\n",
       "73417  0.53266286    0.347256255 -0.353189207  0.05615595  -0.243522788 ⋯\n",
       "27455  0.37800411    0.521064902  0.123940910 -0.59206434  -0.143714483 ⋯\n",
       "97542 -0.19350795    0.054247040  0.275112528 -0.46844166   0.282759547 ⋯\n",
       "94661 -0.29285784   -0.433966961 -0.099308581  0.07584872  -0.181926026 ⋯\n",
       "58609  0.70455364   -0.053973559 -0.291529979  0.01130495  -0.094316817 ⋯\n",
       "61068 -0.16950551   -0.966993243  0.234757557  0.01349410  -0.107226699 ⋯\n",
       "90846 -0.22601538   -0.124014781  0.109219239 -0.35334336  -0.187275690 ⋯\n",
       "40624  0.06664213    0.048220704 -0.532468545 -0.35167280   0.148255107 ⋯\n",
       "84838  0.32444518    0.366423483 -0.154845068 -0.04058724   0.704115732 ⋯\n",
       "53347  0.65128119   -0.198727512 -0.220916113 -0.17735268  -0.081375025 ⋯\n",
       "81918  0.22840712   -0.507716387  0.193255208 -0.48968611  -0.001684184 ⋯\n",
       "99726 -0.08440335    0.129871002 -0.074245444 -0.21725717   0.038550723 ⋯\n",
       "50362  0.35175675   -0.348749777  0.630817223  0.34988129  -0.459417215 ⋯\n",
       "62639  0.14893522   -0.483150243 -0.009130841  0.65824142  -0.864059949 ⋯\n",
       "68426 -0.07344809   -0.059520734  0.591034365  0.05332015   0.340325530 ⋯\n",
       "53283 -0.09337964    0.072576884 -0.012314696 -0.19695939  -0.018441575 ⋯\n",
       "      PC21         PC22          PC23          PC24          PC25        \n",
       "76012 -0.026816612  0.11062118   -5.330906e-02 -0.0564744741  0.023971901\n",
       "76420  0.034563862  0.02771447   -4.680938e-02 -0.0176557793  0.063032603\n",
       "82257  0.143670136 -0.02691351   -1.207339e-02 -0.1571624718 -0.028530144\n",
       "64819  0.224539295 -0.01669482   -7.165049e-02 -0.0698476597  0.021984895\n",
       "59347  0.094835517  0.06612501   -7.386802e-02  0.0166675775  0.024666901\n",
       "57764  0.005658695  0.04692203   -6.021299e-02 -0.0032488793  0.050798209\n",
       "49379 -0.073181716  0.02334148   -3.909654e-03 -0.0004122603  0.065054640\n",
       "56697 -0.092679259  0.04445648   -1.335323e-05  0.0109317679  0.040435575\n",
       "86199  0.358620801  0.07413503   -1.300908e-01 -0.1374719110 -0.928152331\n",
       "70304 -0.565006459 -0.20145260   -1.392049e-01 -0.0638035235 -0.014393263\n",
       "96562 -0.026816612  0.11062118   -5.330906e-02 -0.0564744741  0.023971901\n",
       "77480 -0.442139609  0.08119925   -7.972813e-02 -0.0653691835 -0.009849350\n",
       "71577 -0.288939178 -0.02873412    9.827130e-02  0.0196144559  0.047983429\n",
       "89103  0.057973501 -0.12837382   -9.748742e-04 -0.0145098189 -0.037764712\n",
       "81581  0.125084870 -0.16116102    2.181005e-02 -0.0564043931 -0.054055802\n",
       "62479  0.539405998  0.63913137    3.785096e-01  0.1420381637  0.044534405\n",
       "91123  0.125727882 -0.12303800   -1.666399e-01 -0.0775709369  0.006430690\n",
       "69371  0.157281023  0.05825169   -7.217750e-02 -0.0594056111 -0.034357038\n",
       "74009  0.077705385  0.06109880   -6.428202e-02 -0.0113182730  0.060881461\n",
       "80847 -0.093927981  0.14340838   -7.609398e-02 -0.0145798999  0.040262991\n",
       "88953 -0.115763702 -0.19845684   -1.392897e-01 -0.0816789289  0.044752020\n",
       "55219 -0.051479187  0.04688823   -5.697843e-03  0.0157219734  0.039573492\n",
       "59333  0.025785817  0.05374826   -5.075530e-02 -0.0112101149  0.050078541\n",
       "43150  0.175530788 -0.09440607   -4.853515e-02 -0.0908800990 -0.077763798\n",
       "92158  0.015066319  0.04882947   -4.291308e-02 -0.0063117512  0.038413538\n",
       "94673 -0.079202358  0.09731173   -1.024492e-01  0.0266521279  0.100313025\n",
       "62143  0.388123227 -0.07053654   -8.372632e-02 -0.0572369243 -0.006038474\n",
       "79222  0.157657084 -0.38793762    1.332001e-01  0.8392860543 -0.018827078\n",
       "57437 -0.149225441 -0.11717821   -1.234377e-01 -0.0725644629 -0.003189065\n",
       "51871 -0.399507601  0.01588747   -6.328610e-02 -0.0490059408  0.015664011\n",
       "⋮     ⋮            ⋮             ⋮             ⋮             ⋮           \n",
       "69943  0.101927711  0.0657163393 -7.194027e-02 -0.056807978   0.071193019\n",
       "81391  0.043322653  0.0241091880 -1.155388e-02 -0.008232732   0.014775596\n",
       "87976  0.268528034 -0.4795444524  1.749807e-01  0.845960921  -0.129685566\n",
       "88696 -0.635074879  0.0497534691  1.126405e-01  0.083657343   0.087573140\n",
       "77450  0.015066319  0.0488294733 -4.291308e-02 -0.006311751   0.038413538\n",
       "82938 -0.092679259  0.0444564796 -1.335323e-05  0.010931768   0.040435575\n",
       "66009 -0.021149647 -0.0316731022 -5.422087e-03 -0.034986941   0.050955971\n",
       "95948 -0.034349056  0.0519144426 -1.528385e-02  0.043707824   0.003358932\n",
       "89797  0.035796175  0.0699163186 -7.802876e-02  0.040663037   0.053043530\n",
       "51143 -0.264766073 -0.1677151078 -7.236415e-02 -0.032570685   0.010113024\n",
       "91529 -0.092679259  0.0444564796 -1.335323e-05  0.010931768   0.040435575\n",
       "94782  0.302135776  0.4378810757  3.155970e-01  0.178252493   0.046213575\n",
       "58456  0.094008662  0.0285522993 -4.862553e-02 -0.002937987   0.016689911\n",
       "91694 -0.184996876 -0.1504195695 -1.033191e-01 -0.009591356  -0.003633613\n",
       "73417  0.354102599 -0.4944609557  2.461615e-01  0.784933820  -0.047276069\n",
       "27455  0.045615596  0.0106672359 -1.523227e-02 -0.002134672   0.030036142\n",
       "97542  0.192985839  0.0007514551 -5.257061e-02 -0.038683454   0.051913502\n",
       "94661  0.273174541  0.6528737100  3.966469e-01  0.242925955   0.071347765\n",
       "58609  0.177522980 -0.2416912687  7.433118e-01 -0.485641920  -0.030971919\n",
       "61068  0.074894582 -0.4366130531  1.814039e-01  0.731254226  -0.085168431\n",
       "90846  0.058962399  0.0443392038 -7.376386e-02 -0.003876030   0.063910686\n",
       "40624  0.073881540  0.0217260692 -5.808321e-02  0.005023248   0.017409580\n",
       "84838  0.211110448  0.0428639128 -3.889207e-02 -0.025764269  -0.031833452\n",
       "53347 -0.103398756  0.0395376920  7.828869e-03  0.015830132   0.028770572\n",
       "81918  0.077817886 -0.0012663164 -5.226774e-02 -0.045784796   0.035979871\n",
       "99726 -0.006324239  0.1800669892 -9.540739e-02 -0.040187899  -0.928032647\n",
       "50362 -0.170478599 -0.1307796101 -1.469043e-01 -0.030223041   0.020282387\n",
       "62639 -0.052727910  0.1458401297 -8.177847e-02 -0.009789694   0.039400909\n",
       "68426 -0.072829935 -0.2036003285 -1.403030e-01 -0.099083976   0.028987327\n",
       "53283  0.318652066 -0.3503533342 -2.330443e-01 -0.250001596  -0.032159716\n",
       "      PC26          PC27         PC28         PC29          PC30         \n",
       "76012  0.001200581   0.067853457 -0.002804179  0.0001194167 -2.880955e-05\n",
       "76420  0.005164864  -0.009358332  0.028032812  0.0010988817  2.567680e-03\n",
       "82257  0.071270315   0.072534973  0.014498476 -0.0026735616 -5.760904e-03\n",
       "64819  0.055723445   0.021166000  0.046088783 -0.0018571391  3.501203e-04\n",
       "59347  0.006982244  -0.000718805  0.021201782  0.0002299196  6.619304e-04\n",
       "57764  0.012240739   0.015588938  0.014190129  0.0002711778  2.077167e-03\n",
       "49379 -0.022571768   0.001757148  0.014804600  0.0022133854 -4.207415e-04\n",
       "56697 -0.025982076   0.023858474  0.009741427 -0.0005161375  5.783024e-04\n",
       "86199 -0.618519021   0.152258615  0.074528602 -0.0025704297 -2.696879e-03\n",
       "70304  0.041512135  -0.015862461 -0.023224886 -0.0042164149  9.969866e-03\n",
       "96562  0.001200581   0.067853457 -0.002804179  0.0001194167 -2.880955e-05\n",
       "77480  0.016034531   0.102011056 -0.057043270  0.0065278396 -4.190972e-04\n",
       "71577  0.092080187  -0.026291730  0.026989848 -0.0218460933  1.234199e-03\n",
       "89103 -0.065325132   0.069252016 -0.023492193 -0.0031882102  5.731095e-04\n",
       "81581 -0.019734852   0.040947660  0.007780922 -0.0021635065  1.998725e-03\n",
       "62479  0.124033674   0.114151900  0.086177633 -0.0006988472 -7.517898e-03\n",
       "91123  0.063420170   0.028472795 -0.005405672 -0.0029229888  5.907008e-03\n",
       "69371  0.074993093   0.082386671  0.002719161 -0.0031969449 -2.483214e-04\n",
       "74009  0.019371840  -0.009888689  0.042435456 -0.0087606470  4.564672e-04\n",
       "80847 -0.044389699   0.096157813 -0.034077294 -0.0009052870 -1.454426e-03\n",
       "88953 -0.030484014   0.021055724 -0.010306503 -0.0015901268  9.519719e-03\n",
       "55219 -0.001707721   0.004492083  0.027968913 -0.0069732373  1.536247e-03\n",
       "59333 -0.001573980   0.011110348  0.023588805 -0.0019670942  1.532623e-03\n",
       "43150  0.694298359   0.058038669 -0.060557073  0.0051781754 -1.704492e-03\n",
       "92158  0.001754556   0.012742994  0.022969639 -0.0016306412  3.566724e-03\n",
       "94673  0.063611705   0.017653668  0.021544000  0.0044446360  1.586442e-03\n",
       "62143  0.059180568   0.076579925  0.016076987 -0.0075131739 -3.827501e-04\n",
       "79222  0.093134318  -0.016455410  0.052445245  0.0014509211 -1.952296e-05\n",
       "57437 -0.636260679   0.075374152  0.039776280  0.0057569622  5.812297e-03\n",
       "51871 -0.623689977   0.024065415  0.047909389  0.0004483613  9.673793e-04\n",
       "⋮     ⋮             ⋮            ⋮            ⋮             ⋮            \n",
       "69943  0.0867008651  0.007274228  0.034021871  4.184080e-03 -0.0027499015\n",
       "81391  0.0335592200  0.017602369  0.023539594 -2.720711e-03  0.0005543322\n",
       "87976  0.0198703553 -0.047990635  0.067017231  6.825365e-04 -0.0038127565\n",
       "88696 -0.0091025822 -0.008485066 -0.015431486 -2.245429e-02 -0.0001691635\n",
       "77450  0.0017545562  0.012742994  0.022969639 -1.630641e-03  0.0035667241\n",
       "82938 -0.0259820762  0.023858474  0.009741427 -5.161375e-04  0.0005783024\n",
       "66009 -0.0214871046  0.019701551  0.022887245  4.864367e-03  0.0004548261\n",
       "95948 -0.0140973163  0.013661967  0.006735239  2.017329e-03  0.0017417099\n",
       "89797  0.0863033611  0.048207516  0.001622229  3.408907e-03 -0.0018748994\n",
       "51143 -0.0264713418  0.006271497 -0.010516794  2.827418e-05  0.0122228334\n",
       "91529 -0.0259820762  0.023858474  0.009741427 -5.161375e-04  0.0005783024\n",
       "94782  0.0281972549  0.073494980  0.048718613 -1.064005e-02  0.0079884775\n",
       "58456 -0.0011374837  0.027421078  0.024712653 -5.317155e-03  0.0007925388\n",
       "91694 -0.0212436536 -0.007190302 -0.012284651  1.888835e-03  0.0093180397\n",
       "73417  0.0297587026 -0.075584696 -0.893391647 -4.511195e-03 -0.0004099733\n",
       "27455 -0.0001130881  0.050108428  0.001563846 -6.765923e-04  0.0010503188\n",
       "97542  0.0172191332  0.012413032  0.029253908 -1.299845e-03  0.0024951536\n",
       "94661 -0.6819306276  0.144660445  0.069171415 -3.767544e-04 -0.0025597705\n",
       "58609 -0.6185869467 -0.026128136  0.187977149 -6.182671e-03  0.0017345255\n",
       "61068 -0.0239130872  0.035226733  0.030313092  1.330834e-03 -0.0004144973\n",
       "90846  0.0009973881  0.029948464  0.010107032  3.233282e-03 -0.0002886517\n",
       "40624  0.0126772352  0.031899667  0.015313977 -3.078883e-03  0.0013370818\n",
       "84838  0.0255241373  0.065386805  0.006597024 -5.708977e-03 -0.0027075346\n",
       "53347 -0.0226535403  0.025491120  0.009122261 -1.796845e-04  0.0026124030\n",
       "81918 -0.0004893158  0.029054750  0.031671450  6.838869e-04  0.0024081911\n",
       "99726  0.0158978725  0.120256876 -0.011923197  5.512466e-05  0.0007415212\n",
       "50362 -0.0248051656  0.008974484 -0.004984468 -3.018668e-04  0.0122163407\n",
       "62639 -0.0201153439  0.076791421 -0.015849808 -7.362387e-03 -0.0004964812\n",
       "68426 -0.0076356532  0.008202482  0.012651560  5.553926e-04  0.0099845209\n",
       "53283  0.0106203578 -0.058786703  0.013640403 -8.647122e-04  0.0011119921"
      ]
     },
     "metadata": {},
     "output_type": "display_data"
    }
   ],
   "source": [
    "pca"
   ]
  },
  {
   "cell_type": "code",
   "execution_count": 95,
   "metadata": {},
   "outputs": [
    {
     "name": "stderr",
     "output_type": "stream",
     "text": [
      "IOPub data rate exceeded.\n",
      "The notebook server will temporarily stop sending output\n",
      "to the client in order to avoid crashing it.\n",
      "To change this limit, set the config variable\n",
      "`--NotebookApp.iopub_data_rate_limit`.\n"
     ]
    }
   ],
   "source": [
    "row.names(pcaElix$x)"
   ]
  },
  {
   "cell_type": "code",
   "execution_count": 65,
   "metadata": {},
   "outputs": [
    {
     "name": "stderr",
     "output_type": "stream",
     "text": [
      "Installing package into ‘/home/team12user3/R/library’\n",
      "(as ‘lib’ is unspecified)\n"
     ]
    }
   ],
   "source": [
    "install.packages(\"survival\")\n",
    "library(\"survival\")"
   ]
  },
  {
   "cell_type": "code",
   "execution_count": 63,
   "metadata": {},
   "outputs": [
    {
     "data": {},
     "metadata": {},
     "output_type": "display_data"
    }
   ],
   "source": [
    "coxph(Surv(tday, h_mort) ~ chosen+gender+ethnicity+pao2fio2+oasis+elixhauser+hoursVent, data = DF)"
   ]
  },
  {
   "cell_type": "code",
   "execution_count": null,
   "metadata": {
    "collapsed": true
   },
   "outputs": [],
   "source": [
    "#calculate the summary stats\n"
   ]
  },
  {
   "cell_type": "code",
   "execution_count": null,
   "metadata": {
    "collapsed": true
   },
   "outputs": [],
   "source": [
    "###To disconnect\n",
    "dbDisconnect(con)\n",
    "dbUnloadDriver(drv)"
   ]
  },
  {
   "cell_type": "code",
   "execution_count": 143,
   "metadata": {
    "collapsed": true
   },
   "outputs": [],
   "source": [
    "tab1_conti = function(DATA,SIGFIG=1)\n",
    "{\n",
    " meand = mean(DATA, na.rm=TRUE)\n",
    " sdd = sd(DATA, na.rm=TRUE)\n",
    " results = paste0(round(meand,SIGFIG),' (', round(sdd,SIGFIG),')')\n",
    " return(results)\n",
    "}\n",
    "\n"
   ]
  },
  {
   "cell_type": "code",
   "execution_count": 152,
   "metadata": {},
   "outputs": [
    {
     "data": {
      "text/html": [
       "'58.1 (23.8)'"
      ],
      "text/latex": [
       "'58.1 (23.8)'"
      ],
      "text/markdown": [
       "'58.1 (23.8)'"
      ],
      "text/plain": [
       "[1] \"58.1 (23.8)\""
      ]
     },
     "metadata": {},
     "output_type": "display_data"
    },
    {
     "data": {
      "text/html": [
       "'55.1 (23.9)'"
      ],
      "text/latex": [
       "'55.1 (23.9)'"
      ],
      "text/markdown": [
       "'55.1 (23.9)'"
      ],
      "text/plain": [
       "[1] \"55.1 (23.9)\""
      ]
     },
     "metadata": {},
     "output_type": "display_data"
    },
    {
     "data": {
      "text/html": [
       "'58.1 (23.7)'"
      ],
      "text/latex": [
       "'58.1 (23.7)'"
      ],
      "text/markdown": [
       "'58.1 (23.7)'"
      ],
      "text/plain": [
       "[1] \"58.1 (23.7)\""
      ]
     },
     "metadata": {},
     "output_type": "display_data"
    },
    {
     "data": {
      "text/html": [
       "'58.3 (22.8)'"
      ],
      "text/latex": [
       "'58.3 (22.8)'"
      ],
      "text/markdown": [
       "'58.3 (22.8)'"
      ],
      "text/plain": [
       "[1] \"58.3 (22.8)\""
      ]
     },
     "metadata": {},
     "output_type": "display_data"
    },
    {
     "data": {
      "text/html": [
       "'57.6 (24)'"
      ],
      "text/latex": [
       "'57.6 (24)'"
      ],
      "text/markdown": [
       "'57.6 (24)'"
      ],
      "text/plain": [
       "[1] \"57.6 (24)\""
      ]
     },
     "metadata": {},
     "output_type": "display_data"
    }
   ],
   "source": [
    "#tab1_conti(df$age[df$chosen==2], 1)\n",
    "df=compiledTable\n",
    "tab1_conti(df$apsiii, 1)\n",
    "tab1_conti(df$apsiii[df$chosen==1], 1)\n",
    "tab1_conti(df$apsiii[df$chosen==2], 1)\n",
    "tab1_conti(df$apsiii[df$chosen==3], 1)\n",
    "tab1_conti(df$apsiii[df$chosen==4], 1)\n",
    "\n",
    "\n",
    "\n",
    "\n",
    "#icustay_id' 'age' 'subject_id' 'hadm_id' 'admission_type' 'admittime' 'dischtime' 'first_hosp_stay' 'first_icu_stay' 'hospital_expire_flag' 'hospstay_seq' 'icustay_seq' 'intime.x' 'los_hospital' 'los_icu' 'outtime' 'apsiii' 'apsiii_prob' 'oasis' 'oasis_prob' 'icu_mort' 'h_mort' 'one_mort' 'thr_mort' 'six_mort' 'tv_set' 'gender' 'ethnicity' 'height' 'pbw' 'tv_pbw' 'tv_pbw_observed' 'tv_cat' 'intime.y' 'deathtime' 'time_till_death' 'tmins' 'tdays' 'mean_tv_observed' 'tv_pbw_mean' 'chosen' 'congestive_heart_failure' 'cardiac_arrhythmias' 'valvular_disease' 'pulmonary_circulation' 'peripheral_vascular' 'hypertension' 'paralysis' 'other_neurological' 'chronic_pulmonary' 'diabetes_uncomplicated' 'diabetes_complicated' 'hypothyroidism' 'renal_failure' 'liver_disease' 'peptic_ulcer' 'aids' 'lymphoma' 'metastatic_cancer' 'solid_tumor' 'rheumatoid_arthritis' 'coagulopathy' 'obesity' 'weight_loss' 'fluid_electrolyte' 'blood_loss_anemia' 'deficiency_anemias' 'alcohol_abuse' 'drug_abuse' 'psychoses' 'depression' 'hours_vent'\n",
    "\n"
   ]
  },
  {
   "cell_type": "code",
   "execution_count": 149,
   "metadata": {},
   "outputs": [
    {
     "data": {
      "text/html": [
       "'39.2 (8.1)'"
      ],
      "text/latex": [
       "'39.2 (8.1)'"
      ],
      "text/markdown": [
       "'39.2 (8.1)'"
      ],
      "text/plain": [
       "[1] \"39.2 (8.1)\""
      ]
     },
     "metadata": {},
     "output_type": "display_data"
    },
    {
     "data": {
      "text/html": [
       "'41 (8)'"
      ],
      "text/latex": [
       "'41 (8)'"
      ],
      "text/markdown": [
       "'41 (8)'"
      ],
      "text/plain": [
       "[1] \"41 (8)\""
      ]
     },
     "metadata": {},
     "output_type": "display_data"
    },
    {
     "data": {
      "text/html": [
       "'39.2 (8.2)'"
      ],
      "text/latex": [
       "'39.2 (8.2)'"
      ],
      "text/markdown": [
       "'39.2 (8.2)'"
      ],
      "text/plain": [
       "[1] \"39.2 (8.2)\""
      ]
     },
     "metadata": {},
     "output_type": "display_data"
    },
    {
     "data": {
      "text/html": [
       "'38.2 (8.3)'"
      ],
      "text/latex": [
       "'38.2 (8.3)'"
      ],
      "text/markdown": [
       "'38.2 (8.3)'"
      ],
      "text/plain": [
       "[1] \"38.2 (8.3)\""
      ]
     },
     "metadata": {},
     "output_type": "display_data"
    },
    {
     "data": {
      "text/html": [
       "'39 (8.1)'"
      ],
      "text/latex": [
       "'39 (8.1)'"
      ],
      "text/markdown": [
       "'39 (8.1)'"
      ],
      "text/plain": [
       "[1] \"39 (8.1)\""
      ]
     },
     "metadata": {},
     "output_type": "display_data"
    }
   ],
   "source": [
    "\n",
    "tab1_conti(df$oasis, 1)\n",
    "tab1_conti(df$oasis[df$chosen==1], 1)\n",
    "tab1_conti(df$oasis[df$chosen==2], 1)\n",
    "tab1_conti(df$oasis[df$chosen==3], 1)\n",
    "tab1_conti(df$oasis[df$chosen==4], 1)"
   ]
  },
  {
   "cell_type": "code",
   "execution_count": 153,
   "metadata": {},
   "outputs": [
    {
     "data": {
      "text/html": [
       "<ol class=list-inline>\n",
       "\t<li>'icustay_id'</li>\n",
       "\t<li>'age'</li>\n",
       "\t<li>'subject_id'</li>\n",
       "\t<li>'hadm_id'</li>\n",
       "\t<li>'admission_type'</li>\n",
       "\t<li>'admittime'</li>\n",
       "\t<li>'dischtime'</li>\n",
       "\t<li>'first_hosp_stay'</li>\n",
       "\t<li>'first_icu_stay'</li>\n",
       "\t<li>'hospital_expire_flag'</li>\n",
       "\t<li>'hospstay_seq'</li>\n",
       "\t<li>'icustay_seq'</li>\n",
       "\t<li>'intime.x'</li>\n",
       "\t<li>'los_hospital'</li>\n",
       "\t<li>'los_icu'</li>\n",
       "\t<li>'outtime'</li>\n",
       "\t<li>'apsiii'</li>\n",
       "\t<li>'apsiii_prob'</li>\n",
       "\t<li>'oasis'</li>\n",
       "\t<li>'oasis_prob'</li>\n",
       "\t<li>'icu_mort'</li>\n",
       "\t<li>'h_mort'</li>\n",
       "\t<li>'one_mort'</li>\n",
       "\t<li>'thr_mort'</li>\n",
       "\t<li>'six_mort'</li>\n",
       "\t<li>'tv_set'</li>\n",
       "\t<li>'gender'</li>\n",
       "\t<li>'ethnicity'</li>\n",
       "\t<li>'height'</li>\n",
       "\t<li>'pbw'</li>\n",
       "\t<li>'tv_pbw'</li>\n",
       "\t<li>'tv_pbw_observed'</li>\n",
       "\t<li>'tv_cat'</li>\n",
       "\t<li>'intime.y'</li>\n",
       "\t<li>'deathtime'</li>\n",
       "\t<li>'time_till_death'</li>\n",
       "\t<li>'tmins'</li>\n",
       "\t<li>'tdays'</li>\n",
       "\t<li>'mean_tv_observed'</li>\n",
       "\t<li>'tv_pbw_mean'</li>\n",
       "\t<li>'chosen'</li>\n",
       "\t<li>'congestive_heart_failure'</li>\n",
       "\t<li>'cardiac_arrhythmias'</li>\n",
       "\t<li>'valvular_disease'</li>\n",
       "\t<li>'pulmonary_circulation'</li>\n",
       "\t<li>'peripheral_vascular'</li>\n",
       "\t<li>'hypertension'</li>\n",
       "\t<li>'paralysis'</li>\n",
       "\t<li>'other_neurological'</li>\n",
       "\t<li>'chronic_pulmonary'</li>\n",
       "\t<li>'diabetes_uncomplicated'</li>\n",
       "\t<li>'diabetes_complicated'</li>\n",
       "\t<li>'hypothyroidism'</li>\n",
       "\t<li>'renal_failure'</li>\n",
       "\t<li>'liver_disease'</li>\n",
       "\t<li>'peptic_ulcer'</li>\n",
       "\t<li>'aids'</li>\n",
       "\t<li>'lymphoma'</li>\n",
       "\t<li>'metastatic_cancer'</li>\n",
       "\t<li>'solid_tumor'</li>\n",
       "\t<li>'rheumatoid_arthritis'</li>\n",
       "\t<li>'coagulopathy'</li>\n",
       "\t<li>'obesity'</li>\n",
       "\t<li>'weight_loss'</li>\n",
       "\t<li>'fluid_electrolyte'</li>\n",
       "\t<li>'blood_loss_anemia'</li>\n",
       "\t<li>'deficiency_anemias'</li>\n",
       "\t<li>'alcohol_abuse'</li>\n",
       "\t<li>'drug_abuse'</li>\n",
       "\t<li>'psychoses'</li>\n",
       "\t<li>'depression'</li>\n",
       "\t<li>'hours_vent'</li>\n",
       "\t<li>'PC1'</li>\n",
       "\t<li>'PC2'</li>\n",
       "\t<li>'PC3'</li>\n",
       "\t<li>'PC4'</li>\n",
       "\t<li>'PC5'</li>\n",
       "\t<li>'PC6'</li>\n",
       "\t<li>'PC7'</li>\n",
       "\t<li>'PC8'</li>\n",
       "\t<li>'PC9'</li>\n",
       "\t<li>'PC10'</li>\n",
       "\t<li>'PC11'</li>\n",
       "\t<li>'PC12'</li>\n",
       "\t<li>'PC13'</li>\n",
       "\t<li>'PC14'</li>\n",
       "\t<li>'PC15'</li>\n",
       "\t<li>'PC16'</li>\n",
       "\t<li>'PC17'</li>\n",
       "\t<li>'PC18'</li>\n",
       "\t<li>'PC19'</li>\n",
       "\t<li>'PC20'</li>\n",
       "\t<li>'PC21'</li>\n",
       "\t<li>'PC22'</li>\n",
       "\t<li>'PC23'</li>\n",
       "\t<li>'PC24'</li>\n",
       "\t<li>'PC25'</li>\n",
       "\t<li>'PC26'</li>\n",
       "\t<li>'PC27'</li>\n",
       "\t<li>'PC28'</li>\n",
       "\t<li>'PC29'</li>\n",
       "\t<li>'PC30'</li>\n",
       "\t<li>'pao2fio2_mean'</li>\n",
       "\t<li>'peep_mean'</li>\n",
       "\t<li>'pao2fio2_max'</li>\n",
       "\t<li>'peep_max'</li>\n",
       "\t<li>'pao2fio2_sd'</li>\n",
       "\t<li>'peep_sd'</li>\n",
       "</ol>\n"
      ],
      "text/latex": [
       "\\begin{enumerate*}\n",
       "\\item 'icustay\\_id'\n",
       "\\item 'age'\n",
       "\\item 'subject\\_id'\n",
       "\\item 'hadm\\_id'\n",
       "\\item 'admission\\_type'\n",
       "\\item 'admittime'\n",
       "\\item 'dischtime'\n",
       "\\item 'first\\_hosp\\_stay'\n",
       "\\item 'first\\_icu\\_stay'\n",
       "\\item 'hospital\\_expire\\_flag'\n",
       "\\item 'hospstay\\_seq'\n",
       "\\item 'icustay\\_seq'\n",
       "\\item 'intime.x'\n",
       "\\item 'los\\_hospital'\n",
       "\\item 'los\\_icu'\n",
       "\\item 'outtime'\n",
       "\\item 'apsiii'\n",
       "\\item 'apsiii\\_prob'\n",
       "\\item 'oasis'\n",
       "\\item 'oasis\\_prob'\n",
       "\\item 'icu\\_mort'\n",
       "\\item 'h\\_mort'\n",
       "\\item 'one\\_mort'\n",
       "\\item 'thr\\_mort'\n",
       "\\item 'six\\_mort'\n",
       "\\item 'tv\\_set'\n",
       "\\item 'gender'\n",
       "\\item 'ethnicity'\n",
       "\\item 'height'\n",
       "\\item 'pbw'\n",
       "\\item 'tv\\_pbw'\n",
       "\\item 'tv\\_pbw\\_observed'\n",
       "\\item 'tv\\_cat'\n",
       "\\item 'intime.y'\n",
       "\\item 'deathtime'\n",
       "\\item 'time\\_till\\_death'\n",
       "\\item 'tmins'\n",
       "\\item 'tdays'\n",
       "\\item 'mean\\_tv\\_observed'\n",
       "\\item 'tv\\_pbw\\_mean'\n",
       "\\item 'chosen'\n",
       "\\item 'congestive\\_heart\\_failure'\n",
       "\\item 'cardiac\\_arrhythmias'\n",
       "\\item 'valvular\\_disease'\n",
       "\\item 'pulmonary\\_circulation'\n",
       "\\item 'peripheral\\_vascular'\n",
       "\\item 'hypertension'\n",
       "\\item 'paralysis'\n",
       "\\item 'other\\_neurological'\n",
       "\\item 'chronic\\_pulmonary'\n",
       "\\item 'diabetes\\_uncomplicated'\n",
       "\\item 'diabetes\\_complicated'\n",
       "\\item 'hypothyroidism'\n",
       "\\item 'renal\\_failure'\n",
       "\\item 'liver\\_disease'\n",
       "\\item 'peptic\\_ulcer'\n",
       "\\item 'aids'\n",
       "\\item 'lymphoma'\n",
       "\\item 'metastatic\\_cancer'\n",
       "\\item 'solid\\_tumor'\n",
       "\\item 'rheumatoid\\_arthritis'\n",
       "\\item 'coagulopathy'\n",
       "\\item 'obesity'\n",
       "\\item 'weight\\_loss'\n",
       "\\item 'fluid\\_electrolyte'\n",
       "\\item 'blood\\_loss\\_anemia'\n",
       "\\item 'deficiency\\_anemias'\n",
       "\\item 'alcohol\\_abuse'\n",
       "\\item 'drug\\_abuse'\n",
       "\\item 'psychoses'\n",
       "\\item 'depression'\n",
       "\\item 'hours\\_vent'\n",
       "\\item 'PC1'\n",
       "\\item 'PC2'\n",
       "\\item 'PC3'\n",
       "\\item 'PC4'\n",
       "\\item 'PC5'\n",
       "\\item 'PC6'\n",
       "\\item 'PC7'\n",
       "\\item 'PC8'\n",
       "\\item 'PC9'\n",
       "\\item 'PC10'\n",
       "\\item 'PC11'\n",
       "\\item 'PC12'\n",
       "\\item 'PC13'\n",
       "\\item 'PC14'\n",
       "\\item 'PC15'\n",
       "\\item 'PC16'\n",
       "\\item 'PC17'\n",
       "\\item 'PC18'\n",
       "\\item 'PC19'\n",
       "\\item 'PC20'\n",
       "\\item 'PC21'\n",
       "\\item 'PC22'\n",
       "\\item 'PC23'\n",
       "\\item 'PC24'\n",
       "\\item 'PC25'\n",
       "\\item 'PC26'\n",
       "\\item 'PC27'\n",
       "\\item 'PC28'\n",
       "\\item 'PC29'\n",
       "\\item 'PC30'\n",
       "\\item 'pao2fio2\\_mean'\n",
       "\\item 'peep\\_mean'\n",
       "\\item 'pao2fio2\\_max'\n",
       "\\item 'peep\\_max'\n",
       "\\item 'pao2fio2\\_sd'\n",
       "\\item 'peep\\_sd'\n",
       "\\end{enumerate*}\n"
      ],
      "text/markdown": [
       "1. 'icustay_id'\n",
       "2. 'age'\n",
       "3. 'subject_id'\n",
       "4. 'hadm_id'\n",
       "5. 'admission_type'\n",
       "6. 'admittime'\n",
       "7. 'dischtime'\n",
       "8. 'first_hosp_stay'\n",
       "9. 'first_icu_stay'\n",
       "10. 'hospital_expire_flag'\n",
       "11. 'hospstay_seq'\n",
       "12. 'icustay_seq'\n",
       "13. 'intime.x'\n",
       "14. 'los_hospital'\n",
       "15. 'los_icu'\n",
       "16. 'outtime'\n",
       "17. 'apsiii'\n",
       "18. 'apsiii_prob'\n",
       "19. 'oasis'\n",
       "20. 'oasis_prob'\n",
       "21. 'icu_mort'\n",
       "22. 'h_mort'\n",
       "23. 'one_mort'\n",
       "24. 'thr_mort'\n",
       "25. 'six_mort'\n",
       "26. 'tv_set'\n",
       "27. 'gender'\n",
       "28. 'ethnicity'\n",
       "29. 'height'\n",
       "30. 'pbw'\n",
       "31. 'tv_pbw'\n",
       "32. 'tv_pbw_observed'\n",
       "33. 'tv_cat'\n",
       "34. 'intime.y'\n",
       "35. 'deathtime'\n",
       "36. 'time_till_death'\n",
       "37. 'tmins'\n",
       "38. 'tdays'\n",
       "39. 'mean_tv_observed'\n",
       "40. 'tv_pbw_mean'\n",
       "41. 'chosen'\n",
       "42. 'congestive_heart_failure'\n",
       "43. 'cardiac_arrhythmias'\n",
       "44. 'valvular_disease'\n",
       "45. 'pulmonary_circulation'\n",
       "46. 'peripheral_vascular'\n",
       "47. 'hypertension'\n",
       "48. 'paralysis'\n",
       "49. 'other_neurological'\n",
       "50. 'chronic_pulmonary'\n",
       "51. 'diabetes_uncomplicated'\n",
       "52. 'diabetes_complicated'\n",
       "53. 'hypothyroidism'\n",
       "54. 'renal_failure'\n",
       "55. 'liver_disease'\n",
       "56. 'peptic_ulcer'\n",
       "57. 'aids'\n",
       "58. 'lymphoma'\n",
       "59. 'metastatic_cancer'\n",
       "60. 'solid_tumor'\n",
       "61. 'rheumatoid_arthritis'\n",
       "62. 'coagulopathy'\n",
       "63. 'obesity'\n",
       "64. 'weight_loss'\n",
       "65. 'fluid_electrolyte'\n",
       "66. 'blood_loss_anemia'\n",
       "67. 'deficiency_anemias'\n",
       "68. 'alcohol_abuse'\n",
       "69. 'drug_abuse'\n",
       "70. 'psychoses'\n",
       "71. 'depression'\n",
       "72. 'hours_vent'\n",
       "73. 'PC1'\n",
       "74. 'PC2'\n",
       "75. 'PC3'\n",
       "76. 'PC4'\n",
       "77. 'PC5'\n",
       "78. 'PC6'\n",
       "79. 'PC7'\n",
       "80. 'PC8'\n",
       "81. 'PC9'\n",
       "82. 'PC10'\n",
       "83. 'PC11'\n",
       "84. 'PC12'\n",
       "85. 'PC13'\n",
       "86. 'PC14'\n",
       "87. 'PC15'\n",
       "88. 'PC16'\n",
       "89. 'PC17'\n",
       "90. 'PC18'\n",
       "91. 'PC19'\n",
       "92. 'PC20'\n",
       "93. 'PC21'\n",
       "94. 'PC22'\n",
       "95. 'PC23'\n",
       "96. 'PC24'\n",
       "97. 'PC25'\n",
       "98. 'PC26'\n",
       "99. 'PC27'\n",
       "100. 'PC28'\n",
       "101. 'PC29'\n",
       "102. 'PC30'\n",
       "103. 'pao2fio2_mean'\n",
       "104. 'peep_mean'\n",
       "105. 'pao2fio2_max'\n",
       "106. 'peep_max'\n",
       "107. 'pao2fio2_sd'\n",
       "108. 'peep_sd'\n",
       "\n",
       "\n"
      ],
      "text/plain": [
       "  [1] \"icustay_id\"               \"age\"                     \n",
       "  [3] \"subject_id\"               \"hadm_id\"                 \n",
       "  [5] \"admission_type\"           \"admittime\"               \n",
       "  [7] \"dischtime\"                \"first_hosp_stay\"         \n",
       "  [9] \"first_icu_stay\"           \"hospital_expire_flag\"    \n",
       " [11] \"hospstay_seq\"             \"icustay_seq\"             \n",
       " [13] \"intime.x\"                 \"los_hospital\"            \n",
       " [15] \"los_icu\"                  \"outtime\"                 \n",
       " [17] \"apsiii\"                   \"apsiii_prob\"             \n",
       " [19] \"oasis\"                    \"oasis_prob\"              \n",
       " [21] \"icu_mort\"                 \"h_mort\"                  \n",
       " [23] \"one_mort\"                 \"thr_mort\"                \n",
       " [25] \"six_mort\"                 \"tv_set\"                  \n",
       " [27] \"gender\"                   \"ethnicity\"               \n",
       " [29] \"height\"                   \"pbw\"                     \n",
       " [31] \"tv_pbw\"                   \"tv_pbw_observed\"         \n",
       " [33] \"tv_cat\"                   \"intime.y\"                \n",
       " [35] \"deathtime\"                \"time_till_death\"         \n",
       " [37] \"tmins\"                    \"tdays\"                   \n",
       " [39] \"mean_tv_observed\"         \"tv_pbw_mean\"             \n",
       " [41] \"chosen\"                   \"congestive_heart_failure\"\n",
       " [43] \"cardiac_arrhythmias\"      \"valvular_disease\"        \n",
       " [45] \"pulmonary_circulation\"    \"peripheral_vascular\"     \n",
       " [47] \"hypertension\"             \"paralysis\"               \n",
       " [49] \"other_neurological\"       \"chronic_pulmonary\"       \n",
       " [51] \"diabetes_uncomplicated\"   \"diabetes_complicated\"    \n",
       " [53] \"hypothyroidism\"           \"renal_failure\"           \n",
       " [55] \"liver_disease\"            \"peptic_ulcer\"            \n",
       " [57] \"aids\"                     \"lymphoma\"                \n",
       " [59] \"metastatic_cancer\"        \"solid_tumor\"             \n",
       " [61] \"rheumatoid_arthritis\"     \"coagulopathy\"            \n",
       " [63] \"obesity\"                  \"weight_loss\"             \n",
       " [65] \"fluid_electrolyte\"        \"blood_loss_anemia\"       \n",
       " [67] \"deficiency_anemias\"       \"alcohol_abuse\"           \n",
       " [69] \"drug_abuse\"               \"psychoses\"               \n",
       " [71] \"depression\"               \"hours_vent\"              \n",
       " [73] \"PC1\"                      \"PC2\"                     \n",
       " [75] \"PC3\"                      \"PC4\"                     \n",
       " [77] \"PC5\"                      \"PC6\"                     \n",
       " [79] \"PC7\"                      \"PC8\"                     \n",
       " [81] \"PC9\"                      \"PC10\"                    \n",
       " [83] \"PC11\"                     \"PC12\"                    \n",
       " [85] \"PC13\"                     \"PC14\"                    \n",
       " [87] \"PC15\"                     \"PC16\"                    \n",
       " [89] \"PC17\"                     \"PC18\"                    \n",
       " [91] \"PC19\"                     \"PC20\"                    \n",
       " [93] \"PC21\"                     \"PC22\"                    \n",
       " [95] \"PC23\"                     \"PC24\"                    \n",
       " [97] \"PC25\"                     \"PC26\"                    \n",
       " [99] \"PC27\"                     \"PC28\"                    \n",
       "[101] \"PC29\"                     \"PC30\"                    \n",
       "[103] \"pao2fio2_mean\"            \"peep_mean\"               \n",
       "[105] \"pao2fio2_max\"             \"peep_max\"                \n",
       "[107] \"pao2fio2_sd\"              \"peep_sd\"                 "
      ]
     },
     "metadata": {},
     "output_type": "display_data"
    }
   ],
   "source": [
    "colnames(df)"
   ]
  },
  {
   "cell_type": "code",
   "execution_count": 154,
   "metadata": {},
   "outputs": [
    {
     "data": {
      "text/html": [
       "'233.6 (66.7)'"
      ],
      "text/latex": [
       "'233.6 (66.7)'"
      ],
      "text/markdown": [
       "'233.6 (66.7)'"
      ],
      "text/plain": [
       "[1] \"233.6 (66.7)\""
      ]
     },
     "metadata": {},
     "output_type": "display_data"
    },
    {
     "data": {
      "text/html": [
       "'230.3 (67.3)'"
      ],
      "text/latex": [
       "'230.3 (67.3)'"
      ],
      "text/markdown": [
       "'230.3 (67.3)'"
      ],
      "text/plain": [
       "[1] \"230.3 (67.3)\""
      ]
     },
     "metadata": {},
     "output_type": "display_data"
    },
    {
     "data": {
      "text/html": [
       "'233.9 (68.6)'"
      ],
      "text/latex": [
       "'233.9 (68.6)'"
      ],
      "text/markdown": [
       "'233.9 (68.6)'"
      ],
      "text/plain": [
       "[1] \"233.9 (68.6)\""
      ]
     },
     "metadata": {},
     "output_type": "display_data"
    },
    {
     "data": {
      "text/html": [
       "'229.8 (63.7)'"
      ],
      "text/latex": [
       "'229.8 (63.7)'"
      ],
      "text/markdown": [
       "'229.8 (63.7)'"
      ],
      "text/plain": [
       "[1] \"229.8 (63.7)\""
      ]
     },
     "metadata": {},
     "output_type": "display_data"
    },
    {
     "data": {
      "text/html": [
       "'236.8 (63.1)'"
      ],
      "text/latex": [
       "'236.8 (63.1)'"
      ],
      "text/markdown": [
       "'236.8 (63.1)'"
      ],
      "text/plain": [
       "[1] \"236.8 (63.1)\""
      ]
     },
     "metadata": {},
     "output_type": "display_data"
    }
   ],
   "source": [
    "tab1_conti(df$pao2fio2_mean, 1)\n",
    "tab1_conti(df$pao2fio2_mean[df$chosen==1], 1)\n",
    "tab1_conti(df$pao2fio2_mean[df$chosen==2], 1)\n",
    "tab1_conti(df$pao2fio2_mean[df$chosen==3], 1)\n",
    "tab1_conti(df$pao2fio2_mean[df$chosen==4], 1)"
   ]
  },
  {
   "cell_type": "code",
   "execution_count": 157,
   "metadata": {},
   "outputs": [
    {
     "data": {
      "text/html": [
       "'64.1 (16.1)'"
      ],
      "text/latex": [
       "'64.1 (16.1)'"
      ],
      "text/markdown": [
       "'64.1 (16.1)'"
      ],
      "text/plain": [
       "[1] \"64.1 (16.1)\""
      ]
     },
     "metadata": {},
     "output_type": "display_data"
    },
    {
     "data": {
      "text/html": [
       "'64.7 (18.8)'"
      ],
      "text/latex": [
       "'64.7 (18.8)'"
      ],
      "text/markdown": [
       "'64.7 (18.8)'"
      ],
      "text/plain": [
       "[1] \"64.7 (18.8)\""
      ]
     },
     "metadata": {},
     "output_type": "display_data"
    },
    {
     "data": {
      "text/html": [
       "'63 (16.5)'"
      ],
      "text/latex": [
       "'63 (16.5)'"
      ],
      "text/markdown": [
       "'63 (16.5)'"
      ],
      "text/plain": [
       "[1] \"63 (16.5)\""
      ]
     },
     "metadata": {},
     "output_type": "display_data"
    },
    {
     "data": {
      "text/html": [
       "'66.1 (13.8)'"
      ],
      "text/latex": [
       "'66.1 (13.8)'"
      ],
      "text/markdown": [
       "'66.1 (13.8)'"
      ],
      "text/plain": [
       "[1] \"66.1 (13.8)\""
      ]
     },
     "metadata": {},
     "output_type": "display_data"
    },
    {
     "data": {
      "text/html": [
       "'64.1 (15.3)'"
      ],
      "text/latex": [
       "'64.1 (15.3)'"
      ],
      "text/markdown": [
       "'64.1 (15.3)'"
      ],
      "text/plain": [
       "[1] \"64.1 (15.3)\""
      ]
     },
     "metadata": {},
     "output_type": "display_data"
    }
   ],
   "source": [
    "\n",
    "tab1_conti(df$age, 1)\n",
    "tab1_conti(df$age[df$chosen==1], 1)\n",
    "tab1_conti(df$age[df$chosen==2], 1)\n",
    "tab1_conti(df$age[df$chosen==3], 1)\n",
    "tab1_conti(df$age[df$chosen==4], 1)"
   ]
  },
  {
   "cell_type": "code",
   "execution_count": 156,
   "metadata": {},
   "outputs": [
    {
     "data": {
      "text/html": [
       "'7.8 (2.9)'"
      ],
      "text/latex": [
       "'7.8 (2.9)'"
      ],
      "text/markdown": [
       "'7.8 (2.9)'"
      ],
      "text/plain": [
       "[1] \"7.8 (2.9)\""
      ]
     },
     "metadata": {},
     "output_type": "display_data"
    },
    {
     "data": {
      "text/html": [
       "'7.6 (3.1)'"
      ],
      "text/latex": [
       "'7.6 (3.1)'"
      ],
      "text/markdown": [
       "'7.6 (3.1)'"
      ],
      "text/plain": [
       "[1] \"7.6 (3.1)\""
      ]
     },
     "metadata": {},
     "output_type": "display_data"
    },
    {
     "data": {
      "text/html": [
       "'8 (3)'"
      ],
      "text/latex": [
       "'8 (3)'"
      ],
      "text/markdown": [
       "'8 (3)'"
      ],
      "text/plain": [
       "[1] \"8 (3)\""
      ]
     },
     "metadata": {},
     "output_type": "display_data"
    },
    {
     "data": {
      "text/html": [
       "'7.2 (2.4)'"
      ],
      "text/latex": [
       "'7.2 (2.4)'"
      ],
      "text/markdown": [
       "'7.2 (2.4)'"
      ],
      "text/plain": [
       "[1] \"7.2 (2.4)\""
      ]
     },
     "metadata": {},
     "output_type": "display_data"
    },
    {
     "data": {
      "text/html": [
       "'7.7 (2.8)'"
      ],
      "text/latex": [
       "'7.7 (2.8)'"
      ],
      "text/markdown": [
       "'7.7 (2.8)'"
      ],
      "text/plain": [
       "[1] \"7.7 (2.8)\""
      ]
     },
     "metadata": {},
     "output_type": "display_data"
    }
   ],
   "source": [
    "\n",
    "\n",
    "tab1_conti(df$peep_mean, 1)\n",
    "tab1_conti(df$peep_mean[df$chosen==1], 1)\n",
    "tab1_conti(df$peep_mean[df$chosen==2], 1)\n",
    "tab1_conti(df$peep_mean[df$chosen==3], 1)\n",
    "tab1_conti(df$peep_mean[df$chosen==4], 1)"
   ]
  },
  {
   "cell_type": "code",
   "execution_count": 158,
   "metadata": {},
   "outputs": [
    {
     "data": {
      "text/html": [
       "'7.8 (2.9)'"
      ],
      "text/latex": [
       "'7.8 (2.9)'"
      ],
      "text/markdown": [
       "'7.8 (2.9)'"
      ],
      "text/plain": [
       "[1] \"7.8 (2.9)\""
      ]
     },
     "metadata": {},
     "output_type": "display_data"
    },
    {
     "data": {
      "text/html": [
       "'7.6 (3.1)'"
      ],
      "text/latex": [
       "'7.6 (3.1)'"
      ],
      "text/markdown": [
       "'7.6 (3.1)'"
      ],
      "text/plain": [
       "[1] \"7.6 (3.1)\""
      ]
     },
     "metadata": {},
     "output_type": "display_data"
    },
    {
     "data": {
      "text/html": [
       "'8 (3)'"
      ],
      "text/latex": [
       "'8 (3)'"
      ],
      "text/markdown": [
       "'8 (3)'"
      ],
      "text/plain": [
       "[1] \"8 (3)\""
      ]
     },
     "metadata": {},
     "output_type": "display_data"
    },
    {
     "data": {
      "text/html": [
       "'7.2 (2.4)'"
      ],
      "text/latex": [
       "'7.2 (2.4)'"
      ],
      "text/markdown": [
       "'7.2 (2.4)'"
      ],
      "text/plain": [
       "[1] \"7.2 (2.4)\""
      ]
     },
     "metadata": {},
     "output_type": "display_data"
    },
    {
     "data": {
      "text/html": [
       "'7.7 (2.8)'"
      ],
      "text/latex": [
       "'7.7 (2.8)'"
      ],
      "text/markdown": [
       "'7.7 (2.8)'"
      ],
      "text/plain": [
       "[1] \"7.7 (2.8)\""
      ]
     },
     "metadata": {},
     "output_type": "display_data"
    }
   ],
   "source": [
    "\n",
    "tab1_conti(df$peep_mean, 1)\n",
    "tab1_conti(df$peep_mean[df$chosen==1], 1)\n",
    "tab1_conti(df$peep_mean[df$chosen==2], 1)\n",
    "tab1_conti(df$peep_mean[df$chosen==3], 1)\n",
    "tab1_conti(df$peep_mean[df$chosen==4], 1)\n",
    "\n"
   ]
  },
  {
   "cell_type": "code",
   "execution_count": 164,
   "metadata": {},
   "outputs": [
    {
     "data": {
      "text/html": [
       "<ol class=list-inline>\n",
       "\t<li>'444 (40.2)'</li>\n",
       "\t<li>'661 (59.8)'</li>\n",
       "</ol>\n"
      ],
      "text/latex": [
       "\\begin{enumerate*}\n",
       "\\item '444 (40.2)'\n",
       "\\item '661 (59.8)'\n",
       "\\end{enumerate*}\n"
      ],
      "text/markdown": [
       "1. '444 (40.2)'\n",
       "2. '661 (59.8)'\n",
       "\n",
       "\n"
      ],
      "text/plain": [
       "[1] \"444 (40.2)\" \"661 (59.8)\""
      ]
     },
     "metadata": {},
     "output_type": "display_data"
    },
    {
     "data": {
      "text/html": [
       "<ol class=list-inline>\n",
       "\t<li>'F'</li>\n",
       "\t<li>'M'</li>\n",
       "</ol>\n"
      ],
      "text/latex": [
       "\\begin{enumerate*}\n",
       "\\item 'F'\n",
       "\\item 'M'\n",
       "\\end{enumerate*}\n"
      ],
      "text/markdown": [
       "1. 'F'\n",
       "2. 'M'\n",
       "\n",
       "\n"
      ],
      "text/plain": [
       "[1] \"F\" \"M\""
      ]
     },
     "metadata": {},
     "output_type": "display_data"
    },
    {
     "data": {
      "text/html": [
       "<ol class=list-inline>\n",
       "\t<li>'15 (7.3)'</li>\n",
       "\t<li>'64 (31.1)'</li>\n",
       "</ol>\n"
      ],
      "text/latex": [
       "\\begin{enumerate*}\n",
       "\\item '15 (7.3)'\n",
       "\\item '64 (31.1)'\n",
       "\\end{enumerate*}\n"
      ],
      "text/markdown": [
       "1. '15 (7.3)'\n",
       "2. '64 (31.1)'\n",
       "\n",
       "\n"
      ],
      "text/plain": [
       "[1] \"15 (7.3)\"  \"64 (31.1)\""
      ]
     },
     "metadata": {},
     "output_type": "display_data"
    },
    {
     "data": {
      "text/html": [
       "<ol class=list-inline>\n",
       "\t<li>'182 (26.5)'</li>\n",
       "\t<li>'379 (55.1)'</li>\n",
       "</ol>\n"
      ],
      "text/latex": [
       "\\begin{enumerate*}\n",
       "\\item '182 (26.5)'\n",
       "\\item '379 (55.1)'\n",
       "\\end{enumerate*}\n"
      ],
      "text/markdown": [
       "1. '182 (26.5)'\n",
       "2. '379 (55.1)'\n",
       "\n",
       "\n"
      ],
      "text/plain": [
       "[1] \"182 (26.5)\" \"379 (55.1)\""
      ]
     },
     "metadata": {},
     "output_type": "display_data"
    },
    {
     "data": {
      "text/html": [
       "<ol class=list-inline>\n",
       "\t<li>'83 (30.9)'</li>\n",
       "\t<li>'59 (21.9)'</li>\n",
       "</ol>\n"
      ],
      "text/latex": [
       "\\begin{enumerate*}\n",
       "\\item '83 (30.9)'\n",
       "\\item '59 (21.9)'\n",
       "\\end{enumerate*}\n"
      ],
      "text/markdown": [
       "1. '83 (30.9)'\n",
       "2. '59 (21.9)'\n",
       "\n",
       "\n"
      ],
      "text/plain": [
       "[1] \"83 (30.9)\" \"59 (21.9)\""
      ]
     },
     "metadata": {},
     "output_type": "display_data"
    },
    {
     "data": {
      "text/html": [
       "<ol class=list-inline>\n",
       "\t<li>'112 (34.7)'</li>\n",
       "\t<li>'84 (26)'</li>\n",
       "</ol>\n"
      ],
      "text/latex": [
       "\\begin{enumerate*}\n",
       "\\item '112 (34.7)'\n",
       "\\item '84 (26)'\n",
       "\\end{enumerate*}\n"
      ],
      "text/markdown": [
       "1. '112 (34.7)'\n",
       "2. '84 (26)'\n",
       "\n",
       "\n"
      ],
      "text/plain": [
       "[1] \"112 (34.7)\" \"84 (26)\"   "
      ]
     },
     "metadata": {},
     "output_type": "display_data"
    }
   ],
   "source": [
    "tab1_cat(df$gender, 1)\n",
    "levels(df$gender)\n",
    "\n",
    "tab1_cat(df$gender[df$chosen==1], 1)\n",
    "tab1_cat(df$gender[df$chosen==2], 1)\n",
    "tab1_cat(df$gender[df$chosen==3], 1)\n",
    "tab1_cat(df$gender[df$chosen==4], 1)"
   ]
  },
  {
   "cell_type": "code",
   "execution_count": null,
   "metadata": {
    "collapsed": true
   },
   "outputs": [],
   "source": [
    "tab1_cat = function(DATA,SIGFIG=1)\n",
    "{\n",
    " n = table(DATA)\n",
    " percent = table(DATA)/length(DATA)*100\n",
    " results = paste0(n,' (', round(percent,SIGFIG),')')\n",
    " return(results)\n",
    "}"
   ]
  },
  {
   "cell_type": "markdown",
   "metadata": {},
   "source": [
    "tab1_cat(df$ethnicity, 1)\n",
    "levels(df$ethnicity)\n",
    "\n",
    "tab1_cat(df$ethnicity[df$chosen==1], 1)\n",
    "tab1_cat(df$ethnicity[df$chosen==2], 1)\n",
    "tab1_cat(df$ethnicity[df$chosen==3], 1)\n",
    "tab1_cat(df$ethnicity[df$chosen==4], 1)"
   ]
  },
  {
   "cell_type": "code",
   "execution_count": 167,
   "metadata": {},
   "outputs": [
    {
     "data": {
      "text/plain": [
       "\n",
       "  F   M \n",
       "444 661 "
      ]
     },
     "metadata": {},
     "output_type": "display_data"
    }
   ],
   "source": [
    "table(compiledTable$gender)"
   ]
  },
  {
   "cell_type": "code",
   "execution_count": 168,
   "metadata": {},
   "outputs": [
    {
     "data": {
      "text/html": [
       "<ol class=list-inline>\n",
       "\t<li>'icustay_id'</li>\n",
       "\t<li>'age'</li>\n",
       "\t<li>'subject_id'</li>\n",
       "\t<li>'hadm_id'</li>\n",
       "\t<li>'admission_type'</li>\n",
       "\t<li>'admittime'</li>\n",
       "\t<li>'dischtime'</li>\n",
       "\t<li>'first_hosp_stay'</li>\n",
       "\t<li>'first_icu_stay'</li>\n",
       "\t<li>'hospital_expire_flag'</li>\n",
       "\t<li>'hospstay_seq'</li>\n",
       "\t<li>'icustay_seq'</li>\n",
       "\t<li>'intime.x'</li>\n",
       "\t<li>'los_hospital'</li>\n",
       "\t<li>'los_icu'</li>\n",
       "\t<li>'outtime'</li>\n",
       "\t<li>'apsiii'</li>\n",
       "\t<li>'apsiii_prob'</li>\n",
       "\t<li>'oasis'</li>\n",
       "\t<li>'oasis_prob'</li>\n",
       "\t<li>'icu_mort'</li>\n",
       "\t<li>'h_mort'</li>\n",
       "\t<li>'one_mort'</li>\n",
       "\t<li>'thr_mort'</li>\n",
       "\t<li>'six_mort'</li>\n",
       "\t<li>'tv_set'</li>\n",
       "\t<li>'gender'</li>\n",
       "\t<li>'ethnicity'</li>\n",
       "\t<li>'height'</li>\n",
       "\t<li>'pbw'</li>\n",
       "\t<li>'tv_pbw'</li>\n",
       "\t<li>'tv_pbw_observed'</li>\n",
       "\t<li>'tv_cat'</li>\n",
       "\t<li>'intime.y'</li>\n",
       "\t<li>'deathtime'</li>\n",
       "\t<li>'time_till_death'</li>\n",
       "\t<li>'tmins'</li>\n",
       "\t<li>'tdays'</li>\n",
       "\t<li>'mean_tv_observed'</li>\n",
       "\t<li>'tv_pbw_mean'</li>\n",
       "\t<li>'chosen'</li>\n",
       "\t<li>'congestive_heart_failure'</li>\n",
       "\t<li>'cardiac_arrhythmias'</li>\n",
       "\t<li>'valvular_disease'</li>\n",
       "\t<li>'pulmonary_circulation'</li>\n",
       "\t<li>'peripheral_vascular'</li>\n",
       "\t<li>'hypertension'</li>\n",
       "\t<li>'paralysis'</li>\n",
       "\t<li>'other_neurological'</li>\n",
       "\t<li>'chronic_pulmonary'</li>\n",
       "\t<li>'diabetes_uncomplicated'</li>\n",
       "\t<li>'diabetes_complicated'</li>\n",
       "\t<li>'hypothyroidism'</li>\n",
       "\t<li>'renal_failure'</li>\n",
       "\t<li>'liver_disease'</li>\n",
       "\t<li>'peptic_ulcer'</li>\n",
       "\t<li>'aids'</li>\n",
       "\t<li>'lymphoma'</li>\n",
       "\t<li>'metastatic_cancer'</li>\n",
       "\t<li>'solid_tumor'</li>\n",
       "\t<li>'rheumatoid_arthritis'</li>\n",
       "\t<li>'coagulopathy'</li>\n",
       "\t<li>'obesity'</li>\n",
       "\t<li>'weight_loss'</li>\n",
       "\t<li>'fluid_electrolyte'</li>\n",
       "\t<li>'blood_loss_anemia'</li>\n",
       "\t<li>'deficiency_anemias'</li>\n",
       "\t<li>'alcohol_abuse'</li>\n",
       "\t<li>'drug_abuse'</li>\n",
       "\t<li>'psychoses'</li>\n",
       "\t<li>'depression'</li>\n",
       "\t<li>'hours_vent'</li>\n",
       "\t<li>'PC1'</li>\n",
       "\t<li>'PC2'</li>\n",
       "\t<li>'PC3'</li>\n",
       "\t<li>'PC4'</li>\n",
       "\t<li>'PC5'</li>\n",
       "\t<li>'PC6'</li>\n",
       "\t<li>'PC7'</li>\n",
       "\t<li>'PC8'</li>\n",
       "\t<li>'PC9'</li>\n",
       "\t<li>'PC10'</li>\n",
       "\t<li>'PC11'</li>\n",
       "\t<li>'PC12'</li>\n",
       "\t<li>'PC13'</li>\n",
       "\t<li>'PC14'</li>\n",
       "\t<li>'PC15'</li>\n",
       "\t<li>'PC16'</li>\n",
       "\t<li>'PC17'</li>\n",
       "\t<li>'PC18'</li>\n",
       "\t<li>'PC19'</li>\n",
       "\t<li>'PC20'</li>\n",
       "\t<li>'PC21'</li>\n",
       "\t<li>'PC22'</li>\n",
       "\t<li>'PC23'</li>\n",
       "\t<li>'PC24'</li>\n",
       "\t<li>'PC25'</li>\n",
       "\t<li>'PC26'</li>\n",
       "\t<li>'PC27'</li>\n",
       "\t<li>'PC28'</li>\n",
       "\t<li>'PC29'</li>\n",
       "\t<li>'PC30'</li>\n",
       "\t<li>'pao2fio2_mean'</li>\n",
       "\t<li>'peep_mean'</li>\n",
       "\t<li>'pao2fio2_max'</li>\n",
       "\t<li>'peep_max'</li>\n",
       "\t<li>'pao2fio2_sd'</li>\n",
       "\t<li>'peep_sd'</li>\n",
       "</ol>\n"
      ],
      "text/latex": [
       "\\begin{enumerate*}\n",
       "\\item 'icustay\\_id'\n",
       "\\item 'age'\n",
       "\\item 'subject\\_id'\n",
       "\\item 'hadm\\_id'\n",
       "\\item 'admission\\_type'\n",
       "\\item 'admittime'\n",
       "\\item 'dischtime'\n",
       "\\item 'first\\_hosp\\_stay'\n",
       "\\item 'first\\_icu\\_stay'\n",
       "\\item 'hospital\\_expire\\_flag'\n",
       "\\item 'hospstay\\_seq'\n",
       "\\item 'icustay\\_seq'\n",
       "\\item 'intime.x'\n",
       "\\item 'los\\_hospital'\n",
       "\\item 'los\\_icu'\n",
       "\\item 'outtime'\n",
       "\\item 'apsiii'\n",
       "\\item 'apsiii\\_prob'\n",
       "\\item 'oasis'\n",
       "\\item 'oasis\\_prob'\n",
       "\\item 'icu\\_mort'\n",
       "\\item 'h\\_mort'\n",
       "\\item 'one\\_mort'\n",
       "\\item 'thr\\_mort'\n",
       "\\item 'six\\_mort'\n",
       "\\item 'tv\\_set'\n",
       "\\item 'gender'\n",
       "\\item 'ethnicity'\n",
       "\\item 'height'\n",
       "\\item 'pbw'\n",
       "\\item 'tv\\_pbw'\n",
       "\\item 'tv\\_pbw\\_observed'\n",
       "\\item 'tv\\_cat'\n",
       "\\item 'intime.y'\n",
       "\\item 'deathtime'\n",
       "\\item 'time\\_till\\_death'\n",
       "\\item 'tmins'\n",
       "\\item 'tdays'\n",
       "\\item 'mean\\_tv\\_observed'\n",
       "\\item 'tv\\_pbw\\_mean'\n",
       "\\item 'chosen'\n",
       "\\item 'congestive\\_heart\\_failure'\n",
       "\\item 'cardiac\\_arrhythmias'\n",
       "\\item 'valvular\\_disease'\n",
       "\\item 'pulmonary\\_circulation'\n",
       "\\item 'peripheral\\_vascular'\n",
       "\\item 'hypertension'\n",
       "\\item 'paralysis'\n",
       "\\item 'other\\_neurological'\n",
       "\\item 'chronic\\_pulmonary'\n",
       "\\item 'diabetes\\_uncomplicated'\n",
       "\\item 'diabetes\\_complicated'\n",
       "\\item 'hypothyroidism'\n",
       "\\item 'renal\\_failure'\n",
       "\\item 'liver\\_disease'\n",
       "\\item 'peptic\\_ulcer'\n",
       "\\item 'aids'\n",
       "\\item 'lymphoma'\n",
       "\\item 'metastatic\\_cancer'\n",
       "\\item 'solid\\_tumor'\n",
       "\\item 'rheumatoid\\_arthritis'\n",
       "\\item 'coagulopathy'\n",
       "\\item 'obesity'\n",
       "\\item 'weight\\_loss'\n",
       "\\item 'fluid\\_electrolyte'\n",
       "\\item 'blood\\_loss\\_anemia'\n",
       "\\item 'deficiency\\_anemias'\n",
       "\\item 'alcohol\\_abuse'\n",
       "\\item 'drug\\_abuse'\n",
       "\\item 'psychoses'\n",
       "\\item 'depression'\n",
       "\\item 'hours\\_vent'\n",
       "\\item 'PC1'\n",
       "\\item 'PC2'\n",
       "\\item 'PC3'\n",
       "\\item 'PC4'\n",
       "\\item 'PC5'\n",
       "\\item 'PC6'\n",
       "\\item 'PC7'\n",
       "\\item 'PC8'\n",
       "\\item 'PC9'\n",
       "\\item 'PC10'\n",
       "\\item 'PC11'\n",
       "\\item 'PC12'\n",
       "\\item 'PC13'\n",
       "\\item 'PC14'\n",
       "\\item 'PC15'\n",
       "\\item 'PC16'\n",
       "\\item 'PC17'\n",
       "\\item 'PC18'\n",
       "\\item 'PC19'\n",
       "\\item 'PC20'\n",
       "\\item 'PC21'\n",
       "\\item 'PC22'\n",
       "\\item 'PC23'\n",
       "\\item 'PC24'\n",
       "\\item 'PC25'\n",
       "\\item 'PC26'\n",
       "\\item 'PC27'\n",
       "\\item 'PC28'\n",
       "\\item 'PC29'\n",
       "\\item 'PC30'\n",
       "\\item 'pao2fio2\\_mean'\n",
       "\\item 'peep\\_mean'\n",
       "\\item 'pao2fio2\\_max'\n",
       "\\item 'peep\\_max'\n",
       "\\item 'pao2fio2\\_sd'\n",
       "\\item 'peep\\_sd'\n",
       "\\end{enumerate*}\n"
      ],
      "text/markdown": [
       "1. 'icustay_id'\n",
       "2. 'age'\n",
       "3. 'subject_id'\n",
       "4. 'hadm_id'\n",
       "5. 'admission_type'\n",
       "6. 'admittime'\n",
       "7. 'dischtime'\n",
       "8. 'first_hosp_stay'\n",
       "9. 'first_icu_stay'\n",
       "10. 'hospital_expire_flag'\n",
       "11. 'hospstay_seq'\n",
       "12. 'icustay_seq'\n",
       "13. 'intime.x'\n",
       "14. 'los_hospital'\n",
       "15. 'los_icu'\n",
       "16. 'outtime'\n",
       "17. 'apsiii'\n",
       "18. 'apsiii_prob'\n",
       "19. 'oasis'\n",
       "20. 'oasis_prob'\n",
       "21. 'icu_mort'\n",
       "22. 'h_mort'\n",
       "23. 'one_mort'\n",
       "24. 'thr_mort'\n",
       "25. 'six_mort'\n",
       "26. 'tv_set'\n",
       "27. 'gender'\n",
       "28. 'ethnicity'\n",
       "29. 'height'\n",
       "30. 'pbw'\n",
       "31. 'tv_pbw'\n",
       "32. 'tv_pbw_observed'\n",
       "33. 'tv_cat'\n",
       "34. 'intime.y'\n",
       "35. 'deathtime'\n",
       "36. 'time_till_death'\n",
       "37. 'tmins'\n",
       "38. 'tdays'\n",
       "39. 'mean_tv_observed'\n",
       "40. 'tv_pbw_mean'\n",
       "41. 'chosen'\n",
       "42. 'congestive_heart_failure'\n",
       "43. 'cardiac_arrhythmias'\n",
       "44. 'valvular_disease'\n",
       "45. 'pulmonary_circulation'\n",
       "46. 'peripheral_vascular'\n",
       "47. 'hypertension'\n",
       "48. 'paralysis'\n",
       "49. 'other_neurological'\n",
       "50. 'chronic_pulmonary'\n",
       "51. 'diabetes_uncomplicated'\n",
       "52. 'diabetes_complicated'\n",
       "53. 'hypothyroidism'\n",
       "54. 'renal_failure'\n",
       "55. 'liver_disease'\n",
       "56. 'peptic_ulcer'\n",
       "57. 'aids'\n",
       "58. 'lymphoma'\n",
       "59. 'metastatic_cancer'\n",
       "60. 'solid_tumor'\n",
       "61. 'rheumatoid_arthritis'\n",
       "62. 'coagulopathy'\n",
       "63. 'obesity'\n",
       "64. 'weight_loss'\n",
       "65. 'fluid_electrolyte'\n",
       "66. 'blood_loss_anemia'\n",
       "67. 'deficiency_anemias'\n",
       "68. 'alcohol_abuse'\n",
       "69. 'drug_abuse'\n",
       "70. 'psychoses'\n",
       "71. 'depression'\n",
       "72. 'hours_vent'\n",
       "73. 'PC1'\n",
       "74. 'PC2'\n",
       "75. 'PC3'\n",
       "76. 'PC4'\n",
       "77. 'PC5'\n",
       "78. 'PC6'\n",
       "79. 'PC7'\n",
       "80. 'PC8'\n",
       "81. 'PC9'\n",
       "82. 'PC10'\n",
       "83. 'PC11'\n",
       "84. 'PC12'\n",
       "85. 'PC13'\n",
       "86. 'PC14'\n",
       "87. 'PC15'\n",
       "88. 'PC16'\n",
       "89. 'PC17'\n",
       "90. 'PC18'\n",
       "91. 'PC19'\n",
       "92. 'PC20'\n",
       "93. 'PC21'\n",
       "94. 'PC22'\n",
       "95. 'PC23'\n",
       "96. 'PC24'\n",
       "97. 'PC25'\n",
       "98. 'PC26'\n",
       "99. 'PC27'\n",
       "100. 'PC28'\n",
       "101. 'PC29'\n",
       "102. 'PC30'\n",
       "103. 'pao2fio2_mean'\n",
       "104. 'peep_mean'\n",
       "105. 'pao2fio2_max'\n",
       "106. 'peep_max'\n",
       "107. 'pao2fio2_sd'\n",
       "108. 'peep_sd'\n",
       "\n",
       "\n"
      ],
      "text/plain": [
       "  [1] \"icustay_id\"               \"age\"                     \n",
       "  [3] \"subject_id\"               \"hadm_id\"                 \n",
       "  [5] \"admission_type\"           \"admittime\"               \n",
       "  [7] \"dischtime\"                \"first_hosp_stay\"         \n",
       "  [9] \"first_icu_stay\"           \"hospital_expire_flag\"    \n",
       " [11] \"hospstay_seq\"             \"icustay_seq\"             \n",
       " [13] \"intime.x\"                 \"los_hospital\"            \n",
       " [15] \"los_icu\"                  \"outtime\"                 \n",
       " [17] \"apsiii\"                   \"apsiii_prob\"             \n",
       " [19] \"oasis\"                    \"oasis_prob\"              \n",
       " [21] \"icu_mort\"                 \"h_mort\"                  \n",
       " [23] \"one_mort\"                 \"thr_mort\"                \n",
       " [25] \"six_mort\"                 \"tv_set\"                  \n",
       " [27] \"gender\"                   \"ethnicity\"               \n",
       " [29] \"height\"                   \"pbw\"                     \n",
       " [31] \"tv_pbw\"                   \"tv_pbw_observed\"         \n",
       " [33] \"tv_cat\"                   \"intime.y\"                \n",
       " [35] \"deathtime\"                \"time_till_death\"         \n",
       " [37] \"tmins\"                    \"tdays\"                   \n",
       " [39] \"mean_tv_observed\"         \"tv_pbw_mean\"             \n",
       " [41] \"chosen\"                   \"congestive_heart_failure\"\n",
       " [43] \"cardiac_arrhythmias\"      \"valvular_disease\"        \n",
       " [45] \"pulmonary_circulation\"    \"peripheral_vascular\"     \n",
       " [47] \"hypertension\"             \"paralysis\"               \n",
       " [49] \"other_neurological\"       \"chronic_pulmonary\"       \n",
       " [51] \"diabetes_uncomplicated\"   \"diabetes_complicated\"    \n",
       " [53] \"hypothyroidism\"           \"renal_failure\"           \n",
       " [55] \"liver_disease\"            \"peptic_ulcer\"            \n",
       " [57] \"aids\"                     \"lymphoma\"                \n",
       " [59] \"metastatic_cancer\"        \"solid_tumor\"             \n",
       " [61] \"rheumatoid_arthritis\"     \"coagulopathy\"            \n",
       " [63] \"obesity\"                  \"weight_loss\"             \n",
       " [65] \"fluid_electrolyte\"        \"blood_loss_anemia\"       \n",
       " [67] \"deficiency_anemias\"       \"alcohol_abuse\"           \n",
       " [69] \"drug_abuse\"               \"psychoses\"               \n",
       " [71] \"depression\"               \"hours_vent\"              \n",
       " [73] \"PC1\"                      \"PC2\"                     \n",
       " [75] \"PC3\"                      \"PC4\"                     \n",
       " [77] \"PC5\"                      \"PC6\"                     \n",
       " [79] \"PC7\"                      \"PC8\"                     \n",
       " [81] \"PC9\"                      \"PC10\"                    \n",
       " [83] \"PC11\"                     \"PC12\"                    \n",
       " [85] \"PC13\"                     \"PC14\"                    \n",
       " [87] \"PC15\"                     \"PC16\"                    \n",
       " [89] \"PC17\"                     \"PC18\"                    \n",
       " [91] \"PC19\"                     \"PC20\"                    \n",
       " [93] \"PC21\"                     \"PC22\"                    \n",
       " [95] \"PC23\"                     \"PC24\"                    \n",
       " [97] \"PC25\"                     \"PC26\"                    \n",
       " [99] \"PC27\"                     \"PC28\"                    \n",
       "[101] \"PC29\"                     \"PC30\"                    \n",
       "[103] \"pao2fio2_mean\"            \"peep_mean\"               \n",
       "[105] \"pao2fio2_max\"             \"peep_max\"                \n",
       "[107] \"pao2fio2_sd\"              \"peep_sd\"                 "
      ]
     },
     "metadata": {},
     "output_type": "display_data"
    }
   ],
   "source": [
    "colnames(compiledTable)"
   ]
  },
  {
   "cell_type": "code",
   "execution_count": 171,
   "metadata": {},
   "outputs": [
    {
     "data": {
      "text/plain": [
       "\n",
       "  1   2   3   4 \n",
       " 79 561 142 196 "
      ]
     },
     "metadata": {},
     "output_type": "display_data"
    }
   ],
   "source": [
    "table(compiledTable$chosen)"
   ]
  },
  {
   "cell_type": "code",
   "execution_count": 174,
   "metadata": {},
   "outputs": [
    {
     "data": {
      "text/html": [
       "<ol class=list-inline>\n",
       "\t<li>0</li>\n",
       "\t<li>0</li>\n",
       "\t<li>0</li>\n",
       "\t<li>0</li>\n",
       "\t<li>0</li>\n",
       "\t<li>0</li>\n",
       "</ol>\n"
      ],
      "text/latex": [
       "\\begin{enumerate*}\n",
       "\\item 0\n",
       "\\item 0\n",
       "\\item 0\n",
       "\\item 0\n",
       "\\item 0\n",
       "\\item 0\n",
       "\\end{enumerate*}\n"
      ],
      "text/markdown": [
       "1. 0\n",
       "2. 0\n",
       "3. 0\n",
       "4. 0\n",
       "5. 0\n",
       "6. 0\n",
       "\n",
       "\n"
      ],
      "text/plain": [
       "[1] 0 0 0 0 0 0"
      ]
     },
     "metadata": {},
     "output_type": "display_data"
    }
   ],
   "source": [
    "head(compiledTable$h_mort)"
   ]
  },
  {
   "cell_type": "code",
   "execution_count": null,
   "metadata": {
    "collapsed": true
   },
   "outputs": [],
   "source": []
  }
 ],
 "metadata": {
  "kernelspec": {
   "display_name": "R",
   "language": "R",
   "name": "ir"
  },
  "language_info": {
   "codemirror_mode": "r",
   "file_extension": ".r",
   "mimetype": "text/x-r-source",
   "name": "R",
   "pygments_lexer": "r",
   "version": "3.4.0"
  }
 },
 "nbformat": 4,
 "nbformat_minor": 2
}
