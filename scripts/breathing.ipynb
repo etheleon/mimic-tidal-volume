{
 "cells": [
  {
   "cell_type": "code",
   "execution_count": 96,
   "metadata": {
    "collapsed": true
   },
   "outputs": [],
   "source": [
    "import pandas as pd \n",
    "import seaborn as sns\n",
    "sns.set(style='ticks')\n",
    "%matplotlib inline"
   ]
  },
  {
   "cell_type": "code",
   "execution_count": 19,
   "metadata": {},
   "outputs": [
    {
     "name": "stdout",
     "output_type": "stream",
     "text": [
      "height.csv           stats.csv\r\n",
      "idealBodyWeight.csv  tv_subset_with_set_volume.csv\r\n",
      "\u001b[0m\u001b[01;34mRData\u001b[0m/               tv_subset_with_set_volume_merged_w_idealbodyWeight.csv\r\n"
     ]
    }
   ],
   "source": [
    "ls /Data/common/"
   ]
  },
  {
   "cell_type": "code",
   "execution_count": 239,
   "metadata": {
    "collapsed": true
   },
   "outputs": [],
   "source": [
    "height =  pd.read_csv('/Data/common/height.csv')\n",
    "height = height[~height.icustay_id.isnull()].set_index('icustay_id')\n",
    "stats = pd.read_csv('/Data/common/stats.csv')\n",
    "stats = stats[~stats.icustay_id.isnull()].set_index('icustay_id')\n",
    "body = pd.read_csv('/Data/common/idealBodyWeight.csv')\n",
    "body = body[~body.icustay_id.isnull()].set_index('icustay_id')"
   ]
  },
  {
   "cell_type": "code",
   "execution_count": 184,
   "metadata": {
    "collapsed": true
   },
   "outputs": [],
   "source": [
    "subset = pd.read_csv('/Data/common/tv_subset_with_set_volume_merged_w_idealbodyWeight.csv')\n",
    "subset = subset[~subset.icustay_id.isnull()].set_index('icustay_id')\n",
    "subset = subset[subset.tv_pbw > 0]"
   ]
  },
  {
   "cell_type": "code",
   "execution_count": 185,
   "metadata": {},
   "outputs": [
    {
     "data": {
      "text/plain": [
       "(16865, 7)"
      ]
     },
     "execution_count": 185,
     "metadata": {},
     "output_type": "execute_result"
    }
   ],
   "source": [
    "subset.shape"
   ]
  },
  {
   "cell_type": "code",
   "execution_count": 255,
   "metadata": {
    "collapsed": true
   },
   "outputs": [],
   "source": [
    "ids = set(subset.index).intersection(set(body.index)).intersection(set(height.index)).intersection(stats.index)\n",
    "\n",
    "dfList = [subset, stats[[i for i in stats.columns if i not in ['ethnicity', 'gender']]]]\n",
    "\n",
    "dfList = [i.loc[ids,:] for i in dfList]\n",
    "\n",
    "df_final = reduce(lambda left,right: pd.merge(left,right,left_index=True, right_index=True, how='left'), dfList)"
   ]
  },
  {
   "cell_type": "code",
   "execution_count": 269,
   "metadata": {
    "collapsed": true,
    "scrolled": false
   },
   "outputs": [],
   "source": [
    "cleaned = df_final.loc[:,sorted([i for i in df_final.columns if  ('Un' not in i)])]\n",
    "\n",
    "cleaned.columns"
   ]
  },
  {
   "cell_type": "code",
   "execution_count": 316,
   "metadata": {
    "collapsed": true
   },
   "outputs": [],
   "source": [
    "demo = cleaned.reset_index()[['icustay_id', 'gender', 'age', 'height', 'subject_id', \n",
    "                              'hadm_id', 'admission_type', 'admittime', 'dischtime', 'ethnicity',\n",
    "       'first_hosp_stay', 'first_icu_stay',   \n",
    "       'hospital_expire_flag', 'hospstay_seq', 'icustay_seq', 'intime',\n",
    "       'los_hospital', 'los_icu', 'outtime']]\n",
    "\n",
    "demo.to_csv('Ventilator_demo.tsv', sep='\\t', index=False)"
   ]
  },
  {
   "cell_type": "code",
   "execution_count": 278,
   "metadata": {
    "collapsed": true
   },
   "outputs": [],
   "source": [
    "vent = cleaned.reset_index()[['icustay_id', 'height', 'pbw','tv_set' ,'tv_pbw' ]]\n",
    "\n",
    "vent.to_csv('Ventilator_vent.tsv',sep='\\t', index=False)"
   ]
  },
  {
   "cell_type": "code",
   "execution_count": 281,
   "metadata": {},
   "outputs": [
    {
     "name": "stdout",
     "output_type": "stream",
     "text": [
      "sending incremental file list\r\n",
      "Ventilator_big_table.tsv\r\n",
      "\r",
      "         32,768   2%    0.00kB/s    0:00:00  \r",
      "      1,311,749 100%  152.47MB/s    0:00:00 (xfr#1, to-chk=2/3)\r\n",
      "Ventilator_demo.tsv\r\n",
      "\r",
      "         32,768   1%    3.47MB/s    0:00:00  \r",
      "      2,716,731 100%  107.95MB/s    0:00:00 (xfr#2, to-chk=1/3)\r\n",
      "Ventilator_vent.tsv\r\n",
      "\r",
      "         32,768   4%    1.25MB/s    0:00:00  \r",
      "        790,117 100%   26.91MB/s    0:00:00 (xfr#3, to-chk=0/3)\r\n"
     ]
    }
   ],
   "source": [
    "!rsync -aP Ventilator_* /Data/common/"
   ]
  },
  {
   "cell_type": "code",
   "execution_count": 259,
   "metadata": {
    "scrolled": true
   },
   "outputs": [
    {
     "data": {
      "text/plain": [
       "(16865, 16)"
      ]
     },
     "execution_count": 259,
     "metadata": {},
     "output_type": "execute_result"
    }
   ],
   "source": [
    "cleaned.shape"
   ]
  },
  {
   "cell_type": "code",
   "execution_count": 234,
   "metadata": {
    "collapsed": true
   },
   "outputs": [],
   "source": [
    "cleaned.reset_index().to_csv('Ventilator_big_table.tsv', sep='\\t', index=False)"
   ]
  },
  {
   "cell_type": "code",
   "execution_count": 340,
   "metadata": {
    "collapsed": true
   },
   "outputs": [],
   "source": [
    "apache = pd.read_csv('/Data/common/apache.csv')\n",
    "oasis =  pd.read_csv('/Data/common/oasis.csv')\n",
    "\n",
    "apache = demo.merge(apache[[i for i in apache.columns if i not in apache_cols[:-1]]], on='icustay_id')\n",
    "\n",
    "apache_cols = list(set(apache.columns).intersection(set(demo.columns)))\n",
    "\n",
    "oasis_cols = list(set(apache.columns).intersection(set(oasis.columns)))"
   ]
  },
  {
   "cell_type": "code",
   "execution_count": 343,
   "metadata": {
    "collapsed": true
   },
   "outputs": [],
   "source": [
    "with_apa_oas = apache.merge(oasis[[i for i in oasis.columns if i not in oasis_cols[::2]]], on='icustay_id')\n",
    "\n",
    "big_with_opa = with_apa_oas.drop('Unnamed: 0', axis=1)\n",
    "\n",
    "big_with_opa.shape"
   ]
  },
  {
   "cell_type": "code",
   "execution_count": 357,
   "metadata": {
    "collapsed": true
   },
   "outputs": [],
   "source": [
    "mort = pd.read_csv('/Data/common/mort_sum_full.csv', encoding='utf8')\n",
    "\n",
    "big_with_morty = big_with_opa.merge(mort[[i for i in mort.columns if i not in ['hadm_id','subject_id']]], on='icustay_id')"
   ]
  },
  {
   "cell_type": "code",
   "execution_count": 476,
   "metadata": {},
   "outputs": [
    {
     "data": {
      "text/plain": [
       "array([  0.,   1.,  nan])"
      ]
     },
     "execution_count": 476,
     "metadata": {},
     "output_type": "execute_result"
    }
   ],
   "source": [
    "mort.icu_mort.unique()"
   ]
  },
  {
   "cell_type": "code",
   "execution_count": 364,
   "metadata": {
    "scrolled": true
   },
   "outputs": [
    {
     "data": {
      "text/plain": [
       "(16865, 28)"
      ]
     },
     "execution_count": 364,
     "metadata": {},
     "output_type": "execute_result"
    }
   ],
   "source": [
    "big_with_morty.shape"
   ]
  },
  {
   "cell_type": "code",
   "execution_count": 365,
   "metadata": {},
   "outputs": [
    {
     "data": {
      "text/html": [
       "<div>\n",
       "<style>\n",
       "    .dataframe thead tr:only-child th {\n",
       "        text-align: right;\n",
       "    }\n",
       "\n",
       "    .dataframe thead th {\n",
       "        text-align: left;\n",
       "    }\n",
       "\n",
       "    .dataframe tbody tr th {\n",
       "        vertical-align: top;\n",
       "    }\n",
       "</style>\n",
       "<table border=\"1\" class=\"dataframe\">\n",
       "  <thead>\n",
       "    <tr style=\"text-align: right;\">\n",
       "      <th></th>\n",
       "      <th>icustay_id</th>\n",
       "      <th>gender</th>\n",
       "      <th>age</th>\n",
       "      <th>height</th>\n",
       "      <th>subject_id</th>\n",
       "      <th>hadm_id</th>\n",
       "      <th>admission_type</th>\n",
       "      <th>admittime</th>\n",
       "      <th>dischtime</th>\n",
       "      <th>ethnicity</th>\n",
       "      <th>...</th>\n",
       "      <th>outtime</th>\n",
       "      <th>apsiii</th>\n",
       "      <th>apsiii_prob</th>\n",
       "      <th>oasis</th>\n",
       "      <th>oasis_prob</th>\n",
       "      <th>icu_mort</th>\n",
       "      <th>h_mort</th>\n",
       "      <th>one_mort</th>\n",
       "      <th>thr_mort</th>\n",
       "      <th>six_mort</th>\n",
       "    </tr>\n",
       "  </thead>\n",
       "  <tbody>\n",
       "    <tr>\n",
       "      <th>0</th>\n",
       "      <td>294912</td>\n",
       "      <td>M</td>\n",
       "      <td>57.0272</td>\n",
       "      <td>178.00</td>\n",
       "      <td>72530</td>\n",
       "      <td>189421</td>\n",
       "      <td>EMERGENCY</td>\n",
       "      <td>2170-07-11 17:28:00</td>\n",
       "      <td>2170-07-30 16:33:00</td>\n",
       "      <td>WHITE</td>\n",
       "      <td>...</td>\n",
       "      <td>2170-07-17 14:33:28</td>\n",
       "      <td>31</td>\n",
       "      <td>0.048756</td>\n",
       "      <td>38</td>\n",
       "      <td>0.209226</td>\n",
       "      <td>0.0</td>\n",
       "      <td>0</td>\n",
       "      <td>0.0</td>\n",
       "      <td>0.0</td>\n",
       "      <td>0.0</td>\n",
       "    </tr>\n",
       "    <tr>\n",
       "      <th>1</th>\n",
       "      <td>262146</td>\n",
       "      <td>F</td>\n",
       "      <td>77.9385</td>\n",
       "      <td>157.48</td>\n",
       "      <td>14114</td>\n",
       "      <td>189388</td>\n",
       "      <td>ELECTIVE</td>\n",
       "      <td>2141-04-25 10:00:00</td>\n",
       "      <td>2141-05-04 17:00:00</td>\n",
       "      <td>WHITE</td>\n",
       "      <td>...</td>\n",
       "      <td>2141-04-27 12:52:34</td>\n",
       "      <td>41</td>\n",
       "      <td>0.075975</td>\n",
       "      <td>37</td>\n",
       "      <td>0.188911</td>\n",
       "      <td>0.0</td>\n",
       "      <td>0</td>\n",
       "      <td>0.0</td>\n",
       "      <td>0.0</td>\n",
       "      <td>0.0</td>\n",
       "    </tr>\n",
       "    <tr>\n",
       "      <th>2</th>\n",
       "      <td>229381</td>\n",
       "      <td>F</td>\n",
       "      <td>42.2699</td>\n",
       "      <td>165.10</td>\n",
       "      <td>47927</td>\n",
       "      <td>161682</td>\n",
       "      <td>EMERGENCY</td>\n",
       "      <td>2108-12-23 17:42:00</td>\n",
       "      <td>2108-12-27 19:00:00</td>\n",
       "      <td>UNKNOWN/NOT SPECIFIED</td>\n",
       "      <td>...</td>\n",
       "      <td>2108-12-27 21:00:12</td>\n",
       "      <td>74</td>\n",
       "      <td>0.281151</td>\n",
       "      <td>48</td>\n",
       "      <td>0.486353</td>\n",
       "      <td>0.0</td>\n",
       "      <td>1</td>\n",
       "      <td>1.0</td>\n",
       "      <td>1.0</td>\n",
       "      <td>1.0</td>\n",
       "    </tr>\n",
       "    <tr>\n",
       "      <th>3</th>\n",
       "      <td>294919</td>\n",
       "      <td>M</td>\n",
       "      <td>70.8541</td>\n",
       "      <td>172.72</td>\n",
       "      <td>86078</td>\n",
       "      <td>182281</td>\n",
       "      <td>EMERGENCY</td>\n",
       "      <td>2183-02-03 21:02:00</td>\n",
       "      <td>2183-02-08 15:00:00</td>\n",
       "      <td>WHITE</td>\n",
       "      <td>...</td>\n",
       "      <td>2183-02-08 17:25:51</td>\n",
       "      <td>33</td>\n",
       "      <td>0.053332</td>\n",
       "      <td>34</td>\n",
       "      <td>0.137099</td>\n",
       "      <td>0.0</td>\n",
       "      <td>1</td>\n",
       "      <td>1.0</td>\n",
       "      <td>1.0</td>\n",
       "      <td>1.0</td>\n",
       "    </tr>\n",
       "    <tr>\n",
       "      <th>4</th>\n",
       "      <td>262154</td>\n",
       "      <td>F</td>\n",
       "      <td>300.0023</td>\n",
       "      <td>157.00</td>\n",
       "      <td>94698</td>\n",
       "      <td>152925</td>\n",
       "      <td>EMERGENCY</td>\n",
       "      <td>2105-12-07 10:37:00</td>\n",
       "      <td>2105-12-26 15:30:00</td>\n",
       "      <td>WHITE</td>\n",
       "      <td>...</td>\n",
       "      <td>2105-12-19 18:35:54</td>\n",
       "      <td>81</td>\n",
       "      <td>0.352529</td>\n",
       "      <td>57</td>\n",
       "      <td>0.748927</td>\n",
       "      <td>0.0</td>\n",
       "      <td>0</td>\n",
       "      <td>0.0</td>\n",
       "      <td>0.0</td>\n",
       "      <td>0.0</td>\n",
       "    </tr>\n",
       "  </tbody>\n",
       "</table>\n",
       "<p>5 rows × 28 columns</p>\n",
       "</div>"
      ],
      "text/plain": [
       "   icustay_id gender       age  height  subject_id  hadm_id admission_type  \\\n",
       "0      294912      M   57.0272  178.00       72530   189421      EMERGENCY   \n",
       "1      262146      F   77.9385  157.48       14114   189388       ELECTIVE   \n",
       "2      229381      F   42.2699  165.10       47927   161682      EMERGENCY   \n",
       "3      294919      M   70.8541  172.72       86078   182281      EMERGENCY   \n",
       "4      262154      F  300.0023  157.00       94698   152925      EMERGENCY   \n",
       "\n",
       "             admittime            dischtime              ethnicity    ...     \\\n",
       "0  2170-07-11 17:28:00  2170-07-30 16:33:00                  WHITE    ...      \n",
       "1  2141-04-25 10:00:00  2141-05-04 17:00:00                  WHITE    ...      \n",
       "2  2108-12-23 17:42:00  2108-12-27 19:00:00  UNKNOWN/NOT SPECIFIED    ...      \n",
       "3  2183-02-03 21:02:00  2183-02-08 15:00:00                  WHITE    ...      \n",
       "4  2105-12-07 10:37:00  2105-12-26 15:30:00                  WHITE    ...      \n",
       "\n",
       "               outtime apsiii  apsiii_prob  oasis  oasis_prob icu_mort  \\\n",
       "0  2170-07-17 14:33:28     31     0.048756     38    0.209226      0.0   \n",
       "1  2141-04-27 12:52:34     41     0.075975     37    0.188911      0.0   \n",
       "2  2108-12-27 21:00:12     74     0.281151     48    0.486353      0.0   \n",
       "3  2183-02-08 17:25:51     33     0.053332     34    0.137099      0.0   \n",
       "4  2105-12-19 18:35:54     81     0.352529     57    0.748927      0.0   \n",
       "\n",
       "   h_mort  one_mort thr_mort  six_mort  \n",
       "0       0       0.0      0.0       0.0  \n",
       "1       0       0.0      0.0       0.0  \n",
       "2       1       1.0      1.0       1.0  \n",
       "3       1       1.0      1.0       1.0  \n",
       "4       0       0.0      0.0       0.0  \n",
       "\n",
       "[5 rows x 28 columns]"
      ]
     },
     "execution_count": 365,
     "metadata": {},
     "output_type": "execute_result"
    }
   ],
   "source": [
    "big_with_morty.head()"
   ]
  },
  {
   "cell_type": "code",
   "execution_count": 366,
   "metadata": {
    "collapsed": true
   },
   "outputs": [],
   "source": [
    "big_with_morty.to_csv('/Data/common/Ventilator_big_table_oasis_apache_morbidity.csv', sep=',', index=False)"
   ]
  },
  {
   "cell_type": "code",
   "execution_count": 368,
   "metadata": {},
   "outputs": [
    {
     "data": {
      "text/plain": [
       "Index(['icustay_id', 'gender', 'age', 'height', 'subject_id', 'hadm_id',\n",
       "       'admission_type', 'admittime', 'dischtime', 'ethnicity',\n",
       "       'first_hosp_stay', 'first_icu_stay', 'hospital_expire_flag',\n",
       "       'hospstay_seq', 'icustay_seq', 'intime', 'los_hospital', 'los_icu',\n",
       "       'outtime', 'apsiii', 'apsiii_prob', 'oasis', 'oasis_prob', 'icu_mort',\n",
       "       'h_mort', 'one_mort', 'thr_mort', 'six_mort'],\n",
       "      dtype='object')"
      ]
     },
     "execution_count": 368,
     "metadata": {},
     "output_type": "execute_result"
    }
   ],
   "source": [
    "big_with_morty.columns"
   ]
  },
  {
   "cell_type": "code",
   "execution_count": 478,
   "metadata": {},
   "outputs": [
    {
     "name": "stdout",
     "output_type": "stream",
     "text": [
      "apache.csv           \u001b[0m\u001b[01;34mRData\u001b[0m/\r\n",
      "first_icu_id.csv     stats.csv\r\n",
      "firstVisits.csv      time_till_death.csv\r\n",
      "forAlvin.csv         tvObserved_filtered.csv\r\n",
      "\u001b[01;34mfor_kiesha\u001b[0m/          tvSet_filtered.csv\r\n",
      "height.csv           tv_subset_with_set_volume.csv\r\n",
      "idealBodyWeight.csv  tv_subset_with_set_volume_merged_w_idealbodyWeight.csv\r\n",
      "meanNmax.csv         Ventilator_big_table_oasis_apache_morbidity.csv\r\n",
      "mort_icu.csv         Ventilator_big_table.tsv\r\n",
      "mort_sum.csv         Ventilator_vent.tsv\r\n",
      "mort_sum_full.csv    ventmodes_metavision.csv\r\n",
      "oasis.csv            ventmodes_metavision_inclusion_annotated.csv\r\n",
      "raw_mort.csv         ventmodes_metavision_inclusion_annotated.csv~\r\n"
     ]
    }
   ],
   "source": [
    "ls /Data/common"
   ]
  },
  {
   "cell_type": "code",
   "execution_count": 384,
   "metadata": {
    "collapsed": true
   },
   "outputs": [],
   "source": [
    "tvSet = pd.read_csv('/Data/common/tvSet_filtered.csv')\n",
    "\n",
    "tvOb = pd.read_csv('/Data/common/tvObserved_filtered.csv')\n",
    "\n",
    "tvOb_fil = tvOb[['icustay_id','tv_pbw']]\n",
    "tvOb_fil.columns = ['icustay_id','tv_pbw_observed']"
   ]
  },
  {
   "cell_type": "code",
   "execution_count": 395,
   "metadata": {
    "scrolled": true
   },
   "outputs": [
    {
     "data": {
      "text/plain": [
       "{'ethnicity', 'gender', 'height', 'icustay_id', 'pbw', 'tv_pbw', 'tv_set'}"
      ]
     },
     "execution_count": 395,
     "metadata": {},
     "output_type": "execute_result"
    }
   ],
   "source": [
    "set(tvSet.columns).intersection(set(tvOb.columns))"
   ]
  },
  {
   "cell_type": "code",
   "execution_count": 408,
   "metadata": {
    "collapsed": true,
    "scrolled": true
   },
   "outputs": [],
   "source": [
    "## patients with tvObs but not tvSet\n",
    "missing = set(tvOb_fil.icustay_id).difference(set(tvSet.icustay_id))\n",
    "\n",
    "vent_data = tvSet.merge(tvOb_fil, on='icustay_id')\n",
    "\n",
    "final_big_table = big_with_morty[[i for i in big_with_morty.columns if i not in ['ethnicity', 'gender', 'height']]].merge(vent_data, on='icustay_id')\n",
    "\n",
    "final_big_table.to_csv('/Data/common/for_kiesha/Ventilator_final_table_demo_mort_vent.csv',',', index=False)"
   ]
  },
  {
   "cell_type": "code",
   "execution_count": 479,
   "metadata": {
    "collapsed": true
   },
   "outputs": [],
   "source": [
    "meanMax = pd.read_csv('/Data/common/meanNmax.csv')"
   ]
  },
  {
   "cell_type": "code",
   "execution_count": null,
   "metadata": {
    "collapsed": true
   },
   "outputs": [],
   "source": [
    "final_big_table"
   ]
  },
  {
   "cell_type": "code",
   "execution_count": 481,
   "metadata": {},
   "outputs": [
    {
     "data": {
      "text/plain": [
       "{'ethnicity', 'gender', 'height', 'icustay_id', 'pbw'}"
      ]
     },
     "execution_count": 481,
     "metadata": {},
     "output_type": "execute_result"
    }
   ],
   "source": [
    "set(final_big_table.columns).intersection(set(meanMax))"
   ]
  },
  {
   "cell_type": "code",
   "execution_count": 488,
   "metadata": {},
   "outputs": [],
   "source": [
    "final_final_table = final_big_table[[ i for i in final_big_table.columns if i not in ['ethnicity', 'gender', 'height', 'pbw']]].merge(meanMax, on='icustay_id')"
   ]
  },
  {
   "cell_type": "code",
   "execution_count": 504,
   "metadata": {
    "collapsed": true
   },
   "outputs": [],
   "source": [
    "final_final_table.to_csv('/Data/common/for_kiesha/Ventilator_final_final_table_demo_mort_vent.csv', index=False)"
   ]
  },
  {
   "cell_type": "code",
   "execution_count": 491,
   "metadata": {},
   "outputs": [
    {
     "name": "stdout",
     "output_type": "stream",
     "text": [
      "total 41M\r\n",
      "drwxr-xr-x 7 root        root        4.0K Jun 30 01:46 \u001b[0m\u001b[01;34m..\u001b[0m/\r\n",
      "drwxrwsr-x 2 team12user6 team12      4.0K Jul  1 05:14 \u001b[01;34mRData\u001b[0m/\r\n",
      "-rw-rw-r-- 1 team12user7 team12      1.1M Jul  1 07:29 height.csv\r\n",
      "-rw-rw-r-- 1 team12user7 team12       10M Jul  1 07:30 stats.csv\r\n",
      "-rw-rw-r-- 1 team12user7 team12      1.5M Jul  1 07:30 idealBodyWeight.csv\r\n",
      "-rw-rw-r-- 1 team12user7 team12      429K Jul  1 07:31 tv_subset_with_set_volume.csv\r\n",
      "-rw-rw-r-- 1 team12user7 team12      1.1M Jul  1 08:07 tv_subset_with_set_volume_merged_w_idealbodyWeight.csv\r\n",
      "-rw-r--r-- 1 team12user4 team12user4 1.3M Jul  1 09:17 Ventilator_big_table.tsv\r\n",
      "-rw-r--r-- 1 team12user4 team12user4 772K Jul  1 09:30 Ventilator_vent.tsv\r\n",
      "-rw-r--r-- 1 team12user1 team12      7.2M Jul  1 10:18 mort_icu.csv\r\n",
      "-rw-rw-r-- 1 team12user7 team12      2.9M Jul  1 10:26 apache.csv\r\n",
      "-rw-r--r-- 1 team12user1 team12      1.4M Jul  1 10:32 mort_sum.csv\r\n",
      "-rw-r--r-- 1 team12user1 team12      898K Jul  1 10:40 first_icu_id.csv\r\n",
      "-rw-rw-r-- 1 team12user7 team12      2.5M Jul  1 10:42 oasis.csv\r\n",
      "-rw-r--r-- 1 team12user1 team12      1.8M Jul  1 11:46 mort_sum_full.csv\r\n",
      "-rw-rw-r-- 1 team12user7 team12       864 Jul  1 11:56 ventmodes_metavision.csv\r\n",
      "-rw-rw-r-- 1 team12user8 team12       918 Jul  1 12:04 ventmodes_metavision_inclusion_annotated.csv~\r\n",
      "-rw-rw-r-- 1 team12user8 team12       927 Jul  1 12:10 ventmodes_metavision_inclusion_annotated.csv\r\n",
      "-rw-rw-r-- 1 team12user7 team12      477K Jul  1 12:27 firstVisits.csv\r\n",
      "-rw-r--r-- 1 team12user4 team12      3.6M Jul  1 12:59 Ventilator_big_table_oasis_apache_morbidity.csv\r\n",
      "-rw-rw-r-- 1 team12user7 team12       84K Jul  1 13:30 forAlvin.csv\r\n",
      "-rw-rw-r-- 1 team12user7 team12       61K Jul  1 17:35 tvObserved_filtered.csv\r\n",
      "-rw-rw-r-- 1 team12user7 team12       61K Jul  1 17:35 tvSet_filtered.csv\r\n",
      "-rw-r--r-- 1 team12user1 team12      923K Jul  2 02:43 time_till_death.csv\r\n",
      "-rw-r--r-- 1 team12user1 team12      2.3M Jul  2 03:17 raw_mort.csv\r\n",
      "drwxrwsr-x 2 team12user4 team12      4.0K Jul  2 03:38 \u001b[01;34mfor_kiesha\u001b[0m/\r\n",
      "drwxrwsr-x 4 root        team12      4.0K Jul  2 03:59 \u001b[01;34m.\u001b[0m/\r\n",
      "-rw-rw-r-- 1 team12user7 team12      439K Jul  2 03:59 meanNmax.csv\r\n"
     ]
    }
   ],
   "source": [
    "ls -lahrt /Data/common/"
   ]
  },
  {
   "cell_type": "code",
   "execution_count": 428,
   "metadata": {
    "collapsed": true
   },
   "outputs": [],
   "source": [
    "compare = big_with_morty.loc[big_with_morty.icustay_id.isin(vent_data.icustay_id),\n",
    "                   ['ethnicity', 'gender', 'height','icustay_id']].merge(vent_data[['ethnicity', 'gender', 'height','icustay_id']], on='icustay_id')"
   ]
  },
  {
   "cell_type": "code",
   "execution_count": 451,
   "metadata": {
    "collapsed": true
   },
   "outputs": [],
   "source": [
    "t1 = compare.ix[:,:3]\n",
    "t2 = compare.ix[:,4:8]\n",
    "t2.columns = t1.columns"
   ]
  },
  {
   "cell_type": "code",
   "execution_count": 500,
   "metadata": {
    "collapsed": true
   },
   "outputs": [],
   "source": [
    "temp = pd.read_csv('/Data/common/for_kiesha/data_for_survival_temp.csv')"
   ]
  },
  {
   "cell_type": "code",
   "execution_count": 503,
   "metadata": {},
   "outputs": [
    {
     "data": {
      "text/plain": [
       "Index(['Unnamed: 0', 'subject_id', 'icustay_id', 'age', 'hadm_id.x',\n",
       "       'admission_type', 'admittime', 'dischtime', 'first_hosp_stay',\n",
       "       'first_icu_stay', 'hospital_expire_flag', 'hospstay_seq', 'icustay_seq',\n",
       "       'intime.x', 'los_hospital', 'los_icu', 'outtime', 'apsiii',\n",
       "       'apsiii_prob', 'oasis', 'oasis_prob', 'icu_mort', 'h_mort', 'one_mort',\n",
       "       'thr_mort', 'six_mort', 'tv_set', 'gender', 'ethnicity', 'height',\n",
       "       'pbw', 'tv_pbw', 'tv_pbw_observed', 'tv_cat', 'intime.y', 'deathtime',\n",
       "       'time_till_death', 'icutime', 'morttime', 'tmins', 'tdays', 'hadm_id.y',\n",
       "       'congestive_heart_failure', 'cardiac_arrhythmias', 'valvular_disease',\n",
       "       'pulmonary_circulation', 'peripheral_vascular', 'hypertension',\n",
       "       'paralysis', 'other_neurological', 'chronic_pulmonary',\n",
       "       'diabetes_uncomplicated', 'diabetes_complicated', 'hypothyroidism',\n",
       "       'renal_failure', 'liver_disease', 'peptic_ulcer', 'aids', 'lymphoma',\n",
       "       'metastatic_cancer', 'solid_tumor', 'rheumatoid_arthritis',\n",
       "       'coagulopathy', 'obesity', 'weight_loss', 'fluid_electrolyte',\n",
       "       'blood_loss_anemia', 'deficiency_anemias', 'alcohol_abuse',\n",
       "       'drug_abuse', 'psychoses', 'depression'],\n",
       "      dtype='object')"
      ]
     },
     "execution_count": 503,
     "metadata": {},
     "output_type": "execute_result"
    }
   ],
   "source": [
    "temp.columns"
   ]
  },
  {
   "cell_type": "code",
   "execution_count": 452,
   "metadata": {
    "scrolled": true
   },
   "outputs": [
    {
     "data": {
      "text/html": [
       "<div>\n",
       "<style>\n",
       "    .dataframe thead tr:only-child th {\n",
       "        text-align: right;\n",
       "    }\n",
       "\n",
       "    .dataframe thead th {\n",
       "        text-align: left;\n",
       "    }\n",
       "\n",
       "    .dataframe tbody tr th {\n",
       "        vertical-align: top;\n",
       "    }\n",
       "</style>\n",
       "<table border=\"1\" class=\"dataframe\">\n",
       "  <thead>\n",
       "    <tr style=\"text-align: right;\">\n",
       "      <th></th>\n",
       "      <th>ethnicity_x</th>\n",
       "      <th>gender_x</th>\n",
       "      <th>height_x</th>\n",
       "    </tr>\n",
       "  </thead>\n",
       "  <tbody>\n",
       "    <tr>\n",
       "      <th>0</th>\n",
       "      <td>WHITE</td>\n",
       "      <td>M</td>\n",
       "      <td>172.72</td>\n",
       "    </tr>\n",
       "    <tr>\n",
       "      <th>1</th>\n",
       "      <td>WHITE</td>\n",
       "      <td>F</td>\n",
       "      <td>157.00</td>\n",
       "    </tr>\n",
       "    <tr>\n",
       "      <th>2</th>\n",
       "      <td>WHITE</td>\n",
       "      <td>M</td>\n",
       "      <td>180.00</td>\n",
       "    </tr>\n",
       "    <tr>\n",
       "      <th>3</th>\n",
       "      <td>WHITE</td>\n",
       "      <td>M</td>\n",
       "      <td>183.00</td>\n",
       "    </tr>\n",
       "    <tr>\n",
       "      <th>4</th>\n",
       "      <td>WHITE</td>\n",
       "      <td>M</td>\n",
       "      <td>182.88</td>\n",
       "    </tr>\n",
       "  </tbody>\n",
       "</table>\n",
       "</div>"
      ],
      "text/plain": [
       "  ethnicity_x gender_x  height_x\n",
       "0       WHITE        M    172.72\n",
       "1       WHITE        F    157.00\n",
       "2       WHITE        M    180.00\n",
       "3       WHITE        M    183.00\n",
       "4       WHITE        M    182.88"
      ]
     },
     "execution_count": 452,
     "metadata": {},
     "output_type": "execute_result"
    }
   ],
   "source": [
    "t1.head()"
   ]
  },
  {
   "cell_type": "code",
   "execution_count": 453,
   "metadata": {},
   "outputs": [
    {
     "data": {
      "text/html": [
       "<div>\n",
       "<style>\n",
       "    .dataframe thead tr:only-child th {\n",
       "        text-align: right;\n",
       "    }\n",
       "\n",
       "    .dataframe thead th {\n",
       "        text-align: left;\n",
       "    }\n",
       "\n",
       "    .dataframe tbody tr th {\n",
       "        vertical-align: top;\n",
       "    }\n",
       "</style>\n",
       "<table border=\"1\" class=\"dataframe\">\n",
       "  <thead>\n",
       "    <tr style=\"text-align: right;\">\n",
       "      <th></th>\n",
       "      <th>ethnicity_x</th>\n",
       "      <th>gender_x</th>\n",
       "      <th>height_x</th>\n",
       "    </tr>\n",
       "  </thead>\n",
       "  <tbody>\n",
       "    <tr>\n",
       "      <th>0</th>\n",
       "      <td>WHITE</td>\n",
       "      <td>M</td>\n",
       "      <td>172.72</td>\n",
       "    </tr>\n",
       "    <tr>\n",
       "      <th>1</th>\n",
       "      <td>WHITE</td>\n",
       "      <td>F</td>\n",
       "      <td>157.00</td>\n",
       "    </tr>\n",
       "    <tr>\n",
       "      <th>2</th>\n",
       "      <td>WHITE</td>\n",
       "      <td>M</td>\n",
       "      <td>180.00</td>\n",
       "    </tr>\n",
       "    <tr>\n",
       "      <th>3</th>\n",
       "      <td>WHITE</td>\n",
       "      <td>M</td>\n",
       "      <td>183.00</td>\n",
       "    </tr>\n",
       "    <tr>\n",
       "      <th>4</th>\n",
       "      <td>WHITE</td>\n",
       "      <td>M</td>\n",
       "      <td>182.88</td>\n",
       "    </tr>\n",
       "  </tbody>\n",
       "</table>\n",
       "</div>"
      ],
      "text/plain": [
       "  ethnicity_x gender_x  height_x\n",
       "0       WHITE        M    172.72\n",
       "1       WHITE        F    157.00\n",
       "2       WHITE        M    180.00\n",
       "3       WHITE        M    183.00\n",
       "4       WHITE        M    182.88"
      ]
     },
     "execution_count": 453,
     "metadata": {},
     "output_type": "execute_result"
    }
   ],
   "source": [
    "t2.head()"
   ]
  },
  {
   "cell_type": "code",
   "execution_count": 455,
   "metadata": {
    "scrolled": true
   },
   "outputs": [
    {
     "data": {
      "text/html": [
       "<div>\n",
       "<style>\n",
       "    .dataframe thead tr:only-child th {\n",
       "        text-align: right;\n",
       "    }\n",
       "\n",
       "    .dataframe thead th {\n",
       "        text-align: left;\n",
       "    }\n",
       "\n",
       "    .dataframe tbody tr th {\n",
       "        vertical-align: top;\n",
       "    }\n",
       "</style>\n",
       "<table border=\"1\" class=\"dataframe\">\n",
       "  <thead>\n",
       "    <tr style=\"text-align: right;\">\n",
       "      <th></th>\n",
       "      <th>ethnicity_x</th>\n",
       "      <th>gender_x</th>\n",
       "      <th>height_x</th>\n",
       "    </tr>\n",
       "  </thead>\n",
       "  <tbody>\n",
       "  </tbody>\n",
       "</table>\n",
       "</div>"
      ],
      "text/plain": [
       "Empty DataFrame\n",
       "Columns: [ethnicity_x, gender_x, height_x]\n",
       "Index: []"
      ]
     },
     "execution_count": 455,
     "metadata": {},
     "output_type": "execute_result"
    }
   ],
   "source": [
    "t1[(t1 != t2).any(1)]"
   ]
  },
  {
   "cell_type": "code",
   "execution_count": 435,
   "metadata": {},
   "outputs": [
    {
     "data": {
      "text/plain": [
       "False"
      ]
     },
     "execution_count": 435,
     "metadata": {},
     "output_type": "execute_result"
    }
   ],
   "source": [
    "compare.ix[:,:2].equals(compare.ix[:,2:4])"
   ]
  },
  {
   "cell_type": "code",
   "execution_count": 409,
   "metadata": {
    "scrolled": false
   },
   "outputs": [
    {
     "data": {
      "text/plain": [
       "{'ethnicity', 'gender', 'height', 'icustay_id'}"
      ]
     },
     "execution_count": 409,
     "metadata": {},
     "output_type": "execute_result"
    }
   ],
   "source": [
    "set(big_with_morty.columns).intersection(set(vent_data.columns))"
   ]
  },
  {
   "cell_type": "code",
   "execution_count": 496,
   "metadata": {
    "collapsed": true
   },
   "outputs": [],
   "source": [
    "oxy = pd.read_csv('/Data/common/oxyparam.csv', sep=',')"
   ]
  },
  {
   "cell_type": "code",
   "execution_count": 497,
   "metadata": {
    "scrolled": true
   },
   "outputs": [
    {
     "data": {
      "text/html": [
       "<div>\n",
       "<style>\n",
       "    .dataframe thead tr:only-child th {\n",
       "        text-align: right;\n",
       "    }\n",
       "\n",
       "    .dataframe thead th {\n",
       "        text-align: left;\n",
       "    }\n",
       "\n",
       "    .dataframe tbody tr th {\n",
       "        vertical-align: top;\n",
       "    }\n",
       "</style>\n",
       "<table border=\"1\" class=\"dataframe\">\n",
       "  <thead>\n",
       "    <tr style=\"text-align: right;\">\n",
       "      <th></th>\n",
       "      <th>icustay_id</th>\n",
       "      <th>charttime</th>\n",
       "      <th>fio2</th>\n",
       "      <th>o2flow</th>\n",
       "      <th>lactate</th>\n",
       "      <th>tidalvolume</th>\n",
       "      <th>ventilationrate</th>\n",
       "      <th>ventilator</th>\n",
       "      <th>intubated</th>\n",
       "    </tr>\n",
       "  </thead>\n",
       "  <tbody>\n",
       "    <tr>\n",
       "      <th>0</th>\n",
       "      <td>200001</td>\n",
       "      <td>2181-11-25 19:27:00</td>\n",
       "      <td>NaN</td>\n",
       "      <td>NaN</td>\n",
       "      <td>1.4</td>\n",
       "      <td>NaN</td>\n",
       "      <td>NaN</td>\n",
       "      <td>NaN</td>\n",
       "      <td>NaN</td>\n",
       "    </tr>\n",
       "    <tr>\n",
       "      <th>1</th>\n",
       "      <td>200001</td>\n",
       "      <td>2181-11-26 11:07:00</td>\n",
       "      <td>NaN</td>\n",
       "      <td>NaN</td>\n",
       "      <td>NaN</td>\n",
       "      <td>NaN</td>\n",
       "      <td>NaN</td>\n",
       "      <td>NaN</td>\n",
       "      <td>NaN</td>\n",
       "    </tr>\n",
       "    <tr>\n",
       "      <th>2</th>\n",
       "      <td>200001</td>\n",
       "      <td>2181-11-26 17:44:00</td>\n",
       "      <td>NaN</td>\n",
       "      <td>NaN</td>\n",
       "      <td>NaN</td>\n",
       "      <td>NaN</td>\n",
       "      <td>NaN</td>\n",
       "      <td>NaN</td>\n",
       "      <td>NaN</td>\n",
       "    </tr>\n",
       "    <tr>\n",
       "      <th>3</th>\n",
       "      <td>200001</td>\n",
       "      <td>2181-11-26 18:56:00</td>\n",
       "      <td>NaN</td>\n",
       "      <td>NaN</td>\n",
       "      <td>NaN</td>\n",
       "      <td>NaN</td>\n",
       "      <td>NaN</td>\n",
       "      <td>NaN</td>\n",
       "      <td>NaN</td>\n",
       "    </tr>\n",
       "    <tr>\n",
       "      <th>4</th>\n",
       "      <td>200001</td>\n",
       "      <td>2181-11-27 01:26:00</td>\n",
       "      <td>NaN</td>\n",
       "      <td>NaN</td>\n",
       "      <td>NaN</td>\n",
       "      <td>NaN</td>\n",
       "      <td>NaN</td>\n",
       "      <td>NaN</td>\n",
       "      <td>NaN</td>\n",
       "    </tr>\n",
       "  </tbody>\n",
       "</table>\n",
       "</div>"
      ],
      "text/plain": [
       "   icustay_id            charttime  fio2  o2flow  lactate  tidalvolume  \\\n",
       "0      200001  2181-11-25 19:27:00   NaN     NaN      1.4          NaN   \n",
       "1      200001  2181-11-26 11:07:00   NaN     NaN      NaN          NaN   \n",
       "2      200001  2181-11-26 17:44:00   NaN     NaN      NaN          NaN   \n",
       "3      200001  2181-11-26 18:56:00   NaN     NaN      NaN          NaN   \n",
       "4      200001  2181-11-27 01:26:00   NaN     NaN      NaN          NaN   \n",
       "\n",
       "   ventilationrate  ventilator  intubated  \n",
       "0              NaN         NaN        NaN  \n",
       "1              NaN         NaN        NaN  \n",
       "2              NaN         NaN        NaN  \n",
       "3              NaN         NaN        NaN  \n",
       "4              NaN         NaN        NaN  "
      ]
     },
     "execution_count": 497,
     "metadata": {},
     "output_type": "execute_result"
    }
   ],
   "source": [
    "oxy.head()"
   ]
  },
  {
   "cell_type": "code",
   "execution_count": 507,
   "metadata": {},
   "outputs": [],
   "source": [
    "oxy_fil = oxy.ix[oxy.icustay_id.isin(demo.icustay_id.values.tolist()),:]"
   ]
  },
  {
   "cell_type": "code",
   "execution_count": 519,
   "metadata": {
    "scrolled": true
   },
   "outputs": [],
   "source": [
    "keep = oxy_fil.ix[:, 2:].dropna(how='all')\n",
    "\n",
    "oxyCleaned  = oxy_fil[oxy_fil.index.isin(keep.index)]\n",
    "\n",
    "oxyCleaned  = oxy_fil[oxy_fil.index.isin(keep.index)]"
   ]
  },
  {
   "cell_type": "code",
   "execution_count": 522,
   "metadata": {
    "collapsed": true
   },
   "outputs": [],
   "source": [
    "pf = pd.read_csv('/Data/common/for_kiesha/PF.csv')"
   ]
  },
  {
   "cell_type": "code",
   "execution_count": 534,
   "metadata": {},
   "outputs": [
    {
     "data": {
      "text/html": [
       "<div>\n",
       "<style>\n",
       "    .dataframe thead tr:only-child th {\n",
       "        text-align: right;\n",
       "    }\n",
       "\n",
       "    .dataframe thead th {\n",
       "        text-align: left;\n",
       "    }\n",
       "\n",
       "    .dataframe tbody tr th {\n",
       "        vertical-align: top;\n",
       "    }\n",
       "</style>\n",
       "<table border=\"1\" class=\"dataframe\">\n",
       "  <thead>\n",
       "    <tr style=\"text-align: right;\">\n",
       "      <th></th>\n",
       "      <th>Unnamed: 0</th>\n",
       "      <th>icustay_id</th>\n",
       "      <th>charttime</th>\n",
       "      <th>specimen_pred</th>\n",
       "      <th>pao2fio2</th>\n",
       "      <th>peep</th>\n",
       "    </tr>\n",
       "  </thead>\n",
       "  <tbody>\n",
       "    <tr>\n",
       "      <th>0</th>\n",
       "      <td>1</td>\n",
       "      <td>200001</td>\n",
       "      <td>2181-11-25 19:27:00</td>\n",
       "      <td>ART</td>\n",
       "      <td>NaN</td>\n",
       "      <td>NaN</td>\n",
       "    </tr>\n",
       "    <tr>\n",
       "      <th>1</th>\n",
       "      <td>2</td>\n",
       "      <td>200001</td>\n",
       "      <td>2181-11-26 11:07:00</td>\n",
       "      <td>ART</td>\n",
       "      <td>NaN</td>\n",
       "      <td>NaN</td>\n",
       "    </tr>\n",
       "    <tr>\n",
       "      <th>2</th>\n",
       "      <td>3</td>\n",
       "      <td>200001</td>\n",
       "      <td>2181-11-26 17:44:00</td>\n",
       "      <td>ART</td>\n",
       "      <td>NaN</td>\n",
       "      <td>NaN</td>\n",
       "    </tr>\n",
       "    <tr>\n",
       "      <th>3</th>\n",
       "      <td>4</td>\n",
       "      <td>200001</td>\n",
       "      <td>2181-11-26 18:56:00</td>\n",
       "      <td>ART</td>\n",
       "      <td>NaN</td>\n",
       "      <td>NaN</td>\n",
       "    </tr>\n",
       "    <tr>\n",
       "      <th>4</th>\n",
       "      <td>5</td>\n",
       "      <td>200001</td>\n",
       "      <td>2181-11-27 01:26:00</td>\n",
       "      <td>ART</td>\n",
       "      <td>NaN</td>\n",
       "      <td>NaN</td>\n",
       "    </tr>\n",
       "  </tbody>\n",
       "</table>\n",
       "</div>"
      ],
      "text/plain": [
       "   Unnamed: 0  icustay_id            charttime specimen_pred  pao2fio2  peep\n",
       "0           1      200001  2181-11-25 19:27:00           ART       NaN   NaN\n",
       "1           2      200001  2181-11-26 11:07:00           ART       NaN   NaN\n",
       "2           3      200001  2181-11-26 17:44:00           ART       NaN   NaN\n",
       "3           4      200001  2181-11-26 18:56:00           ART       NaN   NaN\n",
       "4           5      200001  2181-11-27 01:26:00           ART       NaN   NaN"
      ]
     },
     "execution_count": 534,
     "metadata": {},
     "output_type": "execute_result"
    }
   ],
   "source": [
    "pf.head()"
   ]
  },
  {
   "cell_type": "code",
   "execution_count": 538,
   "metadata": {
    "scrolled": true
   },
   "outputs": [],
   "source": [
    "pfList = [mean_pf.ix[:,1:] , max_pf.ix[:,1:], sd_pf.ix[:,1:]]"
   ]
  },
  {
   "cell_type": "code",
   "execution_count": 539,
   "metadata": {
    "collapsed": true
   },
   "outputs": [],
   "source": [
    "pDf = reduce(lambda left,right: pd.merge(left,right,left_index=True, right_index=True, how='left'), pfList)"
   ]
  },
  {
   "cell_type": "code",
   "execution_count": 544,
   "metadata": {},
   "outputs": [],
   "source": [
    "pFinal = pDf.ix[final_final_table.icustay_id.values.tolist(),:]"
   ]
  },
  {
   "cell_type": "code",
   "execution_count": 546,
   "metadata": {},
   "outputs": [],
   "source": [
    "pFinal.columns = ['pao2fio2_mean','peep_mean','pao2fio2_max','peep_max','pao2fio2_sd', 'peep_sd']"
   ]
  },
  {
   "cell_type": "code",
   "execution_count": 548,
   "metadata": {
    "scrolled": true
   },
   "outputs": [],
   "source": [
    "pFinal.reset_index().to_csv('/Data/common/for_kiesha/PF.final.cleaned.csv', index=False)"
   ]
  },
  {
   "cell_type": "code",
   "execution_count": 528,
   "metadata": {},
   "outputs": [],
   "source": [
    "max_pf = pf.groupby('icustay_id').max()"
   ]
  },
  {
   "cell_type": "code",
   "execution_count": 530,
   "metadata": {
    "collapsed": true
   },
   "outputs": [],
   "source": [
    "sd_pf = pf.groupby('icustay_id').std()"
   ]
  },
  {
   "cell_type": "code",
   "execution_count": 535,
   "metadata": {
    "scrolled": true
   },
   "outputs": [],
   "source": [
    "mean_pf = pf.groupby('icustay_id').mean()"
   ]
  },
  {
   "cell_type": "code",
   "execution_count": null,
   "metadata": {
    "collapsed": true
   },
   "outputs": [],
   "source": [
    "df.apply(lambda x:)"
   ]
  },
  {
   "cell_type": "code",
   "execution_count": 551,
   "metadata": {},
   "outputs": [
    {
     "data": {
      "text/plain": [
       "array([ nan])"
      ]
     },
     "execution_count": 551,
     "metadata": {},
     "output_type": "execute_result"
    }
   ],
   "source": [
    "oxy_fil.ventilationrate.unique()"
   ]
  },
  {
   "cell_type": "code",
   "execution_count": 521,
   "metadata": {
    "scrolled": true
   },
   "outputs": [
    {
     "data": {
      "text/html": [
       "<div>\n",
       "<style>\n",
       "    .dataframe thead tr:only-child th {\n",
       "        text-align: right;\n",
       "    }\n",
       "\n",
       "    .dataframe thead th {\n",
       "        text-align: left;\n",
       "    }\n",
       "\n",
       "    .dataframe tbody tr th {\n",
       "        vertical-align: top;\n",
       "    }\n",
       "</style>\n",
       "<table border=\"1\" class=\"dataframe\">\n",
       "  <thead>\n",
       "    <tr style=\"text-align: right;\">\n",
       "      <th></th>\n",
       "      <th>fio2</th>\n",
       "      <th>o2flow</th>\n",
       "      <th>lactate</th>\n",
       "      <th>tidalvolume</th>\n",
       "      <th>ventilationrate</th>\n",
       "      <th>ventilator</th>\n",
       "      <th>intubated</th>\n",
       "    </tr>\n",
       "    <tr>\n",
       "      <th>icustay_id</th>\n",
       "      <th></th>\n",
       "      <th></th>\n",
       "      <th></th>\n",
       "      <th></th>\n",
       "      <th></th>\n",
       "      <th></th>\n",
       "      <th></th>\n",
       "    </tr>\n",
       "  </thead>\n",
       "  <tbody>\n",
       "    <tr>\n",
       "      <th>200003</th>\n",
       "      <td>NaN</td>\n",
       "      <td>NaN</td>\n",
       "      <td>2.600000</td>\n",
       "      <td>NaN</td>\n",
       "      <td>NaN</td>\n",
       "      <td>NaN</td>\n",
       "      <td>NaN</td>\n",
       "    </tr>\n",
       "    <tr>\n",
       "      <th>200009</th>\n",
       "      <td>NaN</td>\n",
       "      <td>NaN</td>\n",
       "      <td>2.000000</td>\n",
       "      <td>NaN</td>\n",
       "      <td>NaN</td>\n",
       "      <td>NaN</td>\n",
       "      <td>NaN</td>\n",
       "    </tr>\n",
       "    <tr>\n",
       "      <th>200014</th>\n",
       "      <td>36.000000</td>\n",
       "      <td>NaN</td>\n",
       "      <td>0.950000</td>\n",
       "      <td>646.666667</td>\n",
       "      <td>NaN</td>\n",
       "      <td>NaN</td>\n",
       "      <td>NaN</td>\n",
       "    </tr>\n",
       "    <tr>\n",
       "      <th>200028</th>\n",
       "      <td>50.000000</td>\n",
       "      <td>NaN</td>\n",
       "      <td>1.200000</td>\n",
       "      <td>NaN</td>\n",
       "      <td>NaN</td>\n",
       "      <td>NaN</td>\n",
       "      <td>NaN</td>\n",
       "    </tr>\n",
       "    <tr>\n",
       "      <th>200029</th>\n",
       "      <td>100.000000</td>\n",
       "      <td>NaN</td>\n",
       "      <td>12.300000</td>\n",
       "      <td>NaN</td>\n",
       "      <td>NaN</td>\n",
       "      <td>NaN</td>\n",
       "      <td>NaN</td>\n",
       "    </tr>\n",
       "    <tr>\n",
       "      <th>200034</th>\n",
       "      <td>NaN</td>\n",
       "      <td>NaN</td>\n",
       "      <td>3.566667</td>\n",
       "      <td>NaN</td>\n",
       "      <td>NaN</td>\n",
       "      <td>NaN</td>\n",
       "      <td>NaN</td>\n",
       "    </tr>\n",
       "    <tr>\n",
       "      <th>200045</th>\n",
       "      <td>44.000000</td>\n",
       "      <td>NaN</td>\n",
       "      <td>2.480000</td>\n",
       "      <td>428.000000</td>\n",
       "      <td>NaN</td>\n",
       "      <td>NaN</td>\n",
       "      <td>NaN</td>\n",
       "    </tr>\n",
       "    <tr>\n",
       "      <th>200053</th>\n",
       "      <td>50.000000</td>\n",
       "      <td>NaN</td>\n",
       "      <td>1.300000</td>\n",
       "      <td>455.000000</td>\n",
       "      <td>NaN</td>\n",
       "      <td>NaN</td>\n",
       "      <td>NaN</td>\n",
       "    </tr>\n",
       "    <tr>\n",
       "      <th>200062</th>\n",
       "      <td>NaN</td>\n",
       "      <td>NaN</td>\n",
       "      <td>2.000000</td>\n",
       "      <td>NaN</td>\n",
       "      <td>NaN</td>\n",
       "      <td>NaN</td>\n",
       "      <td>NaN</td>\n",
       "    </tr>\n",
       "    <tr>\n",
       "      <th>200065</th>\n",
       "      <td>54.500000</td>\n",
       "      <td>40.000000</td>\n",
       "      <td>8.208333</td>\n",
       "      <td>530.321429</td>\n",
       "      <td>NaN</td>\n",
       "      <td>NaN</td>\n",
       "      <td>NaN</td>\n",
       "    </tr>\n",
       "    <tr>\n",
       "      <th>200075</th>\n",
       "      <td>NaN</td>\n",
       "      <td>NaN</td>\n",
       "      <td>1.400000</td>\n",
       "      <td>NaN</td>\n",
       "      <td>NaN</td>\n",
       "      <td>NaN</td>\n",
       "      <td>NaN</td>\n",
       "    </tr>\n",
       "    <tr>\n",
       "      <th>200077</th>\n",
       "      <td>46.857143</td>\n",
       "      <td>12.666667</td>\n",
       "      <td>1.714286</td>\n",
       "      <td>684.347826</td>\n",
       "      <td>NaN</td>\n",
       "      <td>NaN</td>\n",
       "      <td>NaN</td>\n",
       "    </tr>\n",
       "    <tr>\n",
       "      <th>200078</th>\n",
       "      <td>50.000000</td>\n",
       "      <td>NaN</td>\n",
       "      <td>2.000000</td>\n",
       "      <td>600.000000</td>\n",
       "      <td>NaN</td>\n",
       "      <td>NaN</td>\n",
       "      <td>NaN</td>\n",
       "    </tr>\n",
       "    <tr>\n",
       "      <th>200091</th>\n",
       "      <td>57.500000</td>\n",
       "      <td>NaN</td>\n",
       "      <td>2.300000</td>\n",
       "      <td>485.000000</td>\n",
       "      <td>NaN</td>\n",
       "      <td>NaN</td>\n",
       "      <td>NaN</td>\n",
       "    </tr>\n",
       "    <tr>\n",
       "      <th>200095</th>\n",
       "      <td>40.000000</td>\n",
       "      <td>NaN</td>\n",
       "      <td>3.188889</td>\n",
       "      <td>350.000000</td>\n",
       "      <td>NaN</td>\n",
       "      <td>NaN</td>\n",
       "      <td>NaN</td>\n",
       "    </tr>\n",
       "    <tr>\n",
       "      <th>200102</th>\n",
       "      <td>60.000000</td>\n",
       "      <td>NaN</td>\n",
       "      <td>2.333333</td>\n",
       "      <td>NaN</td>\n",
       "      <td>NaN</td>\n",
       "      <td>NaN</td>\n",
       "      <td>NaN</td>\n",
       "    </tr>\n",
       "    <tr>\n",
       "      <th>200105</th>\n",
       "      <td>NaN</td>\n",
       "      <td>NaN</td>\n",
       "      <td>3.350000</td>\n",
       "      <td>NaN</td>\n",
       "      <td>NaN</td>\n",
       "      <td>NaN</td>\n",
       "      <td>NaN</td>\n",
       "    </tr>\n",
       "    <tr>\n",
       "      <th>200109</th>\n",
       "      <td>51.666667</td>\n",
       "      <td>NaN</td>\n",
       "      <td>1.000000</td>\n",
       "      <td>541.250000</td>\n",
       "      <td>NaN</td>\n",
       "      <td>NaN</td>\n",
       "      <td>NaN</td>\n",
       "    </tr>\n",
       "    <tr>\n",
       "      <th>200119</th>\n",
       "      <td>76.000000</td>\n",
       "      <td>NaN</td>\n",
       "      <td>2.250000</td>\n",
       "      <td>700.000000</td>\n",
       "      <td>NaN</td>\n",
       "      <td>NaN</td>\n",
       "      <td>NaN</td>\n",
       "    </tr>\n",
       "    <tr>\n",
       "      <th>200136</th>\n",
       "      <td>50.000000</td>\n",
       "      <td>NaN</td>\n",
       "      <td>NaN</td>\n",
       "      <td>425.000000</td>\n",
       "      <td>NaN</td>\n",
       "      <td>NaN</td>\n",
       "      <td>NaN</td>\n",
       "    </tr>\n",
       "    <tr>\n",
       "      <th>200140</th>\n",
       "      <td>66.500000</td>\n",
       "      <td>0.600000</td>\n",
       "      <td>2.075000</td>\n",
       "      <td>550.000000</td>\n",
       "      <td>NaN</td>\n",
       "      <td>NaN</td>\n",
       "      <td>NaN</td>\n",
       "    </tr>\n",
       "    <tr>\n",
       "      <th>200141</th>\n",
       "      <td>NaN</td>\n",
       "      <td>NaN</td>\n",
       "      <td>3.600000</td>\n",
       "      <td>NaN</td>\n",
       "      <td>NaN</td>\n",
       "      <td>NaN</td>\n",
       "      <td>NaN</td>\n",
       "    </tr>\n",
       "    <tr>\n",
       "      <th>200159</th>\n",
       "      <td>NaN</td>\n",
       "      <td>NaN</td>\n",
       "      <td>1.200000</td>\n",
       "      <td>NaN</td>\n",
       "      <td>NaN</td>\n",
       "      <td>NaN</td>\n",
       "      <td>NaN</td>\n",
       "    </tr>\n",
       "    <tr>\n",
       "      <th>200165</th>\n",
       "      <td>71.428571</td>\n",
       "      <td>NaN</td>\n",
       "      <td>1.400000</td>\n",
       "      <td>642.500000</td>\n",
       "      <td>NaN</td>\n",
       "      <td>NaN</td>\n",
       "      <td>NaN</td>\n",
       "    </tr>\n",
       "    <tr>\n",
       "      <th>200166</th>\n",
       "      <td>55.000000</td>\n",
       "      <td>NaN</td>\n",
       "      <td>1.433333</td>\n",
       "      <td>NaN</td>\n",
       "      <td>NaN</td>\n",
       "      <td>NaN</td>\n",
       "      <td>NaN</td>\n",
       "    </tr>\n",
       "    <tr>\n",
       "      <th>200185</th>\n",
       "      <td>NaN</td>\n",
       "      <td>NaN</td>\n",
       "      <td>3.133333</td>\n",
       "      <td>NaN</td>\n",
       "      <td>NaN</td>\n",
       "      <td>NaN</td>\n",
       "      <td>NaN</td>\n",
       "    </tr>\n",
       "    <tr>\n",
       "      <th>200191</th>\n",
       "      <td>61.428571</td>\n",
       "      <td>1.475000</td>\n",
       "      <td>2.260000</td>\n",
       "      <td>604.285714</td>\n",
       "      <td>NaN</td>\n",
       "      <td>NaN</td>\n",
       "      <td>NaN</td>\n",
       "    </tr>\n",
       "    <tr>\n",
       "      <th>200203</th>\n",
       "      <td>100.000000</td>\n",
       "      <td>NaN</td>\n",
       "      <td>NaN</td>\n",
       "      <td>500.000000</td>\n",
       "      <td>NaN</td>\n",
       "      <td>NaN</td>\n",
       "      <td>NaN</td>\n",
       "    </tr>\n",
       "    <tr>\n",
       "      <th>200206</th>\n",
       "      <td>45.000000</td>\n",
       "      <td>4.000000</td>\n",
       "      <td>3.380000</td>\n",
       "      <td>616.666667</td>\n",
       "      <td>NaN</td>\n",
       "      <td>NaN</td>\n",
       "      <td>NaN</td>\n",
       "    </tr>\n",
       "    <tr>\n",
       "      <th>200220</th>\n",
       "      <td>38.958333</td>\n",
       "      <td>40.000000</td>\n",
       "      <td>3.566667</td>\n",
       "      <td>503.095238</td>\n",
       "      <td>NaN</td>\n",
       "      <td>NaN</td>\n",
       "      <td>NaN</td>\n",
       "    </tr>\n",
       "    <tr>\n",
       "      <th>...</th>\n",
       "      <td>...</td>\n",
       "      <td>...</td>\n",
       "      <td>...</td>\n",
       "      <td>...</td>\n",
       "      <td>...</td>\n",
       "      <td>...</td>\n",
       "      <td>...</td>\n",
       "    </tr>\n",
       "    <tr>\n",
       "      <th>299792</th>\n",
       "      <td>NaN</td>\n",
       "      <td>NaN</td>\n",
       "      <td>2.700000</td>\n",
       "      <td>NaN</td>\n",
       "      <td>NaN</td>\n",
       "      <td>NaN</td>\n",
       "      <td>NaN</td>\n",
       "    </tr>\n",
       "    <tr>\n",
       "      <th>299797</th>\n",
       "      <td>50.000000</td>\n",
       "      <td>10.000000</td>\n",
       "      <td>NaN</td>\n",
       "      <td>650.000000</td>\n",
       "      <td>NaN</td>\n",
       "      <td>NaN</td>\n",
       "      <td>NaN</td>\n",
       "    </tr>\n",
       "    <tr>\n",
       "      <th>299802</th>\n",
       "      <td>40.000000</td>\n",
       "      <td>NaN</td>\n",
       "      <td>1.900000</td>\n",
       "      <td>300.000000</td>\n",
       "      <td>NaN</td>\n",
       "      <td>NaN</td>\n",
       "      <td>NaN</td>\n",
       "    </tr>\n",
       "    <tr>\n",
       "      <th>299803</th>\n",
       "      <td>NaN</td>\n",
       "      <td>NaN</td>\n",
       "      <td>1.300000</td>\n",
       "      <td>NaN</td>\n",
       "      <td>NaN</td>\n",
       "      <td>NaN</td>\n",
       "      <td>NaN</td>\n",
       "    </tr>\n",
       "    <tr>\n",
       "      <th>299818</th>\n",
       "      <td>NaN</td>\n",
       "      <td>NaN</td>\n",
       "      <td>1.700000</td>\n",
       "      <td>NaN</td>\n",
       "      <td>NaN</td>\n",
       "      <td>NaN</td>\n",
       "      <td>NaN</td>\n",
       "    </tr>\n",
       "    <tr>\n",
       "      <th>299820</th>\n",
       "      <td>42.000000</td>\n",
       "      <td>NaN</td>\n",
       "      <td>0.700000</td>\n",
       "      <td>517.125000</td>\n",
       "      <td>NaN</td>\n",
       "      <td>NaN</td>\n",
       "      <td>NaN</td>\n",
       "    </tr>\n",
       "    <tr>\n",
       "      <th>299826</th>\n",
       "      <td>60.000000</td>\n",
       "      <td>NaN</td>\n",
       "      <td>1.100000</td>\n",
       "      <td>NaN</td>\n",
       "      <td>NaN</td>\n",
       "      <td>NaN</td>\n",
       "      <td>NaN</td>\n",
       "    </tr>\n",
       "    <tr>\n",
       "      <th>299838</th>\n",
       "      <td>40.000000</td>\n",
       "      <td>NaN</td>\n",
       "      <td>0.700000</td>\n",
       "      <td>395.000000</td>\n",
       "      <td>NaN</td>\n",
       "      <td>NaN</td>\n",
       "      <td>NaN</td>\n",
       "    </tr>\n",
       "    <tr>\n",
       "      <th>299840</th>\n",
       "      <td>46.666667</td>\n",
       "      <td>NaN</td>\n",
       "      <td>1.899091</td>\n",
       "      <td>400.000000</td>\n",
       "      <td>NaN</td>\n",
       "      <td>NaN</td>\n",
       "      <td>NaN</td>\n",
       "    </tr>\n",
       "    <tr>\n",
       "      <th>299844</th>\n",
       "      <td>NaN</td>\n",
       "      <td>NaN</td>\n",
       "      <td>2.000000</td>\n",
       "      <td>NaN</td>\n",
       "      <td>NaN</td>\n",
       "      <td>NaN</td>\n",
       "      <td>NaN</td>\n",
       "    </tr>\n",
       "    <tr>\n",
       "      <th>299846</th>\n",
       "      <td>NaN</td>\n",
       "      <td>NaN</td>\n",
       "      <td>1.400000</td>\n",
       "      <td>NaN</td>\n",
       "      <td>NaN</td>\n",
       "      <td>NaN</td>\n",
       "      <td>NaN</td>\n",
       "    </tr>\n",
       "    <tr>\n",
       "      <th>299851</th>\n",
       "      <td>55.000000</td>\n",
       "      <td>4.000000</td>\n",
       "      <td>1.900000</td>\n",
       "      <td>600.000000</td>\n",
       "      <td>NaN</td>\n",
       "      <td>NaN</td>\n",
       "      <td>NaN</td>\n",
       "    </tr>\n",
       "    <tr>\n",
       "      <th>299852</th>\n",
       "      <td>59.848485</td>\n",
       "      <td>NaN</td>\n",
       "      <td>3.823077</td>\n",
       "      <td>493.333333</td>\n",
       "      <td>NaN</td>\n",
       "      <td>NaN</td>\n",
       "      <td>NaN</td>\n",
       "    </tr>\n",
       "    <tr>\n",
       "      <th>299853</th>\n",
       "      <td>NaN</td>\n",
       "      <td>NaN</td>\n",
       "      <td>2.614286</td>\n",
       "      <td>NaN</td>\n",
       "      <td>NaN</td>\n",
       "      <td>NaN</td>\n",
       "      <td>NaN</td>\n",
       "    </tr>\n",
       "    <tr>\n",
       "      <th>299855</th>\n",
       "      <td>NaN</td>\n",
       "      <td>NaN</td>\n",
       "      <td>1.642857</td>\n",
       "      <td>NaN</td>\n",
       "      <td>NaN</td>\n",
       "      <td>NaN</td>\n",
       "      <td>NaN</td>\n",
       "    </tr>\n",
       "    <tr>\n",
       "      <th>299879</th>\n",
       "      <td>50.000000</td>\n",
       "      <td>NaN</td>\n",
       "      <td>2.937500</td>\n",
       "      <td>500.000000</td>\n",
       "      <td>NaN</td>\n",
       "      <td>NaN</td>\n",
       "      <td>NaN</td>\n",
       "    </tr>\n",
       "    <tr>\n",
       "      <th>299900</th>\n",
       "      <td>61.250000</td>\n",
       "      <td>NaN</td>\n",
       "      <td>4.477778</td>\n",
       "      <td>595.000000</td>\n",
       "      <td>NaN</td>\n",
       "      <td>NaN</td>\n",
       "      <td>NaN</td>\n",
       "    </tr>\n",
       "    <tr>\n",
       "      <th>299912</th>\n",
       "      <td>55.000000</td>\n",
       "      <td>NaN</td>\n",
       "      <td>NaN</td>\n",
       "      <td>NaN</td>\n",
       "      <td>NaN</td>\n",
       "      <td>NaN</td>\n",
       "      <td>NaN</td>\n",
       "    </tr>\n",
       "    <tr>\n",
       "      <th>299921</th>\n",
       "      <td>NaN</td>\n",
       "      <td>NaN</td>\n",
       "      <td>1.850000</td>\n",
       "      <td>NaN</td>\n",
       "      <td>NaN</td>\n",
       "      <td>NaN</td>\n",
       "      <td>NaN</td>\n",
       "    </tr>\n",
       "    <tr>\n",
       "      <th>299925</th>\n",
       "      <td>51.190476</td>\n",
       "      <td>NaN</td>\n",
       "      <td>0.977778</td>\n",
       "      <td>466.800000</td>\n",
       "      <td>NaN</td>\n",
       "      <td>NaN</td>\n",
       "      <td>NaN</td>\n",
       "    </tr>\n",
       "    <tr>\n",
       "      <th>299948</th>\n",
       "      <td>NaN</td>\n",
       "      <td>NaN</td>\n",
       "      <td>1.700000</td>\n",
       "      <td>NaN</td>\n",
       "      <td>NaN</td>\n",
       "      <td>NaN</td>\n",
       "      <td>NaN</td>\n",
       "    </tr>\n",
       "    <tr>\n",
       "      <th>299949</th>\n",
       "      <td>NaN</td>\n",
       "      <td>NaN</td>\n",
       "      <td>3.925000</td>\n",
       "      <td>NaN</td>\n",
       "      <td>NaN</td>\n",
       "      <td>NaN</td>\n",
       "      <td>NaN</td>\n",
       "    </tr>\n",
       "    <tr>\n",
       "      <th>299956</th>\n",
       "      <td>45.000000</td>\n",
       "      <td>NaN</td>\n",
       "      <td>2.075000</td>\n",
       "      <td>492.307692</td>\n",
       "      <td>NaN</td>\n",
       "      <td>NaN</td>\n",
       "      <td>NaN</td>\n",
       "    </tr>\n",
       "    <tr>\n",
       "      <th>299957</th>\n",
       "      <td>NaN</td>\n",
       "      <td>NaN</td>\n",
       "      <td>1.200000</td>\n",
       "      <td>NaN</td>\n",
       "      <td>NaN</td>\n",
       "      <td>NaN</td>\n",
       "      <td>NaN</td>\n",
       "    </tr>\n",
       "    <tr>\n",
       "      <th>299961</th>\n",
       "      <td>65.000000</td>\n",
       "      <td>NaN</td>\n",
       "      <td>4.943750</td>\n",
       "      <td>570.000000</td>\n",
       "      <td>NaN</td>\n",
       "      <td>NaN</td>\n",
       "      <td>NaN</td>\n",
       "    </tr>\n",
       "    <tr>\n",
       "      <th>299969</th>\n",
       "      <td>NaN</td>\n",
       "      <td>NaN</td>\n",
       "      <td>3.500000</td>\n",
       "      <td>NaN</td>\n",
       "      <td>NaN</td>\n",
       "      <td>NaN</td>\n",
       "      <td>NaN</td>\n",
       "    </tr>\n",
       "    <tr>\n",
       "      <th>299972</th>\n",
       "      <td>NaN</td>\n",
       "      <td>NaN</td>\n",
       "      <td>0.950000</td>\n",
       "      <td>NaN</td>\n",
       "      <td>NaN</td>\n",
       "      <td>NaN</td>\n",
       "      <td>NaN</td>\n",
       "    </tr>\n",
       "    <tr>\n",
       "      <th>299984</th>\n",
       "      <td>43.333333</td>\n",
       "      <td>15.000000</td>\n",
       "      <td>1.800000</td>\n",
       "      <td>620.833333</td>\n",
       "      <td>NaN</td>\n",
       "      <td>NaN</td>\n",
       "      <td>NaN</td>\n",
       "    </tr>\n",
       "    <tr>\n",
       "      <th>299988</th>\n",
       "      <td>51.764706</td>\n",
       "      <td>NaN</td>\n",
       "      <td>1.710000</td>\n",
       "      <td>587.272727</td>\n",
       "      <td>NaN</td>\n",
       "      <td>NaN</td>\n",
       "      <td>NaN</td>\n",
       "    </tr>\n",
       "    <tr>\n",
       "      <th>299992</th>\n",
       "      <td>50.421053</td>\n",
       "      <td>NaN</td>\n",
       "      <td>3.040000</td>\n",
       "      <td>589.230769</td>\n",
       "      <td>NaN</td>\n",
       "      <td>NaN</td>\n",
       "      <td>NaN</td>\n",
       "    </tr>\n",
       "  </tbody>\n",
       "</table>\n",
       "<p>14338 rows × 7 columns</p>\n",
       "</div>"
      ],
      "text/plain": [
       "                  fio2     o2flow    lactate  tidalvolume  ventilationrate  \\\n",
       "icustay_id                                                                   \n",
       "200003             NaN        NaN   2.600000          NaN              NaN   \n",
       "200009             NaN        NaN   2.000000          NaN              NaN   \n",
       "200014       36.000000        NaN   0.950000   646.666667              NaN   \n",
       "200028       50.000000        NaN   1.200000          NaN              NaN   \n",
       "200029      100.000000        NaN  12.300000          NaN              NaN   \n",
       "200034             NaN        NaN   3.566667          NaN              NaN   \n",
       "200045       44.000000        NaN   2.480000   428.000000              NaN   \n",
       "200053       50.000000        NaN   1.300000   455.000000              NaN   \n",
       "200062             NaN        NaN   2.000000          NaN              NaN   \n",
       "200065       54.500000  40.000000   8.208333   530.321429              NaN   \n",
       "200075             NaN        NaN   1.400000          NaN              NaN   \n",
       "200077       46.857143  12.666667   1.714286   684.347826              NaN   \n",
       "200078       50.000000        NaN   2.000000   600.000000              NaN   \n",
       "200091       57.500000        NaN   2.300000   485.000000              NaN   \n",
       "200095       40.000000        NaN   3.188889   350.000000              NaN   \n",
       "200102       60.000000        NaN   2.333333          NaN              NaN   \n",
       "200105             NaN        NaN   3.350000          NaN              NaN   \n",
       "200109       51.666667        NaN   1.000000   541.250000              NaN   \n",
       "200119       76.000000        NaN   2.250000   700.000000              NaN   \n",
       "200136       50.000000        NaN        NaN   425.000000              NaN   \n",
       "200140       66.500000   0.600000   2.075000   550.000000              NaN   \n",
       "200141             NaN        NaN   3.600000          NaN              NaN   \n",
       "200159             NaN        NaN   1.200000          NaN              NaN   \n",
       "200165       71.428571        NaN   1.400000   642.500000              NaN   \n",
       "200166       55.000000        NaN   1.433333          NaN              NaN   \n",
       "200185             NaN        NaN   3.133333          NaN              NaN   \n",
       "200191       61.428571   1.475000   2.260000   604.285714              NaN   \n",
       "200203      100.000000        NaN        NaN   500.000000              NaN   \n",
       "200206       45.000000   4.000000   3.380000   616.666667              NaN   \n",
       "200220       38.958333  40.000000   3.566667   503.095238              NaN   \n",
       "...                ...        ...        ...          ...              ...   \n",
       "299792             NaN        NaN   2.700000          NaN              NaN   \n",
       "299797       50.000000  10.000000        NaN   650.000000              NaN   \n",
       "299802       40.000000        NaN   1.900000   300.000000              NaN   \n",
       "299803             NaN        NaN   1.300000          NaN              NaN   \n",
       "299818             NaN        NaN   1.700000          NaN              NaN   \n",
       "299820       42.000000        NaN   0.700000   517.125000              NaN   \n",
       "299826       60.000000        NaN   1.100000          NaN              NaN   \n",
       "299838       40.000000        NaN   0.700000   395.000000              NaN   \n",
       "299840       46.666667        NaN   1.899091   400.000000              NaN   \n",
       "299844             NaN        NaN   2.000000          NaN              NaN   \n",
       "299846             NaN        NaN   1.400000          NaN              NaN   \n",
       "299851       55.000000   4.000000   1.900000   600.000000              NaN   \n",
       "299852       59.848485        NaN   3.823077   493.333333              NaN   \n",
       "299853             NaN        NaN   2.614286          NaN              NaN   \n",
       "299855             NaN        NaN   1.642857          NaN              NaN   \n",
       "299879       50.000000        NaN   2.937500   500.000000              NaN   \n",
       "299900       61.250000        NaN   4.477778   595.000000              NaN   \n",
       "299912       55.000000        NaN        NaN          NaN              NaN   \n",
       "299921             NaN        NaN   1.850000          NaN              NaN   \n",
       "299925       51.190476        NaN   0.977778   466.800000              NaN   \n",
       "299948             NaN        NaN   1.700000          NaN              NaN   \n",
       "299949             NaN        NaN   3.925000          NaN              NaN   \n",
       "299956       45.000000        NaN   2.075000   492.307692              NaN   \n",
       "299957             NaN        NaN   1.200000          NaN              NaN   \n",
       "299961       65.000000        NaN   4.943750   570.000000              NaN   \n",
       "299969             NaN        NaN   3.500000          NaN              NaN   \n",
       "299972             NaN        NaN   0.950000          NaN              NaN   \n",
       "299984       43.333333  15.000000   1.800000   620.833333              NaN   \n",
       "299988       51.764706        NaN   1.710000   587.272727              NaN   \n",
       "299992       50.421053        NaN   3.040000   589.230769              NaN   \n",
       "\n",
       "            ventilator  intubated  \n",
       "icustay_id                         \n",
       "200003             NaN        NaN  \n",
       "200009             NaN        NaN  \n",
       "200014             NaN        NaN  \n",
       "200028             NaN        NaN  \n",
       "200029             NaN        NaN  \n",
       "200034             NaN        NaN  \n",
       "200045             NaN        NaN  \n",
       "200053             NaN        NaN  \n",
       "200062             NaN        NaN  \n",
       "200065             NaN        NaN  \n",
       "200075             NaN        NaN  \n",
       "200077             NaN        NaN  \n",
       "200078             NaN        NaN  \n",
       "200091             NaN        NaN  \n",
       "200095             NaN        NaN  \n",
       "200102             NaN        NaN  \n",
       "200105             NaN        NaN  \n",
       "200109             NaN        NaN  \n",
       "200119             NaN        NaN  \n",
       "200136             NaN        NaN  \n",
       "200140             NaN        NaN  \n",
       "200141             NaN        NaN  \n",
       "200159             NaN        NaN  \n",
       "200165             NaN        NaN  \n",
       "200166             NaN        NaN  \n",
       "200185             NaN        NaN  \n",
       "200191             NaN        NaN  \n",
       "200203             NaN        NaN  \n",
       "200206             NaN        NaN  \n",
       "200220             NaN        NaN  \n",
       "...                ...        ...  \n",
       "299792             NaN        NaN  \n",
       "299797             NaN        NaN  \n",
       "299802             NaN        NaN  \n",
       "299803             NaN        NaN  \n",
       "299818             NaN        NaN  \n",
       "299820             NaN        NaN  \n",
       "299826             NaN        NaN  \n",
       "299838             NaN        NaN  \n",
       "299840             NaN        NaN  \n",
       "299844             NaN        NaN  \n",
       "299846             NaN        NaN  \n",
       "299851             NaN        NaN  \n",
       "299852             NaN        NaN  \n",
       "299853             NaN        NaN  \n",
       "299855             NaN        NaN  \n",
       "299879             NaN        NaN  \n",
       "299900             NaN        NaN  \n",
       "299912             NaN        NaN  \n",
       "299921             NaN        NaN  \n",
       "299925             NaN        NaN  \n",
       "299948             NaN        NaN  \n",
       "299949             NaN        NaN  \n",
       "299956             NaN        NaN  \n",
       "299957             NaN        NaN  \n",
       "299961             NaN        NaN  \n",
       "299969             NaN        NaN  \n",
       "299972             NaN        NaN  \n",
       "299984             NaN        NaN  \n",
       "299988             NaN        NaN  \n",
       "299992             NaN        NaN  \n",
       "\n",
       "[14338 rows x 7 columns]"
      ]
     },
     "execution_count": 521,
     "metadata": {},
     "output_type": "execute_result"
    }
   ],
   "source": [
    "oxyCleaned.groupby('icustay_id').mean()"
   ]
  },
  {
   "cell_type": "code",
   "execution_count": 315,
   "metadata": {},
   "outputs": [
    {
     "name": "stdout",
     "output_type": "stream",
     "text": [
      "gender_x\n",
      "age_x\n",
      "height_x\n",
      "admission_type_x\n",
      "admittime_x\n",
      "dischtime_x\n",
      "ethnicity_x\n",
      "first_hosp_stay_x\n",
      "first_icu_stay_x\n",
      "hospital_expire_flag_x\n",
      "hospstay_seq_x\n",
      "icustay_seq_x\n",
      "intime_x\n",
      "los_hospital_x\n",
      "los_icu_x\n",
      "outtime_x\n",
      "gender_y\n",
      "age_y\n",
      "height_y\n",
      "subject_id_x\n",
      "hadm_id_x\n",
      "admission_type_y\n",
      "admittime_y\n",
      "dischtime_y\n",
      "ethnicity_y\n",
      "first_hosp_stay_y\n",
      "first_icu_stay_y\n",
      "hospital_expire_flag_y\n",
      "hospstay_seq_y\n",
      "icustay_seq_y\n",
      "intime_y\n",
      "los_hospital_y\n",
      "los_icu_y\n",
      "outtime_y\n",
      "subject_id_y\n",
      "hadm_id_y\n"
     ]
    }
   ],
   "source": [
    "for i in apache.columns:\n",
    "    if ('_x' in i) | ('_y' in i):\n",
    "        print(i)"
   ]
  }
 ],
 "metadata": {
  "kernelspec": {
   "display_name": "Python 2",
   "language": "python",
   "name": "python2"
  },
  "language_info": {
   "codemirror_mode": {
    "name": "ipython",
    "version": 3
   },
   "file_extension": ".py",
   "mimetype": "text/x-python",
   "name": "python",
   "nbconvert_exporter": "python",
   "pygments_lexer": "ipython3",
   "version": "3.5.2"
  }
 },
 "nbformat": 4,
 "nbformat_minor": 2
}
